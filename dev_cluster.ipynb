{
 "cells": [
  {
   "cell_type": "markdown",
   "id": "directed-dylan",
   "metadata": {},
   "source": [
    "### dev clustering with questionnaires"
   ]
  },
  {
   "cell_type": "code",
   "execution_count": 1,
   "id": "productive-stack",
   "metadata": {},
   "outputs": [],
   "source": [
    "import os, sys\n",
    "import numpy as np\n",
    "import pandas as pd\n",
    "import matplotlib.pyplot as plt\n",
    "import xgboost as xgb"
   ]
  },
  {
   "cell_type": "code",
   "execution_count": 2,
   "id": "centered-roads",
   "metadata": {},
   "outputs": [],
   "source": [
    "import warnings\n",
    "warnings.simplefilter(action='ignore', category=FutureWarning)\n",
    "warnings.filterwarnings(\"ignore\")"
   ]
  },
  {
   "cell_type": "code",
   "execution_count": 3,
   "id": "higher-regression",
   "metadata": {},
   "outputs": [],
   "source": [
    "from imblearn.under_sampling import RandomUnderSampler\n",
    "from imblearn.over_sampling import RandomOverSampler\n",
    "from imblearn.over_sampling import SMOTE"
   ]
  },
  {
   "cell_type": "code",
   "execution_count": 4,
   "id": "moderate-porter",
   "metadata": {},
   "outputs": [],
   "source": [
    "from compare_control import *\n",
    "from clean_questions import *\n",
    "from predict_digestive import *"
   ]
  },
  {
   "cell_type": "markdown",
   "id": "pursuant-dealing",
   "metadata": {},
   "source": [
    "#### dev prune"
   ]
  },
  {
   "cell_type": "code",
   "execution_count": 5,
   "id": "sapphire-island",
   "metadata": {},
   "outputs": [],
   "source": [
    "questionnaire = 'all'\n",
    "idp = None\n",
    "question_visits = [2]"
   ]
  },
  {
   "cell_type": "code",
   "execution_count": 6,
   "id": "certain-distribution",
   "metadata": {},
   "outputs": [],
   "source": [
    "df = load_patient_grouped(questionnaire=questionnaire, idp=idp, question_visits=question_visits, \n",
    "                          imputed=None, patient_grouping='simplified')"
   ]
  },
  {
   "cell_type": "code",
   "execution_count": 7,
   "id": "hawaiian-greenhouse",
   "metadata": {},
   "outputs": [
    {
     "name": "stdout",
     "output_type": "stream",
     "text": [
      "Questionnaires from visits [2] shape=(4342, 95)\n",
      "After imputation shape=(4342, 89)\n",
      "Drop all nan cols shape=(4342, 89)\n"
     ]
    }
   ],
   "source": [
    "df1 = load_patient_grouped(questionnaire=questionnaire, idp=idp, question_visits=question_visits, \n",
    "                          imputed=True, patient_grouping='simplified')"
   ]
  },
  {
   "cell_type": "code",
   "execution_count": 8,
   "id": "ceramic-southeast",
   "metadata": {},
   "outputs": [
    {
     "data": {
      "text/plain": [
       "(4342, 95)"
      ]
     },
     "execution_count": 8,
     "metadata": {},
     "output_type": "execute_result"
    }
   ],
   "source": [
    "df.shape"
   ]
  },
  {
   "cell_type": "code",
   "execution_count": 213,
   "id": "christian-period",
   "metadata": {
    "tags": []
   },
   "outputs": [],
   "source": [
    "def display_missing(df, thresh=0):\n",
    "    c = 0\n",
    "    for col in df.columns.tolist():         \n",
    "        if df[col].isnull().sum()>0 and thresh==0:\n",
    "            print('{} column missing values: {}'.format(col, df[col].isnull().sum()))\n",
    "            print(df[col].value_counts())\n",
    "            c += 1\n",
    "        elif df[col].isnull().sum()<thresh:\n",
    "            print('{} column missing values: {}'.format(col, df[col].isnull().sum()))\n",
    "\n",
    "    print('\\n')\n",
    "    print(f'total number of missing cols={c}')"
   ]
  },
  {
   "cell_type": "code",
   "execution_count": 261,
   "id": "matched-trunk",
   "metadata": {},
   "outputs": [],
   "source": [
    "def impute_qs(df, nan_percent=0.9, freq_fill='median', \n",
    "              transform=True, transform_fn='sqrt'):\n",
    "    \"\"\"impute questionnaire df\"\"\"\n",
    "    df_copy = df.copy()\n",
    "    # replace prefer not to say and remove object\n",
    "    df_copy = replace_noans(df_copy)\n",
    "    # replace multiple choice fields\n",
    "    df_copy = replace_multifield(df_copy)\n",
    "    # replace specific fields\n",
    "    df_copy = replace_specific(df_copy)\n",
    "    # fill freq nan with median\n",
    "    df_copy = replace_freq(df_copy, use=freq_fill)\n",
    "    print(df_copy.shape)\n",
    "    # transform freq cols\n",
    "    if transform:\n",
    "        df_copy = apply_transform(df_copy, use=transform_fn)\n",
    "    # drop columns with threshold percentage nan\n",
    "#     df_copy.dropna(axis=1, thresh=int(nan_percent*df_copy.shape[0]), inplace=True)\n",
    "    return df_copy\n",
    "\n",
    "def replace_noans(df):\n",
    "    \"\"\"replace prefer not to say if avaialable and remove object cols\"\"\"\n",
    "    df_copy = df.copy()\n",
    "    for col in df_copy.columns:\n",
    "        if col!='label': # exclude label\n",
    "            # remove time stamp cols\n",
    "            if df_copy[col].dtype==object:\n",
    "                df_copy.drop(col, axis=1, inplace=True)\n",
    "            # replace nan with -818 (prefer not to say)\n",
    "            elif np.any(df_copy[col]==-818):\n",
    "                df_copy[col].replace({np.nan: -818.}, inplace=True)\n",
    "    return df_copy\n",
    "\n",
    "def replace_multifield(df):\n",
    "    \"\"\"replace multiple choice fields\"\"\"\n",
    "    df_copy = df.copy()\n",
    "    categories_multi = [\n",
    "        '6160',#Leisure/social activities\n",
    "        '6145',#Illness, injury, bereavement, stress in last 2 years\n",
    "    ]\n",
    "    for cat in categories_multi:\n",
    "        p_cols = [col for col in df_copy.columns if col[:len(cat)+1]==str(cat)+'-']\n",
    "        for c in p_cols: # replace with none of the above -7\n",
    "            df_copy[c].replace(np.nan, -7., inplace=True)\n",
    "    return df_copy\n",
    "\n",
    "def replace_specific(df):\n",
    "    \"\"\"replace specific categories\"\"\"\n",
    "    df_copy = df.copy()\n",
    "    categories_zero = [\n",
    "        '20123',#Single episode of probable major depression\n",
    "        '20124',#Probable recurrent major depression (moderate)\n",
    "        '20125', #Probable recurrent major depression (severe)\n",
    "        '20481', #Self-harmed in past year\n",
    "        '20484', #Attempted suicide in past year\n",
    "        '20122', #Bipolar disorder status\n",
    "        '20126', #Bipolar and major depression status\n",
    "                 ]\n",
    "    categories_nts = [\n",
    "        '20414', #Frequency of drinking alcohol\n",
    "    ]\n",
    "    categories_to = [\n",
    "        '20246', #Trail making completion status\n",
    "        '20245', #Pairs matching completion status\n",
    "        '20244', #Symbol digit completion status\n",
    "    ]\n",
    "    for c in df_copy.columns:\n",
    "        for cat in categories_zero:\n",
    "            if cat in c: \n",
    "                df_copy[c].replace(np.nan, 0., inplace=True)\n",
    "        for cat in categories_nts:\n",
    "            if cat in c:\n",
    "                df_copy[c].replace(np.nan, -818., inplace=True) # treat as prefer not to say\n",
    "        for cat in categories_to:\n",
    "            if cat in c:\n",
    "                df_copy[c].replace(np.nan, 1., inplace=True) # treat as abandoned\n",
    "    return df_copy\n",
    "\n",
    "\n",
    "def replace_freq(df, use='median'):\n",
    "    \"\"\"replace nan in freq with median\"\"\"\n",
    "    df_copy = df.copy()\n",
    "    for c in df_copy.columns:\n",
    "        tmp = df_copy[c].value_counts()\n",
    "        if tmp.shape[0]>7 and c!='label': # most likely frequency/idp\n",
    "            if use == 'median':\n",
    "                df_copy[c].fillna(df_copy[c].median(), inplace=True)\n",
    "            elif use == 'mean':\n",
    "                df_copy[c].fillna(df_copy[c].mean(), inplace=True)\n",
    "        elif tmp.shape[0]<=7 and c!='label': # other types of freq\n",
    "            if np.any(df_copy[c]==-3.) or np.any(df_copy[c]==-1.): # prefer not to say\n",
    "                df_copy[c].replace({np.nan: -3.}, inplace=True)\n",
    "#             elif np.any(df_copy[c]==-600.): # degree of bother, also has prefer not to say\n",
    "#                 df_copy[c].replace({np.nan: -818.}, inplace=True)\n",
    "    return df_copy\n",
    "\n",
    "def apply_transform(df, use='sqrt'):\n",
    "    \"\"\"adding additional freq cols with transforms\"\"\"\n",
    "    df_copy = df.copy()\n",
    "    trans_freq = [\n",
    "        '22040', # Summed MET minutes per week for all activity\n",
    "        '20156', # Duration to complete numeric path (trail #1)\n",
    "        '20157', # Duration to complete alphanumeric path (trail #2)\n",
    "    ]\n",
    "    if use=='log':\n",
    "        fn = np.log\n",
    "    elif use=='sqrt':\n",
    "        fn = np.sqrt\n",
    "    for c in df_copy.columns:\n",
    "        for cat in trans_freq:\n",
    "            if cat in c:\n",
    "                df_copy[c+'-1'] = df_copy[c].apply(fn)\n",
    "    return df_copy"
   ]
  },
  {
   "cell_type": "code",
   "execution_count": 262,
   "id": "thrown-tourism",
   "metadata": {},
   "outputs": [
    {
     "data": {
      "text/plain": [
       "(4342, 95)"
      ]
     },
     "execution_count": 262,
     "metadata": {},
     "output_type": "execute_result"
    }
   ],
   "source": [
    "df.shape"
   ]
  },
  {
   "cell_type": "code",
   "execution_count": 263,
   "id": "unable-investigation",
   "metadata": {},
   "outputs": [
    {
     "name": "stdout",
     "output_type": "stream",
     "text": [
      "(4342, 89)\n"
     ]
    }
   ],
   "source": [
    "dfc = impute_qs(df)"
   ]
  },
  {
   "cell_type": "code",
   "execution_count": 264,
   "id": "sunset-solomon",
   "metadata": {},
   "outputs": [
    {
     "data": {
      "text/plain": [
       "(4342, 92)"
      ]
     },
     "execution_count": 264,
     "metadata": {},
     "output_type": "execute_result"
    }
   ],
   "source": [
    "dfc.shape"
   ]
  },
  {
   "cell_type": "code",
   "execution_count": 265,
   "id": "compact-grass",
   "metadata": {},
   "outputs": [
    {
     "data": {
      "text/plain": [
       "<AxesSubplot:ylabel='Frequency'>"
      ]
     },
     "execution_count": 265,
     "metadata": {},
     "output_type": "execute_result"
    },
    {
     "data": {
      "image/png": "[encoded data removed]",
      "text/plain": [
       "<Figure size 432x288 with 1 Axes>"
      ]
     },
     "metadata": {
      "needs_background": "light"
     },
     "output_type": "display_data"
    }
   ],
   "source": [
    "dfc['20157-0.0'].plot(kind='hist')#.apply(np.sqrt)"
   ]
  },
  {
   "cell_type": "code",
   "execution_count": 267,
   "id": "better-frank",
   "metadata": {},
   "outputs": [
    {
     "data": {
      "text/plain": [
       "<AxesSubplot:ylabel='Frequency'>"
      ]
     },
     "execution_count": 267,
     "metadata": {},
     "output_type": "execute_result"
    },
    {
     "data": {
      "image/png": "[encoded data removed]",
      "text/plain": [
       "<Figure size 432x288 with 1 Axes>"
      ]
     },
     "metadata": {
      "needs_background": "light"
     },
     "output_type": "display_data"
    }
   ],
   "source": [
    "dfc['20157-0.0-1'].plot(kind='hist')"
   ]
  },
  {
   "cell_type": "code",
   "execution_count": 233,
   "id": "external-shelter",
   "metadata": {},
   "outputs": [
    {
     "name": "stdout",
     "output_type": "stream",
     "text": [
      "\n",
      "\n",
      "total number of missing cols=0\n"
     ]
    }
   ],
   "source": [
    "display_missing(df_copy, thresh=0)"
   ]
  },
  {
   "cell_type": "code",
   "execution_count": 36,
   "id": "devoted-lottery",
   "metadata": {},
   "outputs": [],
   "source": [
    "def replace_noans(df):\n",
    "    \"\"\"replace prefer not to say if avaialable and remove object cols\"\"\"\n",
    "    df_copy = df.copy()\n",
    "    for col in df_copy.columns:\n",
    "        if col!='label': # exclude label\n",
    "            # remove time stamp cols\n",
    "            if df_copy[col].dtype==object:\n",
    "                df_copy.drop(col, axis=1, inplace=True)\n",
    "            # replace nan with -818 (prefer not to say)\n",
    "            elif np.any(df_copy[col]==-818):\n",
    "                df_copy[col].replace({np.nan: -818.}, inplace=True)\n",
    "    return df_copy"
   ]
  },
  {
   "cell_type": "code",
   "execution_count": 13,
   "id": "olive-exception",
   "metadata": {},
   "outputs": [
    {
     "data": {
      "text/plain": [
       " 1.0    1568\n",
       "-7.0    1043\n",
       " 2.0     619\n",
       " 5.0     569\n",
       " 3.0     388\n",
       " 4.0     131\n",
       "-3.0       3\n",
       "Name: 6160-2.0, dtype: int64"
      ]
     },
     "execution_count": 13,
     "metadata": {},
     "output_type": "execute_result"
    }
   ],
   "source": [
    "df['6160-2.0'].value_counts()"
   ]
  },
  {
   "cell_type": "code",
   "execution_count": 22,
   "id": "unlikely-pride",
   "metadata": {},
   "outputs": [
    {
     "data": {
      "text/plain": [
       "5.0    631\n",
       "2.0    370\n",
       "3.0    290\n",
       "4.0    154\n",
       "Name: 6160-2.1, dtype: int64"
      ]
     },
     "execution_count": 22,
     "metadata": {},
     "output_type": "execute_result"
    }
   ],
   "source": [
    "df['6160-2.1'].value_counts()"
   ]
  },
  {
   "cell_type": "code",
   "execution_count": 29,
   "id": "central-violin",
   "metadata": {},
   "outputs": [
    {
     "data": {
      "text/plain": [
       "0.0    2897\n",
       "5.0     631\n",
       "2.0     370\n",
       "3.0     290\n",
       "4.0     154\n",
       "Name: 6160-2.1, dtype: int64"
      ]
     },
     "execution_count": 29,
     "metadata": {},
     "output_type": "execute_result"
    }
   ],
   "source": [
    "df1['6160-2.1'].value_counts()"
   ]
  },
  {
   "cell_type": "code",
   "execution_count": 21,
   "id": "composite-cleaning",
   "metadata": {},
   "outputs": [
    {
     "data": {
      "text/plain": [
       "2.0"
      ]
     },
     "execution_count": 21,
     "metadata": {},
     "output_type": "execute_result"
    }
   ],
   "source": [
    "np.median(np.array(df['6160-2.0'].value_counts().index))"
   ]
  },
  {
   "cell_type": "code",
   "execution_count": 12,
   "id": "coastal-judgment",
   "metadata": {},
   "outputs": [
    {
     "data": {
      "text/plain": [
       " 1.0    1568\n",
       "-7.0    1043\n",
       " 2.0     619\n",
       " 5.0     569\n",
       " 3.0     388\n",
       " 4.0     131\n",
       "-3.0      24\n",
       "Name: 6160-2.0, dtype: int64"
      ]
     },
     "execution_count": 12,
     "metadata": {},
     "output_type": "execute_result"
    }
   ],
   "source": [
    "df1['6160-2.0'].value_counts()"
   ]
  },
  {
   "cell_type": "code",
   "execution_count": 28,
   "id": "entire-recorder",
   "metadata": {
    "tags": []
   },
   "outputs": [
    {
     "name": "stdout",
     "output_type": "stream",
     "text": [
      "21003-2.0 column missing values: 0\n",
      "6145-2.0 column missing values: 21\n",
      "1031-2.0 column missing values: 21\n",
      "1160-2.0 column missing values: 21\n",
      "4581-2.0 column missing values: 21\n",
      "1200-2.0 column missing values: 21\n",
      "4537-2.0 column missing values: 21\n",
      "2100-2.0 column missing values: 21\n",
      "4548-2.0 column missing values: 21\n",
      "1170-2.0 column missing values: 21\n",
      "4559-2.0 column missing values: 21\n",
      "2090-2.0 column missing values: 21\n",
      "20116-2.0 column missing values: 21\n",
      "53-2.0 column missing values: 0\n",
      "4526-2.0 column missing values: 21\n",
      "2080-2.0 column missing values: 21\n",
      "6160-2.0 column missing values: 21\n",
      "4570-2.0 column missing values: 21\n",
      "eid column missing values: 0\n",
      "label column missing values: 0\n",
      "\n",
      "\n",
      "total number of missing cols=0\n"
     ]
    }
   ],
   "source": [
    "display_missing(df, thresh=30)"
   ]
  },
  {
   "cell_type": "code",
   "execution_count": 38,
   "id": "bibliographic-inventory",
   "metadata": {},
   "outputs": [
    {
     "data": {
      "text/plain": [
       "<AxesSubplot:ylabel='Frequency'>"
      ]
     },
     "execution_count": 38,
     "metadata": {},
     "output_type": "execute_result"
    },
    {
     "data": {
      "image/png": "[encoded data removed]",
      "text/plain": [
       "<Figure size 432x288 with 1 Axes>"
      ]
     },
     "metadata": {
      "needs_background": "light"
     },
     "output_type": "display_data"
    }
   ],
   "source": [
    "df['4620-2.0'].plot(kind='hist')"
   ]
  },
  {
   "cell_type": "code",
   "execution_count": null,
   "id": "decreased-embassy",
   "metadata": {},
   "outputs": [],
   "source": []
  },
  {
   "cell_type": "code",
   "execution_count": 33,
   "id": "first-meter",
   "metadata": {},
   "outputs": [
    {
     "ename": "KeyError",
     "evalue": "'5386-2.0'",
     "output_type": "error",
     "traceback": [
      "\u001b[0;31m---------------------------------------------------------------------------\u001b[0m",
      "\u001b[0;31mKeyError\u001b[0m                                  Traceback (most recent call last)",
      "\u001b[0;32m~/.conda/envs/biobank/lib/python3.9/site-packages/pandas/core/indexes/base.py\u001b[0m in \u001b[0;36mget_loc\u001b[0;34m(self, key, method, tolerance)\u001b[0m\n\u001b[1;32m   3079\u001b[0m             \u001b[0;32mtry\u001b[0m\u001b[0;34m:\u001b[0m\u001b[0;34m\u001b[0m\u001b[0;34m\u001b[0m\u001b[0m\n\u001b[0;32m-> 3080\u001b[0;31m                 \u001b[0;32mreturn\u001b[0m \u001b[0mself\u001b[0m\u001b[0;34m.\u001b[0m\u001b[0m_engine\u001b[0m\u001b[0;34m.\u001b[0m\u001b[0mget_loc\u001b[0m\u001b[0;34m(\u001b[0m\u001b[0mcasted_key\u001b[0m\u001b[0;34m)\u001b[0m\u001b[0;34m\u001b[0m\u001b[0;34m\u001b[0m\u001b[0m\n\u001b[0m\u001b[1;32m   3081\u001b[0m             \u001b[0;32mexcept\u001b[0m \u001b[0mKeyError\u001b[0m \u001b[0;32mas\u001b[0m \u001b[0merr\u001b[0m\u001b[0;34m:\u001b[0m\u001b[0;34m\u001b[0m\u001b[0;34m\u001b[0m\u001b[0m\n",
      "\u001b[0;32mpandas/_libs/index.pyx\u001b[0m in \u001b[0;36mpandas._libs.index.IndexEngine.get_loc\u001b[0;34m()\u001b[0m\n",
      "\u001b[0;32mpandas/_libs/index.pyx\u001b[0m in \u001b[0;36mpandas._libs.index.IndexEngine.get_loc\u001b[0;34m()\u001b[0m\n",
      "\u001b[0;32mpandas/_libs/hashtable_class_helper.pxi\u001b[0m in \u001b[0;36mpandas._libs.hashtable.PyObjectHashTable.get_item\u001b[0;34m()\u001b[0m\n",
      "\u001b[0;32mpandas/_libs/hashtable_class_helper.pxi\u001b[0m in \u001b[0;36mpandas._libs.hashtable.PyObjectHashTable.get_item\u001b[0;34m()\u001b[0m\n",
      "\u001b[0;31mKeyError\u001b[0m: '5386-2.0'",
      "\nThe above exception was the direct cause of the following exception:\n",
      "\u001b[0;31mKeyError\u001b[0m                                  Traceback (most recent call last)",
      "\u001b[0;32m<ipython-input-33-376bf5ec0075>\u001b[0m in \u001b[0;36m<module>\u001b[0;34m\u001b[0m\n\u001b[0;32m----> 1\u001b[0;31m \u001b[0mprint\u001b[0m\u001b[0;34m(\u001b[0m\u001b[0mdf\u001b[0m\u001b[0;34m[\u001b[0m\u001b[0;34m'5386-2.0'\u001b[0m\u001b[0;34m]\u001b[0m\u001b[0;34m.\u001b[0m\u001b[0mvalue_counts\u001b[0m\u001b[0;34m(\u001b[0m\u001b[0;34m)\u001b[0m\u001b[0;34m)\u001b[0m\u001b[0;34m\u001b[0m\u001b[0;34m\u001b[0m\u001b[0m\n\u001b[0m\u001b[1;32m      2\u001b[0m \u001b[0mdf\u001b[0m\u001b[0;34m[\u001b[0m\u001b[0;34m'5386-2.0'\u001b[0m\u001b[0;34m]\u001b[0m\u001b[0;34m.\u001b[0m\u001b[0mvalue_counts\u001b[0m\u001b[0;34m(\u001b[0m\u001b[0;34m)\u001b[0m\u001b[0;34m.\u001b[0m\u001b[0mmedian\u001b[0m\u001b[0;34m(\u001b[0m\u001b[0;34m)\u001b[0m\u001b[0;34m\u001b[0m\u001b[0;34m\u001b[0m\u001b[0m\n",
      "\u001b[0;32m~/.conda/envs/biobank/lib/python3.9/site-packages/pandas/core/frame.py\u001b[0m in \u001b[0;36m__getitem__\u001b[0;34m(self, key)\u001b[0m\n\u001b[1;32m   3022\u001b[0m             \u001b[0;32mif\u001b[0m \u001b[0mself\u001b[0m\u001b[0;34m.\u001b[0m\u001b[0mcolumns\u001b[0m\u001b[0;34m.\u001b[0m\u001b[0mnlevels\u001b[0m \u001b[0;34m>\u001b[0m \u001b[0;36m1\u001b[0m\u001b[0;34m:\u001b[0m\u001b[0;34m\u001b[0m\u001b[0;34m\u001b[0m\u001b[0m\n\u001b[1;32m   3023\u001b[0m                 \u001b[0;32mreturn\u001b[0m \u001b[0mself\u001b[0m\u001b[0;34m.\u001b[0m\u001b[0m_getitem_multilevel\u001b[0m\u001b[0;34m(\u001b[0m\u001b[0mkey\u001b[0m\u001b[0;34m)\u001b[0m\u001b[0;34m\u001b[0m\u001b[0;34m\u001b[0m\u001b[0m\n\u001b[0;32m-> 3024\u001b[0;31m             \u001b[0mindexer\u001b[0m \u001b[0;34m=\u001b[0m \u001b[0mself\u001b[0m\u001b[0;34m.\u001b[0m\u001b[0mcolumns\u001b[0m\u001b[0;34m.\u001b[0m\u001b[0mget_loc\u001b[0m\u001b[0;34m(\u001b[0m\u001b[0mkey\u001b[0m\u001b[0;34m)\u001b[0m\u001b[0;34m\u001b[0m\u001b[0;34m\u001b[0m\u001b[0m\n\u001b[0m\u001b[1;32m   3025\u001b[0m             \u001b[0;32mif\u001b[0m \u001b[0mis_integer\u001b[0m\u001b[0;34m(\u001b[0m\u001b[0mindexer\u001b[0m\u001b[0;34m)\u001b[0m\u001b[0;34m:\u001b[0m\u001b[0;34m\u001b[0m\u001b[0;34m\u001b[0m\u001b[0m\n\u001b[1;32m   3026\u001b[0m                 \u001b[0mindexer\u001b[0m \u001b[0;34m=\u001b[0m \u001b[0;34m[\u001b[0m\u001b[0mindexer\u001b[0m\u001b[0;34m]\u001b[0m\u001b[0;34m\u001b[0m\u001b[0;34m\u001b[0m\u001b[0m\n",
      "\u001b[0;32m~/.conda/envs/biobank/lib/python3.9/site-packages/pandas/core/indexes/base.py\u001b[0m in \u001b[0;36mget_loc\u001b[0;34m(self, key, method, tolerance)\u001b[0m\n\u001b[1;32m   3080\u001b[0m                 \u001b[0;32mreturn\u001b[0m \u001b[0mself\u001b[0m\u001b[0;34m.\u001b[0m\u001b[0m_engine\u001b[0m\u001b[0;34m.\u001b[0m\u001b[0mget_loc\u001b[0m\u001b[0;34m(\u001b[0m\u001b[0mcasted_key\u001b[0m\u001b[0;34m)\u001b[0m\u001b[0;34m\u001b[0m\u001b[0;34m\u001b[0m\u001b[0m\n\u001b[1;32m   3081\u001b[0m             \u001b[0;32mexcept\u001b[0m \u001b[0mKeyError\u001b[0m \u001b[0;32mas\u001b[0m \u001b[0merr\u001b[0m\u001b[0;34m:\u001b[0m\u001b[0;34m\u001b[0m\u001b[0;34m\u001b[0m\u001b[0m\n\u001b[0;32m-> 3082\u001b[0;31m                 \u001b[0;32mraise\u001b[0m \u001b[0mKeyError\u001b[0m\u001b[0;34m(\u001b[0m\u001b[0mkey\u001b[0m\u001b[0;34m)\u001b[0m \u001b[0;32mfrom\u001b[0m \u001b[0merr\u001b[0m\u001b[0;34m\u001b[0m\u001b[0;34m\u001b[0m\u001b[0m\n\u001b[0m\u001b[1;32m   3083\u001b[0m \u001b[0;34m\u001b[0m\u001b[0m\n\u001b[1;32m   3084\u001b[0m         \u001b[0;32mif\u001b[0m \u001b[0mtolerance\u001b[0m \u001b[0;32mis\u001b[0m \u001b[0;32mnot\u001b[0m \u001b[0;32mNone\u001b[0m\u001b[0;34m:\u001b[0m\u001b[0;34m\u001b[0m\u001b[0;34m\u001b[0m\u001b[0m\n",
      "\u001b[0;31mKeyError\u001b[0m: '5386-2.0'"
     ]
    }
   ],
   "source": [
    "print(df['5386-2.0'].value_counts())\n",
    "df['5386-2.0'].value_counts().median()"
   ]
  },
  {
   "cell_type": "code",
   "execution_count": 27,
   "id": "earned-transformation",
   "metadata": {},
   "outputs": [
    {
     "data": {
      "text/plain": [
       "array([438, 342, 276, 167,  92,  64,  59,  39,  21,  20,  15,  15,  11,\n",
       "         9,   6,   6,   5,   5,   4,   4,   4,   3,   3,   2,   2,   2,\n",
       "         2,   1,   1,   1,   1,   1,   1,   1])"
      ]
     },
     "execution_count": 27,
     "metadata": {},
     "output_type": "execute_result"
    }
   ],
   "source": [
    "df['5386-2.0'].value_counts().values"
   ]
  },
  {
   "cell_type": "code",
   "execution_count": 15,
   "id": "valuable-identification",
   "metadata": {},
   "outputs": [
    {
     "data": {
      "text/plain": [
       "<AxesSubplot:ylabel='Frequency'>"
      ]
     },
     "execution_count": 15,
     "metadata": {},
     "output_type": "execute_result"
    },
    {
     "data": {
      "image/png": "[encoded data removed]",
      "text/plain": [
       "<Figure size 432x288 with 1 Axes>"
      ]
     },
     "metadata": {
      "needs_background": "light"
     },
     "output_type": "display_data"
    }
   ],
   "source": [
    "# df['5386-2.0'].value_counts()\n",
    "df['5386-2.0'].plot(kind='hist',bins=20)"
   ]
  },
  {
   "cell_type": "code",
   "execution_count": 16,
   "id": "neural-asset",
   "metadata": {},
   "outputs": [
    {
     "data": {
      "text/plain": [
       "<AxesSubplot:ylabel='Frequency'>"
      ]
     },
     "execution_count": 16,
     "metadata": {},
     "output_type": "execute_result"
    },
    {
     "data": {
      "image/png": "[encoded data removed]",
      "text/plain": [
       "<Figure size 432x288 with 1 Axes>"
      ]
     },
     "metadata": {
      "needs_background": "light"
     },
     "output_type": "display_data"
    }
   ],
   "source": [
    "# df['5386-2.0'].value_counts()\n",
    "df1['5386-2.0'].plot(kind='hist',bins=20)"
   ]
  },
  {
   "cell_type": "code",
   "execution_count": 8,
   "id": "cognitive-oracle",
   "metadata": {
    "tags": []
   },
   "outputs": [
    {
     "name": "stdout",
     "output_type": "stream",
     "text": [
      "6145-2.1 column missing values: 3900\n",
      "4620-2.0 column missing values: 1848\n",
      "20526-0.0 column missing values: 1292\n",
      "20499-0.0 column missing values: 1292\n",
      "20486-0.0 column missing values: 3744\n",
      "4559-2.0 column missing values: 21\n",
      "20127-0.0 column missing values: 763\n",
      "20529-0.0 column missing values: 1292\n",
      "4570-2.0 column missing values: 21\n",
      "20434-0.0 column missing values: 2341\n",
      "20458-0.0 column missing values: 1292\n",
      "4537-2.0 column missing values: 21\n",
      "20528-0.0 column missing values: 1292\n",
      "20479-0.0 column missing values: 1292\n",
      "20433-0.0 column missing values: 2341\n",
      "20480-0.0 column missing values: 1292\n",
      "20123-0.0 column missing values: 4229\n",
      "20530-0.0 column missing values: 1292\n",
      "20489-0.0 column missing values: 1292\n",
      "20531-0.0 column missing values: 1292\n",
      "20400-0.0 column missing values: 1291\n",
      "20500-0.0 column missing values: 1292\n",
      "20523-0.0 column missing values: 1292\n",
      "6145-2.2 column missing values: 4256\n",
      "20491-0.0 column missing values: 1292\n",
      "20494-0.0 column missing values: 2845\n",
      "20498-0.0 column missing values: 1292\n",
      "2090-2.0 column missing values: 21\n",
      "1170-2.0 column missing values: 21\n",
      "20124-0.0 column missing values: 4144\n",
      "4581-2.0 column missing values: 21\n",
      "6145-2.3 column missing values: 4324\n",
      "20522-0.0 column missing values: 1292\n",
      "6145-2.0 column missing values: 21\n",
      "20521-0.0 column missing values: 1292\n",
      "20122-0.0 column missing values: 4330\n",
      "20125-0.0 column missing values: 4245\n",
      "5386-2.0 column missing values: 2719\n",
      "4526-2.0 column missing values: 21\n",
      "20126-0.0 column missing values: 3271\n",
      "20481-0.0 column missing values: 4175\n",
      "2100-2.0 column missing values: 21\n",
      "20488-0.0 column missing values: 1292\n",
      "20482-0.0 column missing values: 4175\n",
      "2080-2.0 column missing values: 21\n",
      "20460-0.0 column missing values: 1292\n",
      "20524-0.0 column missing values: 1292\n",
      "20459-0.0 column missing values: 1292\n",
      "1160-2.0 column missing values: 21\n",
      "20483-0.0 column missing values: 4175\n",
      "4548-2.0 column missing values: 21\n",
      "20485-0.0 column missing values: 1292\n",
      "20490-0.0 column missing values: 1292\n",
      "20497-0.0 column missing values: 1292\n",
      "20496-0.0 column missing values: 2845\n",
      "20487-0.0 column missing values: 1292\n",
      "20495-0.0 column missing values: 1292\n",
      "20525-0.0 column missing values: 1292\n",
      "6145-2.4 column missing values: 4339\n",
      "6145-2.5 column missing values: 4342\n",
      "20484-0.0 column missing values: 4254\n",
      "1200-2.0 column missing values: 21\n",
      "20527-0.0 column missing values: 1292\n",
      "\n",
      "\n",
      "total number of missing cols=63\n"
     ]
    }
   ],
   "source": [
    "display_missing(df)"
   ]
  },
  {
   "cell_type": "markdown",
   "id": "correct-performer",
   "metadata": {},
   "source": [
    "#### dev tuning"
   ]
  },
  {
   "cell_type": "code",
   "execution_count": null,
   "id": "crazy-advertising",
   "metadata": {},
   "outputs": [],
   "source": []
  },
  {
   "cell_type": "code",
   "execution_count": 5,
   "id": "civilian-nature",
   "metadata": {},
   "outputs": [
    {
     "name": "stdout",
     "output_type": "stream",
     "text": [
      "Questionnaires from visits [2] shape=(4342, 869)\n",
      "After imputation shape=(4342, 869)\n",
      "Drop all nan cols shape=(4342, 869)\n",
      "(3951, 3797)\n",
      "Questionnaires from visits [2] shape=(3951, 869)\n",
      "After imputation shape=(3951, 869)\n",
      "Drop all nan cols shape=(3951, 869)\n",
      "Patients=4342, controls=4376\n",
      "Questionnaires from visits [2] shape=(8718, 869)\n",
      "After imputation shape=(8718, 869)\n",
      "Drop all nan cols shape=(8718, 869)\n"
     ]
    }
   ],
   "source": [
    "questionnaire = None #'all'\n",
    "idp = 'all'#['t1vols','taskfmri']#'all'\n",
    "question_visits = [2]\n",
    "impute_flag = True\n",
    "datasets = [\n",
    "            load_patient_grouped(questionnaire=questionnaire, idp=idp, question_visits=question_visits, imputed=impute_flag, patient_grouping='simplified'), # pain type\n",
    "            load_digestive_data(label_type='severe', questionnaire=questionnaire, idp=idp, question_visits=question_visits, imputed=impute_flag), # digestive\n",
    "            load_patient_matched(questionnaire=questionnaire, idp=idp, question_visits=question_visits, imputed=impute_flag) # patient control\n",
    "            ]\n",
    "dataset_names = ['paintype', 'digestive', 'paincontrol']"
   ]
  },
  {
   "cell_type": "code",
   "execution_count": 6,
   "id": "stylish-remainder",
   "metadata": {},
   "outputs": [],
   "source": [
    "from sklearn.model_selection import train_test_split\n",
    "from sklearn.preprocessing import StandardScaler\n",
    "\n",
    "\n",
    "ds = datasets[0]\n",
    "y = ds['label']\n",
    "if y.dtype==object:\n",
    "    y = pd.get_dummies(y).iloc[:,0]\n",
    "X = ds.drop(['label','eid'], axis=1)\n",
    "X = StandardScaler().fit_transform(X)"
   ]
  },
  {
   "cell_type": "code",
   "execution_count": 7,
   "id": "convertible-preserve",
   "metadata": {},
   "outputs": [
    {
     "data": {
      "text/plain": [
       "(4342, 867)"
      ]
     },
     "execution_count": 7,
     "metadata": {},
     "output_type": "execute_result"
    }
   ],
   "source": [
    "X.shape"
   ]
  },
  {
   "cell_type": "code",
   "execution_count": 20,
   "id": "naval-ground",
   "metadata": {},
   "outputs": [],
   "source": [
    "import optuna\n",
    "import functools\n",
    "from sklearn.metrics import roc_auc_score\n",
    "from sklearn.model_selection import train_test_split\n",
    "\n",
    "\n",
    "def opt(X_train, y_train, X_eval, y_eval, trial):\n",
    "    # param_list\n",
    "    n_estimators = trial.suggest_int('n_estimators', 100, 1000)\n",
    "    max_depth = trial.suggest_int('max_depth', 1, 20)\n",
    "    min_child_weight = trial.suggest_int('min_child_weight', 1, 20)\n",
    "    learning_rate = trial.suggest_discrete_uniform('learning_rate', 0.01, 0.2, 0.01)\n",
    "    scale_pos_weight = trial.suggest_int('scale_pos_weight', 1, 100)\n",
    "    subsample = trial.suggest_discrete_uniform('subsample', 0.5, 1, 0.1)\n",
    "    colsample_bytree = trial.suggest_discrete_uniform('colsample_bytree', 0.5, 1, 0.1)\n",
    "\n",
    "    xgboost_tuna = xgb.XGBClassifier(\n",
    "        random_state=42,\n",
    "        tree_method='auto',\n",
    "        eval_metric = 'auc',\n",
    "        n_estimators=n_estimators,\n",
    "        max_depth=max_depth,\n",
    "        min_child_weight=min_child_weight,\n",
    "        learning_rate = learning_rate,\n",
    "        scale_pos_weight=scale_pos_weight,\n",
    "        subsample=subsample,\n",
    "        colsample_bytree=colsample_bytree,\n",
    "    )\n",
    "    xgboost_tuna.fit(X_train, y_train)\n",
    "    tuna_pred_test_prob = xgboost_tuna.predict_proba(X_eval)[:,1]\n",
    "\n",
    "    return ((roc_auc_score(y_eval, tuna_pred_test_prob)))"
   ]
  },
  {
   "cell_type": "code",
   "execution_count": 64,
   "id": "progressive-vanilla",
   "metadata": {},
   "outputs": [],
   "source": [
    "X_train, X_eval, y_train, y_eval = train_test_split(X, y, test_size=0.25, random_state=27)"
   ]
  },
  {
   "cell_type": "code",
   "execution_count": 50,
   "id": "healthy-bargain",
   "metadata": {},
   "outputs": [],
   "source": [
    "# define undersampling strategy\n",
    "under = RandomUnderSampler()\n",
    "# fit and apply the transform\n",
    "X, y = under.fit_resample(X, y)"
   ]
  },
  {
   "cell_type": "code",
   "execution_count": 65,
   "id": "occupied-gauge",
   "metadata": {},
   "outputs": [],
   "source": [
    "#balance dataset\n",
    "over = RandomOverSampler()\n",
    "# fit and apply the transform\n",
    "X, y = over.fit_resample(X, y)"
   ]
  },
  {
   "cell_type": "code",
   "execution_count": null,
   "id": "recreational-scholarship",
   "metadata": {},
   "outputs": [],
   "source": []
  },
  {
   "cell_type": "code",
   "execution_count": 46,
   "id": "periodic-coaching",
   "metadata": {},
   "outputs": [
    {
     "name": "stderr",
     "output_type": "stream",
     "text": [
      "\u001b[32m[I 2021-04-19 12:23:58,990]\u001b[0m A new study created in memory with name: no-name-7a109390-1fc1-4dfa-81f8-f808a7cfd4c7\u001b[0m\n",
      "\u001b[32m[I 2021-04-19 12:24:02,441]\u001b[0m Trial 0 finished with value: 0.6199504426049952 and parameters: {'n_estimators': 184, 'max_depth': 1, 'min_child_weight': 10, 'learning_rate': 0.17, 'scale_pos_weight': 64, 'subsample': 0.8, 'colsample_bytree': 0.6}. Best is trial 0 with value: 0.6199504426049952.\u001b[0m\n",
      "\u001b[32m[I 2021-04-19 12:25:00,717]\u001b[0m Trial 1 finished with value: 0.6232345178029555 and parameters: {'n_estimators': 447, 'max_depth': 10, 'min_child_weight': 20, 'learning_rate': 0.060000000000000005, 'scale_pos_weight': 14, 'subsample': 0.6, 'colsample_bytree': 1.0}. Best is trial 0 with value: 0.6199504426049952.\u001b[0m\n",
      "\u001b[32m[I 2021-04-19 12:25:58,866]\u001b[0m Trial 2 finished with value: 0.6026322877201802 and parameters: {'n_estimators': 656, 'max_depth': 18, 'min_child_weight': 15, 'learning_rate': 0.16, 'scale_pos_weight': 28, 'subsample': 0.7, 'colsample_bytree': 0.7}. Best is trial 2 with value: 0.6026322877201802.\u001b[0m\n"
     ]
    }
   ],
   "source": [
    "study = optuna.create_study()\n",
    "study.optimize(functools.partial(opt, X_train, y_train, X_eval, y_eval), n_trials=3)"
   ]
  },
  {
   "cell_type": "code",
   "execution_count": 47,
   "id": "enclosed-greek",
   "metadata": {},
   "outputs": [
    {
     "data": {
      "text/plain": [
       "{'n_estimators': 656,\n",
       " 'max_depth': 18,\n",
       " 'min_child_weight': 15,\n",
       " 'learning_rate': 0.16,\n",
       " 'scale_pos_weight': 28,\n",
       " 'subsample': 0.7,\n",
       " 'colsample_bytree': 0.7}"
      ]
     },
     "execution_count": 47,
     "metadata": {},
     "output_type": "execute_result"
    }
   ],
   "source": [
    "study.best_params"
   ]
  },
  {
   "cell_type": "code",
   "execution_count": 48,
   "id": "nutritional-specific",
   "metadata": {},
   "outputs": [],
   "source": [
    "clf = xgb.XGBClassifier(**study.best_params)"
   ]
  },
  {
   "cell_type": "code",
   "execution_count": 66,
   "id": "irish-method",
   "metadata": {},
   "outputs": [
    {
     "name": "stdout",
     "output_type": "stream",
     "text": [
      "[12:41:27] WARNING: ../src/learner.cc:1095: Starting in XGBoost 1.3.0, the default evaluation metric used with the objective 'binary:logistic' was changed from 'error' to 'logloss'. Explicitly set eval_metric if you'd like to restore the old behavior.\n",
      "[12:42:23] WARNING: ../src/learner.cc:1095: Starting in XGBoost 1.3.0, the default evaluation metric used with the objective 'binary:logistic' was changed from 'error' to 'logloss'. Explicitly set eval_metric if you'd like to restore the old behavior.\n",
      "[12:43:20] WARNING: ../src/learner.cc:1095: Starting in XGBoost 1.3.0, the default evaluation metric used with the objective 'binary:logistic' was changed from 'error' to 'logloss'. Explicitly set eval_metric if you'd like to restore the old behavior.\n",
      "3-fold CV classification with classifier XGBClassifier(base_score=None, booster=None, colsample_bylevel=None,\n",
      "              colsample_bynode=None, colsample_bytree=0.7, gamma=None,\n",
      "              gpu_id=None, importance_type='gain', interaction_constraints=None,\n",
      "              learning_rate=0.16, max_delta_step=None, max_depth=18,\n",
      "              min_child_weight=15, missing=nan, monotone_constraints=None,\n",
      "              n_estimators=656, n_jobs=None, num_parallel_tree=None,\n",
      "              random_state=None, reg_alpha=None, reg_lambda=None,\n",
      "              scale_pos_weight=28, subsample=0.7, tree_method=None,\n",
      "              validate_parameters=None, verbosity=None):\n",
      "test ROC AUC=0.8364, test accuracy=0.7668, test f1=0.7956\n"
     ]
    }
   ],
   "source": [
    "from sklearn.model_selection import cross_validate\n",
    "\n",
    "cv_fold = 3\n",
    "cv_results = cross_validate(clf, X, y, cv=cv_fold, return_train_score=False, scoring=('accuracy', 'f1', 'roc_auc'))\n",
    "df_res = pd.DataFrame(cv_results)\n",
    "df_res['classifier'] = str(clf)\n",
    "# df_res['dataset'] = dataset_names[ds_cnt]\n",
    "score = df_res['test_accuracy'].mean()\n",
    "# print res\n",
    "print(f\"{cv_fold}-fold CV classification with classifier {clf}:\\n\"\n",
    "    f\"test ROC AUC={df_res['test_roc_auc'].mean():.4f}, test accuracy={df_res['test_accuracy'].mean():.4f}, test f1={df_res['test_f1'].mean():.4f}\")"
   ]
  },
  {
   "cell_type": "code",
   "execution_count": 67,
   "id": "round-cooling",
   "metadata": {},
   "outputs": [
    {
     "data": {
      "text/html": [
       "<div>\n",
       "<style scoped>\n",
       "    .dataframe tbody tr th:only-of-type {\n",
       "        vertical-align: middle;\n",
       "    }\n",
       "\n",
       "    .dataframe tbody tr th {\n",
       "        vertical-align: top;\n",
       "    }\n",
       "\n",
       "    .dataframe thead th {\n",
       "        text-align: right;\n",
       "    }\n",
       "</style>\n",
       "<table border=\"1\" class=\"dataframe\">\n",
       "  <thead>\n",
       "    <tr style=\"text-align: right;\">\n",
       "      <th></th>\n",
       "      <th>fit_time</th>\n",
       "      <th>score_time</th>\n",
       "      <th>test_accuracy</th>\n",
       "      <th>test_f1</th>\n",
       "      <th>test_roc_auc</th>\n",
       "      <th>classifier</th>\n",
       "    </tr>\n",
       "  </thead>\n",
       "  <tbody>\n",
       "    <tr>\n",
       "      <th>0</th>\n",
       "      <td>55.947556</td>\n",
       "      <td>0.038698</td>\n",
       "      <td>0.713231</td>\n",
       "      <td>0.760777</td>\n",
       "      <td>0.755593</td>\n",
       "      <td>XGBClassifier(base_score=None, booster=None, c...</td>\n",
       "    </tr>\n",
       "    <tr>\n",
       "      <th>1</th>\n",
       "      <td>57.742243</td>\n",
       "      <td>0.033444</td>\n",
       "      <td>0.701306</td>\n",
       "      <td>0.754435</td>\n",
       "      <td>0.769794</td>\n",
       "      <td>XGBClassifier(base_score=None, booster=None, c...</td>\n",
       "    </tr>\n",
       "    <tr>\n",
       "      <th>2</th>\n",
       "      <td>62.912708</td>\n",
       "      <td>0.034797</td>\n",
       "      <td>0.885795</td>\n",
       "      <td>0.871729</td>\n",
       "      <td>0.983698</td>\n",
       "      <td>XGBClassifier(base_score=None, booster=None, c...</td>\n",
       "    </tr>\n",
       "  </tbody>\n",
       "</table>\n",
       "</div>"
      ],
      "text/plain": [
       "    fit_time  score_time  test_accuracy   test_f1  test_roc_auc  \\\n",
       "0  55.947556    0.038698       0.713231  0.760777      0.755593   \n",
       "1  57.742243    0.033444       0.701306  0.754435      0.769794   \n",
       "2  62.912708    0.034797       0.885795  0.871729      0.983698   \n",
       "\n",
       "                                          classifier  \n",
       "0  XGBClassifier(base_score=None, booster=None, c...  \n",
       "1  XGBClassifier(base_score=None, booster=None, c...  \n",
       "2  XGBClassifier(base_score=None, booster=None, c...  "
      ]
     },
     "execution_count": 67,
     "metadata": {},
     "output_type": "execute_result"
    }
   ],
   "source": [
    "df_res # over sampling"
   ]
  },
  {
   "cell_type": "code",
   "execution_count": 52,
   "id": "julian-pilot",
   "metadata": {},
   "outputs": [
    {
     "data": {
      "text/html": [
       "<div>\n",
       "<style scoped>\n",
       "    .dataframe tbody tr th:only-of-type {\n",
       "        vertical-align: middle;\n",
       "    }\n",
       "\n",
       "    .dataframe tbody tr th {\n",
       "        vertical-align: top;\n",
       "    }\n",
       "\n",
       "    .dataframe thead th {\n",
       "        text-align: right;\n",
       "    }\n",
       "</style>\n",
       "<table border=\"1\" class=\"dataframe\">\n",
       "  <thead>\n",
       "    <tr style=\"text-align: right;\">\n",
       "      <th></th>\n",
       "      <th>fit_time</th>\n",
       "      <th>score_time</th>\n",
       "      <th>test_accuracy</th>\n",
       "      <th>test_f1</th>\n",
       "      <th>test_roc_auc</th>\n",
       "      <th>classifier</th>\n",
       "    </tr>\n",
       "  </thead>\n",
       "  <tbody>\n",
       "    <tr>\n",
       "      <th>0</th>\n",
       "      <td>44.877571</td>\n",
       "      <td>0.029773</td>\n",
       "      <td>0.540564</td>\n",
       "      <td>0.630234</td>\n",
       "      <td>0.572951</td>\n",
       "      <td>XGBClassifier(base_score=None, booster=None, c...</td>\n",
       "    </tr>\n",
       "    <tr>\n",
       "      <th>1</th>\n",
       "      <td>45.723843</td>\n",
       "      <td>0.030597</td>\n",
       "      <td>0.542328</td>\n",
       "      <td>0.633733</td>\n",
       "      <td>0.599064</td>\n",
       "      <td>XGBClassifier(base_score=None, booster=None, c...</td>\n",
       "    </tr>\n",
       "    <tr>\n",
       "      <th>2</th>\n",
       "      <td>45.986714</td>\n",
       "      <td>0.029729</td>\n",
       "      <td>0.565256</td>\n",
       "      <td>0.650602</td>\n",
       "      <td>0.610509</td>\n",
       "      <td>XGBClassifier(base_score=None, booster=None, c...</td>\n",
       "    </tr>\n",
       "  </tbody>\n",
       "</table>\n",
       "</div>"
      ],
      "text/plain": [
       "    fit_time  score_time  test_accuracy   test_f1  test_roc_auc  \\\n",
       "0  44.877571    0.029773       0.540564  0.630234      0.572951   \n",
       "1  45.723843    0.030597       0.542328  0.633733      0.599064   \n",
       "2  45.986714    0.029729       0.565256  0.650602      0.610509   \n",
       "\n",
       "                                          classifier  \n",
       "0  XGBClassifier(base_score=None, booster=None, c...  \n",
       "1  XGBClassifier(base_score=None, booster=None, c...  \n",
       "2  XGBClassifier(base_score=None, booster=None, c...  "
      ]
     },
     "execution_count": 52,
     "metadata": {},
     "output_type": "execute_result"
    }
   ],
   "source": [
    "df_res # under sampling"
   ]
  },
  {
   "cell_type": "code",
   "execution_count": 29,
   "id": "dominican-monthly",
   "metadata": {},
   "outputs": [
    {
     "data": {
      "text/html": [
       "<div>\n",
       "<style scoped>\n",
       "    .dataframe tbody tr th:only-of-type {\n",
       "        vertical-align: middle;\n",
       "    }\n",
       "\n",
       "    .dataframe tbody tr th {\n",
       "        vertical-align: top;\n",
       "    }\n",
       "\n",
       "    .dataframe thead th {\n",
       "        text-align: right;\n",
       "    }\n",
       "</style>\n",
       "<table border=\"1\" class=\"dataframe\">\n",
       "  <thead>\n",
       "    <tr style=\"text-align: right;\">\n",
       "      <th></th>\n",
       "      <th>fit_time</th>\n",
       "      <th>score_time</th>\n",
       "      <th>test_accuracy</th>\n",
       "      <th>test_f1</th>\n",
       "      <th>test_roc_auc</th>\n",
       "      <th>classifier</th>\n",
       "    </tr>\n",
       "  </thead>\n",
       "  <tbody>\n",
       "    <tr>\n",
       "      <th>0</th>\n",
       "      <td>87.758425</td>\n",
       "      <td>0.034072</td>\n",
       "      <td>0.619475</td>\n",
       "      <td>0.750113</td>\n",
       "      <td>0.590098</td>\n",
       "      <td>XGBClassifier(base_score=None, booster=None, c...</td>\n",
       "    </tr>\n",
       "    <tr>\n",
       "      <th>1</th>\n",
       "      <td>90.357425</td>\n",
       "      <td>0.034135</td>\n",
       "      <td>0.610919</td>\n",
       "      <td>0.746966</td>\n",
       "      <td>0.604875</td>\n",
       "      <td>XGBClassifier(base_score=None, booster=None, c...</td>\n",
       "    </tr>\n",
       "    <tr>\n",
       "      <th>2</th>\n",
       "      <td>88.426926</td>\n",
       "      <td>0.038427</td>\n",
       "      <td>0.597097</td>\n",
       "      <td>0.730716</td>\n",
       "      <td>0.566783</td>\n",
       "      <td>XGBClassifier(base_score=None, booster=None, c...</td>\n",
       "    </tr>\n",
       "  </tbody>\n",
       "</table>\n",
       "</div>"
      ],
      "text/plain": [
       "    fit_time  score_time  test_accuracy   test_f1  test_roc_auc  \\\n",
       "0  87.758425    0.034072       0.619475  0.750113      0.590098   \n",
       "1  90.357425    0.034135       0.610919  0.746966      0.604875   \n",
       "2  88.426926    0.038427       0.597097  0.730716      0.566783   \n",
       "\n",
       "                                          classifier  \n",
       "0  XGBClassifier(base_score=None, booster=None, c...  \n",
       "1  XGBClassifier(base_score=None, booster=None, c...  \n",
       "2  XGBClassifier(base_score=None, booster=None, c...  "
      ]
     },
     "execution_count": 29,
     "metadata": {},
     "output_type": "execute_result"
    }
   ],
   "source": [
    "df_res # without under sampling"
   ]
  },
  {
   "cell_type": "code",
   "execution_count": null,
   "id": "seeing-mayor",
   "metadata": {},
   "outputs": [],
   "source": [
    "\n",
    "# clf = xgb.XGBClassifier(**study.best_params)\n",
    "clf = xgb.XGBClassifier()\n",
    "\n",
    "\n",
    "# over = RandomOverSampler(sampling_strategy=0.5)\n",
    "# # fit and apply the transform\n",
    "# X, y = over.fit_resample(X, y)\n",
    "# # define undersampling strategy\n",
    "# under = RandomUnderSampler(sampling_strategy=0.5)\n",
    "# # fit and apply the transform\n",
    "# X, y = under.fit_resample(X, y)\n",
    "\n",
    "clf.fit(X,y)"
   ]
  },
  {
   "cell_type": "markdown",
   "id": "unnecessary-committee",
   "metadata": {},
   "source": [
    "#### dev cv"
   ]
  },
  {
   "cell_type": "code",
   "execution_count": 48,
   "id": "unnecessary-kansas",
   "metadata": {},
   "outputs": [
    {
     "name": "stdout",
     "output_type": "stream",
     "text": [
      "(4342, 869)\n",
      "(3412, 869)\n",
      "0.7858129894058038\n",
      "0.6016998827667057\n"
     ]
    }
   ],
   "source": [
    "df0_pt = load_patient_grouped(questionnaire=questionnaire, idp=idp, \n",
    "                          question_visits=question_visits, imputed=None, \n",
    "                          patient_grouping='simplified')\n",
    "print(df0_pt.shape)\n",
    "df1_pt = load_patient_grouped(questionnaire=questionnaire, idp=idp, \n",
    "                          question_visits=question_visits, imputed=False, \n",
    "                          patient_grouping='simplified')\n",
    "print(df1_pt.shape)\n",
    "print(df1_pt.shape[0]/df0_pt.shape[0])\n",
    "\n",
    "y = pd.get_dummies(df1_pt['label']).iloc[:,0]\n",
    "print(y.sum()/df1_pt.shape[0])"
   ]
  },
  {
   "cell_type": "code",
   "execution_count": 49,
   "id": "geological-australia",
   "metadata": {},
   "outputs": [
    {
     "name": "stdout",
     "output_type": "stream",
     "text": [
      "(3951, 3797)\n",
      "(3951, 869)\n",
      "(3951, 3797)\n",
      "(3187, 869)\n",
      "0.8066312325993419\n",
      "0.318167555695011\n"
     ]
    }
   ],
   "source": [
    "df0_dg = load_digestive_data(label_type='severe', questionnaire=questionnaire, idp=idp, \n",
    "                         question_visits=question_visits, imputed=None)\n",
    "print(df0_dg.shape)\n",
    "df1_dg = load_digestive_data(label_type='severe', questionnaire=questionnaire, idp=idp, \n",
    "                         question_visits=question_visits, imputed=False)\n",
    "print(df1_dg.shape)\n",
    "print(df1_dg.shape[0]/df0_dg.shape[0])\n",
    "print(df1_dg['label'].sum()/df1_dg.shape[0])"
   ]
  },
  {
   "cell_type": "code",
   "execution_count": 50,
   "id": "cleared-citizenship",
   "metadata": {},
   "outputs": [
    {
     "name": "stdout",
     "output_type": "stream",
     "text": [
      "Patients=4342, controls=4376\n",
      "(8718, 869)\n",
      "Patients=4342, controls=4376\n",
      "(6841, 869)\n",
      "0.7846983253039688\n",
      "0.4987574915947961\n"
     ]
    }
   ],
   "source": [
    "df0_pc = load_patient_matched(questionnaire=questionnaire, idp=idp, \n",
    "                          question_visits=question_visits, imputed=None)\n",
    "print(df0_pc.shape)# patient control\n",
    "df1_pc = load_patient_matched(questionnaire=questionnaire, idp=idp, \n",
    "                          question_visits=question_visits, imputed=False)\n",
    "print(df1_pc.shape)\n",
    "print(df1_pc.shape[0]/df0_pc.shape[0])\n",
    "print(df1_pc['label'].sum()/df1_pc.shape[0])"
   ]
  },
  {
   "cell_type": "code",
   "execution_count": null,
   "id": "prostate-analysis",
   "metadata": {},
   "outputs": [],
   "source": []
  },
  {
   "cell_type": "code",
   "execution_count": 43,
   "id": "recognized-fellow",
   "metadata": {},
   "outputs": [],
   "source": [
    "def check_categorical(df):\n",
    "    numerics = ['int8', 'int16', 'int32', 'int64', 'float16', 'float32', 'float64']\n",
    "    categorical_columns = []\n",
    "    features = df.columns.values.tolist()\n",
    "    for col in features:\n",
    "        if df[col].dtype in numerics: continue\n",
    "        categorical_columns.append(col)\n",
    "    return categorical_columns"
   ]
  },
  {
   "cell_type": "code",
   "execution_count": 44,
   "id": "lyric-demand",
   "metadata": {},
   "outputs": [
    {
     "name": "stdout",
     "output_type": "stream",
     "text": [
      "[]\n"
     ]
    }
   ],
   "source": [
    "cat_cols = check_categorical(df1)\n",
    "print(cat_cols)"
   ]
  },
  {
   "cell_type": "code",
   "execution_count": 45,
   "id": "common-oxford",
   "metadata": {
    "tags": []
   },
   "outputs": [],
   "source": [
    "def display_missing(df):\n",
    "    c = 0\n",
    "    for col in df.columns.tolist():         \n",
    "        if df[col].isnull().sum()>0:\n",
    "            print('{} column missing values: {}'.format(col, df[col].isnull().sum()))\n",
    "            c += 1\n",
    "    print('\\n')\n",
    "    print(f'total number of missing cols={c}')"
   ]
  },
  {
   "cell_type": "code",
   "execution_count": 46,
   "id": "latest-lawsuit",
   "metadata": {},
   "outputs": [
    {
     "name": "stdout",
     "output_type": "stream",
     "text": [
      "\n",
      "\n",
      "total number of missing cols=0\n"
     ]
    }
   ],
   "source": [
    "display_missing(df1)"
   ]
  },
  {
   "cell_type": "code",
   "execution_count": 51,
   "id": "static-roman",
   "metadata": {},
   "outputs": [],
   "source": [
    "# umap test"
   ]
  },
  {
   "cell_type": "code",
   "execution_count": 54,
   "id": "liked-observer",
   "metadata": {},
   "outputs": [],
   "source": [
    "import umap"
   ]
  },
  {
   "cell_type": "code",
   "execution_count": 94,
   "id": "located-yellow",
   "metadata": {},
   "outputs": [],
   "source": [
    "dff_imputed = df1_dg"
   ]
  },
  {
   "cell_type": "code",
   "execution_count": 95,
   "id": "undefined-strength",
   "metadata": {},
   "outputs": [],
   "source": [
    "y_label = dff_imputed['label']\n",
    "y = pd.get_dummies(y_label).iloc[:,0]\n",
    "X = dff_imputed.drop(['label','eid'], axis=1)"
   ]
  },
  {
   "cell_type": "code",
   "execution_count": 96,
   "id": "integrated-alert",
   "metadata": {},
   "outputs": [
    {
     "data": {
      "text/plain": [
       "1    0.681832\n",
       "0    0.318168\n",
       "Name: 0, dtype: float64"
      ]
     },
     "execution_count": 96,
     "metadata": {},
     "output_type": "execute_result"
    }
   ],
   "source": [
    "y.value_counts()/y.shape[0]"
   ]
  },
  {
   "cell_type": "code",
   "execution_count": 76,
   "id": "engaging-administrator",
   "metadata": {
    "tags": []
   },
   "outputs": [],
   "source": [
    "from sklearn.preprocessing import StandardScaler\n",
    "X = StandardScaler().fit_transform(X)"
   ]
  },
  {
   "cell_type": "code",
   "execution_count": 97,
   "id": "statewide-survivor",
   "metadata": {},
   "outputs": [],
   "source": [
    "reducer = umap.UMAP()"
   ]
  },
  {
   "cell_type": "code",
   "execution_count": 98,
   "id": "exclusive-butler",
   "metadata": {},
   "outputs": [
    {
     "data": {
      "text/plain": [
       "(3187, 2)"
      ]
     },
     "execution_count": 98,
     "metadata": {},
     "output_type": "execute_result"
    }
   ],
   "source": [
    "embedding = reducer.fit_transform(X)\n",
    "embedding.shape"
   ]
  },
  {
   "cell_type": "code",
   "execution_count": 83,
   "id": "saving-locking",
   "metadata": {},
   "outputs": [],
   "source": [
    "embedding = umap.UMAP(\n",
    "    n_neighbors=30,\n",
    "    min_dist=0.0,\n",
    "    n_components=4,\n",
    "    random_state=42,\n",
    ").fit_transform(X)"
   ]
  },
  {
   "cell_type": "code",
   "execution_count": 99,
   "id": "dynamic-solution",
   "metadata": {},
   "outputs": [
    {
     "data": {
      "text/plain": [
       "Text(0.5, 1.0, 'UMAP projection of dataset')"
      ]
     },
     "execution_count": 99,
     "metadata": {},
     "output_type": "execute_result"
    },
    {
     "data": {
      "image/png": "[encoded data removed]",
      "text/plain": [
       "<Figure size 432x288 with 1 Axes>"
      ]
     },
     "metadata": {
      "needs_background": "light"
     },
     "output_type": "display_data"
    }
   ],
   "source": [
    "import seaborn as sns\n",
    "plt.scatter(\n",
    "    embedding[:, 0],\n",
    "    embedding[:, 1],\n",
    "    c=[sns.color_palette()[x] for x in y.map({0:0, 1:1})])\n",
    "plt.gca().set_aspect('equal', 'datalim')\n",
    "plt.title('UMAP projection of dataset', fontsize=24)"
   ]
  },
  {
   "cell_type": "markdown",
   "id": "actual-detection",
   "metadata": {},
   "source": [
    "#### dev questions"
   ]
  },
  {
   "cell_type": "code",
   "execution_count": 85,
   "id": "organic-passage",
   "metadata": {},
   "outputs": [],
   "source": [
    "questionnaire = 'all'\n",
    "idp = None"
   ]
  },
  {
   "cell_type": "code",
   "execution_count": 87,
   "id": "imperial-draft",
   "metadata": {},
   "outputs": [
    {
     "name": "stdout",
     "output_type": "stream",
     "text": [
      "(4342, 95)\n",
      "Questionnaires from visits [2] shape=(4342, 95)\n",
      "After imputation shape=(4342, 89)\n",
      "Drop all nan cols shape=(4342, 89)\n",
      "(4342, 89)\n",
      "1.0\n",
      "0.6082450483648089\n"
     ]
    }
   ],
   "source": [
    "df0_pt = load_patient_grouped(questionnaire=questionnaire, idp=idp, \n",
    "                          question_visits=question_visits, imputed=None, \n",
    "                          patient_grouping='simplified')\n",
    "print(df0_pt.shape)\n",
    "df1_pt = load_patient_grouped(questionnaire=questionnaire, idp=idp, \n",
    "                          question_visits=question_visits, imputed=True, \n",
    "                          patient_grouping='simplified')\n",
    "print(df1_pt.shape)\n",
    "print(df1_pt.shape[0]/df0_pt.shape[0])\n",
    "\n",
    "y = pd.get_dummies(df1_pt['label']).iloc[:,0]\n",
    "print(y.sum()/df1_pt.shape[0])"
   ]
  },
  {
   "cell_type": "code",
   "execution_count": 91,
   "id": "moral-container",
   "metadata": {
    "collapsed": true,
    "jupyter": {
     "outputs_hidden": true
    },
    "tags": []
   },
   "outputs": [
    {
     "data": {
      "text/plain": [
       "30.0    64\n",
       "35.0    48\n",
       "40.0    44\n",
       "28.0    36\n",
       "25.0    31\n",
       "22.0    31\n",
       "21.0    30\n",
       "50.0    28\n",
       "33.0    27\n",
       "27.0    27\n",
       "24.0    26\n",
       "20.0    26\n",
       "29.0    25\n",
       "45.0    24\n",
       "23.0    24\n",
       "32.0    23\n",
       "38.0    22\n",
       "31.0    21\n",
       "26.0    21\n",
       "48.0    17\n",
       "43.0    16\n",
       "51.0    14\n",
       "54.0    14\n",
       "42.0    13\n",
       "34.0    13\n",
       "36.0    12\n",
       "44.0    12\n",
       "39.0    12\n",
       "19.0    12\n",
       "60.0    11\n",
       "49.0    11\n",
       "37.0    10\n",
       "52.0    10\n",
       "18.0     9\n",
       "55.0     9\n",
       "47.0     8\n",
       "56.0     8\n",
       "41.0     7\n",
       "58.0     7\n",
       "46.0     7\n",
       "53.0     7\n",
       "57.0     7\n",
       "59.0     5\n",
       "61.0     5\n",
       "17.0     5\n",
       "64.0     4\n",
       "65.0     4\n",
       "62.0     2\n",
       "63.0     2\n",
       "9.0      1\n",
       "16.0     1\n",
       "75.0     1\n",
       "14.0     1\n",
       "12.0     1\n",
       "Name: 22507-0.0, dtype: int64"
      ]
     },
     "execution_count": 91,
     "metadata": {},
     "output_type": "execute_result"
    },
    {
     "data": {
      "image/png": "[encoded data removed]",
      "text/plain": [
       "<Figure size 432x288 with 1 Axes>"
      ]
     },
     "metadata": {
      "needs_background": "light"
     },
     "output_type": "display_data"
    }
   ],
   "source": [
    "df0_pt['22507-0.0'].plot(kind='hist')\n",
    "df0_pt['22507-0.0'].value_counts()"
   ]
  },
  {
   "cell_type": "code",
   "execution_count": 92,
   "id": "married-understanding",
   "metadata": {
    "collapsed": true,
    "jupyter": {
     "outputs_hidden": true
    },
    "tags": []
   },
   "outputs": [
    {
     "data": {
      "text/plain": [
       "33.0    3513\n",
       "30.0      64\n",
       "35.0      48\n",
       "40.0      44\n",
       "28.0      36\n",
       "25.0      31\n",
       "22.0      31\n",
       "21.0      30\n",
       "50.0      28\n",
       "27.0      27\n",
       "24.0      26\n",
       "20.0      26\n",
       "29.0      25\n",
       "45.0      24\n",
       "23.0      24\n",
       "32.0      23\n",
       "38.0      22\n",
       "31.0      21\n",
       "26.0      21\n",
       "48.0      17\n",
       "43.0      16\n",
       "51.0      14\n",
       "54.0      14\n",
       "42.0      13\n",
       "34.0      13\n",
       "36.0      12\n",
       "44.0      12\n",
       "39.0      12\n",
       "19.0      12\n",
       "60.0      11\n",
       "49.0      11\n",
       "37.0      10\n",
       "52.0      10\n",
       "18.0       9\n",
       "55.0       9\n",
       "47.0       8\n",
       "56.0       8\n",
       "41.0       7\n",
       "58.0       7\n",
       "46.0       7\n",
       "53.0       7\n",
       "57.0       7\n",
       "59.0       5\n",
       "61.0       5\n",
       "17.0       5\n",
       "64.0       4\n",
       "65.0       4\n",
       "62.0       2\n",
       "63.0       2\n",
       "9.0        1\n",
       "16.0       1\n",
       "75.0       1\n",
       "14.0       1\n",
       "12.0       1\n",
       "Name: 22507-0.0, dtype: int64"
      ]
     },
     "execution_count": 92,
     "metadata": {},
     "output_type": "execute_result"
    },
    {
     "data": {
      "image/png": "[encoded data removed]",
      "text/plain": [
       "<Figure size 432x288 with 1 Axes>"
      ]
     },
     "metadata": {
      "needs_background": "light"
     },
     "output_type": "display_data"
    }
   ],
   "source": [
    "df1_pt['22507-0.0'].plot(kind='hist')\n",
    "df1_pt['22507-0.0'].value_counts()"
   ]
  },
  {
   "cell_type": "code",
   "execution_count": 88,
   "id": "alike-techno",
   "metadata": {},
   "outputs": [
    {
     "name": "stdout",
     "output_type": "stream",
     "text": [
      "4537-2.0 column missing values: 21\n",
      "1160-2.0 column missing values: 21\n",
      "20122-0.0 column missing values: 4330\n",
      "1200-2.0 column missing values: 21\n",
      "20527-0.0 column missing values: 1292\n",
      "20125-0.0 column missing values: 4245\n",
      "20484-0.0 column missing values: 4254\n",
      "20137-0.0 column missing values: 2127\n",
      "22507-0.0 column missing values: 3486\n",
      "20496-0.0 column missing values: 2845\n",
      "20487-0.0 column missing values: 1292\n",
      "20495-0.0 column missing values: 1292\n",
      "20488-0.0 column missing values: 1292\n",
      "20494-0.0 column missing values: 2845\n",
      "6145-2.0 column missing values: 21\n",
      "22506-0.0 column missing values: 1943\n",
      "6145-2.1 column missing values: 3900\n",
      "20157-0.0 column missing values: 2421\n",
      "6160-2.4 column missing values: 4341\n",
      "4620-2.0 column missing values: 1848\n",
      "20116-2.0 column missing values: 21\n",
      "20245-0.0 column missing values: 2127\n",
      "20499-0.0 column missing values: 1292\n",
      "20521-0.0 column missing values: 1292\n",
      "20123-0.0 column missing values: 4229\n",
      "20127-0.0 column missing values: 763\n",
      "20498-0.0 column missing values: 1292\n",
      "4548-2.0 column missing values: 21\n",
      "6145-2.2 column missing values: 4256\n",
      "6145-2.3 column missing values: 4324\n",
      "20459-0.0 column missing values: 1292\n",
      "20500-0.0 column missing values: 1292\n",
      "20482-0.0 column missing values: 4175\n",
      "20403-0.0 column missing values: 1574\n",
      "20124-0.0 column missing values: 4144\n",
      "2090-2.0 column missing values: 21\n",
      "20244-0.0 column missing values: 2144\n",
      "6160-2.0 column missing values: 21\n",
      "20481-0.0 column missing values: 4175\n",
      "2100-2.0 column missing values: 21\n",
      "20529-0.0 column missing values: 1292\n",
      "20530-0.0 column missing values: 1292\n",
      "20414-0.0 column missing values: 1292\n",
      "20479-0.0 column missing values: 1292\n",
      "6145-2.4 column missing values: 4339\n",
      "20460-0.0 column missing values: 1292\n",
      "5386-2.0 column missing values: 2719\n",
      "20416-0.0 column missing values: 1574\n",
      "20480-0.0 column missing values: 1292\n",
      "20196-0.0 column missing values: 2127\n",
      "20134-0.0 column missing values: 2144\n",
      "2080-2.0 column missing values: 21\n",
      "20434-0.0 column missing values: 2341\n",
      "20486-0.0 column missing values: 3744\n",
      "20489-0.0 column missing values: 1292\n",
      "20483-0.0 column missing values: 4175\n",
      "6160-2.1 column missing values: 2897\n",
      "20526-0.0 column missing values: 1292\n",
      "6160-2.2 column missing values: 4007\n",
      "4581-2.0 column missing values: 21\n",
      "6145-2.5 column missing values: 4342\n",
      "20195-0.0 column missing values: 2147\n",
      "20246-0.0 column missing values: 2130\n",
      "20400-0.0 column missing values: 1291\n",
      "1031-2.0 column missing values: 21\n",
      "20491-0.0 column missing values: 1292\n",
      "20485-0.0 column missing values: 1292\n",
      "4570-2.0 column missing values: 21\n",
      "20458-0.0 column missing values: 1292\n",
      "4526-2.0 column missing values: 21\n",
      "20159-0.0 column missing values: 2147\n",
      "20523-0.0 column missing values: 1292\n",
      "20138-0.0 column missing values: 2257\n",
      "6160-2.3 column missing values: 4307\n",
      "20136-0.0 column missing values: 2130\n",
      "20497-0.0 column missing values: 1292\n",
      "20528-0.0 column missing values: 1292\n",
      "20524-0.0 column missing values: 1292\n",
      "20247-0.0 column missing values: 3833\n",
      "20525-0.0 column missing values: 1292\n",
      "4559-2.0 column missing values: 21\n",
      "1170-2.0 column missing values: 21\n",
      "20522-0.0 column missing values: 1292\n",
      "22040-0.0 column missing values: 776\n",
      "20433-0.0 column missing values: 2341\n",
      "20490-0.0 column missing values: 1292\n",
      "20531-0.0 column missing values: 1292\n",
      "20126-0.0 column missing values: 3271\n",
      "20240-0.0 column missing values: 2257\n",
      "20248-0.0 column missing values: 3543\n",
      "20156-0.0 column missing values: 2421\n",
      "\n",
      "\n",
      "total number of missing cols=91\n"
     ]
    }
   ],
   "source": [
    "display_missing(df0_pt)"
   ]
  },
  {
   "cell_type": "code",
   "execution_count": 49,
   "id": "stupid-shade",
   "metadata": {},
   "outputs": [
    {
     "name": "stdout",
     "output_type": "stream",
     "text": [
      "(3951, 3797)\n",
      "(3951, 869)\n",
      "(3951, 3797)\n",
      "(3187, 869)\n",
      "0.8066312325993419\n",
      "0.318167555695011\n"
     ]
    }
   ],
   "source": [
    "df0_dg = load_digestive_data(label_type='severe', questionnaire=questionnaire, idp=idp, \n",
    "                         question_visits=question_visits, imputed=None)\n",
    "print(df0_dg.shape)\n",
    "df1_dg = load_digestive_data(label_type='severe', questionnaire=questionnaire, idp=idp, \n",
    "                         question_visits=question_visits, imputed=False)\n",
    "print(df1_dg.shape)\n",
    "print(df1_dg.shape[0]/df0_dg.shape[0])\n",
    "print(df1_dg['label'].sum()/df1_dg.shape[0])"
   ]
  },
  {
   "cell_type": "code",
   "execution_count": 50,
   "id": "everyday-conjunction",
   "metadata": {},
   "outputs": [
    {
     "name": "stdout",
     "output_type": "stream",
     "text": [
      "Patients=4342, controls=4376\n",
      "(8718, 869)\n",
      "Patients=4342, controls=4376\n",
      "(6841, 869)\n",
      "0.7846983253039688\n",
      "0.4987574915947961\n"
     ]
    }
   ],
   "source": [
    "df0_pc = load_patient_matched(questionnaire=questionnaire, idp=idp, \n",
    "                          question_visits=question_visits, imputed=None)\n",
    "print(df0_pc.shape)# patient control\n",
    "df1_pc = load_patient_matched(questionnaire=questionnaire, idp=idp, \n",
    "                          question_visits=question_visits, imputed=False)\n",
    "print(df1_pc.shape)\n",
    "print(df1_pc.shape[0]/df0_pc.shape[0])\n",
    "print(df1_pc['label'].sum()/df1_pc.shape[0])"
   ]
  },
  {
   "cell_type": "markdown",
   "id": "located-father",
   "metadata": {},
   "source": [
    "#### previous dev"
   ]
  },
  {
   "cell_type": "code",
   "execution_count": 20,
   "id": "beginning-sellers",
   "metadata": {},
   "outputs": [
    {
     "data": {
      "text/plain": [
       "0"
      ]
     },
     "execution_count": 20,
     "metadata": {},
     "output_type": "execute_result"
    }
   ],
   "source": [
    "df_subjects['21003-2.0'].isna().sum()"
   ]
  },
  {
   "cell_type": "code",
   "execution_count": 10,
   "id": "vocal-essay",
   "metadata": {
    "tags": []
   },
   "outputs": [
    {
     "name": "stderr",
     "output_type": "stream",
     "text": [
      "/home/fs0/syzhang/.conda/envs/biobank/lib/python3.9/site-packages/IPython/core/interactiveshell.py:3165: DtypeWarning: Columns (2445,2446,2447,2448,2449,2450,2451,2452,2453,2454,2455,2456,2457,2458,2459,2460,2461,2462,2463,2464,2499,2500,2501,2502,2503,2504,2505,2506,2507,2508,2560,2561,2562,2563,2564,2565,2566,2567,2568,2569,2570,2571,2572,2573,2574,2575,2576,2577,2578,2579,2580,2581,2582,2583,2584,2585,2586,2587,2588,2589,2590,2591,2592,2593,2594,2595,2596,2597,2598,2599,2600,2601,2602,2603,2604,2605,2606,2607,2608,2609,2610,2611,2612,2613,2614,2615,2616,2617,2618,2619,2620,2621,2622,2623,2624,2625,2626,2627,2628,2739,2740,2741,2742,2743,2744,2745,2746,2747,2750,2820,2821,2822,2823,2824,2825,2826,2827,2828,2829,2830,2831,2832,2833,2834,2835,2836,2837,2838,2839,2840,2841,2842,2843,2844,2845,2846,2847,2848,2849,2850,2851,2852,2853,2854,2855,2856,2857,2858,2859,2860,2861,2862,2863,2864,2865,2866,2867,2868,2869,2870,2871,2872,2873,2874,2875,2876,2877,2878,2879,2880,2881,2882,2883,2884,2885,2886,2887,2888,3001,3002,3003,3004,3005,3006,3007,3008,3009,3010) have mixed types.Specify dtype option on import or set low_memory=False.\n",
      "  has_raised = await self.run_ast_nodes(code_ast.body, cell_name,\n"
     ]
    },
    {
     "name": "stdout",
     "output_type": "stream",
     "text": [
      "all\n"
     ]
    }
   ],
   "source": [
    "# main questionnaire file\n",
    "qs_path = os.path.join('..', 'funpack_cfg', 'questions_subjs_disease_visit2_extended.tsv')\n",
    "# load subjects\n",
    "df_subjects = pd.read_csv(qs_path, sep='\\t')\n",
    "# create disease label\n",
    "df_disease_label = disease_label(df_subjects, visits=[2])\n",
    "# load questionnaire codes\n",
    "# questionnaire_ls = ['lifestyle','mental','cognitive']\n",
    "questionnaire_ls = ['all']\n",
    "for q in questionnaire_ls:\n",
    "    print(q)\n",
    "    df_qs = load_qscode(q)\n",
    "    # extract questionnaire of interest\n",
    "    df_qs = extract_qs(df_subjects, df_questionnaire=df_qs, visits=[0,2])\n",
    "    # exclude multi diseases subjects\n",
    "    df_exclude, df_label_exclude = exclude_multidisease(df_qs, df_disease_label)"
   ]
  },
  {
   "cell_type": "code",
   "execution_count": 27,
   "id": "hybrid-entity",
   "metadata": {},
   "outputs": [
    {
     "data": {
      "text/plain": [
       "0"
      ]
     },
     "execution_count": 27,
     "metadata": {},
     "output_type": "execute_result"
    }
   ],
   "source": [
    "df_exclude.columns.duplicated().sum()"
   ]
  },
  {
   "cell_type": "code",
   "execution_count": 29,
   "id": "indirect-assistant",
   "metadata": {},
   "outputs": [
    {
     "data": {
      "text/plain": [
       "(4193, 740)"
      ]
     },
     "execution_count": 29,
     "metadata": {},
     "output_type": "execute_result"
    }
   ],
   "source": [
    "df_exclude.shape"
   ]
  },
  {
   "cell_type": "code",
   "execution_count": 30,
   "id": "civilian-hungary",
   "metadata": {},
   "outputs": [
    {
     "data": {
      "text/plain": [
       "(4193, 5)"
      ]
     },
     "execution_count": 30,
     "metadata": {},
     "output_type": "execute_result"
    }
   ],
   "source": [
    "df_label_exclude.shape"
   ]
  },
  {
   "cell_type": "code",
   "execution_count": 31,
   "id": "powered-monitoring",
   "metadata": {},
   "outputs": [],
   "source": [
    "# reverse one hot encoding\n",
    "label_exclude = df_label_exclude.idxmax(axis=1)\n",
    "dff = df_exclude.merge(label_exclude.rename('label'), left_index=True, right_index=True)"
   ]
  },
  {
   "cell_type": "code",
   "execution_count": 32,
   "id": "employed-approval",
   "metadata": {},
   "outputs": [
    {
     "data": {
      "text/plain": [
       "(4193, 741)"
      ]
     },
     "execution_count": 32,
     "metadata": {},
     "output_type": "execute_result"
    }
   ],
   "source": [
    "dff.shape"
   ]
  },
  {
   "cell_type": "code",
   "execution_count": 41,
   "id": "loving-twenty",
   "metadata": {},
   "outputs": [
    {
     "name": "stdout",
     "output_type": "stream",
     "text": [
      "(4193, 741)\n",
      "(4193, 336)\n",
      "(4193, 336)\n"
     ]
    }
   ],
   "source": [
    "print(dff.shape)\n",
    "dff_imputed = impute_qs(dff, freq_fill='median', nan_percent=0.9)\n",
    "print(dff_imputed.shape)\n",
    "dff_imputed = dff_imputed.dropna(how='all', axis=1)\n",
    "print(dff_imputed.shape)"
   ]
  },
  {
   "cell_type": "code",
   "execution_count": 42,
   "id": "personal-proportion",
   "metadata": {},
   "outputs": [
    {
     "data": {
      "text/plain": [
       "Index([], dtype='object')"
      ]
     },
     "execution_count": 42,
     "metadata": {},
     "output_type": "execute_result"
    }
   ],
   "source": [
    "dff_imputed.columns[dff_imputed.isna().sum()>0]"
   ]
  },
  {
   "cell_type": "markdown",
   "id": "judicial-soccer",
   "metadata": {},
   "source": [
    "#### check individual questionnaire"
   ]
  },
  {
   "cell_type": "code",
   "execution_count": 11,
   "id": "interesting-treasure",
   "metadata": {},
   "outputs": [],
   "source": [
    "def extract_qs(df_subjects, df_questionnaire, visits=[2]):\n",
    "    \"\"\"extract questionnaire set out of 5 possible\"\"\"\n",
    "    # load questionnaire code of interest\n",
    "    field_code = df_questionnaire['code'].to_list()\n",
    "    # extract all fields with questionnaire code\n",
    "    field_cols = []\n",
    "    for code in field_code:\n",
    "#         print(code)\n",
    "#         print(field_cols)\n",
    "        cols_ls = [col for col in df_subjects.columns if str(code)+'-' in col]\n",
    "        if visits != None: # limit to visits only\n",
    "            if len(cols_ls) > 1:\n",
    "                cols_exclude = []\n",
    "                for visit in visits:\n",
    "                    for col in cols_ls:\n",
    "                        if '-'+str(visit) in col:\n",
    "                            cols_exclude.append(col)\n",
    "                cols_ls = cols_exclude\n",
    "        else:\n",
    "            cols_ls = cols_ls\n",
    "        field_cols += cols_ls\n",
    "    # append eid\n",
    "    field_cols += ['eid']\n",
    "    # remove duplicate\n",
    "    field_cols_rm = list(set(field_cols))\n",
    "    df_qs = df_subjects[field_cols_rm]\n",
    "    # remove duplicated columns\n",
    "    df_qs_rm = df_qs.loc[:, ~df_qs.columns.duplicated()]\n",
    "    return df_qs_rm"
   ]
  },
  {
   "cell_type": "code",
   "execution_count": 12,
   "id": "quantitative-ethiopia",
   "metadata": {},
   "outputs": [
    {
     "name": "stdout",
     "output_type": "stream",
     "text": [
      "all\n",
      "(4193, 103)\n"
     ]
    }
   ],
   "source": [
    "# questionnaire_ls = ['lifestyle','mental','cognitive','digestive','all']\n",
    "questionnaire_ls = ['all']\n",
    "\n",
    "for q in questionnaire_ls:\n",
    "    df_qs = load_qscode(q)\n",
    "    # extract questionnaire of interest\n",
    "    df_qs = extract_qs(df_exclude, df_questionnaire=df_qs)\n",
    "    print(q)\n",
    "    print(df_qs.shape)"
   ]
  },
  {
   "cell_type": "code",
   "execution_count": 13,
   "id": "ready-market",
   "metadata": {},
   "outputs": [
    {
     "data": {
      "text/plain": [
       "(4193, 103)"
      ]
     },
     "execution_count": 13,
     "metadata": {},
     "output_type": "execute_result"
    }
   ],
   "source": [
    "df_qs.shape"
   ]
  },
  {
   "cell_type": "code",
   "execution_count": 14,
   "id": "jewish-zambia",
   "metadata": {
    "tags": []
   },
   "outputs": [
    {
     "name": "stdout",
     "output_type": "stream",
     "text": [
      "0.0026234199856904365\n"
     ]
    }
   ],
   "source": [
    "cnt = 0\n",
    "for c in df_qs.columns:\n",
    "    counts = df_qs[c].value_counts()\n",
    "    if len(counts) > 100:\n",
    "        cnt += 1\n",
    "print(cnt/df_qs.shape[0])"
   ]
  },
  {
   "cell_type": "code",
   "execution_count": 15,
   "id": "connected-shock",
   "metadata": {},
   "outputs": [
    {
     "data": {
      "text/html": [
       "<div>\n",
       "<style scoped>\n",
       "    .dataframe tbody tr th:only-of-type {\n",
       "        vertical-align: middle;\n",
       "    }\n",
       "\n",
       "    .dataframe tbody tr th {\n",
       "        vertical-align: top;\n",
       "    }\n",
       "\n",
       "    .dataframe thead th {\n",
       "        text-align: right;\n",
       "    }\n",
       "</style>\n",
       "<table border=\"1\" class=\"dataframe\">\n",
       "  <thead>\n",
       "    <tr style=\"text-align: right;\">\n",
       "      <th></th>\n",
       "      <th>irritable bowel syndrome</th>\n",
       "      <th>migraine</th>\n",
       "      <th>back pain</th>\n",
       "      <th>osteoarthritis</th>\n",
       "      <th>fibromyalgia</th>\n",
       "    </tr>\n",
       "    <tr>\n",
       "      <th>eid</th>\n",
       "      <th></th>\n",
       "      <th></th>\n",
       "      <th></th>\n",
       "      <th></th>\n",
       "      <th></th>\n",
       "    </tr>\n",
       "  </thead>\n",
       "  <tbody>\n",
       "    <tr>\n",
       "      <th>1002910</th>\n",
       "      <td>1</td>\n",
       "      <td>0</td>\n",
       "      <td>0</td>\n",
       "      <td>0</td>\n",
       "      <td>0</td>\n",
       "    </tr>\n",
       "    <tr>\n",
       "      <th>1010078</th>\n",
       "      <td>1</td>\n",
       "      <td>0</td>\n",
       "      <td>0</td>\n",
       "      <td>0</td>\n",
       "      <td>0</td>\n",
       "    </tr>\n",
       "    <tr>\n",
       "      <th>1013470</th>\n",
       "      <td>1</td>\n",
       "      <td>0</td>\n",
       "      <td>0</td>\n",
       "      <td>0</td>\n",
       "      <td>0</td>\n",
       "    </tr>\n",
       "    <tr>\n",
       "      <th>1018785</th>\n",
       "      <td>1</td>\n",
       "      <td>0</td>\n",
       "      <td>0</td>\n",
       "      <td>0</td>\n",
       "      <td>0</td>\n",
       "    </tr>\n",
       "    <tr>\n",
       "      <th>1024557</th>\n",
       "      <td>1</td>\n",
       "      <td>0</td>\n",
       "      <td>0</td>\n",
       "      <td>0</td>\n",
       "      <td>0</td>\n",
       "    </tr>\n",
       "  </tbody>\n",
       "</table>\n",
       "</div>"
      ],
      "text/plain": [
       "         irritable bowel syndrome  migraine  back pain  osteoarthritis  \\\n",
       "eid                                                                      \n",
       "1002910                         1         0          0               0   \n",
       "1010078                         1         0          0               0   \n",
       "1013470                         1         0          0               0   \n",
       "1018785                         1         0          0               0   \n",
       "1024557                         1         0          0               0   \n",
       "\n",
       "         fibromyalgia  \n",
       "eid                    \n",
       "1002910             0  \n",
       "1010078             0  \n",
       "1013470             0  \n",
       "1018785             0  \n",
       "1024557             0  "
      ]
     },
     "execution_count": 15,
     "metadata": {},
     "output_type": "execute_result"
    }
   ],
   "source": [
    "df_label_exclude.head()"
   ]
  },
  {
   "cell_type": "code",
   "execution_count": 16,
   "id": "referenced-skill",
   "metadata": {},
   "outputs": [],
   "source": [
    "# reverse one hot encoding\n",
    "label_exclude = df_label_exclude.idxmax(axis=1)"
   ]
  },
  {
   "cell_type": "code",
   "execution_count": 17,
   "id": "quick-sustainability",
   "metadata": {},
   "outputs": [],
   "source": [
    "dff = df_qs.merge(label_exclude.rename('label'), left_index=True, right_index=True)"
   ]
  },
  {
   "cell_type": "markdown",
   "id": "suspected-hierarchy",
   "metadata": {},
   "source": [
    "#### check nan"
   ]
  },
  {
   "cell_type": "code",
   "execution_count": 18,
   "id": "documented-endorsement",
   "metadata": {},
   "outputs": [],
   "source": [
    "df_nan = pd.isna(dff).sum()/dff.shape[0]"
   ]
  },
  {
   "cell_type": "code",
   "execution_count": 19,
   "id": "political-property",
   "metadata": {},
   "outputs": [],
   "source": [
    "def impute_qs(df, nan_percent=0.9, freq_fill='median'):\n",
    "    \"\"\"impute questionnaire df\"\"\"\n",
    "    df_copy = df.copy()\n",
    "    for col in df_copy.columns:\n",
    "        if col!='label': # exclude label\n",
    "            # remove time stamp cols\n",
    "            if df_copy[col].dtype==object:\n",
    "                df_copy.drop(col, axis=1, inplace=True)\n",
    "            # replace nan with -818 (prefer not to say)\n",
    "            elif np.any(df_copy[col]<-810):\n",
    "#                 print(col)\n",
    "                df_copy[col].replace({np.nan: -818.}, inplace=True)\n",
    "    # fill freq nan with median\n",
    "    df_copy = replace_freq(df_copy, use=freq_fill)\n",
    "    # replace specific fields\n",
    "    df_copy = replace_specific(df_copy)\n",
    "    # drop columns with threshold percentage nan\n",
    "    df_copy.dropna(axis=1, thresh=int(nan_percent*df_copy.shape[0]), inplace=True)\n",
    "    return df_copy\n",
    "\n",
    "def replace_freq(df, use='median'):\n",
    "    \"\"\"replace nan in freq with median\"\"\"\n",
    "    df_copy = df.copy()\n",
    "    for c in df_copy.columns:\n",
    "        tmp = df_copy[c].value_counts()\n",
    "        if tmp.shape[0]>7 and c!='label': # most likely frequency\n",
    "            if use == 'median':\n",
    "                df_copy[c].fillna(tmp.median(), inplace=True)\n",
    "            elif use == 'mean':\n",
    "                df_copy[c].fillna(tmp.mean(), inplace=True)\n",
    "        elif tmp.shape[0]<=7 and c!='label': # other types of freq\n",
    "            if np.any(df_copy[c]==-3.) or np.any(df_copy[c]==-1.): # prefer not to say\n",
    "                df_copy[c].replace({np.nan: -3.}, inplace=True)\n",
    "            elif np.any(df_copy[c]==-600.): # degree of bother, also has prefer not to say\n",
    "                df_copy[c].replace({np.nan: -818.}, inplace=True)\n",
    "\n",
    "    return df_copy\n",
    "\n",
    "def replace_specific(df):\n",
    "    \"\"\"replace specific categories\"\"\"\n",
    "    df_copy = df.copy()\n",
    "    categories_zero = [\n",
    "        '6160',#Leisure/social activities\n",
    "        '6145',#Illness, injury, bereavement, stress in last 2 years\n",
    "        '20123',#Single episode of probable major depression\n",
    "        '20124',#Probable recurrent major depression (moderate)\n",
    "        '20125', #Probable recurrent major depression (severe)\n",
    "        '20481', #Self-harmed in past year\n",
    "        '20484', #Attempted suicide in past year\n",
    "        '20122', #Bipolar disorder status\n",
    "        '20126', #Bipolar and major depression status\n",
    "                 ]\n",
    "    categories_nts = [\n",
    "        '20414', #Frequency of drinking alcohol\n",
    "    ]\n",
    "    categories_to = [\n",
    "        '20246', #Trail making completion status\n",
    "        '20245', #Pairs matching completion status\n",
    "        '20244', #Symbol digit completion status\n",
    "    ]\n",
    "    for c in df_copy.columns:\n",
    "        for cat in categories_zero:\n",
    "            if cat in c: \n",
    "                df_copy[c].replace(np.nan, 0., inplace=True)\n",
    "        for cat in categories_nts:\n",
    "            if cat in c:\n",
    "                df_copy[c].replace(np.nan, -818., inplace=True) # treat as prefer not to say\n",
    "        for cat in categories_to:\n",
    "            if cat in c:\n",
    "                df_copy[c].replace(np.nan, 1., inplace=True) # treat as abandoned\n",
    "    return df_copy"
   ]
  },
  {
   "cell_type": "code",
   "execution_count": 20,
   "id": "split-stockholm",
   "metadata": {},
   "outputs": [
    {
     "name": "stdout",
     "output_type": "stream",
     "text": [
      "(4193, 104)\n",
      "(4193, 98)\n",
      "(4193, 98)\n"
     ]
    }
   ],
   "source": [
    "print(dff.shape)\n",
    "dff_imputed = impute_qs(dff, freq_fill='median', nan_percent=0.)\n",
    "print(dff_imputed.shape)\n",
    "dff_imputed = dff_imputed.dropna(how='all', axis=1)\n",
    "print(dff_imputed.shape)"
   ]
  },
  {
   "cell_type": "markdown",
   "id": "distributed-president",
   "metadata": {},
   "source": [
    "#### check other nan (with no prefer not to say)"
   ]
  },
  {
   "cell_type": "code",
   "execution_count": 21,
   "id": "certified-acting",
   "metadata": {},
   "outputs": [],
   "source": [
    "mas_na = dff_imputed.columns[dff_imputed.isna().sum()/dff_imputed.shape[0]>0.]"
   ]
  },
  {
   "cell_type": "code",
   "execution_count": 22,
   "id": "progressive-encyclopedia",
   "metadata": {
    "tags": []
   },
   "outputs": [],
   "source": [
    "for c in mas_na:\n",
    "# for c in dff_imputed.columns:\n",
    "#     plt.subplots()\n",
    "#     dff_imputed[c].plot(kind='hist')\n",
    "\n",
    "    print(c)\n",
    "    print(dff_imputed[c].value_counts())       \n",
    "    print(dff_imputed[c].value_counts().sum())"
   ]
  },
  {
   "cell_type": "code",
   "execution_count": 23,
   "id": "sharing-miami",
   "metadata": {},
   "outputs": [
    {
     "ename": "NameError",
     "evalue": "name 'dff_imputed_na' is not defined",
     "output_type": "error",
     "traceback": [
      "\u001b[0;31m-------------------------------------------------------------------------\u001b[0m",
      "\u001b[0;31mNameError\u001b[0m                               Traceback (most recent call last)",
      "\u001b[0;32m<ipython-input-23-1fb702977650>\u001b[0m in \u001b[0;36m<module>\u001b[0;34m\u001b[0m\n\u001b[0;32m----> 1\u001b[0;31m \u001b[0mdff_imputed_na\u001b[0m\u001b[0;34m[\u001b[0m\u001b[0;34m'label'\u001b[0m\u001b[0;34m]\u001b[0m\u001b[0;34m.\u001b[0m\u001b[0mvalue_counts\u001b[0m\u001b[0;34m(\u001b[0m\u001b[0;34m)\u001b[0m\u001b[0;34m/\u001b[0m\u001b[0mdff_imputed_na\u001b[0m\u001b[0;34m.\u001b[0m\u001b[0mshape\u001b[0m\u001b[0;34m[\u001b[0m\u001b[0;36m0\u001b[0m\u001b[0;34m]\u001b[0m\u001b[0;34m\u001b[0m\u001b[0;34m\u001b[0m\u001b[0m\n\u001b[0m",
      "\u001b[0;31mNameError\u001b[0m: name 'dff_imputed_na' is not defined"
     ]
    }
   ],
   "source": [
    "dff_imputed_na['label'].value_counts()/dff_imputed_na.shape[0]"
   ]
  },
  {
   "cell_type": "markdown",
   "id": "preceding-python",
   "metadata": {},
   "source": [
    "#### multilabel classification"
   ]
  },
  {
   "cell_type": "code",
   "execution_count": null,
   "id": "encouraging-spencer",
   "metadata": {},
   "outputs": [],
   "source": [
    "dff_imputed_na = dff_imputed.dropna(axis=1)"
   ]
  },
  {
   "cell_type": "code",
   "execution_count": null,
   "id": "fancy-welsh",
   "metadata": {
    "tags": []
   },
   "outputs": [],
   "source": [
    "dff_imputed_na.shape"
   ]
  },
  {
   "cell_type": "code",
   "execution_count": null,
   "id": "failing-footage",
   "metadata": {},
   "outputs": [],
   "source": [
    "df_test = dff_imputed_na"
   ]
  },
  {
   "cell_type": "code",
   "execution_count": null,
   "id": "intellectual-senegal",
   "metadata": {},
   "outputs": [],
   "source": [
    "df_test.shape"
   ]
  },
  {
   "cell_type": "code",
   "execution_count": null,
   "id": "protected-boring",
   "metadata": {},
   "outputs": [],
   "source": [
    "# importing necessary libraries\n",
    "from sklearn.metrics import confusion_matrix, classification_report\n",
    "from sklearn.model_selection import train_test_split\n",
    "  \n",
    "y = df_test['label']\n",
    "X = df_test.drop('label', axis=1)\n",
    "  \n",
    "# dividing X, y into train and test data\n",
    "X_train, X_test, y_train, y_test = train_test_split(X, y, test_size=0.5, random_state=0, stratify=y)"
   ]
  },
  {
   "cell_type": "code",
   "execution_count": null,
   "id": "affiliated-share",
   "metadata": {},
   "outputs": [],
   "source": [
    "# training a DescisionTreeClassifier\n",
    "from sklearn.tree import DecisionTreeClassifier\n",
    "clf = DecisionTreeClassifier(max_depth = 5).fit(X_train, y_train)\n",
    "predicted = clf.predict(X_test)\n",
    "  \n",
    "# creating a confusion matrix\n",
    "from sklearn.metrics import ConfusionMatrixDisplay\n",
    "cm = confusion_matrix(y_test, predicted)\n",
    "cm_display = ConfusionMatrixDisplay(cm,display_labels=clf.classes_).plot()\n",
    "\n",
    "from sklearn.metrics import roc_auc_score\n",
    "auc = roc_auc_score(y_test, clf.predict_proba(X_test), multi_class='ovr')\n",
    "print(f\"Classification report for classifier {dtree_model}:\\n\"\n",
    "      f\"{classification_report(y_test, predicted)}\\n\"\n",
    "      f\"ROC AUC={auc}\")"
   ]
  },
  {
   "cell_type": "code",
   "execution_count": null,
   "id": "visible-albert",
   "metadata": {},
   "outputs": [],
   "source": [
    "from sklearn.ensemble import AdaBoostClassifier\n",
    "clf = AdaBoostClassifier().fit(X_train, y_train)\n",
    "predicted = clf.predict(X_test)\n",
    "\n",
    "# creating a confusion matrix\n",
    "from sklearn.metrics import ConfusionMatrixDisplay\n",
    "cm = confusion_matrix(y_test, predicted)\n",
    "cm_display = ConfusionMatrixDisplay(cm).plot()\n",
    "\n",
    "from sklearn.metrics import roc_auc_score\n",
    "auc = roc_auc_score(y_test, clf.predict_proba(X_test), multi_class='ovr')\n",
    "print(f\"Classification report for classifier {clf}:\\n\"\n",
    "      f\"{classification_report(y_test, predicted)}\\n\"\n",
    "      f\"ROC AUC={auc}\")"
   ]
  },
  {
   "cell_type": "code",
   "execution_count": null,
   "id": "canadian-outreach",
   "metadata": {},
   "outputs": [],
   "source": [
    "from sklearn.ensemble import RandomForestClassifier\n",
    "clf = RandomForestClassifier(max_depth=5).fit(X_train, y_train)\n",
    "predicted = clf.predict(X_test)\n",
    "\n",
    "from sklearn.metrics import roc_auc_score\n",
    "auc = roc_auc_score(y_test, clf.predict_proba(X_test), multi_class='ovr')\n",
    "print(f\"Classification report for classifier {clf}:\\n\"\n",
    "      f\"{classification_report(y_test, predicted)}\\n\"\n",
    "      f\"ROC AUC={auc}\")"
   ]
  },
  {
   "cell_type": "code",
   "execution_count": null,
   "id": "printable-rough",
   "metadata": {},
   "outputs": [],
   "source": [
    "from sklearn.linear_model import LogisticRegression\n",
    "clf = LogisticRegression().fit(X_train, y_train)\n",
    "predicted = clf.predict(X_test)\n",
    "auc = roc_auc_score(y_test, clf.predict_proba(X_test), multi_class='ovr')\n",
    "print(f\"Classification report for classifier {clf}:\\n\"\n",
    "      f\"{classification_report(y_test, predicted)}\\n\"\n",
    "      f\"ROC AUC={auc}\")"
   ]
  },
  {
   "cell_type": "code",
   "execution_count": null,
   "id": "neural-privacy",
   "metadata": {},
   "outputs": [],
   "source": [
    "from sklearn import svm\n",
    "clf = svm.SVC().fit(X_train, y_train)\n",
    "predicted = clf.predict(X_test)\n",
    "print(f\"Classification report for classifier {clf}:\\n\"\n",
    "      f\"{classification_report(y_test, predicted)}\\n\")"
   ]
  },
  {
   "cell_type": "code",
   "execution_count": null,
   "id": "necessary-airline",
   "metadata": {},
   "outputs": [],
   "source": []
  },
  {
   "cell_type": "code",
   "execution_count": null,
   "id": "traditional-water",
   "metadata": {},
   "outputs": [],
   "source": []
  }
 ],
 "metadata": {
  "kernelspec": {
   "display_name": "Python 3",
   "language": "python",
   "name": "python3"
  },
  "language_info": {
   "codemirror_mode": {
    "name": "ipython",
    "version": 3
   },
   "file_extension": ".py",
   "mimetype": "text/x-python",
   "name": "python",
   "nbconvert_exporter": "python",
   "pygments_lexer": "ipython3",
   "version": "3.9.2"
  }
 },
 "nbformat": 4,
 "nbformat_minor": 5
}
