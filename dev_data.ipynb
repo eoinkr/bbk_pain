{
 "cells": [
  {
   "cell_type": "markdown",
   "id": "exceptional-tours",
   "metadata": {},
   "source": [
    "### initial check"
   ]
  },
  {
   "cell_type": "code",
   "execution_count": 1,
   "id": "forbidden-craft",
   "metadata": {},
   "outputs": [],
   "source": [
    "import os\n",
    "import numpy as np\n",
    "import pandas as pd\n",
    "import funpack\n",
    "import matplotlib.pyplot as plt\n",
    "import seaborn as sns"
   ]
  },
  {
   "cell_type": "code",
   "execution_count": 2,
   "id": "listed-computer",
   "metadata": {},
   "outputs": [
    {
     "name": "stdout",
     "output_type": "stream",
     "text": [
      "/home/fs0/syzhang/.conda/envs/biobank/lib/python3.9/site-packages/funpack\n"
     ]
    }
   ],
   "source": [
    "fp_dir = os.path.dirname(funpack.__file__)\n",
    "print(fp_dir)"
   ]
  },
  {
   "cell_type": "code",
   "execution_count": 3,
   "id": "joined-following",
   "metadata": {},
   "outputs": [
    {
     "name": "stdout",
     "output_type": "stream",
     "text": [
      "datetime_formatting.tsv\n",
      "variables_clean.tsv\n",
      "processing.tsv\n",
      "categories.tsv\n",
      "variables_parentvalues.tsv\n",
      "datacodings_navalues.tsv\n",
      "datacodings_recoding.tsv\n"
     ]
    }
   ],
   "source": [
    "cfg_dir = os.path.join(fp_dir, 'configs', 'fmrib')\n",
    "\n",
    "for f in os.listdir(cfg_dir):\n",
    "    print(f)"
   ]
  },
  {
   "cell_type": "code",
   "execution_count": 4,
   "id": "composed-facial",
   "metadata": {},
   "outputs": [],
   "source": [
    "df = pd.read_csv(os.path.join(cfg_dir, 'categories.tsv'), '\\t')"
   ]
  },
  {
   "cell_type": "code",
   "execution_count": 5,
   "id": "aggressive-finance",
   "metadata": {},
   "outputs": [
    {
     "data": {
      "text/plain": [
       "(24, 3)"
      ]
     },
     "execution_count": 5,
     "metadata": {},
     "output_type": "execute_result"
    }
   ],
   "source": [
    "df.shape"
   ]
  },
  {
   "cell_type": "code",
   "execution_count": 6,
   "id": "pressing-element",
   "metadata": {},
   "outputs": [
    {
     "data": {
      "text/html": [
       "<div>\n",
       "<style scoped>\n",
       "    .dataframe tbody tr th:only-of-type {\n",
       "        vertical-align: middle;\n",
       "    }\n",
       "\n",
       "    .dataframe tbody tr th {\n",
       "        vertical-align: top;\n",
       "    }\n",
       "\n",
       "    .dataframe thead th {\n",
       "        text-align: right;\n",
       "    }\n",
       "</style>\n",
       "<table border=\"1\" class=\"dataframe\">\n",
       "  <thead>\n",
       "    <tr style=\"text-align: right;\">\n",
       "      <th></th>\n",
       "      <th>ID</th>\n",
       "      <th>Category</th>\n",
       "      <th>Variables</th>\n",
       "    </tr>\n",
       "  </thead>\n",
       "  <tbody>\n",
       "    <tr>\n",
       "      <th>0</th>\n",
       "      <td>1</td>\n",
       "      <td>age, sex, brain MRI protocol, Phase</td>\n",
       "      <td>31,34,21022,22200,25780</td>\n",
       "    </tr>\n",
       "    <tr>\n",
       "      <th>1</th>\n",
       "      <td>2</td>\n",
       "      <td>genetics</td>\n",
       "      <td>21000,22000:22125,22201:22325,22182,22800:22823</td>\n",
       "    </tr>\n",
       "    <tr>\n",
       "      <th>2</th>\n",
       "      <td>3</td>\n",
       "      <td>early life factors</td>\n",
       "      <td>52,129,130,1677,1687,1697,1737,1767,1777,1787,...</td>\n",
       "    </tr>\n",
       "    <tr>\n",
       "      <th>3</th>\n",
       "      <td>10</td>\n",
       "      <td>lifestyle and environment - general</td>\n",
       "      <td>3:6,132,189,670,680,699,709,728,738,767,777,10...</td>\n",
       "    </tr>\n",
       "    <tr>\n",
       "      <th>4</th>\n",
       "      <td>11</td>\n",
       "      <td>lifestyle and environment - exercise and work</td>\n",
       "      <td>1001,1011,796,806,816,826,845,864,874,884,894,...</td>\n",
       "    </tr>\n",
       "    <tr>\n",
       "      <th>5</th>\n",
       "      <td>12</td>\n",
       "      <td>lifestyle and environment - food and drink</td>\n",
       "      <td>1289:10:1389,1408:10:1548,2654,3089,3680,6144,...</td>\n",
       "    </tr>\n",
       "    <tr>\n",
       "      <th>6</th>\n",
       "      <td>13</td>\n",
       "      <td>lifestyle and environment - alcohol</td>\n",
       "      <td>1558:10:1628,2664,3731,3859,4407,4418,4429,444...</td>\n",
       "    </tr>\n",
       "    <tr>\n",
       "      <th>7</th>\n",
       "      <td>14</td>\n",
       "      <td>lifestyle and environment - tobacco</td>\n",
       "      <td>1239:10:1279,2644,2867:10:2907,2926,2936,3159,...</td>\n",
       "    </tr>\n",
       "    <tr>\n",
       "      <th>8</th>\n",
       "      <td>20</td>\n",
       "      <td>physical measures - general</td>\n",
       "      <td>46:51,1707,1717,1727,1747,1757,2306,3059,3062:...</td>\n",
       "    </tr>\n",
       "    <tr>\n",
       "      <th>9</th>\n",
       "      <td>21</td>\n",
       "      <td>physical measures - bone density and sizes</td>\n",
       "      <td>77,78,3083:3086,3143:3144,3146:3148,4092,4095,...</td>\n",
       "    </tr>\n",
       "    <tr>\n",
       "      <th>10</th>\n",
       "      <td>22</td>\n",
       "      <td>physical measures - cardiac &amp; blood vessels</td>\n",
       "      <td>93:95,102,4079,4080,4136,4194:4196,4198:4200,4...</td>\n",
       "    </tr>\n",
       "    <tr>\n",
       "      <th>11</th>\n",
       "      <td>23</td>\n",
       "      <td>hearing test</td>\n",
       "      <td>4229:4230,4232:4237,4239:4247,4249,4268:4270,4...</td>\n",
       "    </tr>\n",
       "    <tr>\n",
       "      <th>12</th>\n",
       "      <td>24</td>\n",
       "      <td>eye test</td>\n",
       "      <td>5076:5079,5082:5091,5096:5119,5132:5136,5138:5...</td>\n",
       "    </tr>\n",
       "    <tr>\n",
       "      <th>13</th>\n",
       "      <td>25</td>\n",
       "      <td>physical activity measures</td>\n",
       "      <td>5985,90002:90003,90010:90013,90015:90177,90179...</td>\n",
       "    </tr>\n",
       "    <tr>\n",
       "      <th>14</th>\n",
       "      <td>26</td>\n",
       "      <td>abdominal measures</td>\n",
       "      <td>22415:22416</td>\n",
       "    </tr>\n",
       "    <tr>\n",
       "      <th>15</th>\n",
       "      <td>30</td>\n",
       "      <td>blood assays</td>\n",
       "      <td>74,23000:23044,23049:23060,23062,23063,23065:2...</td>\n",
       "    </tr>\n",
       "    <tr>\n",
       "      <th>16</th>\n",
       "      <td>31</td>\n",
       "      <td>brain IDPs</td>\n",
       "      <td>25000:25746,25754:25759,25761:25768,25781:2592...</td>\n",
       "    </tr>\n",
       "    <tr>\n",
       "      <th>17</th>\n",
       "      <td>32</td>\n",
       "      <td>cognitive phenotypes</td>\n",
       "      <td>62,111,396:404,630,4250:4256,4258:4260,4281:42...</td>\n",
       "    </tr>\n",
       "    <tr>\n",
       "      <th>18</th>\n",
       "      <td>50</td>\n",
       "      <td>health and medical history, health outcomes</td>\n",
       "      <td>84,87,92,134:137,2178,2188,2207,2217,2227,2247...</td>\n",
       "    </tr>\n",
       "    <tr>\n",
       "      <th>19</th>\n",
       "      <td>51</td>\n",
       "      <td>mental health self-report</td>\n",
       "      <td>1920:10:2110,4526,4537,4548,4559,4570,4581,459...</td>\n",
       "    </tr>\n",
       "    <tr>\n",
       "      <th>20</th>\n",
       "      <td>60</td>\n",
       "      <td>health dates</td>\n",
       "      <td>41257,41260,41262,41263,41268,41280:41283,4201...</td>\n",
       "    </tr>\n",
       "    <tr>\n",
       "      <th>21</th>\n",
       "      <td>70</td>\n",
       "      <td>health sources</td>\n",
       "      <td>42015,42017,130005,130009,130015:2:130019,1300...</td>\n",
       "    </tr>\n",
       "    <tr>\n",
       "      <th>22</th>\n",
       "      <td>98</td>\n",
       "      <td>pending</td>\n",
       "      <td>41259,41261,41264,42038:42040</td>\n",
       "    </tr>\n",
       "    <tr>\n",
       "      <th>23</th>\n",
       "      <td>99</td>\n",
       "      <td>miscellaneous</td>\n",
       "      <td>19,21,35:45,53:55,68,96,120,200,393,757,1647,2...</td>\n",
       "    </tr>\n",
       "  </tbody>\n",
       "</table>\n",
       "</div>"
      ],
      "text/plain": [
       "    ID                                       Category  \\\n",
       "0    1            age, sex, brain MRI protocol, Phase   \n",
       "1    2                                       genetics   \n",
       "2    3                             early life factors   \n",
       "3   10            lifestyle and environment - general   \n",
       "4   11  lifestyle and environment - exercise and work   \n",
       "5   12     lifestyle and environment - food and drink   \n",
       "6   13            lifestyle and environment - alcohol   \n",
       "7   14            lifestyle and environment - tobacco   \n",
       "8   20                    physical measures - general   \n",
       "9   21     physical measures - bone density and sizes   \n",
       "10  22    physical measures - cardiac & blood vessels   \n",
       "11  23                                   hearing test   \n",
       "12  24                                       eye test   \n",
       "13  25                     physical activity measures   \n",
       "14  26                             abdominal measures   \n",
       "15  30                                   blood assays   \n",
       "16  31                                     brain IDPs   \n",
       "17  32                           cognitive phenotypes   \n",
       "18  50    health and medical history, health outcomes   \n",
       "19  51                      mental health self-report   \n",
       "20  60                                   health dates   \n",
       "21  70                                 health sources   \n",
       "22  98                                        pending   \n",
       "23  99                                  miscellaneous   \n",
       "\n",
       "                                            Variables  \n",
       "0                             31,34,21022,22200,25780  \n",
       "1     21000,22000:22125,22201:22325,22182,22800:22823  \n",
       "2   52,129,130,1677,1687,1697,1737,1767,1777,1787,...  \n",
       "3   3:6,132,189,670,680,699,709,728,738,767,777,10...  \n",
       "4   1001,1011,796,806,816,826,845,864,874,884,894,...  \n",
       "5   1289:10:1389,1408:10:1548,2654,3089,3680,6144,...  \n",
       "6   1558:10:1628,2664,3731,3859,4407,4418,4429,444...  \n",
       "7   1239:10:1279,2644,2867:10:2907,2926,2936,3159,...  \n",
       "8   46:51,1707,1717,1727,1747,1757,2306,3059,3062:...  \n",
       "9   77,78,3083:3086,3143:3144,3146:3148,4092,4095,...  \n",
       "10  93:95,102,4079,4080,4136,4194:4196,4198:4200,4...  \n",
       "11  4229:4230,4232:4237,4239:4247,4249,4268:4270,4...  \n",
       "12  5076:5079,5082:5091,5096:5119,5132:5136,5138:5...  \n",
       "13  5985,90002:90003,90010:90013,90015:90177,90179...  \n",
       "14                                        22415:22416  \n",
       "15  74,23000:23044,23049:23060,23062,23063,23065:2...  \n",
       "16  25000:25746,25754:25759,25761:25768,25781:2592...  \n",
       "17  62,111,396:404,630,4250:4256,4258:4260,4281:42...  \n",
       "18  84,87,92,134:137,2178,2188,2207,2217,2227,2247...  \n",
       "19  1920:10:2110,4526,4537,4548,4559,4570,4581,459...  \n",
       "20  41257,41260,41262,41263,41268,41280:41283,4201...  \n",
       "21  42015,42017,130005,130009,130015:2:130019,1300...  \n",
       "22                      41259,41261,41264,42038:42040  \n",
       "23  19,21,35:45,53:55,68,96,120,200,393,757,1647,2...  "
      ]
     },
     "execution_count": 6,
     "metadata": {},
     "output_type": "execute_result"
    }
   ],
   "source": [
    "df"
   ]
  },
  {
   "cell_type": "code",
   "execution_count": 24,
   "id": "committed-reaction",
   "metadata": {},
   "outputs": [
    {
     "data": {
      "text/plain": [
       "'25000:25746,25754:25759,25761:25768,25781:25920,26500:26514,26517:26518,26520:27772'"
      ]
     },
     "execution_count": 24,
     "metadata": {},
     "output_type": "execute_result"
    }
   ],
   "source": [
    "df[df['ID']==31]['Variables'].values[0]"
   ]
  },
  {
   "cell_type": "code",
   "execution_count": null,
   "id": "first-preview",
   "metadata": {},
   "outputs": [],
   "source": []
  },
  {
   "cell_type": "code",
   "execution_count": 26,
   "id": "contrary-ivory",
   "metadata": {},
   "outputs": [
    {
     "ename": "SyntaxError",
     "evalue": "invalid syntax (<ipython-input-26-839acb3a7124>, line 1)",
     "output_type": "error",
     "traceback": [
      "\u001b[0;36m  File \u001b[0;32m\"<ipython-input-26-839acb3a7124>\"\u001b[0;36m, line \u001b[0;32m1\u001b[0m\n\u001b[0;31m    np.array([25000:25746,25754:25759,25761:25768,25781:25920,26500:26514,26517:26518,26520:27772])\u001b[0m\n\u001b[0m                   ^\u001b[0m\n\u001b[0;31mSyntaxError\u001b[0m\u001b[0;31m:\u001b[0m invalid syntax\n"
     ]
    }
   ],
   "source": [
    "np.array([25000:25746,25754:25759,25761:25768,25781:25920,26500:26514,26517:26518,26520:27772])"
   ]
  },
  {
   "cell_type": "code",
   "execution_count": 7,
   "id": "statutory-closing",
   "metadata": {},
   "outputs": [],
   "source": [
    "dfp = pd.read_csv(os.path.join(cfg_dir, 'datacodings_navalues.tsv'), sep='\\t')"
   ]
  },
  {
   "cell_type": "code",
   "execution_count": 8,
   "id": "configured-paste",
   "metadata": {},
   "outputs": [
    {
     "data": {
      "text/html": [
       "<div>\n",
       "<style scoped>\n",
       "    .dataframe tbody tr th:only-of-type {\n",
       "        vertical-align: middle;\n",
       "    }\n",
       "\n",
       "    .dataframe tbody tr th {\n",
       "        vertical-align: top;\n",
       "    }\n",
       "\n",
       "    .dataframe thead th {\n",
       "        text-align: right;\n",
       "    }\n",
       "</style>\n",
       "<table border=\"1\" class=\"dataframe\">\n",
       "  <thead>\n",
       "    <tr style=\"text-align: right;\">\n",
       "      <th></th>\n",
       "      <th>ID</th>\n",
       "      <th>NAValues</th>\n",
       "    </tr>\n",
       "  </thead>\n",
       "  <tbody>\n",
       "    <tr>\n",
       "      <th>0</th>\n",
       "      <td>13</td>\n",
       "      <td>-1,-3</td>\n",
       "    </tr>\n",
       "    <tr>\n",
       "      <th>1</th>\n",
       "      <td>14</td>\n",
       "      <td>-1,-3</td>\n",
       "    </tr>\n",
       "    <tr>\n",
       "      <th>2</th>\n",
       "      <td>37</td>\n",
       "      <td>-1,-3</td>\n",
       "    </tr>\n",
       "    <tr>\n",
       "      <th>3</th>\n",
       "      <td>90</td>\n",
       "      <td>-3</td>\n",
       "    </tr>\n",
       "    <tr>\n",
       "      <th>4</th>\n",
       "      <td>101</td>\n",
       "      <td>-1</td>\n",
       "    </tr>\n",
       "    <tr>\n",
       "      <th>...</th>\n",
       "      <td>...</td>\n",
       "      <td>...</td>\n",
       "    </tr>\n",
       "    <tr>\n",
       "      <th>179</th>\n",
       "      <td>100690</td>\n",
       "      <td>-3</td>\n",
       "    </tr>\n",
       "    <tr>\n",
       "      <th>180</th>\n",
       "      <td>100691</td>\n",
       "      <td>-3</td>\n",
       "    </tr>\n",
       "    <tr>\n",
       "      <th>181</th>\n",
       "      <td>100692</td>\n",
       "      <td>-3</td>\n",
       "    </tr>\n",
       "    <tr>\n",
       "      <th>182</th>\n",
       "      <td>100698</td>\n",
       "      <td>-313</td>\n",
       "    </tr>\n",
       "    <tr>\n",
       "      <th>183</th>\n",
       "      <td>100699</td>\n",
       "      <td>1,99</td>\n",
       "    </tr>\n",
       "  </tbody>\n",
       "</table>\n",
       "<p>184 rows × 2 columns</p>\n",
       "</div>"
      ],
      "text/plain": [
       "         ID NAValues\n",
       "0        13    -1,-3\n",
       "1        14    -1,-3\n",
       "2        37    -1,-3\n",
       "3        90       -3\n",
       "4       101       -1\n",
       "..      ...      ...\n",
       "179  100690       -3\n",
       "180  100691       -3\n",
       "181  100692       -3\n",
       "182  100698     -313\n",
       "183  100699     1,99\n",
       "\n",
       "[184 rows x 2 columns]"
      ]
     },
     "execution_count": 8,
     "metadata": {},
     "output_type": "execute_result"
    }
   ],
   "source": [
    "dfp"
   ]
  },
  {
   "cell_type": "markdown",
   "id": "utility-desktop",
   "metadata": {},
   "source": [
    "#### testing subj data"
   ]
  },
  {
   "cell_type": "markdown",
   "id": "broke-assistant",
   "metadata": {},
   "source": [
    "* 0 - initial assessment visit (2006-10), recruited and consent, 8840 people\n",
    "* 1 - first repeat assessment visit (2012-13), 218 people\n",
    "* 2 - imaging visit (2014+), 462 people\n",
    "* 3 - first repeat imaging visit (2019+) "
   ]
  },
  {
   "cell_type": "code",
   "execution_count": 32,
   "id": "ordinary-ending",
   "metadata": {},
   "outputs": [],
   "source": [
    "# original data from paul's original slice\n",
    "tsv_cond = os.path.join('..', 'funpack_cfg', 'subj_with_condition_with_clinical_variables.tsv')"
   ]
  },
  {
   "cell_type": "code",
   "execution_count": 16,
   "id": "focused-mason",
   "metadata": {},
   "outputs": [],
   "source": [
    "# extended to more pain\n",
    "tsv_cond = os.path.join('..', 'funpack_cfg', 'subjs_with_condition_extended.tsv')"
   ]
  },
  {
   "cell_type": "code",
   "execution_count": 2,
   "id": "electronic-military",
   "metadata": {},
   "outputs": [],
   "source": [
    "# extended to more pain\n",
    "tsv_cond = os.path.join('..', 'funpack_cfg', 'questions_subjs_disease_allvisits_extended.tsv')"
   ]
  },
  {
   "cell_type": "code",
   "execution_count": 3,
   "id": "inappropriate-submission",
   "metadata": {},
   "outputs": [
    {
     "name": "stderr",
     "output_type": "stream",
     "text": [
      "/home/fs0/syzhang/.conda/envs/biobank/lib/python3.9/site-packages/IPython/core/interactiveshell.py:3165: DtypeWarning: Columns (654,655,656,657,658,659,660,684,685,686,687,688,689,690,691,692,693,694,695,696,697,698,699,700,701,702,703,704,705,706,740,741,742,743,744,747,750,782,785,786,787,788,789,790,791,792,793,794,795,796,797,798,799,800,801,802,803,804,805,806,807,808,809,810,811,812,813,814,815,816,817,818,819,820,821,822,823,824,825,826,827,828,829,830,831,832,833,834,835,836,837,838,839,840,841,842,843,844,845,846,952,953,954,955,956,957,958,959,960,992,993,994,995,996,997,998,999,1000,1001,1002,1003,1004,1005,1006,1007,1008,1009,1010,1011,1012,1013,1014,1050,1051,1052,1053,1054,1055,1056,1057,1058,1104,1105,1106,1107,1108,1109,1110,1111,1112,1113,1114,1115,1116,1117,1118,1119,1120,1121,1122,1123,1124,1125,1126,1127,1128,1129,1130,1131,1132,1133,1134,1135,1136,1137,1138,1139,1140,1141,1142,1143,1144,1145,1146,1147,1148,1149,1150,1151,1152,1153,1154,1155,1156,1157,1158,1159,1160,1161,1162,1163,1164,1165,1166,1167,1168,1169,1170,1171,1172,1173,1174,1175,1176,1177,1178,1289,1290,1291,1292,1293,1294,1295,1296,1297,1298,1299,1300,1301,1364,1365,1366,1367,1368,1369,1370,1371,1372,1373,1374,1375,1376,1377,1378,1379,1380,1381,1382,1383,1384,1385,1386,1387,1388,1389,1390,1391,1392,1393,1394,1395,1396,1397,1398,1399,1400,1401,1402,1403,1404,1405,1406,1407,1408,1409,1410,1411,1412,1413,1414,1415,1416,1417,1418,1419,1420,1421,1422,1423,1424,1425,1426,1427,1428,1429,1430,1431,1432,1433,1434,1435,1436,1437,1438,1551,1552,1553,1554,1555,1556,1557,1558,1559,1560,1561,1790,1794) have mixed types.Specify dtype option on import or set low_memory=False.\n",
      "  has_raised = await self.run_ast_nodes(code_ast.body, cell_name,\n"
     ]
    }
   ],
   "source": [
    "df_cond = pd.read_csv(tsv_cond, sep='\\t')"
   ]
  },
  {
   "cell_type": "code",
   "execution_count": 4,
   "id": "pharmaceutical-institution",
   "metadata": {},
   "outputs": [
    {
     "data": {
      "text/plain": [
       "(9116, 2413)"
      ]
     },
     "execution_count": 4,
     "metadata": {},
     "output_type": "execute_result"
    }
   ],
   "source": [
    "df_cond.shape"
   ]
  },
  {
   "cell_type": "code",
   "execution_count": 5,
   "id": "touched-native",
   "metadata": {
    "tags": []
   },
   "outputs": [
    {
     "data": {
      "text/html": [
       "<div>\n",
       "<style scoped>\n",
       "    .dataframe tbody tr th:only-of-type {\n",
       "        vertical-align: middle;\n",
       "    }\n",
       "\n",
       "    .dataframe tbody tr th {\n",
       "        vertical-align: top;\n",
       "    }\n",
       "\n",
       "    .dataframe thead th {\n",
       "        text-align: right;\n",
       "    }\n",
       "</style>\n",
       "<table border=\"1\" class=\"dataframe\">\n",
       "  <thead>\n",
       "    <tr style=\"text-align: right;\">\n",
       "      <th></th>\n",
       "      <th>eid</th>\n",
       "      <th>25010-2.0</th>\n",
       "      <th>25010-3.0</th>\n",
       "      <th>20002-0.0</th>\n",
       "      <th>20002-0.1</th>\n",
       "      <th>20002-0.2</th>\n",
       "      <th>20002-0.3</th>\n",
       "      <th>20002-0.4</th>\n",
       "      <th>20002-0.5</th>\n",
       "      <th>20002-0.6</th>\n",
       "      <th>...</th>\n",
       "      <th>20155-0.21</th>\n",
       "      <th>20155-0.22</th>\n",
       "      <th>20155-0.23</th>\n",
       "      <th>20155-0.24</th>\n",
       "      <th>20155-0.25</th>\n",
       "      <th>20156-0.0</th>\n",
       "      <th>20157-0.0</th>\n",
       "      <th>20246-0.0</th>\n",
       "      <th>20247-0.0</th>\n",
       "      <th>20248-0.0</th>\n",
       "    </tr>\n",
       "  </thead>\n",
       "  <tbody>\n",
       "    <tr>\n",
       "      <th>0</th>\n",
       "      <td>1001416</td>\n",
       "      <td>1142620.0</td>\n",
       "      <td>NaN</td>\n",
       "      <td>1154.0</td>\n",
       "      <td>NaN</td>\n",
       "      <td>NaN</td>\n",
       "      <td>NaN</td>\n",
       "      <td>NaN</td>\n",
       "      <td>NaN</td>\n",
       "      <td>NaN</td>\n",
       "      <td>...</td>\n",
       "      <td>NaN</td>\n",
       "      <td>NaN</td>\n",
       "      <td>NaN</td>\n",
       "      <td>NaN</td>\n",
       "      <td>NaN</td>\n",
       "      <td>NaN</td>\n",
       "      <td>NaN</td>\n",
       "      <td>NaN</td>\n",
       "      <td>NaN</td>\n",
       "      <td>NaN</td>\n",
       "    </tr>\n",
       "    <tr>\n",
       "      <th>1</th>\n",
       "      <td>1002910</td>\n",
       "      <td>1186410.0</td>\n",
       "      <td>NaN</td>\n",
       "      <td>1065.0</td>\n",
       "      <td>1154.0</td>\n",
       "      <td>99999.0</td>\n",
       "      <td>NaN</td>\n",
       "      <td>NaN</td>\n",
       "      <td>NaN</td>\n",
       "      <td>NaN</td>\n",
       "      <td>...</td>\n",
       "      <td>NaN</td>\n",
       "      <td>NaN</td>\n",
       "      <td>NaN</td>\n",
       "      <td>NaN</td>\n",
       "      <td>NaN</td>\n",
       "      <td>NaN</td>\n",
       "      <td>NaN</td>\n",
       "      <td>NaN</td>\n",
       "      <td>NaN</td>\n",
       "      <td>NaN</td>\n",
       "    </tr>\n",
       "    <tr>\n",
       "      <th>2</th>\n",
       "      <td>1003609</td>\n",
       "      <td>1050590.0</td>\n",
       "      <td>NaN</td>\n",
       "      <td>1154.0</td>\n",
       "      <td>1309.0</td>\n",
       "      <td>NaN</td>\n",
       "      <td>NaN</td>\n",
       "      <td>NaN</td>\n",
       "      <td>NaN</td>\n",
       "      <td>NaN</td>\n",
       "      <td>...</td>\n",
       "      <td>NaN</td>\n",
       "      <td>NaN</td>\n",
       "      <td>NaN</td>\n",
       "      <td>NaN</td>\n",
       "      <td>NaN</td>\n",
       "      <td>NaN</td>\n",
       "      <td>NaN</td>\n",
       "      <td>NaN</td>\n",
       "      <td>NaN</td>\n",
       "      <td>NaN</td>\n",
       "    </tr>\n",
       "    <tr>\n",
       "      <th>3</th>\n",
       "      <td>1003799</td>\n",
       "      <td>1153910.0</td>\n",
       "      <td>NaN</td>\n",
       "      <td>1111.0</td>\n",
       "      <td>1396.0</td>\n",
       "      <td>1154.0</td>\n",
       "      <td>NaN</td>\n",
       "      <td>NaN</td>\n",
       "      <td>NaN</td>\n",
       "      <td>NaN</td>\n",
       "      <td>...</td>\n",
       "      <td>NaN</td>\n",
       "      <td>NaN</td>\n",
       "      <td>NaN</td>\n",
       "      <td>NaN</td>\n",
       "      <td>NaN</td>\n",
       "      <td>NaN</td>\n",
       "      <td>NaN</td>\n",
       "      <td>NaN</td>\n",
       "      <td>NaN</td>\n",
       "      <td>NaN</td>\n",
       "    </tr>\n",
       "    <tr>\n",
       "      <th>4</th>\n",
       "      <td>1010078</td>\n",
       "      <td>1348740.0</td>\n",
       "      <td>NaN</td>\n",
       "      <td>1516.0</td>\n",
       "      <td>1387.0</td>\n",
       "      <td>NaN</td>\n",
       "      <td>NaN</td>\n",
       "      <td>NaN</td>\n",
       "      <td>NaN</td>\n",
       "      <td>NaN</td>\n",
       "      <td>...</td>\n",
       "      <td>NaN</td>\n",
       "      <td>NaN</td>\n",
       "      <td>NaN</td>\n",
       "      <td>NaN</td>\n",
       "      <td>NaN</td>\n",
       "      <td>NaN</td>\n",
       "      <td>NaN</td>\n",
       "      <td>NaN</td>\n",
       "      <td>NaN</td>\n",
       "      <td>NaN</td>\n",
       "    </tr>\n",
       "  </tbody>\n",
       "</table>\n",
       "<p>5 rows × 2413 columns</p>\n",
       "</div>"
      ],
      "text/plain": [
       "       eid  25010-2.0  25010-3.0  20002-0.0  20002-0.1  20002-0.2  20002-0.3  \\\n",
       "0  1001416  1142620.0        NaN     1154.0        NaN        NaN        NaN   \n",
       "1  1002910  1186410.0        NaN     1065.0     1154.0    99999.0        NaN   \n",
       "2  1003609  1050590.0        NaN     1154.0     1309.0        NaN        NaN   \n",
       "3  1003799  1153910.0        NaN     1111.0     1396.0     1154.0        NaN   \n",
       "4  1010078  1348740.0        NaN     1516.0     1387.0        NaN        NaN   \n",
       "\n",
       "   20002-0.4  20002-0.5  20002-0.6  ...  20155-0.21  20155-0.22  20155-0.23  \\\n",
       "0        NaN        NaN        NaN  ...         NaN         NaN         NaN   \n",
       "1        NaN        NaN        NaN  ...         NaN         NaN         NaN   \n",
       "2        NaN        NaN        NaN  ...         NaN         NaN         NaN   \n",
       "3        NaN        NaN        NaN  ...         NaN         NaN         NaN   \n",
       "4        NaN        NaN        NaN  ...         NaN         NaN         NaN   \n",
       "\n",
       "   20155-0.24  20155-0.25  20156-0.0  20157-0.0  20246-0.0  20247-0.0  \\\n",
       "0         NaN         NaN        NaN        NaN        NaN        NaN   \n",
       "1         NaN         NaN        NaN        NaN        NaN        NaN   \n",
       "2         NaN         NaN        NaN        NaN        NaN        NaN   \n",
       "3         NaN         NaN        NaN        NaN        NaN        NaN   \n",
       "4         NaN         NaN        NaN        NaN        NaN        NaN   \n",
       "\n",
       "   20248-0.0  \n",
       "0        NaN  \n",
       "1        NaN  \n",
       "2        NaN  \n",
       "3        NaN  \n",
       "4        NaN  \n",
       "\n",
       "[5 rows x 2413 columns]"
      ]
     },
     "execution_count": 5,
     "metadata": {},
     "output_type": "execute_result"
    }
   ],
   "source": [
    "df_cond.head()"
   ]
  },
  {
   "cell_type": "markdown",
   "id": "smooth-calgary",
   "metadata": {},
   "source": [
    "#### check questionnaire data"
   ]
  },
  {
   "cell_type": "code",
   "execution_count": null,
   "id": "radical-veteran",
   "metadata": {},
   "outputs": [],
   "source": [
    "df_cond['20414-0.0'].value_counts()"
   ]
  },
  {
   "cell_type": "code",
   "execution_count": 10,
   "id": "significant-gilbert",
   "metadata": {},
   "outputs": [
    {
     "data": {
      "text/plain": [
       "1608"
      ]
     },
     "execution_count": 10,
     "metadata": {},
     "output_type": "execute_result"
    }
   ],
   "source": [
    "sum(df_cond['3799-0.0value_counts"
   ]
  },
  {
   "cell_type": "code",
   "execution_count": 12,
   "id": "controversial-launch",
   "metadata": {},
   "outputs": [
    {
     "data": {
      "text/plain": [
       "107"
      ]
     },
     "execution_count": 12,
     "metadata": {},
     "output_type": "execute_result"
    }
   ],
   "source": [
    "sum(df_cond['4067-2.0']==1)"
   ]
  },
  {
   "cell_type": "code",
   "execution_count": 13,
   "id": "imperial-brisbane",
   "metadata": {},
   "outputs": [
    {
     "data": {
      "text/plain": [
       "1450"
      ]
     },
     "execution_count": 13,
     "metadata": {},
     "output_type": "execute_result"
    }
   ],
   "source": [
    "sum(df_cond['3404-2.0']==1)"
   ]
  },
  {
   "cell_type": "code",
   "execution_count": 14,
   "id": "emerging-classroom",
   "metadata": {},
   "outputs": [
    {
     "data": {
      "text/plain": [
       "1550"
      ]
     },
     "execution_count": 14,
     "metadata": {},
     "output_type": "execute_result"
    }
   ],
   "source": [
    "sum(df_cond['3571-2.0']==1)"
   ]
  },
  {
   "cell_type": "code",
   "execution_count": 15,
   "id": "wrapped-spanish",
   "metadata": {},
   "outputs": [
    {
     "data": {
      "text/plain": [
       "471"
      ]
     },
     "execution_count": 15,
     "metadata": {},
     "output_type": "execute_result"
    }
   ],
   "source": [
    "sum(df_cond['3741-2.0']==1)"
   ]
  },
  {
   "cell_type": "code",
   "execution_count": 16,
   "id": "dedicated-chase",
   "metadata": {},
   "outputs": [
    {
     "data": {
      "text/plain": [
       "1165"
      ]
     },
     "execution_count": 16,
     "metadata": {},
     "output_type": "execute_result"
    }
   ],
   "source": [
    "sum(df_cond['3414-2.0']==1)"
   ]
  },
  {
   "cell_type": "code",
   "execution_count": 17,
   "id": "alien-asthma",
   "metadata": {},
   "outputs": [
    {
     "data": {
      "text/plain": [
       "2106"
      ]
     },
     "execution_count": 17,
     "metadata": {},
     "output_type": "execute_result"
    }
   ],
   "source": [
    "sum(df_cond['3773-2.0']==1)"
   ]
  },
  {
   "cell_type": "markdown",
   "id": "governmental-cricket",
   "metadata": {},
   "source": [
    "#### check missing pain in each visit"
   ]
  },
  {
   "cell_type": "code",
   "execution_count": 6,
   "id": "selected-hollow",
   "metadata": {},
   "outputs": [
    {
     "data": {
      "text/plain": [
       "8"
      ]
     },
     "execution_count": 6,
     "metadata": {},
     "output_type": "execute_result"
    }
   ],
   "source": [
    "np.sum(np.isnan(df_cond['6159-0.0']))"
   ]
  },
  {
   "cell_type": "code",
   "execution_count": 7,
   "id": "trained-benefit",
   "metadata": {},
   "outputs": [
    {
     "data": {
      "text/plain": [
       "array([-7., -3.,  1.,  2.,  3.,  4.,  5.,  6.,  7.,  8., nan, nan, nan,\n",
       "       nan, nan, nan, nan, nan])"
      ]
     },
     "execution_count": 7,
     "metadata": {},
     "output_type": "execute_result"
    }
   ],
   "source": [
    "np.unique(df_cond['6159-0.0'])"
   ]
  },
  {
   "cell_type": "code",
   "execution_count": 7,
   "id": "sporting-grade",
   "metadata": {},
   "outputs": [
    {
     "data": {
      "text/plain": [
       "6362"
      ]
     },
     "execution_count": 7,
     "metadata": {},
     "output_type": "execute_result"
    }
   ],
   "source": [
    "np.sum(np.isnan(df_cond['6159-1.0']))"
   ]
  },
  {
   "cell_type": "code",
   "execution_count": 8,
   "id": "julian-phenomenon",
   "metadata": {},
   "outputs": [
    {
     "data": {
      "text/plain": [
       "59"
      ]
     },
     "execution_count": 8,
     "metadata": {},
     "output_type": "execute_result"
    }
   ],
   "source": [
    "np.sum(np.isnan(df_cond['6159-2.0']))"
   ]
  },
  {
   "cell_type": "code",
   "execution_count": 9,
   "id": "innocent-distributor",
   "metadata": {},
   "outputs": [
    {
     "data": {
      "text/plain": [
       "7625"
      ]
     },
     "execution_count": 9,
     "metadata": {},
     "output_type": "execute_result"
    }
   ],
   "source": [
    "np.sum(np.isnan(df_cond['6159-3.0']))"
   ]
  },
  {
   "cell_type": "code",
   "execution_count": 10,
   "id": "unexpected-reconstruction",
   "metadata": {},
   "outputs": [],
   "source": [
    "p_cols = [col for col in df_cond.columns if '41208' in col]"
   ]
  },
  {
   "cell_type": "code",
   "execution_count": 11,
   "id": "royal-acrylic",
   "metadata": {},
   "outputs": [
    {
     "data": {
      "text/plain": [
       "[]"
      ]
     },
     "execution_count": 11,
     "metadata": {},
     "output_type": "execute_result"
    }
   ],
   "source": [
    "p_cols"
   ]
  },
  {
   "cell_type": "markdown",
   "id": "several-smooth",
   "metadata": {},
   "source": [
    "#### check pain types"
   ]
  },
  {
   "cell_type": "code",
   "execution_count": 6,
   "id": "regional-adams",
   "metadata": {},
   "outputs": [],
   "source": [
    "cols = df_cond.columns"
   ]
  },
  {
   "cell_type": "code",
   "execution_count": 6,
   "id": "filled-feeding",
   "metadata": {},
   "outputs": [],
   "source": [
    "all_vars = []\n",
    "for c in cols:\n",
    "    all_vars.append(c.split('-')[0])"
   ]
  },
  {
   "cell_type": "code",
   "execution_count": 7,
   "id": "spectacular-sally",
   "metadata": {},
   "outputs": [],
   "source": [
    "unique_vars = np.unique(all_vars)"
   ]
  },
  {
   "cell_type": "code",
   "execution_count": 8,
   "id": "distributed-north",
   "metadata": {},
   "outputs": [
    {
     "data": {
      "text/plain": [
       "1022"
      ]
     },
     "execution_count": 8,
     "metadata": {},
     "output_type": "execute_result"
    }
   ],
   "source": [
    "len(unique_vars)"
   ]
  },
  {
   "cell_type": "code",
   "execution_count": 85,
   "id": "patent-lodging",
   "metadata": {},
   "outputs": [],
   "source": [
    "pain_types = {\n",
    "    'back pain': 3571, \n",
    "    'facial pain': 4067,\n",
    "    'general pain': 2956,\n",
    "    'headache': 3799,\n",
    "    'hip pain': 3414,\n",
    "    'knee pain': 3773,\n",
    "    'neck/shoulder pain': 3404,\n",
    "    'stomach pain': 3741\n",
    "}"
   ]
  },
  {
   "cell_type": "code",
   "execution_count": 10,
   "id": "induced-occurrence",
   "metadata": {},
   "outputs": [
    {
     "data": {
      "text/plain": [
       "dict_values([3571, 4067, 2956, 3799, 3414, 3773, 3404, 3741])"
      ]
     },
     "execution_count": 10,
     "metadata": {},
     "output_type": "execute_result"
    }
   ],
   "source": [
    "pain_types.values()"
   ]
  },
  {
   "cell_type": "code",
   "execution_count": 86,
   "id": "nominated-simulation",
   "metadata": {},
   "outputs": [],
   "source": [
    "def extract_pain(df, pain_code, visit=None):\n",
    "    \"\"\"extract pain type into df\"\"\"\n",
    "    # slice columns\n",
    "    if type(pain_code) is list:\n",
    "        p_cols = []\n",
    "        for code in pain_code:\n",
    "            p_cols += [col for col in df.columns if str(code) in col]\n",
    "    else:\n",
    "        p_cols = [col for col in df.columns if str(pain_code) in col]\n",
    "    # slice particular visit\n",
    "    if visit is not None:\n",
    "        p_cols = [col for col in p_cols if '-'+str(visit) in col]\n",
    "    # extract pain df\n",
    "    df_pain = pd.concat([df_cond['eid'], df[p_cols]], axis=1)\n",
    "    df_pain.set_index('eid', inplace=True)\n",
    "    # replace nans\n",
    "    df_pain.replace([-1.,-3.], np.nan, inplace=True)\n",
    "    return df_pain"
   ]
  },
  {
   "cell_type": "code",
   "execution_count": 130,
   "id": "stone-converter",
   "metadata": {
    "tags": []
   },
   "outputs": [
    {
     "data": {
      "image/png": "[encoded data removed]",
      "text/plain": [
       "<Figure size 1080x216 with 8 Axes>"
      ]
     },
     "metadata": {
      "needs_background": "light"
     },
     "output_type": "display_data"
    }
   ],
   "source": [
    "# check data count\n",
    "f, axes = plt.subplots(1,len(pain_types), figsize=(15, 3), sharey=True)\n",
    "c = 0\n",
    "for k, v in pain_types.items():\n",
    "    df_tmp = extract_pain(df_cond, v)\n",
    "    df_tmp.replace(0.0, np.nan, inplace=True) # keep pain only\n",
    "    g = sns.countplot(data=df_tmp, ax=axes[c])\n",
    "    axes[c].set_title(k)\n",
    "    axes[c].set_xticklabels(['1','2','3','4'])\n",
    "    c += 1"
   ]
  },
  {
   "cell_type": "code",
   "execution_count": 132,
   "id": "spanish-ribbon",
   "metadata": {
    "tags": []
   },
   "outputs": [
    {
     "name": "stdout",
     "output_type": "stream",
     "text": [
      "back pain 4\n",
      "facial pain 0\n",
      "general pain 1\n",
      "headache 8\n",
      "hip pain 0\n",
      "knee pain 3\n",
      "neck/shoulder pain 5\n",
      "stomach pain 0\n",
      "21\n"
     ]
    }
   ],
   "source": [
    "# check data count\n",
    "tt = 0\n",
    "for k, v in pain_types.items():\n",
    "    df_tmp = extract_pain(df_cond, v)\n",
    "    df_tmp.replace(0.0, np.nan, inplace=True) # keep pain only\n",
    "    df_tmp.dropna(inplace=True)\n",
    "    print(k, df_tmp.shape[0])\n",
    "    tt += df_tmp.shape[0]\n",
    "print(tt)"
   ]
  },
  {
   "cell_type": "code",
   "execution_count": 136,
   "id": "floating-michigan",
   "metadata": {
    "tags": []
   },
   "outputs": [
    {
     "name": "stdout",
     "output_type": "stream",
     "text": [
      "back pain 1708\n",
      "facial pain 139\n",
      "general pain 268\n",
      "headache 1608\n",
      "hip pain 908\n",
      "knee pain 1878\n",
      "neck/shoulder pain 1786\n",
      "stomach pain 643\n",
      "8938\n"
     ]
    }
   ],
   "source": [
    "# check data count\n",
    "tt = 0\n",
    "for k, v in pain_types.items():\n",
    "    df_tmp = extract_pain(df_cond, v)\n",
    "    df_tmp.replace(0.0, np.nan, inplace=True) # keep pain only\n",
    "    df_tmp.dropna(inplace=True, subset=[df_tmp.columns[0]])\n",
    "    print(k, df_tmp.shape[0])\n",
    "    tt += df_tmp.shape[0]\n",
    "print(tt)"
   ]
  },
  {
   "cell_type": "code",
   "execution_count": 156,
   "id": "iraqi-tutorial",
   "metadata": {},
   "outputs": [
    {
     "data": {
      "text/plain": [
       "(8331, 8)"
      ]
     },
     "execution_count": 156,
     "metadata": {},
     "output_type": "execute_result"
    }
   ],
   "source": [
    "# check people with multiple pain\n",
    "df_tmp = extract_pain(df_cond, list(pain_types.values()), visit=1)\n",
    "df_tmp.shape"
   ]
  },
  {
   "cell_type": "code",
   "execution_count": 161,
   "id": "compressed-annotation",
   "metadata": {},
   "outputs": [],
   "source": [
    "# multiple pain subjects\n",
    "mp_sj = []\n",
    "for i, row in df_tmp.iterrows():\n",
    "    if np.nansum(row.values)>2:\n",
    "        mp_sj.append(i)"
   ]
  },
  {
   "cell_type": "code",
   "execution_count": 162,
   "id": "judicial-closure",
   "metadata": {},
   "outputs": [
    {
     "data": {
      "text/plain": [
       "190"
      ]
     },
     "execution_count": 162,
     "metadata": {},
     "output_type": "execute_result"
    }
   ],
   "source": [
    "len(mp_sj)"
   ]
  },
  {
   "cell_type": "code",
   "execution_count": 187,
   "id": "accepted-belgium",
   "metadata": {},
   "outputs": [
    {
     "name": "stdout",
     "output_type": "stream",
     "text": [
      "back pain 753\n",
      "facial pain 31\n",
      "general pain 79\n",
      "headache 644\n",
      "hip pain 354\n",
      "knee pain 926\n",
      "neck/shoulder pain 654\n",
      "stomach pain 163\n",
      "3604\n"
     ]
    }
   ],
   "source": [
    "# check people more than 1 observations\n",
    "slice1 = 0\n",
    "slice2 = 2\n",
    "cc = 0\n",
    "for k, v in pain_types.items():\n",
    "    df1 = extract_pain(df_cond, v, visit=slice1)\n",
    "    df3 = extract_pain(df_cond, v, visit=slice2)\n",
    "    df1.replace(0.0, np.nan, inplace=True) # keep pain only\n",
    "    df3.replace(0.0, np.nan, inplace=True) # keep pain only\n",
    "\n",
    "    same_idx = df1.values==df3.values\n",
    "    print(k, df1[same_idx].shape[0])\n",
    "    cc += df1[same_idx].shape[0]\n",
    "print(cc)"
   ]
  },
  {
   "cell_type": "code",
   "execution_count": 164,
   "id": "heard-mother",
   "metadata": {},
   "outputs": [
    {
     "data": {
      "text/plain": [
       "(8331, 8)"
      ]
     },
     "execution_count": 164,
     "metadata": {},
     "output_type": "execute_result"
    }
   ],
   "source": [
    "# check people with multiple pain\n",
    "df2 = extract_pain(df_cond, list(pain_types.values()), visit=2)\n",
    "df2.shape"
   ]
  },
  {
   "cell_type": "markdown",
   "id": "western-carolina",
   "metadata": {},
   "source": [
    "#### check disease "
   ]
  },
  {
   "cell_type": "code",
   "execution_count": 12,
   "id": "sorted-brick",
   "metadata": {},
   "outputs": [],
   "source": [
    "def extract_disease(df, disease_code, visit=None):\n",
    "    \"\"\"extract disease type into df\"\"\"\n",
    "    # slice reported disease\n",
    "    df_d = df[[col for col in df.columns if str(20002) in col]]\n",
    "    df_d = pd.concat([df['eid'], df_d], axis=1)\n",
    "    # slice particular visit\n",
    "    df_dvd = pd.DataFrame()\n",
    "    df_dvd['eid'] = df_d['eid']\n",
    "    if visit is not None:\n",
    "        for visit in range(4):\n",
    "            p_cols = [col for col in df_d.columns if '-'+str(visit) in col]\n",
    "            # extract visit df\n",
    "            df_dv = pd.concat([df_d['eid'], df_d[p_cols]], axis=1)\n",
    "            df_dv.set_index('eid', inplace=True)\n",
    "            # find matching disease\n",
    "            disease_tag = []\n",
    "            for i, r in df_dv.iterrows():\n",
    "                if float(disease_code) in r.values:\n",
    "                    disease_tag.append(1)\n",
    "                else:\n",
    "                    disease_tag.append(0)\n",
    "            df_dvd[str(disease_code)+'-'+str(visit)] = disease_tag\n",
    "        df_dvd.set_index('eid', inplace=True)\n",
    "\n",
    "    return df_dvd"
   ]
  },
  {
   "cell_type": "code",
   "execution_count": 13,
   "id": "beginning-pollution",
   "metadata": {},
   "outputs": [],
   "source": [
    "dfd = extract_disease(df_cond, 1154, visit=0)"
   ]
  },
  {
   "cell_type": "code",
   "execution_count": 14,
   "id": "adopted-continuity",
   "metadata": {},
   "outputs": [
    {
     "data": {
      "text/plain": [
       "(8331, 4)"
      ]
     },
     "execution_count": 14,
     "metadata": {},
     "output_type": "execute_result"
    }
   ],
   "source": [
    "dfd.shape"
   ]
  },
  {
   "cell_type": "code",
   "execution_count": 15,
   "id": "offensive-optics",
   "metadata": {},
   "outputs": [
    {
     "data": {
      "text/plain": [
       "Index(['1154-0', '1154-1', '1154-2', '1154-3'], dtype='object')"
      ]
     },
     "execution_count": 15,
     "metadata": {},
     "output_type": "execute_result"
    }
   ],
   "source": [
    "dfd.columns"
   ]
  },
  {
   "cell_type": "code",
   "execution_count": 37,
   "id": "premier-hammer",
   "metadata": {},
   "outputs": [],
   "source": [
    "df_disease = pd.read_csv('./bbk_codes/disease_code.csv' )"
   ]
  },
  {
   "cell_type": "code",
   "execution_count": 38,
   "id": "entire-default",
   "metadata": {},
   "outputs": [
    {
     "data": {
      "text/html": [
       "<div>\n",
       "<style scoped>\n",
       "    .dataframe tbody tr th:only-of-type {\n",
       "        vertical-align: middle;\n",
       "    }\n",
       "\n",
       "    .dataframe tbody tr th {\n",
       "        vertical-align: top;\n",
       "    }\n",
       "\n",
       "    .dataframe thead th {\n",
       "        text-align: right;\n",
       "    }\n",
       "</style>\n",
       "<table border=\"1\" class=\"dataframe\">\n",
       "  <thead>\n",
       "    <tr style=\"text-align: right;\">\n",
       "      <th></th>\n",
       "      <th>disease</th>\n",
       "      <th>code</th>\n",
       "    </tr>\n",
       "  </thead>\n",
       "  <tbody>\n",
       "    <tr>\n",
       "      <th>0</th>\n",
       "      <td>irritable bowel syndrome</td>\n",
       "      <td>1154</td>\n",
       "    </tr>\n",
       "    <tr>\n",
       "      <th>1</th>\n",
       "      <td>migraine</td>\n",
       "      <td>1265</td>\n",
       "    </tr>\n",
       "    <tr>\n",
       "      <th>2</th>\n",
       "      <td>headaches (not migraine)</td>\n",
       "      <td>1436</td>\n",
       "    </tr>\n",
       "    <tr>\n",
       "      <th>3</th>\n",
       "      <td>back problem</td>\n",
       "      <td>1294</td>\n",
       "    </tr>\n",
       "    <tr>\n",
       "      <th>4</th>\n",
       "      <td>cervical spondylosis</td>\n",
       "      <td>1478</td>\n",
       "    </tr>\n",
       "    <tr>\n",
       "      <th>5</th>\n",
       "      <td>spine arthritis/spondylitis</td>\n",
       "      <td>1311</td>\n",
       "    </tr>\n",
       "    <tr>\n",
       "      <th>6</th>\n",
       "      <td>prolapsed disc/slipped disc</td>\n",
       "      <td>1312</td>\n",
       "    </tr>\n",
       "    <tr>\n",
       "      <th>7</th>\n",
       "      <td>disc problem</td>\n",
       "      <td>1532</td>\n",
       "    </tr>\n",
       "    <tr>\n",
       "      <th>8</th>\n",
       "      <td>disc degeneration</td>\n",
       "      <td>1533</td>\n",
       "    </tr>\n",
       "    <tr>\n",
       "      <th>9</th>\n",
       "      <td>back pain</td>\n",
       "      <td>1534</td>\n",
       "    </tr>\n",
       "    <tr>\n",
       "      <th>10</th>\n",
       "      <td>ankylosing spondylitis</td>\n",
       "      <td>1313</td>\n",
       "    </tr>\n",
       "    <tr>\n",
       "      <th>11</th>\n",
       "      <td>psoriatic arthropathy</td>\n",
       "      <td>1477</td>\n",
       "    </tr>\n",
       "    <tr>\n",
       "      <th>12</th>\n",
       "      <td>rheumatoid arthritis</td>\n",
       "      <td>1464</td>\n",
       "    </tr>\n",
       "    <tr>\n",
       "      <th>13</th>\n",
       "      <td>synovitis</td>\n",
       "      <td>1621</td>\n",
       "    </tr>\n",
       "    <tr>\n",
       "      <th>14</th>\n",
       "      <td>osteoarthritis</td>\n",
       "      <td>1465</td>\n",
       "    </tr>\n",
       "    <tr>\n",
       "      <th>15</th>\n",
       "      <td>joint pain</td>\n",
       "      <td>1537</td>\n",
       "    </tr>\n",
       "    <tr>\n",
       "      <th>16</th>\n",
       "      <td>arthritis (nos)</td>\n",
       "      <td>1538</td>\n",
       "    </tr>\n",
       "    <tr>\n",
       "      <th>17</th>\n",
       "      <td>joint disorder</td>\n",
       "      <td>1295</td>\n",
       "    </tr>\n",
       "    <tr>\n",
       "      <th>18</th>\n",
       "      <td>fibromyalgia</td>\n",
       "      <td>1542</td>\n",
       "    </tr>\n",
       "    <tr>\n",
       "      <th>19</th>\n",
       "      <td>chronic fatigue syndrome</td>\n",
       "      <td>1482</td>\n",
       "    </tr>\n",
       "  </tbody>\n",
       "</table>\n",
       "</div>"
      ],
      "text/plain": [
       "                        disease  code\n",
       "0      irritable bowel syndrome  1154\n",
       "1                      migraine  1265\n",
       "2      headaches (not migraine)  1436\n",
       "3                  back problem  1294\n",
       "4          cervical spondylosis  1478\n",
       "5   spine arthritis/spondylitis  1311\n",
       "6   prolapsed disc/slipped disc  1312\n",
       "7                  disc problem  1532\n",
       "8             disc degeneration  1533\n",
       "9                     back pain  1534\n",
       "10       ankylosing spondylitis  1313\n",
       "11        psoriatic arthropathy  1477\n",
       "12         rheumatoid arthritis  1464\n",
       "13                    synovitis  1621\n",
       "14               osteoarthritis  1465\n",
       "15                   joint pain  1537\n",
       "16              arthritis (nos)  1538\n",
       "17               joint disorder  1295\n",
       "18                 fibromyalgia  1542\n",
       "19     chronic fatigue syndrome  1482"
      ]
     },
     "execution_count": 38,
     "metadata": {},
     "output_type": "execute_result"
    }
   ],
   "source": [
    "df_disease"
   ]
  },
  {
   "cell_type": "code",
   "execution_count": 18,
   "id": "together-lounge",
   "metadata": {
    "tags": []
   },
   "outputs": [
    {
     "data": {
      "image/png": "[encoded data removed]",
      "text/plain": [
       "<Figure size 1080x864 with 20 Axes>"
      ]
     },
     "metadata": {
      "needs_background": "light"
     },
     "output_type": "display_data"
    }
   ],
   "source": [
    "# check data count\n",
    "f, axes = plt.subplots(4,int(df_disease.shape[0]/4), figsize=(15, 12))#, sharey=True)\n",
    "c = 0\n",
    "\n",
    "for i, r in df_disease.iterrows():\n",
    "    df_tmp = extract_disease(df_cond, r['code'], visit=[0,1,2,3])\n",
    "    df_tmp.replace(0.0, np.nan, inplace=True) # keep pain only\n",
    "    g = sns.countplot(data=df_tmp, ax=axes.flat[c])\n",
    "    axes.flat[c].set_title(r['disease'])\n",
    "    axes.flat[c].set_xticklabels(['1','2','3','4'])\n",
    "    c += 1"
   ]
  },
  {
   "cell_type": "markdown",
   "id": "arabic-commonwealth",
   "metadata": {},
   "source": [
    "#### grouping diseases and check numbers"
   ]
  },
  {
   "cell_type": "markdown",
   "id": "refined-customer",
   "metadata": {},
   "source": [
    "now reducing number of conditions to:\n",
    "* IBS\n",
    "* Migraine (exclude headache)\n",
    "* Osteoarthritis\n",
    "* Fibromyalgia\n",
    "* Bakc pain (back problem, cervical spondylosis, spine arthritis, prolapsed disc, disc problem, disc degeneration, back pain)"
   ]
  },
  {
   "cell_type": "code",
   "execution_count": 39,
   "id": "controlled-canyon",
   "metadata": {},
   "outputs": [],
   "source": [
    "df_disease_mod = df_disease"
   ]
  },
  {
   "cell_type": "code",
   "execution_count": 41,
   "id": "creative-music",
   "metadata": {},
   "outputs": [],
   "source": [
    "# remove headache,ankylosing spondylitis,psoriatic arthropathy,rheumatoid arthritis,synovitis,joint pain,\n",
    "# arthritis (nos),joint disorder,chronic fatigue syndrome\n",
    "df_disease_mod.drop([2,10,11,12,13,15,16,17,19], axis=0, inplace=True) "
   ]
  },
  {
   "cell_type": "code",
   "execution_count": 42,
   "id": "collect-state",
   "metadata": {},
   "outputs": [
    {
     "data": {
      "text/html": [
       "<div>\n",
       "<style scoped>\n",
       "    .dataframe tbody tr th:only-of-type {\n",
       "        vertical-align: middle;\n",
       "    }\n",
       "\n",
       "    .dataframe tbody tr th {\n",
       "        vertical-align: top;\n",
       "    }\n",
       "\n",
       "    .dataframe thead th {\n",
       "        text-align: right;\n",
       "    }\n",
       "</style>\n",
       "<table border=\"1\" class=\"dataframe\">\n",
       "  <thead>\n",
       "    <tr style=\"text-align: right;\">\n",
       "      <th></th>\n",
       "      <th>disease</th>\n",
       "      <th>code</th>\n",
       "    </tr>\n",
       "  </thead>\n",
       "  <tbody>\n",
       "    <tr>\n",
       "      <th>0</th>\n",
       "      <td>irritable bowel syndrome</td>\n",
       "      <td>1154</td>\n",
       "    </tr>\n",
       "    <tr>\n",
       "      <th>1</th>\n",
       "      <td>migraine</td>\n",
       "      <td>1265</td>\n",
       "    </tr>\n",
       "    <tr>\n",
       "      <th>3</th>\n",
       "      <td>back problem</td>\n",
       "      <td>1294</td>\n",
       "    </tr>\n",
       "    <tr>\n",
       "      <th>4</th>\n",
       "      <td>cervical spondylosis</td>\n",
       "      <td>1478</td>\n",
       "    </tr>\n",
       "    <tr>\n",
       "      <th>5</th>\n",
       "      <td>spine arthritis/spondylitis</td>\n",
       "      <td>1311</td>\n",
       "    </tr>\n",
       "    <tr>\n",
       "      <th>6</th>\n",
       "      <td>prolapsed disc/slipped disc</td>\n",
       "      <td>1312</td>\n",
       "    </tr>\n",
       "    <tr>\n",
       "      <th>7</th>\n",
       "      <td>disc problem</td>\n",
       "      <td>1532</td>\n",
       "    </tr>\n",
       "    <tr>\n",
       "      <th>8</th>\n",
       "      <td>disc degeneration</td>\n",
       "      <td>1533</td>\n",
       "    </tr>\n",
       "    <tr>\n",
       "      <th>9</th>\n",
       "      <td>back pain</td>\n",
       "      <td>1534</td>\n",
       "    </tr>\n",
       "    <tr>\n",
       "      <th>14</th>\n",
       "      <td>osteoarthritis</td>\n",
       "      <td>1465</td>\n",
       "    </tr>\n",
       "    <tr>\n",
       "      <th>18</th>\n",
       "      <td>fibromyalgia</td>\n",
       "      <td>1542</td>\n",
       "    </tr>\n",
       "  </tbody>\n",
       "</table>\n",
       "</div>"
      ],
      "text/plain": [
       "                        disease  code\n",
       "0      irritable bowel syndrome  1154\n",
       "1                      migraine  1265\n",
       "3                  back problem  1294\n",
       "4          cervical spondylosis  1478\n",
       "5   spine arthritis/spondylitis  1311\n",
       "6   prolapsed disc/slipped disc  1312\n",
       "7                  disc problem  1532\n",
       "8             disc degeneration  1533\n",
       "9                     back pain  1534\n",
       "14               osteoarthritis  1465\n",
       "18                 fibromyalgia  1542"
      ]
     },
     "execution_count": 42,
     "metadata": {},
     "output_type": "execute_result"
    }
   ],
   "source": [
    "df_disease_mod"
   ]
  },
  {
   "cell_type": "code",
   "execution_count": 44,
   "id": "essential-mailman",
   "metadata": {},
   "outputs": [],
   "source": [
    "df_dgroup = pd.DataFrame({\n",
    "    'disease': ['irritable bowel syndrome','migraine','back pain', 'osteoarthritis', 'fibromyalgia'],\n",
    "    'code':[1154, 1265, [1294,1478,1311,1312,1532,1533,1534], 1465, 1542]\n",
    "})"
   ]
  },
  {
   "cell_type": "code",
   "execution_count": 50,
   "id": "yellow-attention",
   "metadata": {},
   "outputs": [
    {
     "data": {
      "text/html": [
       "<div>\n",
       "<style scoped>\n",
       "    .dataframe tbody tr th:only-of-type {\n",
       "        vertical-align: middle;\n",
       "    }\n",
       "\n",
       "    .dataframe tbody tr th {\n",
       "        vertical-align: top;\n",
       "    }\n",
       "\n",
       "    .dataframe thead th {\n",
       "        text-align: right;\n",
       "    }\n",
       "</style>\n",
       "<table border=\"1\" class=\"dataframe\">\n",
       "  <thead>\n",
       "    <tr style=\"text-align: right;\">\n",
       "      <th></th>\n",
       "      <th>disease</th>\n",
       "      <th>code</th>\n",
       "    </tr>\n",
       "  </thead>\n",
       "  <tbody>\n",
       "    <tr>\n",
       "      <th>0</th>\n",
       "      <td>irritable bowel syndrome</td>\n",
       "      <td>1154</td>\n",
       "    </tr>\n",
       "    <tr>\n",
       "      <th>1</th>\n",
       "      <td>migraine</td>\n",
       "      <td>1265</td>\n",
       "    </tr>\n",
       "    <tr>\n",
       "      <th>2</th>\n",
       "      <td>back pain</td>\n",
       "      <td>[1294, 1478, 1311, 1312, 1532, 1533, 1534]</td>\n",
       "    </tr>\n",
       "    <tr>\n",
       "      <th>3</th>\n",
       "      <td>osteoarthritis</td>\n",
       "      <td>1465</td>\n",
       "    </tr>\n",
       "    <tr>\n",
       "      <th>4</th>\n",
       "      <td>fibromyalgia</td>\n",
       "      <td>1542</td>\n",
       "    </tr>\n",
       "  </tbody>\n",
       "</table>\n",
       "</div>"
      ],
      "text/plain": [
       "                    disease                                        code\n",
       "0  irritable bowel syndrome                                        1154\n",
       "1                  migraine                                        1265\n",
       "2                 back pain  [1294, 1478, 1311, 1312, 1532, 1533, 1534]\n",
       "3            osteoarthritis                                        1465\n",
       "4              fibromyalgia                                        1542"
      ]
     },
     "execution_count": 50,
     "metadata": {},
     "output_type": "execute_result"
    }
   ],
   "source": [
    "df_dgroup"
   ]
  },
  {
   "cell_type": "code",
   "execution_count": 51,
   "id": "isolated-instruction",
   "metadata": {},
   "outputs": [],
   "source": [
    "df_dgroup.to_csv('./bbk_codes/disease_code_grouped.csv', index=None)"
   ]
  },
  {
   "cell_type": "code",
   "execution_count": 89,
   "id": "variable-theorem",
   "metadata": {},
   "outputs": [],
   "source": [
    "def extract_disease(df, disease_code, visit=None):\n",
    "    \"\"\"extract disease type into df\"\"\"\n",
    "    # slice reported disease\n",
    "    df_d = df[[col for col in df.columns if str(20002) in col]]\n",
    "    df_d = pd.concat([df['eid'], df_d], axis=1)\n",
    "    # slice particular visit\n",
    "    df_dvd = pd.DataFrame()\n",
    "    df_dvd['eid'] = df_d['eid']\n",
    "    if visit is not None:\n",
    "        for vis in visit:\n",
    "            p_cols = [col for col in df_d.columns if '-'+str(vis) in col]\n",
    "            # extract visit df\n",
    "            df_dv = pd.concat([df_d['eid'], df_d[p_cols]], axis=1)\n",
    "            df_dv.set_index('eid', inplace=True)\n",
    "            # find matching disease\n",
    "            disease_tag = []\n",
    "            if type(disease_code) is list:\n",
    "                dcode_float = [float(i) for i in disease_code]\n",
    "            else:\n",
    "                dcode_float = [float(disease_code)]\n",
    "            for i, r in df_dv.iterrows():\n",
    "                if any(item in dcode_float for item in r.values):\n",
    "                    disease_tag.append(1)\n",
    "                else:\n",
    "                    disease_tag.append(0)\n",
    "            df_dvd[str(dcode_float[0])+'-'+str(vis)] = disease_tag\n",
    "        df_dvd.set_index('eid', inplace=True)\n",
    "\n",
    "    return df_dvd"
   ]
  },
  {
   "cell_type": "code",
   "execution_count": 107,
   "id": "multiple-flavor",
   "metadata": {},
   "outputs": [],
   "source": [
    "# df_tmp = extract_disease(df_cond, [1294, 1478, 1311, 1312, 1532, 1533, 1534], visit=[0,2])\n",
    "df_tmp = extract_disease(df_cond, 1154, visit=[0,2])\n",
    "# df_tmp = extract_disease(df_cond, 1294, visit=[0,1,2,3])"
   ]
  },
  {
   "cell_type": "code",
   "execution_count": 108,
   "id": "thrown-cleveland",
   "metadata": {},
   "outputs": [
    {
     "data": {
      "text/plain": [
       "(8331, 2)"
      ]
     },
     "execution_count": 108,
     "metadata": {},
     "output_type": "execute_result"
    }
   ],
   "source": [
    "df_tmp.shape"
   ]
  },
  {
   "cell_type": "code",
   "execution_count": 109,
   "id": "colonial-great",
   "metadata": {},
   "outputs": [
    {
     "data": {
      "text/plain": [
       "1154.0-0  1154.0-2\n",
       "0         0           6662\n",
       "          1            755\n",
       "1         0            582\n",
       "          1            332\n",
       "dtype: int64"
      ]
     },
     "execution_count": 109,
     "metadata": {},
     "output_type": "execute_result"
    }
   ],
   "source": [
    "df_tmp.value_counts()"
   ]
  },
  {
   "cell_type": "code",
   "execution_count": 79,
   "id": "western-headquarters",
   "metadata": {},
   "outputs": [
    {
     "data": {
      "image/png": "[encoded data removed]",
      "text/plain": [
       "<Figure size 720x432 with 6 Axes>"
      ]
     },
     "metadata": {
      "needs_background": "light"
     },
     "output_type": "display_data"
    }
   ],
   "source": [
    "# check data count\n",
    "f, axes = plt.subplots(2,int(np.ceil(df_dgroup.shape[0]/2)), figsize=(10, 6))#, sharey=True)\n",
    "c = 0\n",
    "visits = [0,2]\n",
    "for i, r in df_dgroup.iterrows():\n",
    "    df_tmp = extract_disease(df_cond, r['code'], visit=visits)\n",
    "    df_tmp.replace(0.0, np.nan, inplace=True) # keep pain only\n",
    "    g = sns.countplot(data=df_tmp, ax=axes.flat[c])\n",
    "    axes.flat[c].set_title(r['disease'])\n",
    "    axes.flat[c].set_xticklabels([str(i) for i in visits])\n",
    "    c += 1"
   ]
  },
  {
   "cell_type": "code",
   "execution_count": null,
   "id": "decreased-software",
   "metadata": {},
   "outputs": [],
   "source": []
  },
  {
   "cell_type": "markdown",
   "id": "outer-tender",
   "metadata": {},
   "source": [
    "#### check digestive health date vs imaging date"
   ]
  },
  {
   "cell_type": "code",
   "execution_count": 106,
   "id": "dress-rover",
   "metadata": {},
   "outputs": [],
   "source": [
    "# check image condition\n",
    "df_d = df_cond[['53-2.0','21023-0.0']]\n",
    "df_d = pd.concat([df_cond['eid'], df_d], axis=1)\n",
    "df_d.set_index('eid', inplace=True)\n",
    "# remove na\n",
    "df_d.dropna(inplace=True)\n",
    "# rename cols\n",
    "df_d.rename(columns={'53-2.0':'imaging_date', '21023-0.0':'digest_date'}, inplace=True)"
   ]
  },
  {
   "cell_type": "code",
   "execution_count": 108,
   "id": "excessive-thailand",
   "metadata": {},
   "outputs": [],
   "source": [
    "# to dt\n",
    "df_dt = pd.to_datetime(df_d['digest_date'])\n",
    "df_it = pd.to_datetime(df_d['imaging_date'])\n",
    "# calcualte diff\n",
    "diff = (df_dt-df_it).values\n",
    "dff = diff.astype('int64')"
   ]
  },
  {
   "cell_type": "code",
   "execution_count": 109,
   "id": "immediate-execution",
   "metadata": {},
   "outputs": [
    {
     "data": {
      "text/plain": [
       "0.3967889908256881"
      ]
     },
     "execution_count": 109,
     "metadata": {},
     "output_type": "execute_result"
    }
   ],
   "source": [
    "# those finished digestive after imaging\n",
    "sum(dff>0)/len(dff)"
   ]
  },
  {
   "cell_type": "code",
   "execution_count": 110,
   "id": "upset-praise",
   "metadata": {},
   "outputs": [
    {
     "data": {
      "text/plain": [
       "6540"
      ]
     },
     "execution_count": 110,
     "metadata": {},
     "output_type": "execute_result"
    }
   ],
   "source": [
    "len(dff)"
   ]
  },
  {
   "cell_type": "code",
   "execution_count": 111,
   "id": "hidden-trade",
   "metadata": {},
   "outputs": [
    {
     "data": {
      "text/plain": [
       "2595"
      ]
     },
     "execution_count": 111,
     "metadata": {},
     "output_type": "execute_result"
    }
   ],
   "source": [
    "sum(dff>0)"
   ]
  },
  {
   "cell_type": "code",
   "execution_count": 112,
   "id": "extreme-allah",
   "metadata": {},
   "outputs": [],
   "source": [
    "df_qualify = df_d.iloc[dff>0]"
   ]
  },
  {
   "cell_type": "markdown",
   "id": "social-gibraltar",
   "metadata": {},
   "source": [
    "#### check how many qualified have pain"
   ]
  },
  {
   "cell_type": "code",
   "execution_count": 89,
   "id": "municipal-pillow",
   "metadata": {},
   "outputs": [],
   "source": [
    "df_conds = df_cond.set_index('eid')"
   ]
  },
  {
   "cell_type": "code",
   "execution_count": 91,
   "id": "photographic-brook",
   "metadata": {},
   "outputs": [
    {
     "data": {
      "text/plain": [
       "(8331, 3793)"
      ]
     },
     "execution_count": 91,
     "metadata": {},
     "output_type": "execute_result"
    }
   ],
   "source": [
    "df_conds.shape"
   ]
  },
  {
   "cell_type": "code",
   "execution_count": 92,
   "id": "geographic-tuning",
   "metadata": {},
   "outputs": [],
   "source": [
    "dfq = df_conds[df_conds.index.isin(df_qualify.index)]"
   ]
  },
  {
   "cell_type": "code",
   "execution_count": 101,
   "id": "built-azerbaijan",
   "metadata": {},
   "outputs": [
    {
     "name": "stderr",
     "output_type": "stream",
     "text": [
      "<ipython-input-101-947c8bc6c436>:1: SettingWithCopyWarning: \n",
      "A value is trying to be set on a copy of a slice from a DataFrame.\n",
      "Try using .loc[row_indexer,col_indexer] = value instead\n",
      "\n",
      "See the caveats in the documentation: https://pandas.pydata.org/pandas-docs/stable/user_guide/indexing.html#returning-a-view-versus-a-copy\n",
      "  dfq['eid'] = dfq.index.values\n"
     ]
    }
   ],
   "source": [
    "dfq['eid'] = dfq.index.values"
   ]
  },
  {
   "cell_type": "code",
   "execution_count": 102,
   "id": "municipal-database",
   "metadata": {},
   "outputs": [
    {
     "data": {
      "text/plain": [
       "(2595, 3794)"
      ]
     },
     "execution_count": 102,
     "metadata": {},
     "output_type": "execute_result"
    }
   ],
   "source": [
    "dfq.shape"
   ]
  },
  {
   "cell_type": "code",
   "execution_count": 103,
   "id": "charming-albert",
   "metadata": {},
   "outputs": [
    {
     "data": {
      "image/png": "[encoded data removed]",
      "text/plain": [
       "<Figure size 1080x216 with 8 Axes>"
      ]
     },
     "metadata": {
      "needs_background": "light"
     },
     "output_type": "display_data"
    }
   ],
   "source": [
    "# check data count\n",
    "f, axes = plt.subplots(1,len(pain_types), figsize=(15, 3))\n",
    "c = 0\n",
    "for k, v in pain_types.items():\n",
    "    df_tmp = extract_pain(dfq, v)\n",
    "    df_tmp.replace(0.0, np.nan, inplace=True) # keep pain only\n",
    "    g = sns.countplot(data=df_tmp, ax=axes[c])\n",
    "    axes[c].set_title(k)\n",
    "    axes[c].set_xticklabels(['1','2','3','4'])\n",
    "    c += 1"
   ]
  },
  {
   "cell_type": "code",
   "execution_count": 105,
   "id": "enclosed-characterization",
   "metadata": {},
   "outputs": [
    {
     "name": "stdout",
     "output_type": "stream",
     "text": [
      "(2595, 4)\n",
      "(2595, 4)\n",
      "(2595, 4)\n",
      "(2595, 4)\n",
      "(2595, 4)\n",
      "(2595, 4)\n",
      "(2595, 4)\n",
      "(2595, 4)\n",
      "(2595, 4)\n",
      "(2595, 4)\n",
      "(2595, 4)\n",
      "(2595, 4)\n",
      "(2595, 4)\n",
      "(2595, 4)\n",
      "(2595, 4)\n",
      "(2595, 4)\n",
      "(2595, 4)\n",
      "(2595, 4)\n",
      "(2595, 4)\n",
      "(2595, 4)\n"
     ]
    },
    {
     "data": {
      "image/png": "[encoded data removed]",
      "text/plain": [
       "<Figure size 1080x864 with 20 Axes>"
      ]
     },
     "metadata": {
      "needs_background": "light"
     },
     "output_type": "display_data"
    }
   ],
   "source": [
    "# check data count\n",
    "f, axes = plt.subplots(4,int(df_disease.shape[0]/4), figsize=(15, 12))#, sharey=True)\n",
    "c = 0\n",
    "\n",
    "for i, r in df_disease.iterrows():\n",
    "    df_tmp = extract_disease(dfq, r['code'], visit=[0,1,2,3])\n",
    "    print(df_tmp.shape)\n",
    "    df_tmp.replace(0.0, np.nan, inplace=True) # keep pain only\n",
    "    g = sns.countplot(data=df_tmp, ax=axes.flat[c])\n",
    "    axes.flat[c].set_title(r['disease'])\n",
    "    axes.flat[c].set_xticklabels(['1','2','3','4'])\n",
    "    c += 1"
   ]
  },
  {
   "cell_type": "code",
   "execution_count": null,
   "id": "working-blair",
   "metadata": {},
   "outputs": [],
   "source": [
    "dfq"
   ]
  },
  {
   "cell_type": "markdown",
   "id": "remarkable-excellence",
   "metadata": {},
   "source": [
    "#### check without conditions"
   ]
  },
  {
   "cell_type": "code",
   "execution_count": 114,
   "id": "formed-baseline",
   "metadata": {},
   "outputs": [
    {
     "name": "stderr",
     "output_type": "stream",
     "text": [
      "/home/fs0/syzhang/.conda/envs/biobank/lib/python3.9/site-packages/IPython/core/interactiveshell.py:3165: DtypeWarning: Columns (2439,2440,2441,2442,2443,2444,2445,2446,2447,2448,2449,2450,2451,2452,2453,2454,2455,2456,2499,2500,2501,2502,2503,2504,2505,2506,2542,2543,2544,2545,2546,2547,2548,2549,2550,2551,2552,2553,2554,2555,2556,2557,2558,2559,2560,2561,2562,2563,2564,2565,2566,2567,2568,2569,2570,2571,2572,2573,2574,2575,2576,2577,2578,2579,2580,2581,2582,2583,2584,2585,2586,2587,2588,2589,2590,2591,2592,2593,2594,2595,2596,2597,2598,2599,2600,2601,2602,2603,2604,2605,2606,2739,2740,2741,2742,2743,2744,2745,2746,2747,2748,2749,2750,2802,2803,2804,2805,2806,2807,2808,2809,2810,2811,2812,2813,2814,2815,2816,2817,2818,2819,2820,2821,2822,2823,2824,2825,2826,2827,2828,2829,2830,2831,2832,2833,2834,2835,2836,2837,2838,2839,2840,2841,2842,2843,2844,2845,2846,2847,2848,2849,2850,2851,2852,2853,2854,2855,2856,2857,2858,2859,2860,2861,2862,2863,2864,2865,2866,3001,3002,3003,3004,3005,3006,3007,3008,3009,3010) have mixed types.Specify dtype option on import or set low_memory=False.\n",
      "  has_raised = await self.run_ast_nodes(code_ast.body, cell_name,\n"
     ]
    },
    {
     "data": {
      "text/plain": [
       "(14659, 3794)"
      ]
     },
     "execution_count": 114,
     "metadata": {},
     "output_type": "execute_result"
    }
   ],
   "source": [
    "tsv_nocond = os.path.join('..', 'funpack_cfg', 'subj_withOUT_condition_with_clinical_variables.tsv')\n",
    "\n",
    "df_nocond = pd.read_csv(tsv_nocond, sep='\\t')\n",
    "\n",
    "df_nocond.shape"
   ]
  },
  {
   "cell_type": "code",
   "execution_count": 121,
   "id": "weekly-express",
   "metadata": {},
   "outputs": [],
   "source": [
    "# check image condition\n",
    "df_d = df_nocond[['53-2.0','21023-0.0']]\n",
    "df_d = pd.concat([df_nocond['eid'], df_d], axis=1)\n",
    "df_d.set_index('eid', inplace=True)\n",
    "# remove na\n",
    "df_d.dropna(inplace=True)\n",
    "# rename cols\n",
    "df_d.rename(columns={'53-2.0':'imaging_date', '21023-0.0':'digest_date'}, inplace=True)"
   ]
  },
  {
   "cell_type": "code",
   "execution_count": 122,
   "id": "mysterious-front",
   "metadata": {},
   "outputs": [
    {
     "data": {
      "text/plain": [
       "(11541, 2)"
      ]
     },
     "execution_count": 122,
     "metadata": {},
     "output_type": "execute_result"
    }
   ],
   "source": [
    "df_d.shape"
   ]
  },
  {
   "cell_type": "code",
   "execution_count": 123,
   "id": "frank-plaintiff",
   "metadata": {},
   "outputs": [],
   "source": [
    "# to dt\n",
    "df_dt = pd.to_datetime(df_d['digest_date'])\n",
    "df_it = pd.to_datetime(df_d['imaging_date'])\n",
    "# calcualte diff\n",
    "diff = (df_dt-df_it).values\n",
    "dff = diff.astype('int64')"
   ]
  },
  {
   "cell_type": "code",
   "execution_count": 124,
   "id": "comfortable-tsunami",
   "metadata": {},
   "outputs": [
    {
     "data": {
      "text/plain": [
       "0.3423446841694827"
      ]
     },
     "execution_count": 124,
     "metadata": {},
     "output_type": "execute_result"
    }
   ],
   "source": [
    "# those finished digestive after imaging\n",
    "sum(dff>0)/len(dff)"
   ]
  },
  {
   "cell_type": "code",
   "execution_count": 125,
   "id": "final-anxiety",
   "metadata": {},
   "outputs": [],
   "source": [
    "df_qualify = df_d.iloc[dff>0]"
   ]
  },
  {
   "cell_type": "code",
   "execution_count": 126,
   "id": "champion-ticket",
   "metadata": {},
   "outputs": [
    {
     "data": {
      "text/html": [
       "<div>\n",
       "<style scoped>\n",
       "    .dataframe tbody tr th:only-of-type {\n",
       "        vertical-align: middle;\n",
       "    }\n",
       "\n",
       "    .dataframe tbody tr th {\n",
       "        vertical-align: top;\n",
       "    }\n",
       "\n",
       "    .dataframe thead th {\n",
       "        text-align: right;\n",
       "    }\n",
       "</style>\n",
       "<table border=\"1\" class=\"dataframe\">\n",
       "  <thead>\n",
       "    <tr style=\"text-align: right;\">\n",
       "      <th></th>\n",
       "      <th>imaging_date</th>\n",
       "      <th>digest_date</th>\n",
       "    </tr>\n",
       "    <tr>\n",
       "      <th>eid</th>\n",
       "      <th></th>\n",
       "      <th></th>\n",
       "    </tr>\n",
       "  </thead>\n",
       "  <tbody>\n",
       "    <tr>\n",
       "      <th>1001143</th>\n",
       "      <td>2016-01-30</td>\n",
       "      <td>2017-04-26T14:33:16</td>\n",
       "    </tr>\n",
       "    <tr>\n",
       "      <th>1002039</th>\n",
       "      <td>2015-05-08</td>\n",
       "      <td>2017-04-19T09:00:40</td>\n",
       "    </tr>\n",
       "    <tr>\n",
       "      <th>1002393</th>\n",
       "      <td>2016-10-05</td>\n",
       "      <td>2017-05-04T20:10:11</td>\n",
       "    </tr>\n",
       "    <tr>\n",
       "      <th>1002884</th>\n",
       "      <td>2015-09-23</td>\n",
       "      <td>2017-04-21T18:38:44</td>\n",
       "    </tr>\n",
       "    <tr>\n",
       "      <th>1003045</th>\n",
       "      <td>2016-11-28</td>\n",
       "      <td>2017-05-12T16:07:00</td>\n",
       "    </tr>\n",
       "    <tr>\n",
       "      <th>...</th>\n",
       "      <td>...</td>\n",
       "      <td>...</td>\n",
       "    </tr>\n",
       "    <tr>\n",
       "      <th>6020171</th>\n",
       "      <td>2016-12-10</td>\n",
       "      <td>2017-05-02T18:50:46</td>\n",
       "    </tr>\n",
       "    <tr>\n",
       "      <th>6020209</th>\n",
       "      <td>2015-12-06</td>\n",
       "      <td>2017-04-25T17:32:23</td>\n",
       "    </tr>\n",
       "    <tr>\n",
       "      <th>6022107</th>\n",
       "      <td>2015-04-20</td>\n",
       "      <td>2017-05-01T20:55:05</td>\n",
       "    </tr>\n",
       "    <tr>\n",
       "      <th>6023724</th>\n",
       "      <td>2017-04-25</td>\n",
       "      <td>2017-06-06T11:23:37</td>\n",
       "    </tr>\n",
       "    <tr>\n",
       "      <th>6023887</th>\n",
       "      <td>2016-05-17</td>\n",
       "      <td>2017-05-09T18:52:25</td>\n",
       "    </tr>\n",
       "  </tbody>\n",
       "</table>\n",
       "<p>3951 rows × 2 columns</p>\n",
       "</div>"
      ],
      "text/plain": [
       "        imaging_date          digest_date\n",
       "eid                                      \n",
       "1001143   2016-01-30  2017-04-26T14:33:16\n",
       "1002039   2015-05-08  2017-04-19T09:00:40\n",
       "1002393   2016-10-05  2017-05-04T20:10:11\n",
       "1002884   2015-09-23  2017-04-21T18:38:44\n",
       "1003045   2016-11-28  2017-05-12T16:07:00\n",
       "...              ...                  ...\n",
       "6020171   2016-12-10  2017-05-02T18:50:46\n",
       "6020209   2015-12-06  2017-04-25T17:32:23\n",
       "6022107   2015-04-20  2017-05-01T20:55:05\n",
       "6023724   2017-04-25  2017-06-06T11:23:37\n",
       "6023887   2016-05-17  2017-05-09T18:52:25\n",
       "\n",
       "[3951 rows x 2 columns]"
      ]
     },
     "execution_count": 126,
     "metadata": {},
     "output_type": "execute_result"
    }
   ],
   "source": [
    "df_qualify"
   ]
  },
  {
   "cell_type": "code",
   "execution_count": 128,
   "id": "communist-queen",
   "metadata": {},
   "outputs": [],
   "source": [
    "df_noconds = df_nocond.set_index('eid')"
   ]
  },
  {
   "cell_type": "code",
   "execution_count": 129,
   "id": "respiratory-orbit",
   "metadata": {},
   "outputs": [],
   "source": [
    "dfq = df_noconds[df_noconds.index.isin(df_qualify.index)]"
   ]
  },
  {
   "cell_type": "code",
   "execution_count": 130,
   "id": "aggregate-wallet",
   "metadata": {},
   "outputs": [
    {
     "data": {
      "text/plain": [
       "(3951, 3793)"
      ]
     },
     "execution_count": 130,
     "metadata": {},
     "output_type": "execute_result"
    }
   ],
   "source": [
    "dfq.shape"
   ]
  },
  {
   "cell_type": "code",
   "execution_count": 136,
   "id": "recorded-partner",
   "metadata": {},
   "outputs": [],
   "source": [
    "df_digestive = pd.read_csv('./bbk_codes/digestive_code.csv')"
   ]
  },
  {
   "cell_type": "code",
   "execution_count": 138,
   "id": "trained-allen",
   "metadata": {},
   "outputs": [],
   "source": [
    "# people who has pain in digestive q but no pain\n",
    "p_cols = []\n",
    "for i, r in df_digestive.iterrows():\n",
    "    p_cols += [col for col in dfq.columns if str(r['code']) in col]"
   ]
  },
  {
   "cell_type": "code",
   "execution_count": 141,
   "id": "classified-gothic",
   "metadata": {},
   "outputs": [],
   "source": [
    "# Abdominal discomfort/pain for 6 months or longer\n",
    "dfab = dfq[dfq['21027-0.0']==1.]"
   ]
  },
  {
   "cell_type": "code",
   "execution_count": 142,
   "id": "initial-giant",
   "metadata": {},
   "outputs": [
    {
     "data": {
      "text/plain": [
       "(649, 3793)"
      ]
     },
     "execution_count": 142,
     "metadata": {},
     "output_type": "execute_result"
    }
   ],
   "source": [
    "dfab.shape"
   ]
  },
  {
   "cell_type": "code",
   "execution_count": 143,
   "id": "complimentary-latin",
   "metadata": {},
   "outputs": [
    {
     "data": {
      "image/png": "[encoded data removed]",
      "text/plain": [
       "<Figure size 1080x216 with 8 Axes>"
      ]
     },
     "metadata": {
      "needs_background": "light"
     },
     "output_type": "display_data"
    }
   ],
   "source": [
    "# check data count\n",
    "f, axes = plt.subplots(1,len(pain_types), figsize=(15, 3))\n",
    "c = 0\n",
    "for k, v in pain_types.items():\n",
    "    df_tmp = extract_pain(dfab, v)\n",
    "    df_tmp.replace(0.0, np.nan, inplace=True) # keep pain only\n",
    "    g = sns.countplot(data=df_tmp, ax=axes[c])\n",
    "    axes[c].set_title(k)\n",
    "    axes[c].set_xticklabels(['1','2','3','4'])\n",
    "    c += 1"
   ]
  },
  {
   "cell_type": "code",
   "execution_count": 145,
   "id": "tamil-drink",
   "metadata": {},
   "outputs": [
    {
     "name": "stderr",
     "output_type": "stream",
     "text": [
      "<ipython-input-145-a5a510ea987f>:1: SettingWithCopyWarning: \n",
      "A value is trying to be set on a copy of a slice from a DataFrame.\n",
      "Try using .loc[row_indexer,col_indexer] = value instead\n",
      "\n",
      "See the caveats in the documentation: https://pandas.pydata.org/pandas-docs/stable/user_guide/indexing.html#returning-a-view-versus-a-copy\n",
      "  dfab['eid'] = dfab.index.values\n"
     ]
    }
   ],
   "source": [
    "dfab['eid'] = dfab.index.values"
   ]
  },
  {
   "cell_type": "code",
   "execution_count": 149,
   "id": "canadian-glossary",
   "metadata": {},
   "outputs": [
    {
     "data": {
      "text/plain": [
       "[]"
      ]
     },
     "execution_count": 149,
     "metadata": {},
     "output_type": "execute_result"
    }
   ],
   "source": [
    "[col for col in dfab.columns if str(1154) in col]"
   ]
  },
  {
   "cell_type": "code",
   "execution_count": 147,
   "id": "convertible-plaintiff",
   "metadata": {},
   "outputs": [
    {
     "name": "stdout",
     "output_type": "stream",
     "text": [
      "1154\n",
      "(649, 4)\n",
      "1265\n",
      "(649, 4)\n",
      "1436\n",
      "(649, 4)\n",
      "1294\n",
      "(649, 4)\n",
      "1478\n",
      "(649, 4)\n",
      "1311\n",
      "(649, 4)\n",
      "1312\n",
      "(649, 4)\n",
      "1532\n",
      "(649, 4)\n",
      "1533\n",
      "(649, 4)\n",
      "1534\n",
      "(649, 4)\n",
      "1313\n",
      "(649, 4)\n",
      "1477\n",
      "(649, 4)\n",
      "1464\n",
      "(649, 4)\n",
      "1621\n",
      "(649, 4)\n",
      "1465\n",
      "(649, 4)\n",
      "1537\n",
      "(649, 4)\n",
      "1538\n",
      "(649, 4)\n",
      "1295\n",
      "(649, 4)\n",
      "1542\n",
      "(649, 4)\n",
      "1482\n",
      "(649, 4)\n"
     ]
    },
    {
     "data": {
      "image/png": "[encoded data removed]",
      "text/plain": [
       "<Figure size 1080x864 with 20 Axes>"
      ]
     },
     "metadata": {
      "needs_background": "light"
     },
     "output_type": "display_data"
    }
   ],
   "source": [
    "# check data count\n",
    "f, axes = plt.subplots(4,int(df_disease.shape[0]/4), figsize=(15, 12))#, sharey=True)\n",
    "c = 0\n",
    "\n",
    "for i, r in df_disease.iterrows():\n",
    "    print(r['code'])\n",
    "    df_tmp = extract_disease(dfab, r['code'], visit=[0,1,2,3])\n",
    "    print(df_tmp.shape)\n",
    "    df_tmp.replace(0.0, np.nan, inplace=True) # keep pain only\n",
    "    g = sns.countplot(data=df_tmp, ax=axes.flat[c])\n",
    "    axes.flat[c].set_title(r['disease'])\n",
    "    axes.flat[c].set_xticklabels(['1','2','3','4'])\n",
    "    c += 1"
   ]
  },
  {
   "cell_type": "code",
   "execution_count": 151,
   "id": "resident-bunch",
   "metadata": {},
   "outputs": [],
   "source": [
    "# people who has pain in digestive q but no pain\n",
    "p_cols = []\n",
    "for i, r in df_digestive.iterrows():\n",
    "    p_cols += [col for col in dfq.columns if str(r['code']) in col]"
   ]
  },
  {
   "cell_type": "code",
   "execution_count": 155,
   "id": "suitable-gnome",
   "metadata": {},
   "outputs": [
    {
     "data": {
      "text/html": [
       "<div>\n",
       "<style scoped>\n",
       "    .dataframe tbody tr th:only-of-type {\n",
       "        vertical-align: middle;\n",
       "    }\n",
       "\n",
       "    .dataframe tbody tr th {\n",
       "        vertical-align: top;\n",
       "    }\n",
       "\n",
       "    .dataframe thead th {\n",
       "        text-align: right;\n",
       "    }\n",
       "</style>\n",
       "<table border=\"1\" class=\"dataframe\">\n",
       "  <thead>\n",
       "    <tr style=\"text-align: right;\">\n",
       "      <th></th>\n",
       "      <th>Field title</th>\n",
       "      <th>code</th>\n",
       "    </tr>\n",
       "  </thead>\n",
       "  <tbody>\n",
       "    <tr>\n",
       "      <th>0</th>\n",
       "      <td>When digestive heakth questionnaire completed</td>\n",
       "      <td>21023</td>\n",
       "    </tr>\n",
       "    <tr>\n",
       "      <th>1</th>\n",
       "      <td>Abdominal discomfort/pain for 6 months or longer</td>\n",
       "      <td>21027</td>\n",
       "    </tr>\n",
       "    <tr>\n",
       "      <th>2</th>\n",
       "      <td>Currently (in last 3 months) suffer from abdom...</td>\n",
       "      <td>21035</td>\n",
       "    </tr>\n",
       "    <tr>\n",
       "      <th>3</th>\n",
       "      <td>Degree bothered by back pain in the past 3 months</td>\n",
       "      <td>21048</td>\n",
       "    </tr>\n",
       "    <tr>\n",
       "      <th>4</th>\n",
       "      <td>Degree bothered by chest pain in the last 3 mo...</td>\n",
       "      <td>21052</td>\n",
       "    </tr>\n",
       "    <tr>\n",
       "      <th>5</th>\n",
       "      <td>Degree bothered by headaches in the last 3 months</td>\n",
       "      <td>21051</td>\n",
       "    </tr>\n",
       "    <tr>\n",
       "      <th>6</th>\n",
       "      <td>Degree bothered by pain in arms/legs/joints in...</td>\n",
       "      <td>21049</td>\n",
       "    </tr>\n",
       "    <tr>\n",
       "      <th>7</th>\n",
       "      <td>Degree bothered by pain/problems during interc...</td>\n",
       "      <td>21057</td>\n",
       "    </tr>\n",
       "    <tr>\n",
       "      <th>8</th>\n",
       "      <td>Frequency of discomfort/pain in abdomen in las...</td>\n",
       "      <td>21025</td>\n",
       "    </tr>\n",
       "    <tr>\n",
       "      <th>9</th>\n",
       "      <td>Severity of current abdominal pain</td>\n",
       "      <td>21036</td>\n",
       "    </tr>\n",
       "  </tbody>\n",
       "</table>\n",
       "</div>"
      ],
      "text/plain": [
       "                                         Field title   code\n",
       "0      When digestive heakth questionnaire completed  21023\n",
       "1   Abdominal discomfort/pain for 6 months or longer  21027\n",
       "2  Currently (in last 3 months) suffer from abdom...  21035\n",
       "3  Degree bothered by back pain in the past 3 months  21048\n",
       "4  Degree bothered by chest pain in the last 3 mo...  21052\n",
       "5  Degree bothered by headaches in the last 3 months  21051\n",
       "6  Degree bothered by pain in arms/legs/joints in...  21049\n",
       "7  Degree bothered by pain/problems during interc...  21057\n",
       "8  Frequency of discomfort/pain in abdomen in las...  21025\n",
       "9                 Severity of current abdominal pain  21036"
      ]
     },
     "execution_count": 155,
     "metadata": {},
     "output_type": "execute_result"
    }
   ],
   "source": [
    "df_digestive"
   ]
  },
  {
   "cell_type": "code",
   "execution_count": 153,
   "id": "liked-yahoo",
   "metadata": {},
   "outputs": [
    {
     "data": {
      "text/html": [
       "<div>\n",
       "<style scoped>\n",
       "    .dataframe tbody tr th:only-of-type {\n",
       "        vertical-align: middle;\n",
       "    }\n",
       "\n",
       "    .dataframe tbody tr th {\n",
       "        vertical-align: top;\n",
       "    }\n",
       "\n",
       "    .dataframe thead th {\n",
       "        text-align: right;\n",
       "    }\n",
       "</style>\n",
       "<table border=\"1\" class=\"dataframe\">\n",
       "  <thead>\n",
       "    <tr style=\"text-align: right;\">\n",
       "      <th></th>\n",
       "      <th>21023-0.0</th>\n",
       "      <th>21027-0.0</th>\n",
       "      <th>21035-0.0</th>\n",
       "      <th>21048-0.0</th>\n",
       "      <th>21052-0.0</th>\n",
       "      <th>21051-0.0</th>\n",
       "      <th>21049-0.0</th>\n",
       "      <th>21057-0.0</th>\n",
       "      <th>21025-0.0</th>\n",
       "      <th>21036-0.0</th>\n",
       "    </tr>\n",
       "    <tr>\n",
       "      <th>eid</th>\n",
       "      <th></th>\n",
       "      <th></th>\n",
       "      <th></th>\n",
       "      <th></th>\n",
       "      <th></th>\n",
       "      <th></th>\n",
       "      <th></th>\n",
       "      <th></th>\n",
       "      <th></th>\n",
       "      <th></th>\n",
       "    </tr>\n",
       "  </thead>\n",
       "  <tbody>\n",
       "    <tr>\n",
       "      <th>1002393</th>\n",
       "      <td>2017-05-04T20:10:11</td>\n",
       "      <td>1.0</td>\n",
       "      <td>0.0</td>\n",
       "      <td>-600.0</td>\n",
       "      <td>-600.0</td>\n",
       "      <td>-600.0</td>\n",
       "      <td>-600.0</td>\n",
       "      <td>-600.0</td>\n",
       "      <td>2.0</td>\n",
       "      <td>NaN</td>\n",
       "    </tr>\n",
       "    <tr>\n",
       "      <th>1002884</th>\n",
       "      <td>2017-04-21T18:38:44</td>\n",
       "      <td>1.0</td>\n",
       "      <td>1.0</td>\n",
       "      <td>-601.0</td>\n",
       "      <td>-600.0</td>\n",
       "      <td>-601.0</td>\n",
       "      <td>-601.0</td>\n",
       "      <td>-600.0</td>\n",
       "      <td>3.0</td>\n",
       "      <td>6.0</td>\n",
       "    </tr>\n",
       "    <tr>\n",
       "      <th>1003357</th>\n",
       "      <td>2017-04-10T09:30:30</td>\n",
       "      <td>1.0</td>\n",
       "      <td>1.0</td>\n",
       "      <td>-600.0</td>\n",
       "      <td>-600.0</td>\n",
       "      <td>-600.0</td>\n",
       "      <td>-601.0</td>\n",
       "      <td>-818.0</td>\n",
       "      <td>3.0</td>\n",
       "      <td>2.0</td>\n",
       "    </tr>\n",
       "    <tr>\n",
       "      <th>1024186</th>\n",
       "      <td>2017-05-01T10:01:51</td>\n",
       "      <td>1.0</td>\n",
       "      <td>1.0</td>\n",
       "      <td>-601.0</td>\n",
       "      <td>-600.0</td>\n",
       "      <td>-601.0</td>\n",
       "      <td>-601.0</td>\n",
       "      <td>-313.0</td>\n",
       "      <td>6.0</td>\n",
       "      <td>3.0</td>\n",
       "    </tr>\n",
       "    <tr>\n",
       "      <th>1029223</th>\n",
       "      <td>2017-04-23T22:13:16</td>\n",
       "      <td>1.0</td>\n",
       "      <td>0.0</td>\n",
       "      <td>-600.0</td>\n",
       "      <td>-600.0</td>\n",
       "      <td>-600.0</td>\n",
       "      <td>-601.0</td>\n",
       "      <td>-600.0</td>\n",
       "      <td>2.0</td>\n",
       "      <td>NaN</td>\n",
       "    </tr>\n",
       "  </tbody>\n",
       "</table>\n",
       "</div>"
      ],
      "text/plain": [
       "                   21023-0.0  21027-0.0  21035-0.0  21048-0.0  21052-0.0  \\\n",
       "eid                                                                        \n",
       "1002393  2017-05-04T20:10:11        1.0        0.0     -600.0     -600.0   \n",
       "1002884  2017-04-21T18:38:44        1.0        1.0     -601.0     -600.0   \n",
       "1003357  2017-04-10T09:30:30        1.0        1.0     -600.0     -600.0   \n",
       "1024186  2017-05-01T10:01:51        1.0        1.0     -601.0     -600.0   \n",
       "1029223  2017-04-23T22:13:16        1.0        0.0     -600.0     -600.0   \n",
       "\n",
       "         21051-0.0  21049-0.0  21057-0.0  21025-0.0  21036-0.0  \n",
       "eid                                                             \n",
       "1002393     -600.0     -600.0     -600.0        2.0        NaN  \n",
       "1002884     -601.0     -601.0     -600.0        3.0        6.0  \n",
       "1003357     -600.0     -601.0     -818.0        3.0        2.0  \n",
       "1024186     -601.0     -601.0     -313.0        6.0        3.0  \n",
       "1029223     -600.0     -601.0     -600.0        2.0        NaN  "
      ]
     },
     "execution_count": 153,
     "metadata": {},
     "output_type": "execute_result"
    }
   ],
   "source": [
    "dfab[p_cols].head()"
   ]
  },
  {
   "cell_type": "code",
   "execution_count": 156,
   "id": "employed-alberta",
   "metadata": {},
   "outputs": [
    {
     "data": {
      "text/plain": [
       "(649, 3794)"
      ]
     },
     "execution_count": 156,
     "metadata": {},
     "output_type": "execute_result"
    }
   ],
   "source": [
    "dfab.shape"
   ]
  },
  {
   "cell_type": "code",
   "execution_count": null,
   "id": "theoretical-christian",
   "metadata": {},
   "outputs": [],
   "source": []
  }
 ],
 "metadata": {
  "kernelspec": {
   "display_name": "Python 3",
   "language": "python",
   "name": "python3"
  },
  "language_info": {
   "codemirror_mode": {
    "name": "ipython",
    "version": 3
   },
   "file_extension": ".py",
   "mimetype": "text/x-python",
   "name": "python",
   "nbconvert_exporter": "python",
   "pygments_lexer": "ipython3",
   "version": "3.8.8"
  }
 },
 "nbformat": 4,
 "nbformat_minor": 5
}
