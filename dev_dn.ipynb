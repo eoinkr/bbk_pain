{
 "cells": [
  {
   "cell_type": "markdown",
   "id": "cheap-arrest",
   "metadata": {},
   "source": [
    "### dev dn"
   ]
  },
  {
   "cell_type": "code",
   "execution_count": 1,
   "id": "transparent-ready",
   "metadata": {},
   "outputs": [],
   "source": [
    "import os\n",
    "from sklearn.datasets import fetch_covtype\n",
    "import random\n",
    "import numpy as np\n",
    "import pandas as pd\n",
    "import lightgbm as lgb\n",
    "from sklearn.metrics import accuracy_score, f1_score, roc_auc_score\n",
    "from sklearn.datasets import make_classification\n",
    "from sklearn.model_selection import train_test_split"
   ]
  },
  {
   "cell_type": "code",
   "execution_count": 2,
   "id": "299cfe8a-7632-4c4e-af5e-9e80509c5623",
   "metadata": {},
   "outputs": [],
   "source": [
    "from pytorch_tabular import TabularModel\n",
    "from pytorch_tabular.models import CategoryEmbeddingModelConfig, TabNetModelConfig, NodeConfig, AutoIntConfig\n",
    "from pytorch_tabular.config import DataConfig, OptimizerConfig, TrainerConfig, ExperimentConfig"
   ]
  },
  {
   "cell_type": "code",
   "execution_count": 3,
   "id": "e3ab988a-46b1-40a5-a0cc-5409878c7859",
   "metadata": {},
   "outputs": [],
   "source": [
    "from pytorch_tabular.utils import get_balanced_sampler, get_class_weighted_cross_entropy"
   ]
  },
  {
   "cell_type": "code",
   "execution_count": 4,
   "id": "ranging-north",
   "metadata": {},
   "outputs": [],
   "source": [
    "def load_classification_data():\n",
    "    dataset = fetch_covtype(data_home=\"data\")\n",
    "    data = np.hstack([dataset.data, dataset.target.reshape(-1, 1)])\n",
    "    col_names = [f\"feature_{i}\" for i in range(data.shape[-1])]\n",
    "    col_names[-1] = \"target\"\n",
    "    data = pd.DataFrame(data, columns=col_names)\n",
    "    data[\"feature_0_cat\"] = pd.qcut(data[\"feature_0\"], q=4)\n",
    "    data[\"feature_0_cat\"] = \"feature_0_\" + data.feature_0_cat.cat.codes.astype(str)\n",
    "    test_idx = data.sample(int(0.2 * len(data)), random_state=42).index\n",
    "    test = data[data.index.isin(test_idx)]\n",
    "    train = data[~data.index.isin(test_idx)]\n",
    "    return (train, test, [\"target\"])\n",
    "\n",
    "def print_metrics(y_true, y_pred, tag):\n",
    "    if isinstance(y_true, pd.DataFrame) or isinstance(y_true, pd.Series):\n",
    "        y_true = y_true.values\n",
    "    if isinstance(y_pred, pd.DataFrame) or isinstance(y_pred, pd.Series):\n",
    "        y_pred = y_pred.values\n",
    "    if y_true.ndim>1:\n",
    "        y_true=y_true.ravel()\n",
    "    if y_pred.ndim>1:\n",
    "        y_pred=y_pred.ravel()\n",
    "    val_acc = accuracy_score(y_true, y_pred)\n",
    "    val_f1 = f1_score(y_true, y_pred)\n",
    "    print(f\"{tag} Acc: {val_acc} | {tag} F1: {val_f1}\")\n",
    "    \n",
    "def make_mixed_classification(n_samples, n_features, n_categories):\n",
    "    X,y = make_classification(n_samples=n_samples, n_features=n_features, random_state=42, n_informative=5)\n",
    "    cat_cols = random.choices(list(range(X.shape[-1])),k=n_categories)\n",
    "    num_cols = [i for i in range(X.shape[-1]) if i not in cat_cols]\n",
    "    for col in cat_cols:\n",
    "        X[:,col] = pd.qcut(X[:,col], q=4).codes.astype(int)\n",
    "    col_names = [] \n",
    "    num_col_names=[]\n",
    "    cat_col_names=[]\n",
    "    for i in range(X.shape[-1]):\n",
    "        if i in cat_cols:\n",
    "            col_names.append(f\"cat_col_{i}\")\n",
    "            cat_col_names.append(f\"cat_col_{i}\")\n",
    "        if i in num_cols:\n",
    "            col_names.append(f\"num_col_{i}\")\n",
    "            num_col_names.append(f\"num_col_{i}\")\n",
    "    X = pd.DataFrame(X, columns=col_names)\n",
    "    y = pd.Series(y, name=\"target\")\n",
    "    data = X.join(y)\n",
    "    return data, cat_col_names, num_col_names\n",
    "\n",
    "def print_metrics(y_true, y_pred, tag):\n",
    "    if isinstance(y_true, pd.DataFrame) or isinstance(y_true, pd.Series):\n",
    "        y_true = y_true.values\n",
    "    if isinstance(y_pred, pd.DataFrame) or isinstance(y_pred, pd.Series):\n",
    "        y_pred = y_pred.values\n",
    "    if y_true.ndim>1:\n",
    "        y_true=y_true.ravel()\n",
    "    if y_pred.ndim>1:\n",
    "        y_pred=y_pred.ravel()\n",
    "    val_acc = accuracy_score(y_true, y_pred)\n",
    "    val_f1 = f1_score(y_true, y_pred)\n",
    "    val_auc = roc_auc_score(y_true, y_pred)\n",
    "    print(f\"{tag} Acc: {val_acc} \\n {tag} F1: {val_f1} \\n {tag} AUC: {val_auc}\")"
   ]
  },
  {
   "cell_type": "code",
   "execution_count": 19,
   "id": "right-possession",
   "metadata": {},
   "outputs": [],
   "source": [
    "data, cat_col_names, num_col_names = make_mixed_classification(\n",
    "    n_samples=10000, n_features=200, n_categories=40)\n",
    "train, test = train_test_split(data, random_state=42)\n",
    "train, val = train_test_split(train, random_state=42)"
   ]
  },
  {
   "cell_type": "code",
   "execution_count": 5,
   "id": "d4bb8691-afeb-48bd-a8cd-74ecfedbac4d",
   "metadata": {},
   "outputs": [],
   "source": [
    "from compare_control import *\n",
    "from clean_questions import *\n",
    "from predict_digestive import *"
   ]
  },
  {
   "cell_type": "code",
   "execution_count": 6,
   "id": "afda38af-a21c-4bf8-a26d-353e435da762",
   "metadata": {},
   "outputs": [
    {
     "name": "stderr",
     "output_type": "stream",
     "text": [
      "/home/fs0/syzhang/.conda/envs/bbk/lib/python3.8/site-packages/IPython/core/interactiveshell.py:3357: DtypeWarning: Columns (2446,2447,2448,2449,2450,2451,2452,2453,2454,2455,2456,2457,2458,2459,2460,2461,2462,2463,2464,2465,2500,2501,2502,2503,2504,2505,2506,2507,2508,2509,2561,2562,2563,2564,2565,2566,2567,2568,2569,2570,2571,2572,2573,2574,2575,2576,2577,2578,2579,2580,2581,2582,2583,2584,2585,2586,2587,2588,2589,2590,2591,2592,2593,2594,2595,2596,2597,2598,2599,2600,2601,2602,2603,2604,2605,2606,2607,2608,2609,2610,2611,2612,2613,2614,2615,2616,2617,2618,2619,2620,2621,2622,2623,2624,2625,2626,2627,2628,2629,2740,2741,2742,2743,2744,2745,2746,2747,2748,2751,2821,2822,2823,2824,2825,2826,2827,2828,2829,2830,2831,2832,2833,2834,2835,2836,2837,2838,2839,2840,2841,2842,2843,2844,2845,2846,2847,2848,2849,2850,2851,2852,2853,2854,2855,2856,2857,2858,2859,2860,2861,2862,2863,2864,2865,2866,2867,2868,2869,2870,2871,2872,2873,2874,2875,2876,2877,2878,2879,2880,2881,2882,2883,2884,2885,2886,2887,2888,2889,3002,3003,3004,3005,3006,3007,3008,3009,3010,3011) have mixed types.Specify dtype option on import or set low_memory=False.\n",
      "  if (await self.run_code(code, result,  async_=asy)):\n"
     ]
    },
    {
     "name": "stdout",
     "output_type": "stream",
     "text": [
      "Questionnaires from visits [2] shape=(4342, 962)\n",
      "After imputation shape=(4342, 956)\n"
     ]
    }
   ],
   "source": [
    "questionnaire = 'all'\n",
    "idp = 'all'\n",
    "question_visits = [2]\n",
    "impute_flag = True\n",
    "\n",
    "df = load_patient_grouped(questionnaire=questionnaire, idp=idp, \n",
    "                     question_visits=question_visits, imputed=impute_flag, \n",
    "                     patient_grouping='simplified')"
   ]
  },
  {
   "cell_type": "code",
   "execution_count": 49,
   "id": "440f46bd-61cd-4134-8ded-8b9ec2f04a9a",
   "metadata": {},
   "outputs": [
    {
     "name": "stderr",
     "output_type": "stream",
     "text": [
      "/home/fs0/syzhang/.conda/envs/bbk/lib/python3.8/site-packages/IPython/core/interactiveshell.py:3357: DtypeWarning: Columns (2441,2442,2443,2444,2445,2446,2447,2448,2449,2450,2451,2452,2453,2454,2455,2456,2457,2499,2500,2550,2551,2552,2553,2554,2555,2556,2557,2558,2559,2560,2561,2562,2563,2564,2565,2566,2567,2568,2569,2570,2571,2572,2573,2574,2575,2576,2577,2578,2579,2580,2581,2582,2583,2584,2585,2586,2587,2588,2589,2590,2591,2592,2593,2594,2595,2596,2597,2598,2599,2600,2601,2602,2603,2604,2605,2606,2607,2742,2743,2810,2811,2812,2813,2814,2815,2816,2817,2818,2819,2820,2821,2822,2823,2824,2825,2826,2827,2828,2829,2830,2831,2832,2833,2834,2835,2836,2837,2838,2839,2840,2841,2842,2843,2844,2845,2846,2847,2848,2849,2850,2851,2852,2853,2854,2855,2856,2857,2858,2859,2860,2861,2862,2863,2864,2865,2866,2867,3000,3001,3002,3003,3004) have mixed types.Specify dtype option on import or set low_memory=False.\n",
      "  if (await self.run_code(code, result,  async_=asy)):\n"
     ]
    },
    {
     "name": "stdout",
     "output_type": "stream",
     "text": [
      "(3951, 3797)\n",
      "Questionnaires from visits [2] shape=(3951, 962)\n",
      "After imputation shape=(3951, 953)\n"
     ]
    }
   ],
   "source": [
    "df = load_digestive_data(label_type='severe', questionnaire=questionnaire, idp=idp, \n",
    "                         question_visits=question_visits, imputed=impute_flag)"
   ]
  },
  {
   "cell_type": "code",
   "execution_count": 12,
   "id": "638f05be-5397-4db3-98d9-02acac3b2694",
   "metadata": {},
   "outputs": [
    {
     "name": "stderr",
     "output_type": "stream",
     "text": [
      "/home/fs0/syzhang/.conda/envs/bbk/lib/python3.8/site-packages/IPython/core/interactiveshell.py:3437: DtypeWarning: Columns (2446,2447,2448,2449,2450,2451,2452,2453,2454,2455,2456,2457,2458,2459,2460,2461,2462,2463,2464,2465,2500,2501,2502,2503,2504,2505,2506,2507,2508,2509,2561,2562,2563,2564,2565,2566,2567,2568,2569,2570,2571,2572,2573,2574,2575,2576,2577,2578,2579,2580,2581,2582,2583,2584,2585,2586,2587,2588,2589,2590,2591,2592,2593,2594,2595,2596,2597,2598,2599,2600,2601,2602,2603,2604,2605,2606,2607,2608,2609,2610,2611,2612,2613,2614,2615,2616,2617,2618,2619,2620,2621,2622,2623,2624,2625,2626,2627,2628,2629,2740,2741,2742,2743,2744,2745,2746,2747,2748,2751,2821,2822,2823,2824,2825,2826,2827,2828,2829,2830,2831,2832,2833,2834,2835,2836,2837,2838,2839,2840,2841,2842,2843,2844,2845,2846,2847,2848,2849,2850,2851,2852,2853,2854,2855,2856,2857,2858,2859,2860,2861,2862,2863,2864,2865,2866,2867,2868,2869,2870,2871,2872,2873,2874,2875,2876,2877,2878,2879,2880,2881,2882,2883,2884,2885,2886,2887,2888,2889,3002,3003,3004,3005,3006,3007,3008,3009,3010,3011) have mixed types.Specify dtype option on import or set low_memory=False.\n",
      "  exec(code_obj, self.user_global_ns, self.user_ns)\n",
      "/home/fs0/syzhang/.conda/envs/bbk/lib/python3.8/site-packages/IPython/core/interactiveshell.py:3357: DtypeWarning: Columns (2441,2442,2443,2444,2445,2446,2447,2448,2449,2450,2451,2452,2453,2500,2501,2502,2503,2504,2505,2506,2507,2545,2546,2547,2548,2549,2550,2551,2552,2553,2554,2555,2556,2557,2558,2559,2560,2561,2562,2563,2564,2565,2566,2567,2568,2569,2570,2571,2572,2573,2574,2575,2576,2577,2578,2579,2580,2740,2741,2742,2743,2744,2745,2746,2747,2748,2749,2750,2751,2805,2806,2807,2808,2809,2810,2811,2812,2813,2814,2815,2816,2817,2818,2819,2820,2821,2822,2823,2824,2825,2826,2827,2828,2829,2830,2831,2832,2833,2834,2835,2836,2837,2838,2839,2840,3002,3003,3004,3005,3006,3007,3008,3009,3010,3011) have mixed types.Specify dtype option on import or set low_memory=False.\n",
      "  if (await self.run_code(code, result,  async_=asy)):\n"
     ]
    },
    {
     "name": "stdout",
     "output_type": "stream",
     "text": [
      "Patients=4342, controls=4376\n",
      "Questionnaires from visits [2] shape=(8718, 962)\n",
      "After imputation shape=(8718, 956)\n"
     ]
    }
   ],
   "source": [
    "df = load_patient_matched(questionnaire=questionnaire, idp=idp, \n",
    "                          question_visits=question_visits, imputed=impute_flag)"
   ]
  },
  {
   "cell_type": "code",
   "execution_count": 7,
   "id": "18ebf65a-94eb-438f-a48e-495b09168bca",
   "metadata": {},
   "outputs": [],
   "source": [
    "# remove time cols\n",
    "for col in df.columns:\n",
    "    if col!='label' and col!='eid': # exclude label\n",
    "        # remove time stamp cols\n",
    "        if df[col].dtype==object:\n",
    "            df.drop(col, axis=1, inplace=True)"
   ]
  },
  {
   "cell_type": "code",
   "execution_count": 8,
   "id": "66905fec-a780-46ef-8164-1bdbf1369539",
   "metadata": {},
   "outputs": [
    {
     "data": {
      "text/plain": [
       "0.39175495163519114"
      ]
     },
     "execution_count": 8,
     "metadata": {},
     "output_type": "execute_result"
    }
   ],
   "source": [
    "1- df['label'].sum()/df.shape[0]"
   ]
  },
  {
   "cell_type": "code",
   "execution_count": 9,
   "id": "e447199f-bfb2-4068-8658-1270dc8b9f7f",
   "metadata": {},
   "outputs": [],
   "source": [
    "df.drop(['eid'],axis=1,inplace=True)"
   ]
  },
  {
   "cell_type": "code",
   "execution_count": 51,
   "id": "1796f95c-6a5c-4a36-8d4d-308e4fea4cb5",
   "metadata": {},
   "outputs": [],
   "source": [
    "train, test = train_test_split(df, random_state=42)\n",
    "train, val = train_test_split(train, random_state=42)"
   ]
  },
  {
   "cell_type": "code",
   "execution_count": 52,
   "id": "8078db99-c1ec-4030-ae5e-a60e9867257e",
   "metadata": {},
   "outputs": [
    {
     "name": "stdout",
     "output_type": "stream",
     "text": [
      "Validation Acc: 0.6612685560053981 \n",
      " Validation F1: 0.12543554006968644 \n",
      " Validation AUC: 0.5054623258936063\n",
      "Holdout Acc: 0.6659919028340081 \n",
      " Holdout F1: 0.17499999999999996 \n",
      " Holdout AUC: 0.5231388517031087\n"
     ]
    }
   ],
   "source": [
    "target_col = 'label'\n",
    "clf = lgb.LGBMClassifier(random_state=42, n_jobs=-1)\n",
    "clf.fit(train.drop(columns=target_col), train[target_col].values.ravel())\n",
    "val_pred = clf.predict(val.drop(columns=target_col))\n",
    "print_metrics(val[target_col], val_pred, \"Validation\")\n",
    "test_pred = clf.predict(test.drop(columns=target_col))\n",
    "print_metrics(test[target_col], test_pred, \"Holdout\")"
   ]
  },
  {
   "cell_type": "code",
   "execution_count": 12,
   "id": "93b0d101-cbc2-4c47-a211-1c1a3c78cb3f",
   "metadata": {},
   "outputs": [],
   "source": [
    "col_names = train.columns.to_list()\n",
    "# col_names"
   ]
  },
  {
   "cell_type": "code",
   "execution_count": 321,
   "id": "c940bf49-4b79-41f7-99e7-5b4c7798c9b3",
   "metadata": {},
   "outputs": [],
   "source": [
    "data_config = DataConfig(\n",
    "    target=[target_col], #target should always be a list. Multi-targets are only supported for regression. Multi-Task Classification is not implemented\n",
    "    continuous_cols=col_names,\n",
    "#     categorical_cols=cat_col_names,\n",
    "#     continuous_feature_transform=\"quantile_normal\",\n",
    "#     normalize_continuous_features=True\n",
    ")\n",
    "trainer_config = TrainerConfig(\n",
    "    auto_lr_find=True, # Runs the LRFinder to automatically derive a learning rate\n",
    "    batch_size=512,\n",
    "    max_epochs=100,\n",
    "    gpus=0, #index of the GPU to use. 0, means CPU\n",
    ")\n",
    "optimizer_config = OptimizerConfig()\n",
    "# model_config = CategoryEmbeddingModelConfig(\n",
    "#     task=\"classification\",\n",
    "#     layers=\"128-64-32\",  # Number of nodes in each layer\n",
    "#     activation=\"LeakyReLU\", # Activation between each layers\n",
    "#     learning_rate = 1e-3,\n",
    "#     metrics=[\"accuracy\",\"f1\"],\n",
    "#     metrics_params=[{},{\"num_classes\":2}]\n",
    "# )\n",
    "# model_config = TabNetModelConfig(\n",
    "#     task=\"classification\",\n",
    "# #     learning_rate = 1e-3,\n",
    "# #     n_d = 16,\n",
    "# #     n_a = 16,\n",
    "#     metrics=[\"accuracy\",\"f1\"],\n",
    "#     metrics_params=[{},{\"num_classes\":2}]\n",
    "# )\n",
    "model_config = AutoIntConfig(\n",
    "    task=\"classification\",\n",
    "    attn_embed_dim=8,\n",
    "    num_attn_blocks=1,\n",
    "    metrics=[\"accuracy\",\"f1\"],\n",
    "    metrics_params=[{},{\"num_classes\":2}]\n",
    ")\n",
    "# model_config = NodeConfig(\n",
    "#     task=\"classification\",\n",
    "#     num_trees=128,\n",
    "#     metrics=[\"accuracy\",\"f1\"],\n",
    "#     metrics_params=[{},{\"num_classes\":2}]\n",
    "# )\n",
    "tabular_model = TabularModel(\n",
    "    data_config=data_config,\n",
    "    model_config=model_config,\n",
    "    optimizer_config=optimizer_config,\n",
    "    trainer_config=trainer_config,\n",
    ")"
   ]
  },
  {
   "cell_type": "code",
   "execution_count": 322,
   "id": "784e3821-f95b-4d08-940c-c588da2092b1",
   "metadata": {},
   "outputs": [],
   "source": [
    "sampler = get_balanced_sampler(train[target_col].values.ravel())"
   ]
  },
  {
   "cell_type": "code",
   "execution_count": null,
   "id": "a2c9555c-263d-4059-8009-e89a665cbf87",
   "metadata": {},
   "outputs": [
    {
     "name": "stderr",
     "output_type": "stream",
     "text": [
      "/home/fs0/syzhang/.conda/envs/bbk/lib/python3.8/site-packages/pytorch_lightning/utilities/distributed.py:45: UserWarning: Checkpoint directory saved_models exists and is not empty. With save_top_k=1, all files in this directory will be deleted when a checkpoint is saved!\n",
      "  warnings.warn(*args, **kwargs)\n",
      "GPU available: False, used: False\n",
      "TPU available: False, using: 0 TPU cores\n",
      "GPU available: False, used: False\n",
      "TPU available: False, using: 0 TPU cores\n",
      "\n",
      "  | Name         | Type             | Params\n",
      "--------------------------------------------------\n",
      "0 | backbone     | AutoIntBackbone  | 15.8 K\n",
      "1 | dropout      | Dropout          | 0     \n",
      "2 | output_layer | Linear           | 15.3 K\n",
      "3 | loss         | CrossEntropyLoss | 0     \n",
      "/home/fs0/syzhang/.conda/envs/bbk/lib/python3.8/site-packages/pytorch_lightning/utilities/distributed.py:45: UserWarning: The dataloader, val dataloader 0, does not have many workers which may be a bottleneck. Consider increasing the value of the `num_workers` argument` (try 32 which is the number of cpus on this machine) in the `DataLoader` init to improve performance.\n",
      "  warnings.warn(*args, **kwargs)\n",
      "/home/fs0/syzhang/.conda/envs/bbk/lib/python3.8/site-packages/pytorch_lightning/utilities/distributed.py:45: UserWarning: The dataloader, train dataloader, does not have many workers which may be a bottleneck. Consider increasing the value of the `num_workers` argument` (try 32 which is the number of cpus on this machine) in the `DataLoader` init to improve performance.\n",
      "  warnings.warn(*args, **kwargs)\n"
     ]
    },
    {
     "data": {
      "application/vnd.jupyter.widget-view+json": {
       "model_id": "61b3eb97d7fb4bc2b9c139e6a9c0f43e",
       "version_major": 2,
       "version_minor": 0
      },
      "text/plain": [
       "Finding best initial lr:   0%|          | 0/100 [00:00<?, ?it/s]"
      ]
     },
     "metadata": {},
     "output_type": "display_data"
    }
   ],
   "source": [
    "tabular_model.fit(train=train, validation=val, train_sampler=sampler)\n",
    "# tabular_model.fit(train=train, validation=val)"
   ]
  },
  {
   "cell_type": "code",
   "execution_count": 282,
   "id": "c015993f-0708-4015-9f16-08b34a51e5f9",
   "metadata": {},
   "outputs": [
    {
     "name": "stderr",
     "output_type": "stream",
     "text": [
      "/home/fs0/syzhang/.conda/envs/bbk/lib/python3.8/site-packages/pytorch_lightning/utilities/distributed.py:45: UserWarning: The dataloader, test dataloader 0, does not have many workers which may be a bottleneck. Consider increasing the value of the `num_workers` argument` (try 32 which is the number of cpus on this machine) in the `DataLoader` init to improve performance.\n",
      "  warnings.warn(*args, **kwargs)\n"
     ]
    },
    {
     "data": {
      "application/vnd.jupyter.widget-view+json": {
       "model_id": "fb4605f9c425407eb6ee2d6494887909",
       "version_major": 2,
       "version_minor": 0
      },
      "text/plain": [
       "Testing: 0it [00:00, ?it/s]"
      ]
     },
     "metadata": {},
     "output_type": "display_data"
    },
    {
     "name": "stdout",
     "output_type": "stream",
     "text": [
      "--------------------------------------------------------------------------------\n",
      "DATALOADER:0 TEST RESULTS\n",
      "{'test_accuracy': tensor(0.4530),\n",
      " 'test_f1': tensor(0.4530),\n",
      " 'train_accuracy': tensor(0.4966),\n",
      " 'train_f1': tensor(0.4966),\n",
      " 'train_loss': tensor(0.8835),\n",
      " 'valid_accuracy': tensor(0.4693),\n",
      " 'valid_f1': tensor(0.4693),\n",
      " 'valid_loss': tensor(0.7349)}\n",
      "--------------------------------------------------------------------------------\n"
     ]
    }
   ],
   "source": [
    "result = tabular_model.evaluate(test)"
   ]
  },
  {
   "cell_type": "code",
   "execution_count": 268,
   "id": "390b6d17-7100-4390-997c-7aaf73bf8335",
   "metadata": {},
   "outputs": [
    {
     "data": {
      "application/vnd.jupyter.widget-view+json": {
       "model_id": "1206a281ac3f430b8fb5ce68badf1540",
       "version_major": 2,
       "version_minor": 0
      },
      "text/plain": [
       "Generating Predictions...:   0%|          | 0/3 [00:00<?, ?it/s]"
      ]
     },
     "metadata": {},
     "output_type": "display_data"
    }
   ],
   "source": [
    "pred_df = tabular_model.predict(test)"
   ]
  },
  {
   "cell_type": "code",
   "execution_count": 269,
   "id": "25a61bab-f6fe-4bc1-95f3-6a45ec95309d",
   "metadata": {},
   "outputs": [
    {
     "data": {
      "text/plain": [
       " 0.825723    681\n",
       "-1.211060    405\n",
       "Name: prediction, dtype: int64"
      ]
     },
     "execution_count": 269,
     "metadata": {},
     "output_type": "execute_result"
    }
   ],
   "source": [
    "pred_df['prediction'].value_counts()"
   ]
  },
  {
   "cell_type": "code",
   "execution_count": 270,
   "id": "b00d53ed-ec46-4dc5-8f46-f7bb349df6d6",
   "metadata": {},
   "outputs": [],
   "source": [
    "tmp = pred_df['prediction']>0\n",
    "preds = tmp.astype(int)"
   ]
  },
  {
   "cell_type": "code",
   "execution_count": 271,
   "id": "70bc5902-5f06-4258-b4d8-56e4b661771d",
   "metadata": {},
   "outputs": [
    {
     "data": {
      "text/plain": [
       "1    687\n",
       "0    399\n",
       "Name: label, dtype: int64"
      ]
     },
     "execution_count": 271,
     "metadata": {},
     "output_type": "execute_result"
    }
   ],
   "source": [
    "test[target_col].value_counts()"
   ]
  },
  {
   "cell_type": "code",
   "execution_count": 272,
   "id": "4b86b782-1ddf-40fe-b383-b0b332186d03",
   "metadata": {},
   "outputs": [
    {
     "name": "stdout",
     "output_type": "stream",
     "text": [
      "Holdout Acc: 0.9760589318600368 \n",
      " Holdout F1: 0.9809941520467836 \n",
      " Holdout AUC: 0.9758238390736667\n"
     ]
    }
   ],
   "source": [
    "print_metrics(test[target_col], preds, tag=\"Holdout\")"
   ]
  },
  {
   "cell_type": "code",
   "execution_count": 304,
   "id": "f8d8890c-1223-4f65-81da-f0a56e7b2ad2",
   "metadata": {},
   "outputs": [
    {
     "name": "stderr",
     "output_type": "stream",
     "text": [
      "GPU available: False, used: False\n",
      "TPU available: False, using: 0 TPU cores\n",
      "GPU available: False, used: False\n",
      "TPU available: False, using: 0 TPU cores\n"
     ]
    }
   ],
   "source": [
    "# tabular_model.save_model(\"examples/basic\")\n",
    "loaded_model = TabularModel.load_from_checkpoint(\"examples/basic\")"
   ]
  },
  {
   "cell_type": "code",
   "execution_count": 305,
   "id": "0ad47b37-4d3f-48c3-8ddb-fcdfc2913ab7",
   "metadata": {},
   "outputs": [],
   "source": [
    "train, test = train_test_split(df, random_state=4)\n",
    "train, val = train_test_split(train, random_state=4)"
   ]
  },
  {
   "cell_type": "code",
   "execution_count": 306,
   "id": "67a9584d-830e-4792-a332-d1dde739d36a",
   "metadata": {
    "collapsed": true,
    "jupyter": {
     "outputs_hidden": true
    },
    "tags": []
   },
   "outputs": [
    {
     "ename": "KeyError",
     "evalue": "\"Passing list-likes to .loc or [] with any missing labels is no longer supported. The following labels were missing: Index(['20486-0.0', '20527-0.0', '20458-0.0'], dtype='object'). See https://pandas.pydata.org/pandas-docs/stable/user_guide/indexing.html#deprecate-loc-reindex-listlike\"",
     "output_type": "error",
     "traceback": [
      "\u001b[0;31m-------------------------------------------------------------\u001b[0m",
      "\u001b[0;31mKeyError\u001b[0m                    Traceback (most recent call last)",
      "\u001b[0;32m<ipython-input-306-a3eef1128e98>\u001b[0m in \u001b[0;36m<module>\u001b[0;34m\u001b[0m\n\u001b[0;32m----> 1\u001b[0;31m \u001b[0mresult\u001b[0m \u001b[0;34m=\u001b[0m \u001b[0mloaded_model\u001b[0m\u001b[0;34m.\u001b[0m\u001b[0mevaluate\u001b[0m\u001b[0;34m(\u001b[0m\u001b[0mtest\u001b[0m\u001b[0;34m)\u001b[0m\u001b[0;34m\u001b[0m\u001b[0;34m\u001b[0m\u001b[0m\n\u001b[0m",
      "\u001b[0;32m~/.conda/envs/bbk/lib/python3.8/site-packages/pytorch_tabular/tabular_model.py\u001b[0m in \u001b[0;36mevaluate\u001b[0;34m(self, test)\u001b[0m\n\u001b[1;32m    565\u001b[0m         \"\"\"\n\u001b[1;32m    566\u001b[0m         \u001b[0;32mif\u001b[0m \u001b[0mtest\u001b[0m \u001b[0;32mis\u001b[0m \u001b[0;32mnot\u001b[0m \u001b[0;32mNone\u001b[0m\u001b[0;34m:\u001b[0m\u001b[0;34m\u001b[0m\u001b[0;34m\u001b[0m\u001b[0m\n\u001b[0;32m--> 567\u001b[0;31m             \u001b[0mtest_loader\u001b[0m \u001b[0;34m=\u001b[0m \u001b[0mself\u001b[0m\u001b[0;34m.\u001b[0m\u001b[0mdatamodule\u001b[0m\u001b[0;34m.\u001b[0m\u001b[0mprepare_inference_dataloader\u001b[0m\u001b[0;34m(\u001b[0m\u001b[0mtest\u001b[0m\u001b[0;34m)\u001b[0m\u001b[0;34m\u001b[0m\u001b[0;34m\u001b[0m\u001b[0m\n\u001b[0m\u001b[1;32m    568\u001b[0m         \u001b[0;32melif\u001b[0m \u001b[0mself\u001b[0m\u001b[0;34m.\u001b[0m\u001b[0mtest\u001b[0m \u001b[0;32mis\u001b[0m \u001b[0;32mnot\u001b[0m \u001b[0;32mNone\u001b[0m\u001b[0;34m:\u001b[0m\u001b[0;34m\u001b[0m\u001b[0;34m\u001b[0m\u001b[0m\n\u001b[1;32m    569\u001b[0m             \u001b[0mtest_loader\u001b[0m \u001b[0;34m=\u001b[0m \u001b[0mself\u001b[0m\u001b[0;34m.\u001b[0m\u001b[0mdatamodule\u001b[0m\u001b[0;34m.\u001b[0m\u001b[0mtest_dataloader\u001b[0m\u001b[0;34m(\u001b[0m\u001b[0;34m)\u001b[0m\u001b[0;34m\u001b[0m\u001b[0;34m\u001b[0m\u001b[0m\n",
      "\u001b[0;32m~/.conda/envs/bbk/lib/python3.8/site-packages/pytorch_tabular/tabular_datamodule.py\u001b[0m in \u001b[0;36mprepare_inference_dataloader\u001b[0;34m(self, df)\u001b[0m\n\u001b[1;32m    517\u001b[0m             \u001b[0;32melse\u001b[0m\u001b[0;34m:\u001b[0m\u001b[0;34m\u001b[0m\u001b[0;34m\u001b[0m\u001b[0m\n\u001b[1;32m    518\u001b[0m                 \u001b[0mdf\u001b[0m\u001b[0;34m.\u001b[0m\u001b[0mloc\u001b[0m\u001b[0;34m[\u001b[0m\u001b[0;34m:\u001b[0m\u001b[0;34m,\u001b[0m \u001b[0mself\u001b[0m\u001b[0;34m.\u001b[0m\u001b[0mtarget\u001b[0m\u001b[0;34m]\u001b[0m \u001b[0;34m=\u001b[0m \u001b[0mnp\u001b[0m\u001b[0;34m.\u001b[0m\u001b[0mzeros\u001b[0m\u001b[0;34m(\u001b[0m\u001b[0;34m(\u001b[0m\u001b[0mlen\u001b[0m\u001b[0;34m(\u001b[0m\u001b[0mdf\u001b[0m\u001b[0;34m)\u001b[0m\u001b[0;34m,\u001b[0m \u001b[0mlen\u001b[0m\u001b[0;34m(\u001b[0m\u001b[0mself\u001b[0m\u001b[0;34m.\u001b[0m\u001b[0mtarget\u001b[0m\u001b[0;34m)\u001b[0m\u001b[0;34m)\u001b[0m\u001b[0;34m)\u001b[0m\u001b[0;34m\u001b[0m\u001b[0;34m\u001b[0m\u001b[0m\n\u001b[0;32m--> 519\u001b[0;31m         \u001b[0mdf\u001b[0m\u001b[0;34m,\u001b[0m \u001b[0m_\u001b[0m \u001b[0;34m=\u001b[0m \u001b[0mself\u001b[0m\u001b[0;34m.\u001b[0m\u001b[0mpreprocess_data\u001b[0m\u001b[0;34m(\u001b[0m\u001b[0mdf\u001b[0m\u001b[0;34m,\u001b[0m \u001b[0mstage\u001b[0m\u001b[0;34m=\u001b[0m\u001b[0;34m\"inference\"\u001b[0m\u001b[0;34m)\u001b[0m\u001b[0;34m\u001b[0m\u001b[0;34m\u001b[0m\u001b[0m\n\u001b[0m\u001b[1;32m    520\u001b[0m \u001b[0;34m\u001b[0m\u001b[0m\n\u001b[1;32m    521\u001b[0m         dataset = TabularDataset(\n",
      "\u001b[0;32m~/.conda/envs/bbk/lib/python3.8/site-packages/pytorch_tabular/tabular_datamodule.py\u001b[0m in \u001b[0;36mpreprocess_data\u001b[0;34m(self, data, stage)\u001b[0m\n\u001b[1;32m    215\u001b[0m             \u001b[0;32melse\u001b[0m\u001b[0;34m:\u001b[0m\u001b[0;34m\u001b[0m\u001b[0;34m\u001b[0m\u001b[0m\n\u001b[1;32m    216\u001b[0m                 data.loc[:, self.config.continuous_cols] = self.scaler.transform(\n\u001b[0;32m--> 217\u001b[0;31m                     \u001b[0mdata\u001b[0m\u001b[0;34m.\u001b[0m\u001b[0mloc\u001b[0m\u001b[0;34m[\u001b[0m\u001b[0;34m:\u001b[0m\u001b[0;34m,\u001b[0m \u001b[0mself\u001b[0m\u001b[0;34m.\u001b[0m\u001b[0mconfig\u001b[0m\u001b[0;34m.\u001b[0m\u001b[0mcontinuous_cols\u001b[0m\u001b[0;34m]\u001b[0m\u001b[0;34m\u001b[0m\u001b[0;34m\u001b[0m\u001b[0m\n\u001b[0m\u001b[1;32m    218\u001b[0m                 )\n\u001b[1;32m    219\u001b[0m \u001b[0;34m\u001b[0m\u001b[0m\n",
      "\u001b[0;32m~/.conda/envs/bbk/lib/python3.8/site-packages/pandas/core/indexing.py\u001b[0m in \u001b[0;36m__getitem__\u001b[0;34m(self, key)\u001b[0m\n\u001b[1;32m    871\u001b[0m                     \u001b[0;31m# AttributeError for IntervalTree get_value\u001b[0m\u001b[0;34m\u001b[0m\u001b[0;34m\u001b[0m\u001b[0;34m\u001b[0m\u001b[0m\n\u001b[1;32m    872\u001b[0m                     \u001b[0;32mpass\u001b[0m\u001b[0;34m\u001b[0m\u001b[0;34m\u001b[0m\u001b[0m\n\u001b[0;32m--> 873\u001b[0;31m             \u001b[0;32mreturn\u001b[0m \u001b[0mself\u001b[0m\u001b[0;34m.\u001b[0m\u001b[0m_getitem_tuple\u001b[0m\u001b[0;34m(\u001b[0m\u001b[0mkey\u001b[0m\u001b[0;34m)\u001b[0m\u001b[0;34m\u001b[0m\u001b[0;34m\u001b[0m\u001b[0m\n\u001b[0m\u001b[1;32m    874\u001b[0m         \u001b[0;32melse\u001b[0m\u001b[0;34m:\u001b[0m\u001b[0;34m\u001b[0m\u001b[0;34m\u001b[0m\u001b[0m\n\u001b[1;32m    875\u001b[0m             \u001b[0;31m# we by definition only have the 0th axis\u001b[0m\u001b[0;34m\u001b[0m\u001b[0;34m\u001b[0m\u001b[0;34m\u001b[0m\u001b[0m\n",
      "\u001b[0;32m~/.conda/envs/bbk/lib/python3.8/site-packages/pandas/core/indexing.py\u001b[0m in \u001b[0;36m_getitem_tuple\u001b[0;34m(self, tup)\u001b[0m\n\u001b[1;32m   1053\u001b[0m             \u001b[0;32mreturn\u001b[0m \u001b[0mself\u001b[0m\u001b[0;34m.\u001b[0m\u001b[0m_multi_take\u001b[0m\u001b[0;34m(\u001b[0m\u001b[0mtup\u001b[0m\u001b[0;34m)\u001b[0m\u001b[0;34m\u001b[0m\u001b[0;34m\u001b[0m\u001b[0m\n\u001b[1;32m   1054\u001b[0m \u001b[0;34m\u001b[0m\u001b[0m\n\u001b[0;32m-> 1055\u001b[0;31m         \u001b[0;32mreturn\u001b[0m \u001b[0mself\u001b[0m\u001b[0;34m.\u001b[0m\u001b[0m_getitem_tuple_same_dim\u001b[0m\u001b[0;34m(\u001b[0m\u001b[0mtup\u001b[0m\u001b[0;34m)\u001b[0m\u001b[0;34m\u001b[0m\u001b[0;34m\u001b[0m\u001b[0m\n\u001b[0m\u001b[1;32m   1056\u001b[0m \u001b[0;34m\u001b[0m\u001b[0m\n\u001b[1;32m   1057\u001b[0m     \u001b[0;32mdef\u001b[0m \u001b[0m_get_label\u001b[0m\u001b[0;34m(\u001b[0m\u001b[0mself\u001b[0m\u001b[0;34m,\u001b[0m \u001b[0mlabel\u001b[0m\u001b[0;34m,\u001b[0m \u001b[0maxis\u001b[0m\u001b[0;34m:\u001b[0m \u001b[0mint\u001b[0m\u001b[0;34m)\u001b[0m\u001b[0;34m:\u001b[0m\u001b[0;34m\u001b[0m\u001b[0;34m\u001b[0m\u001b[0m\n",
      "\u001b[0;32m~/.conda/envs/bbk/lib/python3.8/site-packages/pandas/core/indexing.py\u001b[0m in \u001b[0;36m_getitem_tuple_same_dim\u001b[0;34m(self, tup)\u001b[0m\n\u001b[1;32m    748\u001b[0m                 \u001b[0;32mcontinue\u001b[0m\u001b[0;34m\u001b[0m\u001b[0;34m\u001b[0m\u001b[0m\n\u001b[1;32m    749\u001b[0m \u001b[0;34m\u001b[0m\u001b[0m\n\u001b[0;32m--> 750\u001b[0;31m             \u001b[0mretval\u001b[0m \u001b[0;34m=\u001b[0m \u001b[0mgetattr\u001b[0m\u001b[0;34m(\u001b[0m\u001b[0mretval\u001b[0m\u001b[0;34m,\u001b[0m \u001b[0mself\u001b[0m\u001b[0;34m.\u001b[0m\u001b[0mname\u001b[0m\u001b[0;34m)\u001b[0m\u001b[0;34m.\u001b[0m\u001b[0m_getitem_axis\u001b[0m\u001b[0;34m(\u001b[0m\u001b[0mkey\u001b[0m\u001b[0;34m,\u001b[0m \u001b[0maxis\u001b[0m\u001b[0;34m=\u001b[0m\u001b[0mi\u001b[0m\u001b[0;34m)\u001b[0m\u001b[0;34m\u001b[0m\u001b[0;34m\u001b[0m\u001b[0m\n\u001b[0m\u001b[1;32m    751\u001b[0m             \u001b[0;31m# We should never have retval.ndim < self.ndim, as that should\u001b[0m\u001b[0;34m\u001b[0m\u001b[0;34m\u001b[0m\u001b[0;34m\u001b[0m\u001b[0m\n\u001b[1;32m    752\u001b[0m             \u001b[0;31m#  be handled by the _getitem_lowerdim call above.\u001b[0m\u001b[0;34m\u001b[0m\u001b[0;34m\u001b[0m\u001b[0;34m\u001b[0m\u001b[0m\n",
      "\u001b[0;32m~/.conda/envs/bbk/lib/python3.8/site-packages/pandas/core/indexing.py\u001b[0m in \u001b[0;36m_getitem_axis\u001b[0;34m(self, key, axis)\u001b[0m\n\u001b[1;32m   1097\u001b[0m                     \u001b[0;32mraise\u001b[0m \u001b[0mValueError\u001b[0m\u001b[0;34m(\u001b[0m\u001b[0;34m\"Cannot index with multidimensional key\"\u001b[0m\u001b[0;34m)\u001b[0m\u001b[0;34m\u001b[0m\u001b[0;34m\u001b[0m\u001b[0m\n\u001b[1;32m   1098\u001b[0m \u001b[0;34m\u001b[0m\u001b[0m\n\u001b[0;32m-> 1099\u001b[0;31m                 \u001b[0;32mreturn\u001b[0m \u001b[0mself\u001b[0m\u001b[0;34m.\u001b[0m\u001b[0m_getitem_iterable\u001b[0m\u001b[0;34m(\u001b[0m\u001b[0mkey\u001b[0m\u001b[0;34m,\u001b[0m \u001b[0maxis\u001b[0m\u001b[0;34m=\u001b[0m\u001b[0maxis\u001b[0m\u001b[0;34m)\u001b[0m\u001b[0;34m\u001b[0m\u001b[0;34m\u001b[0m\u001b[0m\n\u001b[0m\u001b[1;32m   1100\u001b[0m \u001b[0;34m\u001b[0m\u001b[0m\n\u001b[1;32m   1101\u001b[0m             \u001b[0;31m# nested tuple slicing\u001b[0m\u001b[0;34m\u001b[0m\u001b[0;34m\u001b[0m\u001b[0;34m\u001b[0m\u001b[0m\n",
      "\u001b[0;32m~/.conda/envs/bbk/lib/python3.8/site-packages/pandas/core/indexing.py\u001b[0m in \u001b[0;36m_getitem_iterable\u001b[0;34m(self, key, axis)\u001b[0m\n\u001b[1;32m   1035\u001b[0m \u001b[0;34m\u001b[0m\u001b[0m\n\u001b[1;32m   1036\u001b[0m         \u001b[0;31m# A collection of keys\u001b[0m\u001b[0;34m\u001b[0m\u001b[0;34m\u001b[0m\u001b[0;34m\u001b[0m\u001b[0m\n\u001b[0;32m-> 1037\u001b[0;31m         \u001b[0mkeyarr\u001b[0m\u001b[0;34m,\u001b[0m \u001b[0mindexer\u001b[0m \u001b[0;34m=\u001b[0m \u001b[0mself\u001b[0m\u001b[0;34m.\u001b[0m\u001b[0m_get_listlike_indexer\u001b[0m\u001b[0;34m(\u001b[0m\u001b[0mkey\u001b[0m\u001b[0;34m,\u001b[0m \u001b[0maxis\u001b[0m\u001b[0;34m,\u001b[0m \u001b[0mraise_missing\u001b[0m\u001b[0;34m=\u001b[0m\u001b[0;32mFalse\u001b[0m\u001b[0;34m)\u001b[0m\u001b[0;34m\u001b[0m\u001b[0;34m\u001b[0m\u001b[0m\n\u001b[0m\u001b[1;32m   1038\u001b[0m         return self.obj._reindex_with_indexers(\n\u001b[1;32m   1039\u001b[0m             \u001b[0;34m{\u001b[0m\u001b[0maxis\u001b[0m\u001b[0;34m:\u001b[0m \u001b[0;34m[\u001b[0m\u001b[0mkeyarr\u001b[0m\u001b[0;34m,\u001b[0m \u001b[0mindexer\u001b[0m\u001b[0;34m]\u001b[0m\u001b[0;34m}\u001b[0m\u001b[0;34m,\u001b[0m \u001b[0mcopy\u001b[0m\u001b[0;34m=\u001b[0m\u001b[0;32mTrue\u001b[0m\u001b[0;34m,\u001b[0m \u001b[0mallow_dups\u001b[0m\u001b[0;34m=\u001b[0m\u001b[0;32mTrue\u001b[0m\u001b[0;34m\u001b[0m\u001b[0;34m\u001b[0m\u001b[0m\n",
      "\u001b[0;32m~/.conda/envs/bbk/lib/python3.8/site-packages/pandas/core/indexing.py\u001b[0m in \u001b[0;36m_get_listlike_indexer\u001b[0;34m(self, key, axis, raise_missing)\u001b[0m\n\u001b[1;32m   1252\u001b[0m             \u001b[0mkeyarr\u001b[0m\u001b[0;34m,\u001b[0m \u001b[0mindexer\u001b[0m\u001b[0;34m,\u001b[0m \u001b[0mnew_indexer\u001b[0m \u001b[0;34m=\u001b[0m \u001b[0max\u001b[0m\u001b[0;34m.\u001b[0m\u001b[0m_reindex_non_unique\u001b[0m\u001b[0;34m(\u001b[0m\u001b[0mkeyarr\u001b[0m\u001b[0;34m)\u001b[0m\u001b[0;34m\u001b[0m\u001b[0;34m\u001b[0m\u001b[0m\n\u001b[1;32m   1253\u001b[0m \u001b[0;34m\u001b[0m\u001b[0m\n\u001b[0;32m-> 1254\u001b[0;31m         \u001b[0mself\u001b[0m\u001b[0;34m.\u001b[0m\u001b[0m_validate_read_indexer\u001b[0m\u001b[0;34m(\u001b[0m\u001b[0mkeyarr\u001b[0m\u001b[0;34m,\u001b[0m \u001b[0mindexer\u001b[0m\u001b[0;34m,\u001b[0m \u001b[0maxis\u001b[0m\u001b[0;34m,\u001b[0m \u001b[0mraise_missing\u001b[0m\u001b[0;34m=\u001b[0m\u001b[0mraise_missing\u001b[0m\u001b[0;34m)\u001b[0m\u001b[0;34m\u001b[0m\u001b[0;34m\u001b[0m\u001b[0m\n\u001b[0m\u001b[1;32m   1255\u001b[0m         \u001b[0;32mreturn\u001b[0m \u001b[0mkeyarr\u001b[0m\u001b[0;34m,\u001b[0m \u001b[0mindexer\u001b[0m\u001b[0;34m\u001b[0m\u001b[0;34m\u001b[0m\u001b[0m\n\u001b[1;32m   1256\u001b[0m \u001b[0;34m\u001b[0m\u001b[0m\n",
      "\u001b[0;32m~/.conda/envs/bbk/lib/python3.8/site-packages/pandas/core/indexing.py\u001b[0m in \u001b[0;36m_validate_read_indexer\u001b[0;34m(self, key, indexer, axis, raise_missing)\u001b[0m\n\u001b[1;32m   1313\u001b[0m \u001b[0;34m\u001b[0m\u001b[0m\n\u001b[1;32m   1314\u001b[0m                 \u001b[0;32mwith\u001b[0m \u001b[0moption_context\u001b[0m\u001b[0;34m(\u001b[0m\u001b[0;34m\"display.max_seq_items\"\u001b[0m\u001b[0;34m,\u001b[0m \u001b[0;36m10\u001b[0m\u001b[0;34m,\u001b[0m \u001b[0;34m\"display.width\"\u001b[0m\u001b[0;34m,\u001b[0m \u001b[0;36m80\u001b[0m\u001b[0;34m)\u001b[0m\u001b[0;34m:\u001b[0m\u001b[0;34m\u001b[0m\u001b[0;34m\u001b[0m\u001b[0m\n\u001b[0;32m-> 1315\u001b[0;31m                     raise KeyError(\n\u001b[0m\u001b[1;32m   1316\u001b[0m                         \u001b[0;34m\"Passing list-likes to .loc or [] with any missing labels \"\u001b[0m\u001b[0;34m\u001b[0m\u001b[0;34m\u001b[0m\u001b[0m\n\u001b[1;32m   1317\u001b[0m                         \u001b[0;34m\"is no longer supported. \"\u001b[0m\u001b[0;34m\u001b[0m\u001b[0;34m\u001b[0m\u001b[0m\n",
      "\u001b[0;31mKeyError\u001b[0m: \"Passing list-likes to .loc or [] with any missing labels is no longer supported. The following labels were missing: Index(['20486-0.0', '20527-0.0', '20458-0.0'], dtype='object'). See https://pandas.pydata.org/pandas-docs/stable/user_guide/indexing.html#deprecate-loc-reindex-listlike\""
     ]
    }
   ],
   "source": [
    "result = loaded_model.evaluate(test)"
   ]
  },
  {
   "cell_type": "markdown",
   "id": "4c8e8a7b-0ac4-47e6-814e-ed3f9a745fd3",
   "metadata": {},
   "source": [
    "#### using pytorch tabnet"
   ]
  },
  {
   "cell_type": "code",
   "execution_count": 21,
   "id": "95e721ad-3337-4663-83a3-102f407a7068",
   "metadata": {},
   "outputs": [],
   "source": [
    "train, test = train_test_split(df, random_state=42)\n",
    "train, val = train_test_split(train, random_state=42)"
   ]
  },
  {
   "cell_type": "code",
   "execution_count": 23,
   "id": "a3c4af55-4147-476d-ae2a-5005b00a227c",
   "metadata": {},
   "outputs": [
    {
     "data": {
      "text/plain": [
       "(2442, 955)"
      ]
     },
     "execution_count": 23,
     "metadata": {},
     "output_type": "execute_result"
    }
   ],
   "source": [
    "train.shape"
   ]
  },
  {
   "cell_type": "code",
   "execution_count": 24,
   "id": "2bf95606-a92a-458d-a697-7c8fa855154b",
   "metadata": {},
   "outputs": [
    {
     "data": {
      "text/plain": [
       "(2442, 954)"
      ]
     },
     "execution_count": 24,
     "metadata": {},
     "output_type": "execute_result"
    }
   ],
   "source": [
    "train.drop(columns=target_col).shape"
   ]
  },
  {
   "cell_type": "code",
   "execution_count": 25,
   "id": "c4358f01-24a7-4727-a63e-5c56d98f3155",
   "metadata": {},
   "outputs": [],
   "source": [
    "X_train = train.drop(columns=target_col).values\n",
    "y_train = train[target_col].values\n",
    "X_valid = val.drop(columns=target_col).values\n",
    "y_valid = val[target_col].values\n",
    "X_test = test.drop(columns=target_col).values\n",
    "y_test = test[target_col].values"
   ]
  },
  {
   "cell_type": "markdown",
   "id": "db1f2aa9-877b-4cdf-9cd7-cff3ee99fe6d",
   "metadata": {},
   "source": [
    "##### balance before split"
   ]
  },
  {
   "cell_type": "code",
   "execution_count": 9,
   "id": "09752ef6-5fde-4708-ac7e-471a287a6849",
   "metadata": {},
   "outputs": [],
   "source": [
    "# balance before train test split\n",
    "y = df['label']\n",
    "# y = pd.get_dummies(y_label).iloc[:,0]\n",
    "X = df.drop(['label','eid'], axis=1)\n",
    "# balance dataset\n",
    "from imblearn.under_sampling import RandomUnderSampler\n",
    "# define undersampling strategy\n",
    "under = RandomUnderSampler(random_state=0)\n",
    "# fit and apply the transform\n",
    "X, y = under.fit_resample(X, y)"
   ]
  },
  {
   "cell_type": "code",
   "execution_count": 15,
   "id": "07e65a3a-63c4-4630-b677-dda423b480a0",
   "metadata": {},
   "outputs": [
    {
     "data": {
      "text/plain": [
       "(3402, 954)"
      ]
     },
     "execution_count": 15,
     "metadata": {},
     "output_type": "execute_result"
    }
   ],
   "source": [
    "X.shape"
   ]
  },
  {
   "cell_type": "code",
   "execution_count": 14,
   "id": "da675b81-956c-4387-9466-3335eadfda8e",
   "metadata": {},
   "outputs": [
    {
     "data": {
      "text/plain": [
       "(3402, 955)"
      ]
     },
     "execution_count": 14,
     "metadata": {},
     "output_type": "execute_result"
    }
   ],
   "source": [
    "pd.concat([X,y], axis=1).shape"
   ]
  },
  {
   "cell_type": "code",
   "execution_count": 16,
   "id": "93ab3cf3-631e-43ab-987d-0c3b8fe580b4",
   "metadata": {},
   "outputs": [],
   "source": [
    "train, test = train_test_split(pd.concat([X,y], axis=1), random_state=42)\n",
    "train, val = train_test_split(train, random_state=42)"
   ]
  },
  {
   "cell_type": "code",
   "execution_count": 17,
   "id": "476f1d11-bda3-4ccf-a4ae-05dd18d20ef6",
   "metadata": {},
   "outputs": [
    {
     "data": {
      "text/plain": [
       "(1913, 955)"
      ]
     },
     "execution_count": 17,
     "metadata": {},
     "output_type": "execute_result"
    }
   ],
   "source": [
    "train.shape"
   ]
  },
  {
   "cell_type": "code",
   "execution_count": 19,
   "id": "1105ba3a-71f4-43fe-a7e3-d3f2420d2f6c",
   "metadata": {},
   "outputs": [],
   "source": [
    "target_col = 'label'\n",
    "X_train = train.drop(columns=target_col).values\n",
    "y_train = train[target_col].values\n",
    "X_valid = val.drop(columns=target_col).values\n",
    "y_valid = val[target_col].values\n",
    "X_test = test.drop(columns=target_col).values\n",
    "y_test = test[target_col].values"
   ]
  },
  {
   "cell_type": "markdown",
   "id": "bd2206d4-d25d-4984-a7da-413b003758e1",
   "metadata": {},
   "source": [
    "##### pretrain"
   ]
  },
  {
   "cell_type": "code",
   "execution_count": 42,
   "id": "e8e36b1d-bd5f-4257-866d-3731ce8bbb3e",
   "metadata": {
    "tags": []
   },
   "outputs": [
    {
     "name": "stdout",
     "output_type": "stream",
     "text": [
      "Device used : cpu\n",
      "epoch 0  | loss: 243259217.1793| val_0_unsup_loss: 804035840.0|  0:00:02s\n",
      "epoch 1  | loss: 188592218.0115| val_0_unsup_loss: 822827456.0|  0:00:04s\n",
      "epoch 2  | loss: 144148542.15996| val_0_unsup_loss: 889916608.0|  0:00:07s\n",
      "epoch 3  | loss: 107567392.31364| val_0_unsup_loss: 633984960.0|  0:00:09s\n",
      "epoch 4  | loss: 96313416.65238| val_0_unsup_loss: 336004448.0|  0:00:11s\n",
      "epoch 5  | loss: 90034332.93048| val_0_unsup_loss: 211233904.0|  0:00:14s\n",
      "epoch 6  | loss: 82636874.50915| val_0_unsup_loss: 157121328.0|  0:00:16s\n",
      "epoch 7  | loss: 98779997.84631| val_0_unsup_loss: 142237520.0|  0:00:18s\n",
      "epoch 8  | loss: 65444114.2666| val_0_unsup_loss: 149335152.0|  0:00:20s\n",
      "epoch 9  | loss: 53856249.15003| val_0_unsup_loss: 159313712.0|  0:00:22s\n",
      "epoch 10 | loss: 65568803.09462| val_0_unsup_loss: 151027088.0|  0:00:25s\n",
      "epoch 11 | loss: 58382322.03136| val_0_unsup_loss: 134400976.0|  0:00:27s\n",
      "epoch 12 | loss: 22649702.5886| val_0_unsup_loss: 117314448.0|  0:00:29s\n",
      "epoch 13 | loss: 15653493.70413| val_0_unsup_loss: 106529968.0|  0:00:31s\n",
      "epoch 14 | loss: 10953199.57606| val_0_unsup_loss: 114090680.0|  0:00:33s\n",
      "epoch 15 | loss: 8183741.01307| val_0_unsup_loss: 126822776.0|  0:00:36s\n",
      "epoch 16 | loss: 24185406.03032| val_0_unsup_loss: 118022144.0|  0:00:38s\n",
      "epoch 17 | loss: 5636572.1299| val_0_unsup_loss: 100774520.0|  0:00:40s\n",
      "epoch 18 | loss: 3888579.5298| val_0_unsup_loss: 85976424.0|  0:00:42s\n",
      "epoch 19 | loss: 2740169.48288| val_0_unsup_loss: 63652304.0|  0:00:44s\n",
      "epoch 20 | loss: 2299749.42852| val_0_unsup_loss: 48143792.0|  0:00:47s\n",
      "epoch 21 | loss: 1864952.44897| val_0_unsup_loss: 37029708.0|  0:00:49s\n",
      "epoch 22 | loss: 1334958.74235| val_0_unsup_loss: 30301428.0|  0:00:51s\n",
      "epoch 23 | loss: 1152809.99556| val_0_unsup_loss: 27844390.0|  0:00:53s\n",
      "epoch 24 | loss: 17452505.49239| val_0_unsup_loss: 27028226.0|  0:00:55s\n",
      "epoch 25 | loss: 784799.78747| val_0_unsup_loss: 26705078.0|  0:00:58s\n",
      "epoch 26 | loss: 643165.96485| val_0_unsup_loss: 25243662.0|  0:01:00s\n",
      "epoch 27 | loss: 15356447.05734| val_0_unsup_loss: 26078790.0|  0:01:03s\n",
      "epoch 28 | loss: 561201.59158| val_0_unsup_loss: 33179514.0|  0:01:05s\n",
      "epoch 29 | loss: 485967.48463| val_0_unsup_loss: 32677290.0|  0:01:07s\n",
      "epoch 30 | loss: 362690.78146| val_0_unsup_loss: 29133956.0|  0:01:10s\n",
      "epoch 31 | loss: 369973.34484| val_0_unsup_loss: 26448920.0|  0:01:12s\n",
      "epoch 32 | loss: 315304.79246| val_0_unsup_loss: 25385894.0|  0:01:14s\n",
      "epoch 33 | loss: 993014.1638| val_0_unsup_loss: 24812436.0|  0:01:16s\n",
      "epoch 34 | loss: 335127.44374| val_0_unsup_loss: 23817366.0|  0:01:18s\n",
      "epoch 35 | loss: 11811242.92907| val_0_unsup_loss: 22185908.0|  0:01:21s\n",
      "epoch 36 | loss: 242820.8231| val_0_unsup_loss: 21333296.0|  0:01:23s\n",
      "epoch 37 | loss: 191435.66971| val_0_unsup_loss: 18478782.0|  0:01:25s\n",
      "epoch 38 | loss: 193400.11053| val_0_unsup_loss: 16565946.0|  0:01:27s\n",
      "epoch 39 | loss: 194423.48385| val_0_unsup_loss: 16610107.0|  0:01:29s\n",
      "epoch 40 | loss: 10135118.93931| val_0_unsup_loss: 15459858.0|  0:01:32s\n",
      "epoch 41 | loss: 255004.92997| val_0_unsup_loss: 14511094.0|  0:01:34s\n",
      "epoch 42 | loss: 7132112.06116| val_0_unsup_loss: 13014363.0|  0:01:36s\n",
      "epoch 43 | loss: 245905.18139| val_0_unsup_loss: 11725857.0|  0:01:38s\n",
      "epoch 44 | loss: 124460.9669| val_0_unsup_loss: 11169319.0|  0:01:40s\n",
      "epoch 45 | loss: 170897.29445| val_0_unsup_loss: 10583999.0|  0:01:42s\n",
      "epoch 46 | loss: 5346251.22948| val_0_unsup_loss: 9941043.0|  0:01:45s\n",
      "epoch 47 | loss: 4834162.09618| val_0_unsup_loss: 8642597.0|  0:01:47s\n",
      "epoch 48 | loss: 181177.0927| val_0_unsup_loss: 7835752.5|  0:01:49s\n",
      "epoch 49 | loss: 106890.95819| val_0_unsup_loss: 7616985.5|  0:01:51s\n",
      "epoch 50 | loss: 3312690.02744| val_0_unsup_loss: 7272662.5|  0:01:53s\n",
      "epoch 51 | loss: 159423.41202| val_0_unsup_loss: 7194804.5|  0:01:55s\n",
      "epoch 52 | loss: 109396.3854| val_0_unsup_loss: 7528359.5|  0:01:58s\n",
      "epoch 53 | loss: 97386.74452| val_0_unsup_loss: 7669379.5|  0:02:00s\n",
      "epoch 54 | loss: 1785753.71628| val_0_unsup_loss: 6679735.5|  0:02:02s\n",
      "epoch 55 | loss: 166059.15313| val_0_unsup_loss: 5384134.0|  0:02:04s\n",
      "epoch 56 | loss: 1503117.88163| val_0_unsup_loss: 4010939.0|  0:02:06s\n",
      "epoch 57 | loss: 836056.45589| val_0_unsup_loss: 3004261.0|  0:02:09s\n",
      "epoch 58 | loss: 121517.90406| val_0_unsup_loss: 2288178.25|  0:02:11s\n",
      "epoch 59 | loss: 105199.98085| val_0_unsup_loss: 1903196.25|  0:02:13s\n",
      "epoch 60 | loss: 151419.59591| val_0_unsup_loss: 1332713.625|  0:02:15s\n",
      "epoch 61 | loss: 226737.85893| val_0_unsup_loss: 954650.6875|  0:02:17s\n",
      "epoch 62 | loss: 107582.49736| val_0_unsup_loss: 936633.1875|  0:02:19s\n",
      "epoch 63 | loss: 77043.736| val_0_unsup_loss: 1160200.0|  0:02:22s\n",
      "epoch 64 | loss: 113910.18677| val_0_unsup_loss: 951705.375|  0:02:24s\n",
      "epoch 65 | loss: 223491.85817| val_0_unsup_loss: 601311.875|  0:02:26s\n",
      "epoch 66 | loss: 314536.67575| val_0_unsup_loss: 382872.28125|  0:02:28s\n",
      "epoch 67 | loss: 149924.57991| val_0_unsup_loss: 312889.4375|  0:02:30s\n",
      "epoch 68 | loss: 133802.69939| val_0_unsup_loss: 221157.23438|  0:02:33s\n",
      "epoch 69 | loss: 129035.00796| val_0_unsup_loss: 199597.21875|  0:02:35s\n",
      "epoch 70 | loss: 122980.92534| val_0_unsup_loss: 107810.75781|  0:02:37s\n",
      "epoch 71 | loss: 86665.41428| val_0_unsup_loss: 114157.11719|  0:02:39s\n",
      "epoch 72 | loss: 95343.83751| val_0_unsup_loss: 58965.12891|  0:02:41s\n",
      "epoch 73 | loss: 88285.3189| val_0_unsup_loss: 49963.69922|  0:02:44s\n",
      "epoch 74 | loss: 83641.98264| val_0_unsup_loss: 99935.38281|  0:02:46s\n",
      "epoch 75 | loss: 148712.93039| val_0_unsup_loss: 88373.97656|  0:02:48s\n",
      "epoch 76 | loss: 97572.88293| val_0_unsup_loss: 70431.21094|  0:02:50s\n",
      "epoch 77 | loss: 133140.91471| val_0_unsup_loss: 87539.05469|  0:02:52s\n",
      "epoch 78 | loss: 141241.23646| val_0_unsup_loss: 53192.25781|  0:02:54s\n",
      "epoch 79 | loss: 64179.83116| val_0_unsup_loss: 71478.57031|  0:02:56s\n",
      "epoch 80 | loss: 55199.8038| val_0_unsup_loss: 125216.74219|  0:02:59s\n",
      "epoch 81 | loss: 110042.45608| val_0_unsup_loss: 182412.28125|  0:03:01s\n",
      "epoch 82 | loss: 49380.42649| val_0_unsup_loss: 112435.6875|  0:03:03s\n",
      "epoch 83 | loss: 55947.28562| val_0_unsup_loss: 106252.5|  0:03:05s\n",
      "\n",
      "Early stopping occured at epoch 83 with best_epoch = 73 and best_val_0_unsup_loss = 49963.69922\n",
      "Best weights from best epoch are automatically used!\n"
     ]
    }
   ],
   "source": [
    "import torch\n",
    "from pytorch_tabnet.pretraining import TabNetPretrainer\n",
    "unsupervised_model = TabNetPretrainer(\n",
    "    optimizer_fn=torch.optim.Adam,\n",
    "    optimizer_params=dict(lr=2e-2),\n",
    "    mask_type='entmax' # \"sparsemax\"\n",
    ")\n",
    "\n",
    "unsupervised_model.fit(\n",
    "    X_train=X_train,\n",
    "    eval_set=[X_valid],\n",
    "    pretraining_ratio=0.8,\n",
    ")"
   ]
  },
  {
   "cell_type": "code",
   "execution_count": 43,
   "id": "20de4e52-7b53-424b-83c8-19ecdde07162",
   "metadata": {},
   "outputs": [],
   "source": [
    "# Make reconstruction from a dataset\n",
    "reconstructed_X, embedded_X = unsupervised_model.predict(X_valid)\n",
    "assert(reconstructed_X.shape==embedded_X.shape)"
   ]
  },
  {
   "cell_type": "code",
   "execution_count": 44,
   "id": "50e77d59-e209-4e9b-8ec3-c739984a2589",
   "metadata": {},
   "outputs": [],
   "source": [
    "unsupervised_explain_matrix, unsupervised_masks = unsupervised_model.explain(X_valid)"
   ]
  },
  {
   "cell_type": "code",
   "execution_count": 45,
   "id": "36d1b1bd-ab03-4e50-bdda-404655cc9f00",
   "metadata": {},
   "outputs": [
    {
     "data": {
      "image/png": "[encoded data removed]",
      "text/plain": [
       "<Figure size 1440x1440 with 3 Axes>"
      ]
     },
     "metadata": {
      "needs_background": "light"
     },
     "output_type": "display_data"
    }
   ],
   "source": [
    "fig, axs = plt.subplots(1, 3, figsize=(20,20))\n",
    "\n",
    "for i in range(3):\n",
    "    axs[i].imshow(unsupervised_masks[i][:500])\n",
    "    axs[i].set_title(f\"mask {i}\")"
   ]
  },
  {
   "cell_type": "code",
   "execution_count": 46,
   "id": "5ec03b5d-d886-417e-b135-f5a3c268c1fa",
   "metadata": {},
   "outputs": [
    {
     "name": "stdout",
     "output_type": "stream",
     "text": [
      "Successfully saved model at ./test_pretrain.zip\n",
      "Device used : cpu\n",
      "Device used : cpu\n"
     ]
    }
   ],
   "source": [
    "unsupervised_model.save_model('./test_pretrain')\n",
    "loaded_pretrain = TabNetPretrainer()\n",
    "loaded_pretrain.load_model('./test_pretrain.zip')"
   ]
  },
  {
   "cell_type": "markdown",
   "id": "e62584d1-19b3-4228-bde9-a46a7a7f9a55",
   "metadata": {},
   "source": [
    "##### real train"
   ]
  },
  {
   "cell_type": "code",
   "execution_count": 47,
   "id": "5e0330c6-904b-432c-a287-34e7f56cd09b",
   "metadata": {},
   "outputs": [
    {
     "name": "stdout",
     "output_type": "stream",
     "text": [
      "Device used : cpu\n",
      "Loading weights from unsupervised pretraining\n"
     ]
    },
    {
     "name": "stderr",
     "output_type": "stream",
     "text": [
      "/home/fs0/syzhang/.conda/envs/bbk/lib/python3.8/site-packages/pytorch_tabnet/abstract_model.py:96: UserWarning: Pretraining: mask_type changed from sparsemax to entmax\n",
      "  warnings.warn(wrn_msg)\n"
     ]
    },
    {
     "name": "stdout",
     "output_type": "stream",
     "text": [
      "epoch 0  | loss: 0.71956 | valid_auc: 0.47936 | valid_balanced_accuracy: 0.48784 |  0:00:02s\n",
      "epoch 1  | loss: 0.69316 | valid_auc: 0.51902 | valid_balanced_accuracy: 0.5027  |  0:00:04s\n",
      "epoch 2  | loss: 0.69344 | valid_auc: 0.50316 | valid_balanced_accuracy: 0.5     |  0:00:06s\n",
      "epoch 3  | loss: 0.68332 | valid_auc: 0.48404 | valid_balanced_accuracy: 0.5     |  0:00:08s\n",
      "epoch 4  | loss: 0.66672 | valid_auc: 0.50278 | valid_balanced_accuracy: 0.51001 |  0:00:10s\n",
      "epoch 5  | loss: 0.69007 | valid_auc: 0.51037 | valid_balanced_accuracy: 0.49723 |  0:00:13s\n",
      "epoch 6  | loss: 0.68884 | valid_auc: 0.50439 | valid_balanced_accuracy: 0.49591 |  0:00:15s\n",
      "epoch 7  | loss: 0.67245 | valid_auc: 0.52334 | valid_balanced_accuracy: 0.50519 |  0:00:17s\n",
      "epoch 8  | loss: 0.67218 | valid_auc: 0.54317 | valid_balanced_accuracy: 0.5034  |  0:00:19s\n",
      "epoch 9  | loss: 0.67668 | valid_auc: 0.51582 | valid_balanced_accuracy: 0.51073 |  0:00:21s\n",
      "epoch 10 | loss: 0.6644  | valid_auc: 0.49605 | valid_balanced_accuracy: 0.48264 |  0:00:24s\n",
      "epoch 11 | loss: 0.66326 | valid_auc: 0.49854 | valid_balanced_accuracy: 0.49295 |  0:00:26s\n",
      "epoch 12 | loss: 0.66889 | valid_auc: 0.49305 | valid_balanced_accuracy: 0.49491 |  0:00:28s\n",
      "epoch 13 | loss: 0.65011 | valid_auc: 0.5046  | valid_balanced_accuracy: 0.5071  |  0:00:30s\n",
      "epoch 14 | loss: 0.65186 | valid_auc: 0.53018 | valid_balanced_accuracy: 0.53865 |  0:00:32s\n",
      "epoch 15 | loss: 0.64907 | valid_auc: 0.54224 | valid_balanced_accuracy: 0.51589 |  0:00:35s\n",
      "epoch 16 | loss: 0.64304 | valid_auc: 0.51936 | valid_balanced_accuracy: 0.49283 |  0:00:37s\n",
      "epoch 17 | loss: 0.64432 | valid_auc: 0.47739 | valid_balanced_accuracy: 0.50316 |  0:00:39s\n",
      "epoch 18 | loss: 0.62873 | valid_auc: 0.49901 | valid_balanced_accuracy: 0.50766 |  0:00:41s\n",
      "epoch 19 | loss: 0.60778 | valid_auc: 0.54179 | valid_balanced_accuracy: 0.5037  |  0:00:43s\n",
      "epoch 20 | loss: 0.62096 | valid_auc: 0.55191 | valid_balanced_accuracy: 0.51665 |  0:00:46s\n",
      "epoch 21 | loss: 0.5949  | valid_auc: 0.53153 | valid_balanced_accuracy: 0.50713 |  0:00:48s\n",
      "epoch 22 | loss: 0.6177  | valid_auc: 0.51289 | valid_balanced_accuracy: 0.50225 |  0:00:50s\n",
      "epoch 23 | loss: 0.59586 | valid_auc: 0.52561 | valid_balanced_accuracy: 0.51027 |  0:00:52s\n",
      "epoch 24 | loss: 0.5828  | valid_auc: 0.53877 | valid_balanced_accuracy: 0.50295 |  0:00:54s\n",
      "epoch 25 | loss: 0.58312 | valid_auc: 0.5494  | valid_balanced_accuracy: 0.50552 |  0:00:56s\n",
      "epoch 26 | loss: 0.59364 | valid_auc: 0.54497 | valid_balanced_accuracy: 0.53987 |  0:00:59s\n",
      "epoch 27 | loss: 0.5554  | valid_auc: 0.55251 | valid_balanced_accuracy: 0.51407 |  0:01:01s\n",
      "epoch 28 | loss: 0.55629 | valid_auc: 0.54452 | valid_balanced_accuracy: 0.52932 |  0:01:03s\n",
      "epoch 29 | loss: 0.56184 | valid_auc: 0.55384 | valid_balanced_accuracy: 0.53289 |  0:01:05s\n",
      "epoch 30 | loss: 0.55482 | valid_auc: 0.58097 | valid_balanced_accuracy: 0.54989 |  0:01:07s\n",
      "epoch 31 | loss: 0.52248 | valid_auc: 0.57868 | valid_balanced_accuracy: 0.55593 |  0:01:10s\n",
      "epoch 32 | loss: 0.5293  | valid_auc: 0.58474 | valid_balanced_accuracy: 0.56352 |  0:01:12s\n",
      "epoch 33 | loss: 0.50322 | valid_auc: 0.57641 | valid_balanced_accuracy: 0.55535 |  0:01:14s\n",
      "epoch 34 | loss: 0.4756  | valid_auc: 0.55923 | valid_balanced_accuracy: 0.54694 |  0:01:16s\n",
      "epoch 35 | loss: 0.45546 | valid_auc: 0.55093 | valid_balanced_accuracy: 0.53064 |  0:01:18s\n",
      "epoch 36 | loss: 0.48106 | valid_auc: 0.53792 | valid_balanced_accuracy: 0.51455 |  0:01:20s\n",
      "epoch 37 | loss: 0.44745 | valid_auc: 0.53807 | valid_balanced_accuracy: 0.5387  |  0:01:23s\n",
      "epoch 38 | loss: 0.40978 | valid_auc: 0.54091 | valid_balanced_accuracy: 0.52113 |  0:01:25s\n",
      "epoch 39 | loss: 0.39538 | valid_auc: 0.52486 | valid_balanced_accuracy: 0.51591 |  0:01:27s\n",
      "epoch 40 | loss: 0.37612 | valid_auc: 0.52689 | valid_balanced_accuracy: 0.52517 |  0:01:29s\n",
      "epoch 41 | loss: 0.3611  | valid_auc: 0.54073 | valid_balanced_accuracy: 0.51635 |  0:01:31s\n",
      "epoch 42 | loss: 0.34528 | valid_auc: 0.54188 | valid_balanced_accuracy: 0.52131 |  0:01:34s\n",
      "epoch 43 | loss: 0.33534 | valid_auc: 0.53983 | valid_balanced_accuracy: 0.51539 |  0:01:36s\n",
      "epoch 44 | loss: 0.3428  | valid_auc: 0.56022 | valid_balanced_accuracy: 0.53466 |  0:01:38s\n",
      "epoch 45 | loss: 0.29346 | valid_auc: 0.5468  | valid_balanced_accuracy: 0.53678 |  0:01:40s\n",
      "epoch 46 | loss: 0.28205 | valid_auc: 0.54091 | valid_balanced_accuracy: 0.51969 |  0:01:42s\n",
      "epoch 47 | loss: 0.29243 | valid_auc: 0.55419 | valid_balanced_accuracy: 0.53499 |  0:01:44s\n",
      "epoch 48 | loss: 0.30305 | valid_auc: 0.55604 | valid_balanced_accuracy: 0.53678 |  0:01:47s\n",
      "epoch 49 | loss: 0.2919  | valid_auc: 0.56246 | valid_balanced_accuracy: 0.54595 |  0:01:49s\n",
      "epoch 50 | loss: 0.25561 | valid_auc: 0.5603  | valid_balanced_accuracy: 0.54714 |  0:01:51s\n",
      "epoch 51 | loss: 0.23645 | valid_auc: 0.56118 | valid_balanced_accuracy: 0.53215 |  0:01:53s\n",
      "epoch 52 | loss: 0.22989 | valid_auc: 0.55534 | valid_balanced_accuracy: 0.51949 |  0:01:55s\n",
      "\n",
      "Early stopping occured at epoch 52 with best_epoch = 32 and best_valid_balanced_accuracy = 0.56352\n",
      "Best weights from best epoch are automatically used!\n"
     ]
    }
   ],
   "source": [
    "from pytorch_tabnet.tab_model import TabNetClassifier, TabNetRegressor\n",
    "import torch\n",
    "\n",
    "clf = TabNetClassifier(\n",
    "#     n_d=64, n_a=64, n_steps=5,\n",
    "#     gamma=1.5, n_independent=2, n_shared=2,\n",
    "#     cat_idxs=cat_idxs,\n",
    "#     cat_dims=cat_dims,\n",
    "#     cat_emb_dim=1,\n",
    "#     lambda_sparse=1e-4, momentum=0.3, clip_value=2.,\n",
    "    optimizer_fn=torch.optim.Adam,\n",
    "    optimizer_params=dict(lr=2e-2),\n",
    "    scheduler_params={\"step_size\":10, # how to use learning rate scheduler\n",
    "                      \"gamma\":0.9},\n",
    "    scheduler_fn=torch.optim.lr_scheduler.StepLR,\n",
    "    mask_type='sparsemax' # This will be overwritten if using pretrain model\n",
    ")\n",
    "\n",
    "clf.fit(\n",
    "    X_train, y_train,\n",
    "    eval_set=[(X_valid, y_valid)],\n",
    "    eval_name=['valid'],\n",
    "    eval_metric=['auc','balanced_accuracy'],\n",
    "    max_epochs=1000, patience=20,\n",
    "    batch_size=256, virtual_batch_size=128,\n",
    "    weights=1,\n",
    "    drop_last=False,\n",
    "    from_unsupervised=loaded_pretrain\n",
    ")\n",
    "preds = clf.predict(X_test)"
   ]
  },
  {
   "cell_type": "code",
   "execution_count": 48,
   "id": "a663a8fd-9a12-4e14-92c3-7394046fe2f6",
   "metadata": {},
   "outputs": [
    {
     "name": "stdout",
     "output_type": "stream",
     "text": [
      "Holdout Acc: 0.5464159811985899 \n",
      " Holdout F1: 0.5804347826086956 \n",
      " Holdout AUC: 0.5509828009828011\n"
     ]
    }
   ],
   "source": [
    "print_metrics(test[target_col], preds, tag=\"Holdout\") # nd default 512 batch"
   ]
  },
  {
   "cell_type": "code",
   "execution_count": 21,
   "id": "c3b8e0bd-713a-4cbb-a563-fe8b89a6e535",
   "metadata": {},
   "outputs": [
    {
     "name": "stdout",
     "output_type": "stream",
     "text": [
      "Holdout Acc: 0.6197247706422019 \n",
      " Holdout F1: 0.5930289641629849 \n",
      " Holdout AUC: 0.620171608794572\n"
     ]
    }
   ],
   "source": [
    "print_metrics(test[target_col], preds, tag=\"Holdout\") # nd64 256 batch"
   ]
  },
  {
   "cell_type": "code",
   "execution_count": 199,
   "id": "a220e0a4-6df1-4023-a834-51672ebccac6",
   "metadata": {},
   "outputs": [
    {
     "name": "stdout",
     "output_type": "stream",
     "text": [
      "Holdout Acc: 0.5662983425414365 \n",
      " Holdout F1: 0.5950128976784179 \n",
      " Holdout AUC: 0.5889122369241881\n"
     ]
    }
   ],
   "source": [
    "print_metrics(test[target_col], preds, tag=\"Holdout\") # pretrain 256 batch"
   ]
  },
  {
   "cell_type": "code",
   "execution_count": 197,
   "id": "349c4edb-3f05-425c-984a-ffff62926c6a",
   "metadata": {},
   "outputs": [
    {
     "name": "stdout",
     "output_type": "stream",
     "text": [
      "Holdout Acc: 0.570902394106814 \n",
      " Holdout F1: 0.660844250363901 \n",
      " Holdout AUC: 0.5384421753072638\n"
     ]
    }
   ],
   "source": [
    "print_metrics(test[target_col], preds, tag=\"Holdout\") # pretrain 512 batch"
   ]
  },
  {
   "cell_type": "code",
   "execution_count": 188,
   "id": "092262cf-961a-41ea-9a19-a0a594785185",
   "metadata": {},
   "outputs": [
    {
     "name": "stdout",
     "output_type": "stream",
     "text": [
      "Holdout Acc: 0.5506445672191529 \n",
      " Holdout F1: 0.6463768115942029 \n",
      " Holdout AUC: 0.5150758993553753\n"
     ]
    }
   ],
   "source": [
    "print_metrics(test[target_col], preds, tag=\"Holdout\") # pretrain 1024 b"
   ]
  },
  {
   "cell_type": "code",
   "execution_count": 161,
   "id": "587158e9-50bc-410a-8fcd-a5e3a60858f6",
   "metadata": {},
   "outputs": [
    {
     "name": "stdout",
     "output_type": "stream",
     "text": [
      "Holdout Acc: 0.6003683241252302 \n",
      " Holdout F1: 0.7360097323600973 \n",
      " Holdout AUC: 0.49921747600442157\n"
     ]
    }
   ],
   "source": [
    "print_metrics(test[target_col], preds, tag=\"Holdout\") # no pretrain 1024"
   ]
  },
  {
   "cell_type": "code",
   "execution_count": 27,
   "id": "682cb707-f906-4485-a2da-f1c151bf2580",
   "metadata": {},
   "outputs": [],
   "source": [
    "imp = clf.feature_importances_"
   ]
  },
  {
   "cell_type": "code",
   "execution_count": 28,
   "id": "e7f49f62-4eba-4a73-8685-2291087f572d",
   "metadata": {},
   "outputs": [],
   "source": [
    "tmp = train.drop(columns=target_col).columns\n",
    "q_codes = tmp[imp>0]"
   ]
  },
  {
   "cell_type": "code",
   "execution_count": 29,
   "id": "2c61e116-f471-4f11-bf32-c3dc3da7e945",
   "metadata": {},
   "outputs": [
    {
     "data": {
      "text/plain": [
       "101"
      ]
     },
     "execution_count": 29,
     "metadata": {},
     "output_type": "execute_result"
    }
   ],
   "source": [
    "len(q_codes)"
   ]
  },
  {
   "cell_type": "code",
   "execution_count": 30,
   "id": "c26293f8-41f2-4507-998e-2f4d697e3b3a",
   "metadata": {
    "collapsed": true,
    "jupyter": {
     "outputs_hidden": true
    },
    "tags": []
   },
   "outputs": [
    {
     "data": {
      "text/plain": [
       "[array(['Weighted-mean L2 in tract acoustic radiation (right)'],\n",
       "       dtype=object),\n",
       " array(['Age when attended assessment centre'], dtype=object),\n",
       " array(['Volume of grey matter in Temporal Fusiform Cortex, posterior division (left)'],\n",
       "       dtype=object),\n",
       " array(['Volume of grey matter in VIIIb Cerebellum (right)'], dtype=object),\n",
       " array(['Weighted-mean FA in tract inferior fronto-occipital fasciculus (left)'],\n",
       "       dtype=object),\n",
       " array(['Volume of grey matter in Superior Frontal Gyrus (left)'],\n",
       "       dtype=object),\n",
       " array(['Median T2star in putamen (right)'], dtype=object),\n",
       " array(['Attempted suicide in past year'], dtype=object),\n",
       " array(['Weighted-mean MD in tract forceps minor'], dtype=object),\n",
       " array(['Mean OD in tapetum on FA skeleton (left)'], dtype=object),\n",
       " array(['Been in serious accident believed to be life-threatening'],\n",
       "       dtype=object),\n",
       " array(['Volume of grey matter in Paracingulate Gyrus (right)'],\n",
       "       dtype=object),\n",
       " array(['Mean ICVF in sagittal stratum on FA skeleton (left)'],\n",
       "       dtype=object),\n",
       " array(['Weighted-mean FA in tract corticospinal tract (right)'],\n",
       "       dtype=object),\n",
       " array(['Mean L2 in middle cerebellar peduncle on FA skeleton'],\n",
       "       dtype=object),\n",
       " array(['Mean ICVF in posterior corona radiata on FA skeleton (right)'],\n",
       "       dtype=object),\n",
       " array(['Volume of accumbens (right)'], dtype=object),\n",
       " array(['Mean MD in posterior limb of internal capsule on FA skeleton (left)'],\n",
       "       dtype=object),\n",
       " array(['Mean L3 in posterior corona radiata on FA skeleton (right)'],\n",
       "       dtype=object),\n",
       " array(['Mean ISOVF in superior fronto-occipital fasciculus on FA skeleton (left)'],\n",
       "       dtype=object),\n",
       " array(['Mean L2 in anterior corona radiata on FA skeleton (left)'],\n",
       "       dtype=object),\n",
       " array(['Volume of grey matter in Juxtapositional Lobule Cortex (formerly Supplementary Motor Cortex) (left)'],\n",
       "       dtype=object),\n",
       " array(['Mean FA in external capsule on FA skeleton (right)'], dtype=object),\n",
       " array(['Weighted-mean FA in tract anterior thalamic radiation (left)'],\n",
       "       dtype=object),\n",
       " array(['Volume of grey matter in Middle Temporal Gyrus, anterior division (right)'],\n",
       "       dtype=object),\n",
       " array(['Ever suffered mental distress preventing usual activities'],\n",
       "       dtype=object),\n",
       " array(['Ever contemplated self-harm'], dtype=object),\n",
       " array(['Mean OD in sagittal stratum on FA skeleton (left)'], dtype=object),\n",
       " array(['Repeated disturbing thoughts of stressful experience in past month'],\n",
       "       dtype=object),\n",
       " array(['Weighted-mean MO in tract medial lemniscus (left)'], dtype=object),\n",
       " array(['Weighted-mean ISOVF in tract acoustic radiation (left)'],\n",
       "       dtype=object),\n",
       " array(['Mean MD in posterior corona radiata on FA skeleton (right)'],\n",
       "       dtype=object),\n",
       " array(['Mean ISOVF in superior corona radiata on FA skeleton (left)'],\n",
       "       dtype=object),\n",
       " array(['Mean ISOVF in splenium of corpus callosum on FA skeleton'],\n",
       "       dtype=object),\n",
       " array(['Volume of grey matter in Middle Temporal Gyrus, posterior division (right)'],\n",
       "       dtype=object),\n",
       " array(['Mean ICVF in cingulum cingulate gyrus on FA skeleton (left)'],\n",
       "       dtype=object),\n",
       " array(['Volume of grey matter in Precuneous Cortex (left)'], dtype=object),\n",
       " array([\"Volume of grey matter in Heschl's Gyrus (includes H1 and H2) (right)\"],\n",
       "       dtype=object),\n",
       " array(['Mean MD in inferior cerebellar peduncle on FA skeleton (right)'],\n",
       "       dtype=object),\n",
       " array(['Total volume of white matter hyperintensities (from T1 and T2_FLAIR images)'],\n",
       "       dtype=object),\n",
       " array(['Mean L3 in anterior limb of internal capsule on FA skeleton (left)'],\n",
       "       dtype=object),\n",
       " array(['Volume of caudate (left)'], dtype=object),\n",
       " array(['Median z-statistic (in group-defined mask) for shapes activation'],\n",
       "       dtype=object),\n",
       " array(['Weighted-mean FA in tract inferior longitudinal fasciculus (left)'],\n",
       "       dtype=object),\n",
       " array(['Mean FA in cingulum hippocampus on FA skeleton (left)'],\n",
       "       dtype=object),\n",
       " array(['Volume of hippocampus (right)'], dtype=object),\n",
       " array(['Mean OD in sagittal stratum on FA skeleton (right)'], dtype=object),\n",
       " array(['Mean MO in uncinate fasciculus on FA skeleton (left)'],\n",
       "       dtype=object),\n",
       " array(['Volume of grey matter in Inferior Temporal Gyrus, posterior division (left)'],\n",
       "       dtype=object),\n",
       " array(['Weighted-mean FA in tract parahippocampal part of cingulum (left)'],\n",
       "       dtype=object),\n",
       " array(['Mean L2 in splenium of corpus callosum on FA skeleton'],\n",
       "       dtype=object),\n",
       " array(['Volume of grey matter in Inferior Frontal Gyrus, pars opercularis (right)'],\n",
       "       dtype=object),\n",
       " array(['Median z-statistic (in group-defined mask) for faces activation'],\n",
       "       dtype=object),\n",
       " array(['Mean ISOVF in corticospinal tract on FA skeleton (left)'],\n",
       "       dtype=object),\n",
       " array(['Mean L1 in posterior corona radiata on FA skeleton (right)'],\n",
       "       dtype=object),\n",
       " array(['Frequency of consuming six or more units of alcohol'],\n",
       "       dtype=object),\n",
       " array(['Weighted-mean OD in tract inferior fronto-occipital fasciculus (right)'],\n",
       "       dtype=object),\n",
       " array(['Volume of grey matter in Pallidum (right)'], dtype=object),\n",
       " array(['Mean ICVF in uncinate fasciculus on FA skeleton (right)'],\n",
       "       dtype=object),\n",
       " array(['Felt irritable or had angry outbursts in past month'],\n",
       "       dtype=object),\n",
       " array(['General happiness'], dtype=object),\n",
       " array(['Mean ICVF in corticospinal tract on FA skeleton (left)'],\n",
       "       dtype=object),\n",
       " array(['Mean ISOVF in posterior corona radiata on FA skeleton (left)'],\n",
       "       dtype=object),\n",
       " array(['Mean ICVF in fornix cres+stria terminalis on FA skeleton (right)'],\n",
       "       dtype=object),\n",
       " array(['Volume of grey matter in IX Cerebellum (vermis)'], dtype=object),\n",
       " array(['Weighted-mean MD in tract middle cerebellar peduncle'],\n",
       "       dtype=object),\n",
       " array(['Weighted-mean L2 in tract middle cerebellar peduncle'],\n",
       "       dtype=object),\n",
       " array(['Felt distant from other people in past month'], dtype=object),\n",
       " array(['Volume of grey matter in VIIb Cerebellum (left)'], dtype=object),\n",
       " array(['Mean MO in uncinate fasciculus on FA skeleton (right)'],\n",
       "       dtype=object),\n",
       " array(['Mean ISOVF in external capsule on FA skeleton (right)'],\n",
       "       dtype=object),\n",
       " array(['Friendships satisfaction'], dtype=object),\n",
       " array(['Volume of grey matter in X Cerebellum (left)'], dtype=object),\n",
       " array(['Weighted-mean L2 in tract corticospinal tract (left)'],\n",
       "       dtype=object),\n",
       " array(['Discrepancy between T2 FLAIR brain image and T1 brain image'],\n",
       "       dtype=object),\n",
       " array(['Getting up in morning'], dtype=object),\n",
       " array(['Volume of thalamus (left)'], dtype=object),\n",
       " array(['Mean L1 in corticospinal tract on FA skeleton (right)'],\n",
       "       dtype=object),\n",
       " array(['Mean ICVF in uncinate fasciculus on FA skeleton (left)'],\n",
       "       dtype=object),\n",
       " array(['Weighted-mean OD in tract superior thalamic radiation (left)'],\n",
       "       dtype=object),\n",
       " array(['Mean L2 in superior longitudinal fasciculus on FA skeleton (right)'],\n",
       "       dtype=object),\n",
       " array(['Volume of grey matter in Thalamus (left)'], dtype=object),\n",
       " array(['Volume of grey matter in Occipital Fusiform Gyrus (right)'],\n",
       "       dtype=object),\n",
       " array(['Volume of grey matter in Thalamus (right)'], dtype=object),\n",
       " array(['Mean ISOVF in middle cerebellar peduncle on FA skeleton'],\n",
       "       dtype=object),\n",
       " array(['Weighted-mean L1 in tract cingulate gyrus part of cingulum (right)'],\n",
       "       dtype=object),\n",
       " array(['Volume of grey matter in V Cerebellum (left)'], dtype=object),\n",
       " array(['Mean ICVF in superior fronto-occipital fasciculus on FA skeleton (left)'],\n",
       "       dtype=object),\n",
       " array(['Mean L1 in medial lemniscus on FA skeleton (right)'], dtype=object),\n",
       " array(['Mean MD in superior fronto-occipital fasciculus on FA skeleton (left)'],\n",
       "       dtype=object),\n",
       " array(['Mean ISOVF in corticospinal tract on FA skeleton (right)'],\n",
       "       dtype=object),\n",
       " array(['Ever thought that life not worth living'], dtype=object),\n",
       " array(['Weighted-mean L3 in tract medial lemniscus (left)'], dtype=object),\n",
       " array(['Mean MD in sagittal stratum on FA skeleton (right)'], dtype=object),\n",
       " array(['Mean MO in inferior cerebellar peduncle on FA skeleton (right)'],\n",
       "       dtype=object),\n",
       " array(['Weighted-mean MO in tract corticospinal tract (right)'],\n",
       "       dtype=object),\n",
       " array(['Weighted-mean MO in tract inferior fronto-occipital fasciculus (right)'],\n",
       "       dtype=object),\n",
       " array(['Mean ICVF in medial lemniscus on FA skeleton (left)'],\n",
       "       dtype=object),\n",
       " array(['Volume of grey matter in Planum Temporale (left)'], dtype=object),\n",
       " array(['Mean ICVF in pontine crossing tract on FA skeleton'], dtype=object),\n",
       " array(['Mean MD in cingulum cingulate gyrus on FA skeleton (right)'],\n",
       "       dtype=object)]"
      ]
     },
     "execution_count": 30,
     "metadata": {},
     "output_type": "execute_result"
    }
   ],
   "source": [
    "match_question(q_codes, questionnaire='all', idp='all')"
   ]
  },
  {
   "cell_type": "code",
   "execution_count": null,
   "id": "c8de734c-5069-4ecd-8b5c-3cc47f6d697a",
   "metadata": {},
   "outputs": [],
   "source": []
  },
  {
   "cell_type": "code",
   "execution_count": 33,
   "id": "912a4dae-bed8-4cac-ae35-81d6943b1462",
   "metadata": {},
   "outputs": [],
   "source": [
    "explain_matrix, masks = clf.explain(X_test)"
   ]
  },
  {
   "cell_type": "code",
   "execution_count": 37,
   "id": "881c1d5b-a206-4949-905a-fcbbebed6467",
   "metadata": {},
   "outputs": [],
   "source": [
    "mask0_cols = np.where(masks[0].sum(axis=0))"
   ]
  },
  {
   "cell_type": "code",
   "execution_count": 38,
   "id": "80e51ecb-f209-40a0-838d-2c8ded1449f2",
   "metadata": {},
   "outputs": [],
   "source": [
    "q_codes = tmp[mask0_cols]"
   ]
  },
  {
   "cell_type": "code",
   "execution_count": 39,
   "id": "c4df709c-4aa7-44e2-911e-505e499df5b3",
   "metadata": {},
   "outputs": [
    {
     "data": {
      "text/plain": [
       "[array(['Weighted-mean L2 in tract acoustic radiation (right)'],\n",
       "       dtype=object),\n",
       " array(['Volume of grey matter in Temporal Fusiform Cortex, posterior division (left)'],\n",
       "       dtype=object),\n",
       " array(['Weighted-mean MD in tract forceps minor'], dtype=object),\n",
       " array(['Mean OD in tapetum on FA skeleton (left)'], dtype=object),\n",
       " array(['Been in serious accident believed to be life-threatening'],\n",
       "       dtype=object),\n",
       " array(['Volume of grey matter in Paracingulate Gyrus (right)'],\n",
       "       dtype=object),\n",
       " array(['Mean ICVF in sagittal stratum on FA skeleton (left)'],\n",
       "       dtype=object),\n",
       " array(['Mean FA in superior longitudinal fasciculus on FA skeleton (right)'],\n",
       "       dtype=object),\n",
       " array(['Mean L2 in middle cerebellar peduncle on FA skeleton'],\n",
       "       dtype=object),\n",
       " array(['Mean L3 in superior longitudinal fasciculus on FA skeleton (left)'],\n",
       "       dtype=object),\n",
       " array(['Mean MD in posterior limb of internal capsule on FA skeleton (left)'],\n",
       "       dtype=object),\n",
       " array(['Mean L2 in anterior corona radiata on FA skeleton (left)'],\n",
       "       dtype=object),\n",
       " array(['Volume of grey matter in Juxtapositional Lobule Cortex (formerly Supplementary Motor Cortex) (left)'],\n",
       "       dtype=object),\n",
       " array(['Weighted-mean FA in tract anterior thalamic radiation (left)'],\n",
       "       dtype=object),\n",
       " array(['Ever suffered mental distress preventing usual activities'],\n",
       "       dtype=object),\n",
       " array(['Mean OD in sagittal stratum on FA skeleton (left)'], dtype=object),\n",
       " array(['Mean ISOVF in anterior limb of internal capsule on FA skeleton (right)'],\n",
       "       dtype=object),\n",
       " array(['Repeated disturbing thoughts of stressful experience in past month'],\n",
       "       dtype=object),\n",
       " array(['Weighted-mean MO in tract medial lemniscus (left)'], dtype=object),\n",
       " array(['Weighted-mean ISOVF in tract acoustic radiation (left)'],\n",
       "       dtype=object),\n",
       " array(['Mean ISOVF in superior corona radiata on FA skeleton (left)'],\n",
       "       dtype=object),\n",
       " array(['Mean ISOVF in splenium of corpus callosum on FA skeleton'],\n",
       "       dtype=object),\n",
       " array(['Volume of caudate (left)'], dtype=object),\n",
       " array(['Median z-statistic (in group-defined mask) for shapes activation'],\n",
       "       dtype=object),\n",
       " array(['Weighted-mean FA in tract inferior longitudinal fasciculus (left)'],\n",
       "       dtype=object),\n",
       " array(['Mean FA in cingulum hippocampus on FA skeleton (left)'],\n",
       "       dtype=object),\n",
       " array(['Mean OD in sagittal stratum on FA skeleton (right)'], dtype=object),\n",
       " array(['Volume of grey matter in Inferior Temporal Gyrus, posterior division (left)'],\n",
       "       dtype=object),\n",
       " array(['Mean L2 in splenium of corpus callosum on FA skeleton'],\n",
       "       dtype=object),\n",
       " array(['Volume of grey matter in Inferior Frontal Gyrus, pars opercularis (right)'],\n",
       "       dtype=object),\n",
       " array(['Mean ISOVF in corticospinal tract on FA skeleton (left)'],\n",
       "       dtype=object),\n",
       " array(['Mean L1 in posterior corona radiata on FA skeleton (right)'],\n",
       "       dtype=object),\n",
       " array(['Frequency of consuming six or more units of alcohol'],\n",
       "       dtype=object),\n",
       " array(['Mean ICVF in uncinate fasciculus on FA skeleton (right)'],\n",
       "       dtype=object),\n",
       " array(['Mean ISOVF in posterior corona radiata on FA skeleton (left)'],\n",
       "       dtype=object),\n",
       " array(['Mean ICVF in fornix cres+stria terminalis on FA skeleton (right)'],\n",
       "       dtype=object),\n",
       " array(['Volume of grey matter in IX Cerebellum (vermis)'], dtype=object),\n",
       " array(['Felt distant from other people in past month'], dtype=object),\n",
       " array(['Volume of grey matter in VIIb Cerebellum (left)'], dtype=object),\n",
       " array(['Weighted-mean ICVF in tract uncinate fasciculus (left)'],\n",
       "       dtype=object),\n",
       " array(['Weighted-mean L2 in tract corticospinal tract (left)'],\n",
       "       dtype=object),\n",
       " array(['Mean L1 in corticospinal tract on FA skeleton (right)'],\n",
       "       dtype=object),\n",
       " array(['Mean ICVF in uncinate fasciculus on FA skeleton (left)'],\n",
       "       dtype=object),\n",
       " array(['Weighted-mean OD in tract superior thalamic radiation (left)'],\n",
       "       dtype=object),\n",
       " array(['Mean L2 in superior longitudinal fasciculus on FA skeleton (right)'],\n",
       "       dtype=object),\n",
       " array(['Volume of grey matter in Occipital Fusiform Gyrus (right)'],\n",
       "       dtype=object),\n",
       " array(['Volume of grey matter in Thalamus (right)'], dtype=object),\n",
       " array(['Mean ICVF in superior fronto-occipital fasciculus on FA skeleton (left)'],\n",
       "       dtype=object),\n",
       " array(['Mean MD in superior fronto-occipital fasciculus on FA skeleton (left)'],\n",
       "       dtype=object),\n",
       " array(['Ever thought that life not worth living'], dtype=object),\n",
       " array(['Volume of grey matter in VIIIa Cerebellum (left)'], dtype=object),\n",
       " array(['Mean MD in sagittal stratum on FA skeleton (right)'], dtype=object),\n",
       " array(['Mean MO in inferior cerebellar peduncle on FA skeleton (right)'],\n",
       "       dtype=object),\n",
       " array(['Volume of grey matter in Middle Temporal Gyrus, posterior division (left)'],\n",
       "       dtype=object),\n",
       " array(['Weighted-mean MO in tract corticospinal tract (right)'],\n",
       "       dtype=object)]"
      ]
     },
     "execution_count": 39,
     "metadata": {},
     "output_type": "execute_result"
    }
   ],
   "source": [
    "match_question(q_codes, questionnaire='all', idp='all')"
   ]
  },
  {
   "cell_type": "code",
   "execution_count": null,
   "id": "65e90638-6f4a-4a6f-99fa-e2b7624bb575",
   "metadata": {},
   "outputs": [],
   "source": []
  },
  {
   "cell_type": "code",
   "execution_count": 40,
   "id": "8ae5afc7-c8f4-4cb9-a27e-ac324564b8ba",
   "metadata": {},
   "outputs": [],
   "source": [
    "explain_matrix, masks = clf.explain(X_test)"
   ]
  },
  {
   "cell_type": "code",
   "execution_count": 41,
   "id": "ffc18137-2ca5-43cb-a363-70a7edef033d",
   "metadata": {},
   "outputs": [
    {
     "data": {
      "image/png": "[encoded data removed]",
      "text/plain": [
       "<Figure size 1440x1440 with 3 Axes>"
      ]
     },
     "metadata": {
      "needs_background": "light"
     },
     "output_type": "display_data"
    }
   ],
   "source": [
    "fig, axs = plt.subplots(1, 3, figsize=(20,20))\n",
    "\n",
    "for i in range(3):\n",
    "    axs[i].imshow(masks[i][:1000], cmap='gray')\n",
    "    axs[i].set_title(f\"mask {i}\")"
   ]
  },
  {
   "cell_type": "code",
   "execution_count": null,
   "id": "1538041b-572b-4ca5-abea-ff09d1e53457",
   "metadata": {},
   "outputs": [],
   "source": []
  }
 ],
 "metadata": {
  "kernelspec": {
   "display_name": "Python 3",
   "language": "python",
   "name": "python3"
  },
  "language_info": {
   "codemirror_mode": {
    "name": "ipython",
    "version": 3
   },
   "file_extension": ".py",
   "mimetype": "text/x-python",
   "name": "python",
   "nbconvert_exporter": "python",
   "pygments_lexer": "ipython3",
   "version": "3.8.8"
  }
 },
 "nbformat": 4,
 "nbformat_minor": 5
}
