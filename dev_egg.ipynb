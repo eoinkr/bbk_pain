{
 "cells": [
  {
   "cell_type": "markdown",
   "id": "8cdc7168-69c2-4c60-8a76-7a8733191518",
   "metadata": {},
   "source": [
    "#### dev egg ideas"
   ]
  },
  {
   "cell_type": "code",
   "execution_count": 1,
   "id": "dfe1976a-1d23-40e0-96ed-4bae7cbfc5ad",
   "metadata": {},
   "outputs": [],
   "source": [
    "import os\n",
    "import sys\n",
    "import numpy as np\n",
    "import pandas as pd\n",
    "import matplotlib.pyplot as plt"
   ]
  },
  {
   "cell_type": "code",
   "execution_count": 2,
   "id": "ff209ae9-3b61-4fa0-9e8b-3e576d2b7305",
   "metadata": {},
   "outputs": [],
   "source": [
    "from clean_questions import *\n",
    "from subject_select import *"
   ]
  },
  {
   "cell_type": "code",
   "execution_count": 29,
   "id": "14c26557-0823-41c0-b222-132c0d62d702",
   "metadata": {},
   "outputs": [],
   "source": [
    "def select_digestive_reverse(save=True):\n",
    "    \"\"\"select digestive prediction set\"\"\"\n",
    "    # load controls\n",
    "#     df_controls = pd.read_csv('./data/qsidp_patients.csv')\n",
    "    df_controls = pd.read_csv('./data/qsidp_pain_plus.csv')\n",
    "    print(df_controls.shape)\n",
    "    # extract dates\n",
    "    qs = load_qscode(questionnaire=['digestive', 'demographic'], idp=None)\n",
    "    df_qs = extract_qs(df_controls, df_questionnaire=qs, visits=[2])\n",
    "    # rename dates\n",
    "    df_qs.rename(columns={'53-2.0':'imaging_date', '21023-0.0':'digest_date'}, inplace=True)\n",
    "    # slice out digestive after imaging\n",
    "    df_dt = pd.to_datetime(df_qs['digest_date'])\n",
    "    df_it = pd.to_datetime(df_qs['imaging_date'])\n",
    "    # calcualte diff\n",
    "    diff = (df_dt-df_it).values\n",
    "    dff = diff.astype('int64')\n",
    "    # those finished digestive after imaging\n",
    "    df_dig = df_qs[dff>0]\n",
    "    # output\n",
    "    df_out = df_controls[df_controls['eid'].isin(df_dig['eid'])]\n",
    "    # save\n",
    "#     if save:\n",
    "#         df_out.to_csv('./data/qsidp_digestive.csv', index=None)\n",
    "    return df_out"
   ]
  },
  {
   "cell_type": "code",
   "execution_count": 63,
   "id": "880188f6-69ec-455c-9f78-8c66639fa2ec",
   "metadata": {},
   "outputs": [
    {
     "name": "stderr",
     "output_type": "stream",
     "text": [
      "/home/fs0/syzhang/.conda/envs/bbk/lib/python3.8/site-packages/IPython/core/interactiveshell.py:3357: DtypeWarning: Columns (863,865,867,869) have mixed types.Specify dtype option on import or set low_memory=False.\n",
      "  if (await self.run_code(code, result,  async_=asy)):\n"
     ]
    },
    {
     "name": "stdout",
     "output_type": "stream",
     "text": [
      "(18697, 2861)\n"
     ]
    }
   ],
   "source": [
    "df = select_digestive_reverse()\n",
    "df = df.drop_duplicates(subset='eid')"
   ]
  },
  {
   "cell_type": "code",
   "execution_count": 64,
   "id": "c26b732e-e885-418e-8da8-19cce5200205",
   "metadata": {},
   "outputs": [
    {
     "data": {
      "text/plain": [
       "(3863, 2861)"
      ]
     },
     "execution_count": 64,
     "metadata": {},
     "output_type": "execute_result"
    }
   ],
   "source": [
    "df.shape"
   ]
  },
  {
   "cell_type": "code",
   "execution_count": 32,
   "id": "1766b2c0-dabe-439b-86d5-70dc5fd7c596",
   "metadata": {},
   "outputs": [],
   "source": [
    "digestive_codes = pd.read_csv('./bbk_codes/digestive_code.csv')"
   ]
  },
  {
   "cell_type": "code",
   "execution_count": 33,
   "id": "cac1e710-666f-4e03-90d4-498685572ab6",
   "metadata": {},
   "outputs": [
    {
     "data": {
      "text/html": [
       "<div>\n",
       "<style scoped>\n",
       "    .dataframe tbody tr th:only-of-type {\n",
       "        vertical-align: middle;\n",
       "    }\n",
       "\n",
       "    .dataframe tbody tr th {\n",
       "        vertical-align: top;\n",
       "    }\n",
       "\n",
       "    .dataframe thead th {\n",
       "        text-align: right;\n",
       "    }\n",
       "</style>\n",
       "<table border=\"1\" class=\"dataframe\">\n",
       "  <thead>\n",
       "    <tr style=\"text-align: right;\">\n",
       "      <th></th>\n",
       "      <th>Field title</th>\n",
       "      <th>code</th>\n",
       "    </tr>\n",
       "  </thead>\n",
       "  <tbody>\n",
       "    <tr>\n",
       "      <th>0</th>\n",
       "      <td>When digestive heakth questionnaire completed</td>\n",
       "      <td>21023</td>\n",
       "    </tr>\n",
       "    <tr>\n",
       "      <th>1</th>\n",
       "      <td>Abdominal discomfort/pain for 6 months or longer</td>\n",
       "      <td>21027</td>\n",
       "    </tr>\n",
       "    <tr>\n",
       "      <th>2</th>\n",
       "      <td>Currently (in last 3 months) suffer from abdom...</td>\n",
       "      <td>21035</td>\n",
       "    </tr>\n",
       "    <tr>\n",
       "      <th>3</th>\n",
       "      <td>Degree bothered by back pain in the past 3 months</td>\n",
       "      <td>21048</td>\n",
       "    </tr>\n",
       "    <tr>\n",
       "      <th>4</th>\n",
       "      <td>Degree bothered by chest pain in the last 3 mo...</td>\n",
       "      <td>21052</td>\n",
       "    </tr>\n",
       "    <tr>\n",
       "      <th>5</th>\n",
       "      <td>Degree bothered by headaches in the last 3 months</td>\n",
       "      <td>21051</td>\n",
       "    </tr>\n",
       "    <tr>\n",
       "      <th>6</th>\n",
       "      <td>Degree bothered by pain in arms/legs/joints in...</td>\n",
       "      <td>21049</td>\n",
       "    </tr>\n",
       "    <tr>\n",
       "      <th>7</th>\n",
       "      <td>Degree bothered by pain/problems during interc...</td>\n",
       "      <td>21057</td>\n",
       "    </tr>\n",
       "    <tr>\n",
       "      <th>8</th>\n",
       "      <td>Frequency of discomfort/pain in abdomen in las...</td>\n",
       "      <td>21025</td>\n",
       "    </tr>\n",
       "    <tr>\n",
       "      <th>9</th>\n",
       "      <td>Severity of current abdominal pain</td>\n",
       "      <td>21036</td>\n",
       "    </tr>\n",
       "  </tbody>\n",
       "</table>\n",
       "</div>"
      ],
      "text/plain": [
       "                                         Field title   code\n",
       "0      When digestive heakth questionnaire completed  21023\n",
       "1   Abdominal discomfort/pain for 6 months or longer  21027\n",
       "2  Currently (in last 3 months) suffer from abdom...  21035\n",
       "3  Degree bothered by back pain in the past 3 months  21048\n",
       "4  Degree bothered by chest pain in the last 3 mo...  21052\n",
       "5  Degree bothered by headaches in the last 3 months  21051\n",
       "6  Degree bothered by pain in arms/legs/joints in...  21049\n",
       "7  Degree bothered by pain/problems during interc...  21057\n",
       "8  Frequency of discomfort/pain in abdomen in las...  21025\n",
       "9                 Severity of current abdominal pain  21036"
      ]
     },
     "execution_count": 33,
     "metadata": {},
     "output_type": "execute_result"
    }
   ],
   "source": [
    "digestive_codes"
   ]
  },
  {
   "cell_type": "code",
   "execution_count": 65,
   "id": "c7b079a3-f0b7-48ee-80d5-e36acc499128",
   "metadata": {},
   "outputs": [],
   "source": [
    "# pain_codes = [21048, 21052, 21051, 21049, 21057]\n",
    "pain_codes = [21048]"
   ]
  },
  {
   "cell_type": "code",
   "execution_count": 66,
   "id": "af142338-bc20-4f27-861c-505e346a660a",
   "metadata": {},
   "outputs": [],
   "source": [
    "pc = [str(p)+'-0.0' for p in pain_codes]"
   ]
  },
  {
   "cell_type": "code",
   "execution_count": 67,
   "id": "b45e7ca8-dc0c-4b39-9256-f451e529202b",
   "metadata": {},
   "outputs": [],
   "source": [
    "# pc_new = pc+['21027-0.1']\n",
    "pc_new = pc"
   ]
  },
  {
   "cell_type": "code",
   "execution_count": 68,
   "id": "f7996e66-6485-4a2f-a2e8-9fc6204a86b9",
   "metadata": {},
   "outputs": [
    {
     "name": "stdout",
     "output_type": "stream",
     "text": [
      "['21048-0.0']\n"
     ]
    }
   ],
   "source": [
    "for p in pain_codes:\n",
    "    dfp = check_field(df, p, visit=0)\n",
    "    print(dfp)"
   ]
  },
  {
   "cell_type": "code",
   "execution_count": 129,
   "id": "af303764-3545-4151-8902-5818bcafb898",
   "metadata": {},
   "outputs": [],
   "source": [
    "# construct abdominal pain degree bothered by\n",
    "con = []\n",
    "for f in df['21027-0.0']:\n",
    "    if f==0.:\n",
    "        con.append(-600.)\n",
    "    else:\n",
    "        con.append(-601.)\n",
    "df.loc[:,'21027-0.1'] = con"
   ]
  },
  {
   "cell_type": "code",
   "execution_count": 130,
   "id": "709af21d-dcc1-4470-8cc6-e9eab2102870",
   "metadata": {},
   "outputs": [
    {
     "name": "stdout",
     "output_type": "stream",
     "text": [
      "21048-0.0 -601.0    2579\n",
      "-600.0    1378\n",
      "-602.0    1089\n",
      "Name: 21048-0.0, dtype: int64\n"
     ]
    }
   ],
   "source": [
    "for p in pc_new:\n",
    "    print(p, df[p].value_counts())"
   ]
  },
  {
   "cell_type": "code",
   "execution_count": 69,
   "id": "d4d41088-8eb4-4320-8f12-e5c093867f76",
   "metadata": {},
   "outputs": [],
   "source": [
    "dfok = check_count(df, pc_new, -600)"
   ]
  },
  {
   "cell_type": "code",
   "execution_count": 70,
   "id": "22d5c7a4-c505-4ad0-84c2-7524174bf323",
   "metadata": {},
   "outputs": [
    {
     "data": {
      "text/plain": [
       "(980, 2861)"
      ]
     },
     "execution_count": 70,
     "metadata": {},
     "output_type": "execute_result"
    }
   ],
   "source": [
    "dfok.shape"
   ]
  },
  {
   "cell_type": "code",
   "execution_count": 71,
   "id": "e7bd9489-bf8e-461d-9681-c6c82904ceef",
   "metadata": {},
   "outputs": [
    {
     "data": {
      "text/plain": [
       "(980, 2861)"
      ]
     },
     "execution_count": 71,
     "metadata": {},
     "output_type": "execute_result"
    }
   ],
   "source": [
    "dfok.drop_duplicates(subset='eid').shape"
   ]
  },
  {
   "cell_type": "code",
   "execution_count": 72,
   "id": "821ff0fc-2474-48a0-b0da-122f53410fce",
   "metadata": {},
   "outputs": [],
   "source": [
    "dfok2 = dfok.drop_duplicates(subset=['eid'])"
   ]
  },
  {
   "cell_type": "code",
   "execution_count": 73,
   "id": "bf66d9ac-f599-4d86-9476-2aef8b2bf142",
   "metadata": {},
   "outputs": [],
   "source": [
    "pc_new = pc_new+['eid']"
   ]
  },
  {
   "cell_type": "code",
   "execution_count": 74,
   "id": "aba124e7-6dec-4545-b3a3-712cab1971e9",
   "metadata": {},
   "outputs": [],
   "source": [
    "dftmp = dfok2[pc_new]\n",
    "df_tmp = dftmp.set_index('eid')"
   ]
  },
  {
   "cell_type": "code",
   "execution_count": 75,
   "id": "3f04e055-8627-4240-8e63-9a61f4c53548",
   "metadata": {},
   "outputs": [
    {
     "data": {
      "text/plain": [
       "(980, 1)"
      ]
     },
     "execution_count": 75,
     "metadata": {},
     "output_type": "execute_result"
    }
   ],
   "source": [
    "df_tmp.shape"
   ]
  },
  {
   "cell_type": "code",
   "execution_count": 76,
   "id": "fe47d5d0-1a29-4479-9c15-151f0799096e",
   "metadata": {},
   "outputs": [],
   "source": [
    "# go back to check back pain\n",
    "dfb = df[['3571-2.0','eid']]"
   ]
  },
  {
   "cell_type": "code",
   "execution_count": 77,
   "id": "120a60e3-d61a-448c-a317-27cff49cb56d",
   "metadata": {},
   "outputs": [],
   "source": [
    "dfb_id = dfb[dfb['3571-2.0']==1.].drop_duplicates(subset='eid')"
   ]
  },
  {
   "cell_type": "code",
   "execution_count": 78,
   "id": "b456d781-106e-4852-adba-72654d1f579c",
   "metadata": {},
   "outputs": [
    {
     "data": {
      "text/plain": [
       "(1338, 2)"
      ]
     },
     "execution_count": 78,
     "metadata": {},
     "output_type": "execute_result"
    }
   ],
   "source": [
    "dfb_id.shape"
   ]
  },
  {
   "cell_type": "code",
   "execution_count": 79,
   "id": "8070415d-b1f0-4f0f-9a86-5071b3556aaf",
   "metadata": {},
   "outputs": [],
   "source": [
    "gotbetter = dfb_id[dfb_id['eid'].isin(dftmp['eid'])]"
   ]
  },
  {
   "cell_type": "code",
   "execution_count": 80,
   "id": "36b1815b-7502-4146-af97-7b4f2484c9df",
   "metadata": {},
   "outputs": [
    {
     "data": {
      "text/plain": [
       "74"
      ]
     },
     "execution_count": 80,
     "metadata": {},
     "output_type": "execute_result"
    }
   ],
   "source": [
    "len(gotbetter)"
   ]
  },
  {
   "cell_type": "code",
   "execution_count": null,
   "id": "038d5c9a-ced9-4320-be1d-f5f4b8db4462",
   "metadata": {},
   "outputs": [],
   "source": []
  },
  {
   "cell_type": "markdown",
   "id": "96b02f17-a2da-480d-913b-522c702e3b02",
   "metadata": {},
   "source": [
    "### looking at people whose back pain got better"
   ]
  },
  {
   "cell_type": "code",
   "execution_count": 81,
   "id": "03231968-f2fe-4346-8250-ca96fae656a2",
   "metadata": {},
   "outputs": [],
   "source": [
    "dfbp = df[df['eid'].isin(dfb_id['eid'])]"
   ]
  },
  {
   "cell_type": "code",
   "execution_count": 82,
   "id": "9ea96f66-fd1c-4e47-a161-24f78068c4cb",
   "metadata": {},
   "outputs": [
    {
     "data": {
      "text/plain": [
       "(1338, 2861)"
      ]
     },
     "execution_count": 82,
     "metadata": {},
     "output_type": "execute_result"
    }
   ],
   "source": [
    "dfbp.shape"
   ]
  },
  {
   "cell_type": "code",
   "execution_count": 83,
   "id": "50310091-8ab0-46bd-9348-db39eb4056d3",
   "metadata": {},
   "outputs": [
    {
     "data": {
      "text/plain": [
       "-601.0    649\n",
       "-602.0    615\n",
       "-600.0     74\n",
       "Name: 21048-0.0, dtype: int64"
      ]
     },
     "execution_count": 83,
     "metadata": {},
     "output_type": "execute_result"
    }
   ],
   "source": [
    "dfbp['21048-0.0'].value_counts()"
   ]
  },
  {
   "cell_type": "code",
   "execution_count": 84,
   "id": "66bf332d-800d-4b17-801e-a590b5fec449",
   "metadata": {},
   "outputs": [],
   "source": [
    "recovery = dfbp['21048-0.0'].values==-600"
   ]
  },
  {
   "cell_type": "code",
   "execution_count": 85,
   "id": "dddc192c-606a-4770-99e7-85d70ab7699d",
   "metadata": {},
   "outputs": [
    {
     "name": "stderr",
     "output_type": "stream",
     "text": [
      "/home/fs0/syzhang/.conda/envs/bbk/lib/python3.8/site-packages/pandas/core/indexing.py:1596: SettingWithCopyWarning: \n",
      "A value is trying to be set on a copy of a slice from a DataFrame.\n",
      "Try using .loc[row_indexer,col_indexer] = value instead\n",
      "\n",
      "See the caveats in the documentation: https://pandas.pydata.org/pandas-docs/stable/user_guide/indexing.html#returning-a-view-versus-a-copy\n",
      "  self.obj[key] = _infer_fill_value(value)\n",
      "/home/fs0/syzhang/.conda/envs/bbk/lib/python3.8/site-packages/pandas/core/indexing.py:1743: SettingWithCopyWarning: \n",
      "A value is trying to be set on a copy of a slice from a DataFrame.\n",
      "Try using .loc[row_indexer,col_indexer] = value instead\n",
      "\n",
      "See the caveats in the documentation: https://pandas.pydata.org/pandas-docs/stable/user_guide/indexing.html#returning-a-view-versus-a-copy\n",
      "  isetter(ilocs[0], value)\n"
     ]
    }
   ],
   "source": [
    "dfbp.loc[:,'bp_recovery'] = recovery"
   ]
  },
  {
   "cell_type": "code",
   "execution_count": 86,
   "id": "bb57fdc9-6ced-4149-802b-8e712dc18a22",
   "metadata": {},
   "outputs": [
    {
     "data": {
      "text/plain": [
       "(1338, 2862)"
      ]
     },
     "execution_count": 86,
     "metadata": {},
     "output_type": "execute_result"
    }
   ],
   "source": [
    "dfbp.shape"
   ]
  },
  {
   "cell_type": "code",
   "execution_count": 87,
   "id": "a256b2b1-b235-4739-a4c1-a5557395a671",
   "metadata": {},
   "outputs": [],
   "source": [
    "dfbp.to_csv('./data/qsidp_bprecovery.csv', index=None)"
   ]
  },
  {
   "cell_type": "markdown",
   "id": "68dd56bc-1071-4702-9c13-8fa36295c7d0",
   "metadata": {},
   "source": [
    "#### check basics"
   ]
  },
  {
   "cell_type": "code",
   "execution_count": 183,
   "id": "5df8626f-811d-4c0d-8122-11b68fac9aaf",
   "metadata": {},
   "outputs": [
    {
     "name": "stderr",
     "output_type": "stream",
     "text": [
      "/home/fs0/syzhang/.conda/envs/bbk/lib/python3.8/site-packages/IPython/core/interactiveshell.py:3165: DtypeWarning: Columns (863,867) have mixed types.Specify dtype option on import or set low_memory=False.\n",
      "  has_raised = await self.run_ast_nodes(code_ast.body, cell_name,\n"
     ]
    }
   ],
   "source": [
    "dfbp = pd.read_csv('./data/qsidp_bprecovery.csv')\n",
    "# dfbp = pd.read_csv('./data/qsidp_bprecovery_bponly.csv')"
   ]
  },
  {
   "cell_type": "code",
   "execution_count": 184,
   "id": "5ea494eb-5a6d-4d82-9dbb-b1a69ee052aa",
   "metadata": {},
   "outputs": [
    {
     "data": {
      "text/plain": [
       "(1338, 2862)"
      ]
     },
     "execution_count": 184,
     "metadata": {},
     "output_type": "execute_result"
    }
   ],
   "source": [
    "dfbp.shape"
   ]
  },
  {
   "cell_type": "code",
   "execution_count": 185,
   "id": "26dfa5e5-8d92-41a0-aa89-4b70fec1ac22",
   "metadata": {},
   "outputs": [],
   "source": [
    "dfbp = dfbp.drop_duplicates(subset='eid')"
   ]
  },
  {
   "cell_type": "code",
   "execution_count": 186,
   "id": "4dccd45e-e9c0-4c39-bcc4-5e40dd457a79",
   "metadata": {},
   "outputs": [
    {
     "data": {
      "text/plain": [
       "(1338, 2862)"
      ]
     },
     "execution_count": 186,
     "metadata": {},
     "output_type": "execute_result"
    }
   ],
   "source": [
    "dfbp.shape"
   ]
  },
  {
   "cell_type": "code",
   "execution_count": 187,
   "id": "3cb0b2da-39ac-4afe-bed5-5af92195d547",
   "metadata": {},
   "outputs": [
    {
     "data": {
      "text/plain": [
       "0.06373626373626373"
      ]
     },
     "execution_count": 187,
     "metadata": {},
     "output_type": "execute_result"
    }
   ],
   "source": [
    "29/455"
   ]
  },
  {
   "cell_type": "code",
   "execution_count": 188,
   "id": "52ff5097-bce0-47a1-abf5-eb148dd074ef",
   "metadata": {},
   "outputs": [
    {
     "data": {
      "text/plain": [
       "False    1264\n",
       "True       74\n",
       "Name: bp_recovery, dtype: int64"
      ]
     },
     "execution_count": 188,
     "metadata": {},
     "output_type": "execute_result"
    }
   ],
   "source": [
    "dfbp['bp_recovery'].value_counts()"
   ]
  },
  {
   "cell_type": "code",
   "execution_count": 16,
   "id": "29981ec8-4bc6-4f48-bf8d-068ab080b8bf",
   "metadata": {},
   "outputs": [
    {
     "name": "stdout",
     "output_type": "stream",
     "text": [
      "       eid          1\n",
      "0  1011648  25751_2_0\n",
      "1  1023942  25751_2_0\n",
      "2  1025998  25751_2_0\n",
      "3  1032549  25751_2_0\n",
      "4  1034464  25751_2_0\n"
     ]
    }
   ],
   "source": [
    "c = 25751\n",
    "dff = pd.DataFrame({'eid': dfbp['eid'].values, '1': f'{c}_2_0'})\n",
    "print(dff.head())\n",
    "\n",
    "dff.to_csv(f'../ukbf/bponly_{c}.csv',index=None,header=None,sep=' ')"
   ]
  },
  {
   "cell_type": "markdown",
   "id": "fbf45e0c-0969-4aa7-9e7e-4a8939f15aec",
   "metadata": {},
   "source": [
    "##### pick out back pain only"
   ]
  },
  {
   "cell_type": "code",
   "execution_count": 92,
   "id": "4a581829-364d-43e5-adad-2a071a589d2e",
   "metadata": {},
   "outputs": [],
   "source": [
    "# restrict to those with one of the 3+ month cwp\n",
    "fields = pd.read_csv('./bbk_codes/cwp_code.csv')\n",
    "ff = fields[fields['code']!=6159]['code'].to_list()\n",
    "fn = fields[fields['code']!=6159]['Field title'].to_list()"
   ]
  },
  {
   "cell_type": "code",
   "execution_count": 93,
   "id": "aeeab3d0-ecb5-48b6-a264-1839a8d9a2c6",
   "metadata": {},
   "outputs": [],
   "source": [
    "fls = []\n",
    "for f in ff:\n",
    "    fls += check_field(dfbp, f)"
   ]
  },
  {
   "cell_type": "code",
   "execution_count": 94,
   "id": "abc656ed-7fc3-47ef-b4e0-67573995e179",
   "metadata": {},
   "outputs": [
    {
     "data": {
      "text/plain": [
       "['3799-2.0',\n",
       " '4067-2.0',\n",
       " '3404-2.0',\n",
       " '3571-2.0',\n",
       " '3741-2.0',\n",
       " '3414-2.0',\n",
       " '3773-2.0',\n",
       " '2956-2.0']"
      ]
     },
     "execution_count": 94,
     "metadata": {},
     "output_type": "execute_result"
    }
   ],
   "source": [
    "fls"
   ]
  },
  {
   "cell_type": "code",
   "execution_count": 95,
   "id": "9f8f29d6-80fc-4fba-a91f-19cb5b95f890",
   "metadata": {},
   "outputs": [],
   "source": [
    "bponly = []\n",
    "for i, r in dfbp.iterrows():\n",
    "    if np.nansum(r[fls])==1 and r['3571-2.0']==1.:\n",
    "        bponly.append(r['eid'])"
   ]
  },
  {
   "cell_type": "code",
   "execution_count": 96,
   "id": "753bcd8a-ebf4-4f9d-b197-ca84f5301975",
   "metadata": {},
   "outputs": [
    {
     "data": {
      "text/plain": [
       "484"
      ]
     },
     "execution_count": 96,
     "metadata": {},
     "output_type": "execute_result"
    }
   ],
   "source": [
    "len(bponly)"
   ]
  },
  {
   "cell_type": "code",
   "execution_count": 97,
   "id": "3f8e2bf6-573a-41f2-8cb9-77578b25d4f4",
   "metadata": {},
   "outputs": [],
   "source": [
    "dfbq_only = dfbp[dfbp['eid'].isin(bponly)]"
   ]
  },
  {
   "cell_type": "code",
   "execution_count": 98,
   "id": "8a1bbb85-2053-4616-92ce-8cc9239cef36",
   "metadata": {},
   "outputs": [
    {
     "data": {
      "text/plain": [
       "(484, 2862)"
      ]
     },
     "execution_count": 98,
     "metadata": {},
     "output_type": "execute_result"
    }
   ],
   "source": [
    "dfbq_only.shape"
   ]
  },
  {
   "cell_type": "code",
   "execution_count": 99,
   "id": "d2b20955-a6e5-4e59-a01e-3dab3bf66e70",
   "metadata": {},
   "outputs": [
    {
     "data": {
      "text/plain": [
       "False    455\n",
       "True      29\n",
       "Name: bp_recovery, dtype: int64"
      ]
     },
     "execution_count": 99,
     "metadata": {},
     "output_type": "execute_result"
    }
   ],
   "source": [
    "dfbq_only['bp_recovery'].value_counts()"
   ]
  },
  {
   "cell_type": "code",
   "execution_count": 101,
   "id": "5c6d08d3-dca5-4dd7-be09-a499c3526ce0",
   "metadata": {},
   "outputs": [],
   "source": [
    "dfbq_only.to_csv('./data/qsidp_bprecovery_bponly.csv', index=None)"
   ]
  },
  {
   "cell_type": "markdown",
   "id": "21ec7110-ef7b-4439-8cd1-550e9c797a09",
   "metadata": {},
   "source": [
    "##### chekc disease"
   ]
  },
  {
   "cell_type": "code",
   "execution_count": 102,
   "id": "f3a4f7f8-9e8d-40a2-92c9-1bc8bf882508",
   "metadata": {},
   "outputs": [],
   "source": [
    "dfbp_rec = dfbp[dfbp['bp_recovery']==1]"
   ]
  },
  {
   "cell_type": "code",
   "execution_count": 103,
   "id": "2c960619-aafd-42cd-99bc-4ff2a276562c",
   "metadata": {},
   "outputs": [],
   "source": [
    "dfbp_disease = disease_label(dfbp_rec, visits=[2], grouping='detailed')"
   ]
  },
  {
   "cell_type": "code",
   "execution_count": 104,
   "id": "b8d66b5f-4335-432e-864a-c2d1d82fe746",
   "metadata": {},
   "outputs": [
    {
     "data": {
      "text/plain": [
       "<AxesSubplot:>"
      ]
     },
     "execution_count": 104,
     "metadata": {},
     "output_type": "execute_result"
    },
    {
     "data": {
      "image/png": "[encoded data removed]",
      "text/plain": [
       "<Figure size 432x288 with 1 Axes>"
      ]
     },
     "metadata": {
      "needs_background": "light"
     },
     "output_type": "display_data"
    }
   ],
   "source": [
    "dfbp_disease.sum().plot(kind='bar')"
   ]
  },
  {
   "cell_type": "markdown",
   "id": "f86bbf56-dc4d-4ecb-932b-680bc79bd97d",
   "metadata": {},
   "source": [
    "##### make age/sex matched"
   ]
  },
  {
   "cell_type": "code",
   "execution_count": 109,
   "id": "0825743d-b00a-446b-ab6c-555633955843",
   "metadata": {},
   "outputs": [],
   "source": [
    "from compare_control import extract_control"
   ]
  },
  {
   "cell_type": "code",
   "execution_count": 110,
   "id": "f954b84c-766e-4366-bb69-99aaf5d4f0b3",
   "metadata": {},
   "outputs": [],
   "source": [
    "recov = dfbp[dfbp['bp_recovery']==1]\n",
    "contr = dfbp[dfbp['bp_recovery']==0]"
   ]
  },
  {
   "cell_type": "code",
   "execution_count": 111,
   "id": "976df236-da06-4376-bb94-dfec041310dc",
   "metadata": {},
   "outputs": [],
   "source": [
    "matched = extract_control(contr, recov, save_csv=False)"
   ]
  },
  {
   "cell_type": "code",
   "execution_count": 112,
   "id": "b3fac153-f703-4ccf-89e4-86d7c92c7052",
   "metadata": {},
   "outputs": [
    {
     "data": {
      "text/plain": [
       "28"
      ]
     },
     "execution_count": 112,
     "metadata": {},
     "output_type": "execute_result"
    }
   ],
   "source": [
    "len(matched)"
   ]
  },
  {
   "cell_type": "code",
   "execution_count": 113,
   "id": "7b5cbd75-ca4e-4fc6-bce3-449a889caadb",
   "metadata": {},
   "outputs": [],
   "source": [
    "dfbp_matched = dfbp[dfbp['eid'].isin(matched)].drop_duplicates(subset='eid')"
   ]
  },
  {
   "cell_type": "code",
   "execution_count": 114,
   "id": "4b6026ad-9472-420b-b26a-6517b6327086",
   "metadata": {},
   "outputs": [
    {
     "data": {
      "text/plain": [
       "(28, 2862)"
      ]
     },
     "execution_count": 114,
     "metadata": {},
     "output_type": "execute_result"
    }
   ],
   "source": [
    "dfbp_matched.shape"
   ]
  },
  {
   "cell_type": "code",
   "execution_count": 115,
   "id": "9ed26b52-e6cb-49ca-94ff-2c46a88dff7b",
   "metadata": {},
   "outputs": [],
   "source": [
    "dfbp = pd.concat([recov, dfbp_matched])"
   ]
  },
  {
   "cell_type": "code",
   "execution_count": 116,
   "id": "0280f803-ba5d-4311-b851-ad1e7751dbcc",
   "metadata": {},
   "outputs": [
    {
     "data": {
      "text/plain": [
       "(57, 2862)"
      ]
     },
     "execution_count": 116,
     "metadata": {},
     "output_type": "execute_result"
    }
   ],
   "source": [
    "dfbp.shape"
   ]
  },
  {
   "cell_type": "markdown",
   "id": "ea736649-5109-456c-9746-8c76a8a852d1",
   "metadata": {},
   "source": [
    "##### basic classification"
   ]
  },
  {
   "cell_type": "code",
   "execution_count": 138,
   "id": "27a0a979-8da9-4e8c-9752-ad34f1b6a8f3",
   "metadata": {},
   "outputs": [],
   "source": [
    "# prep data for classification\n",
    "questionnaire = 'all'\n",
    "idp = None\n",
    "question_visits = [2]\n",
    "# load question code\n",
    "qs = load_qscode(questionnaire=questionnaire, idp=idp)\n",
    "# extract questionnaire of interest\n",
    "df_qs = extract_qs(dfbp, df_questionnaire=qs, visits=question_visits)\n",
    "# put in labels\n",
    "df_qs['label'] = dfbp['bp_recovery']\n",
    "# impute\n",
    "dff_imputed = impute_qs(df_qs, freq_fill='median', nan_percent=0.9, transform=False)"
   ]
  },
  {
   "cell_type": "code",
   "execution_count": 139,
   "id": "754468fa-31fe-4ca6-b5d1-f4e1173040cb",
   "metadata": {},
   "outputs": [
    {
     "name": "stdout",
     "output_type": "stream",
     "text": [
      "Classification report for classifier RandomForestClassifier(max_depth=5):\n",
      "              precision    recall  f1-score   support\n",
      "\n",
      "       False       0.40      0.43      0.41        14\n",
      "        True       0.38      0.36      0.37        14\n",
      "\n",
      "    accuracy                           0.39        28\n",
      "   macro avg       0.39      0.39      0.39        28\n",
      "weighted avg       0.39      0.39      0.39        28\n",
      "\n",
      "ROC AUC=0.3214, train accuracy=1.0000, test accuracy=0.3929\n"
     ]
    },
    {
     "data": {
      "text/plain": [
       "(0.32142857142857145, 1.0, 0.39285714285714285)"
      ]
     },
     "execution_count": 139,
     "metadata": {},
     "output_type": "execute_result"
    },
    {
     "data": {
      "image/png": "[encoded data removed]",
      "text/plain": [
       "<Figure size 432x288 with 2 Axes>"
      ]
     },
     "metadata": {
      "needs_background": "light"
     },
     "output_type": "display_data"
    },
    {
     "data": {
      "image/png": "[encoded data removed]",
      "text/plain": [
       "<Figure size 360x360 with 1 Axes>"
      ]
     },
     "metadata": {
      "needs_background": "light"
     },
     "output_type": "display_data"
    }
   ],
   "source": [
    "# run basic classification\n",
    "basic_classify(dff_imputed, classifier='rforest', random_state=1, test_size=0.5, \n",
    "               save_plot=True, num_importance=20, questionnaire=questionnaire, idp=idp, \n",
    "               save_name='backpain_recovery', scaler=True, balance=True)"
   ]
  },
  {
   "cell_type": "code",
   "execution_count": 140,
   "id": "3b6fc430-a7dc-42ba-8ea5-c99813827918",
   "metadata": {},
   "outputs": [
    {
     "name": "stdout",
     "output_type": "stream",
     "text": [
      "2\n",
      "4-fold CV classification with classifier RandomForestClassifier(max_depth=5):\n",
      "test ROC AUC=0.2551, test accuracy=0.3571, test f1=0.4225\n"
     ]
    },
    {
     "data": {
      "text/html": [
       "<div>\n",
       "<style scoped>\n",
       "    .dataframe tbody tr th:only-of-type {\n",
       "        vertical-align: middle;\n",
       "    }\n",
       "\n",
       "    .dataframe tbody tr th {\n",
       "        vertical-align: top;\n",
       "    }\n",
       "\n",
       "    .dataframe thead th {\n",
       "        text-align: right;\n",
       "    }\n",
       "</style>\n",
       "<table border=\"1\" class=\"dataframe\">\n",
       "  <thead>\n",
       "    <tr style=\"text-align: right;\">\n",
       "      <th></th>\n",
       "      <th>fit_time</th>\n",
       "      <th>score_time</th>\n",
       "      <th>test_accuracy</th>\n",
       "      <th>test_f1</th>\n",
       "      <th>test_roc_auc</th>\n",
       "    </tr>\n",
       "  </thead>\n",
       "  <tbody>\n",
       "    <tr>\n",
       "      <th>0</th>\n",
       "      <td>0.156252</td>\n",
       "      <td>0.028176</td>\n",
       "      <td>0.428571</td>\n",
       "      <td>0.428571</td>\n",
       "      <td>0.285714</td>\n",
       "    </tr>\n",
       "    <tr>\n",
       "      <th>1</th>\n",
       "      <td>0.150489</td>\n",
       "      <td>0.027445</td>\n",
       "      <td>0.500000</td>\n",
       "      <td>0.533333</td>\n",
       "      <td>0.408163</td>\n",
       "    </tr>\n",
       "    <tr>\n",
       "      <th>2</th>\n",
       "      <td>0.148528</td>\n",
       "      <td>0.027035</td>\n",
       "      <td>0.285714</td>\n",
       "      <td>0.375000</td>\n",
       "      <td>0.244898</td>\n",
       "    </tr>\n",
       "    <tr>\n",
       "      <th>3</th>\n",
       "      <td>0.153358</td>\n",
       "      <td>0.028692</td>\n",
       "      <td>0.214286</td>\n",
       "      <td>0.352941</td>\n",
       "      <td>0.081633</td>\n",
       "    </tr>\n",
       "  </tbody>\n",
       "</table>\n",
       "</div>"
      ],
      "text/plain": [
       "   fit_time  score_time  test_accuracy   test_f1  test_roc_auc\n",
       "0  0.156252    0.028176       0.428571  0.428571      0.285714\n",
       "1  0.150489    0.027445       0.500000  0.533333      0.408163\n",
       "2  0.148528    0.027035       0.285714  0.375000      0.244898\n",
       "3  0.153358    0.028692       0.214286  0.352941      0.081633"
      ]
     },
     "execution_count": 140,
     "metadata": {},
     "output_type": "execute_result"
    }
   ],
   "source": [
    "cv_classify(dff_imputed, classifier='rforest', cv_fold=4, scaler=True, balance=True)"
   ]
  },
  {
   "cell_type": "code",
   "execution_count": 141,
   "id": "3ece0b3b-5948-4f84-b65e-7ff50492ecb9",
   "metadata": {},
   "outputs": [
    {
     "name": "stdout",
     "output_type": "stream",
     "text": [
      "2\n",
      "4-fold CV classification with classifier LGBMClassifier():\n",
      "test ROC AUC=0.4464, test accuracy=0.5179, test f1=0.4122\n"
     ]
    },
    {
     "data": {
      "text/html": [
       "<div>\n",
       "<style scoped>\n",
       "    .dataframe tbody tr th:only-of-type {\n",
       "        vertical-align: middle;\n",
       "    }\n",
       "\n",
       "    .dataframe tbody tr th {\n",
       "        vertical-align: top;\n",
       "    }\n",
       "\n",
       "    .dataframe thead th {\n",
       "        text-align: right;\n",
       "    }\n",
       "</style>\n",
       "<table border=\"1\" class=\"dataframe\">\n",
       "  <thead>\n",
       "    <tr style=\"text-align: right;\">\n",
       "      <th></th>\n",
       "      <th>fit_time</th>\n",
       "      <th>score_time</th>\n",
       "      <th>test_accuracy</th>\n",
       "      <th>test_f1</th>\n",
       "      <th>test_roc_auc</th>\n",
       "    </tr>\n",
       "  </thead>\n",
       "  <tbody>\n",
       "    <tr>\n",
       "      <th>0</th>\n",
       "      <td>0.015927</td>\n",
       "      <td>0.003951</td>\n",
       "      <td>0.428571</td>\n",
       "      <td>0.333333</td>\n",
       "      <td>0.265306</td>\n",
       "    </tr>\n",
       "    <tr>\n",
       "      <th>1</th>\n",
       "      <td>0.013115</td>\n",
       "      <td>0.003683</td>\n",
       "      <td>0.642857</td>\n",
       "      <td>0.615385</td>\n",
       "      <td>0.591837</td>\n",
       "    </tr>\n",
       "    <tr>\n",
       "      <th>2</th>\n",
       "      <td>0.013039</td>\n",
       "      <td>0.003832</td>\n",
       "      <td>0.571429</td>\n",
       "      <td>0.500000</td>\n",
       "      <td>0.581633</td>\n",
       "    </tr>\n",
       "    <tr>\n",
       "      <th>3</th>\n",
       "      <td>0.012829</td>\n",
       "      <td>0.003656</td>\n",
       "      <td>0.428571</td>\n",
       "      <td>0.200000</td>\n",
       "      <td>0.346939</td>\n",
       "    </tr>\n",
       "  </tbody>\n",
       "</table>\n",
       "</div>"
      ],
      "text/plain": [
       "   fit_time  score_time  test_accuracy   test_f1  test_roc_auc\n",
       "0  0.015927    0.003951       0.428571  0.333333      0.265306\n",
       "1  0.013115    0.003683       0.642857  0.615385      0.591837\n",
       "2  0.013039    0.003832       0.571429  0.500000      0.581633\n",
       "3  0.012829    0.003656       0.428571  0.200000      0.346939"
      ]
     },
     "execution_count": 141,
     "metadata": {},
     "output_type": "execute_result"
    }
   ],
   "source": [
    "cv_classify(dff_imputed, classifier='lgb', cv_fold=4, scaler=True, balance=True)"
   ]
  },
  {
   "cell_type": "code",
   "execution_count": 118,
   "id": "814387cd-dccb-4942-97cc-1e6a68aa2764",
   "metadata": {},
   "outputs": [],
   "source": [
    "# prep data for classification\n",
    "questionnaire = None\n",
    "idp = 'all'\n",
    "question_visits = [2]\n",
    "# load question code\n",
    "qs = load_qscode(questionnaire=questionnaire, idp=idp)\n",
    "# extract questionnaire of interest\n",
    "df_qs = extract_qs(dfbp, df_questionnaire=qs, visits=question_visits)\n",
    "# put in labels\n",
    "df_qs['label'] = dfbp['bp_recovery']\n",
    "# impute\n",
    "dff_imputed = impute_qs(df_qs, freq_fill='median', nan_percent=0.9, transform=False)"
   ]
  },
  {
   "cell_type": "code",
   "execution_count": 119,
   "id": "a8176fe9-0114-4886-b740-182a2455ee33",
   "metadata": {},
   "outputs": [
    {
     "name": "stdout",
     "output_type": "stream",
     "text": [
      "Classification report for classifier RandomForestClassifier(max_depth=5):\n",
      "              precision    recall  f1-score   support\n",
      "\n",
      "       False       0.61      0.38      0.47        37\n",
      "        True       0.55      0.76      0.64        37\n",
      "\n",
      "    accuracy                           0.57        74\n",
      "   macro avg       0.58      0.57      0.55        74\n",
      "weighted avg       0.58      0.57      0.55        74\n",
      "\n",
      "ROC AUC=0.4719, train accuracy=1.0000, test accuracy=0.5676\n"
     ]
    },
    {
     "data": {
      "text/plain": [
       "(0.47187728268809354, 1.0, 0.5675675675675675)"
      ]
     },
     "execution_count": 119,
     "metadata": {},
     "output_type": "execute_result"
    },
    {
     "data": {
      "image/png": "[encoded data removed]",
      "text/plain": [
       "<Figure size 432x288 with 2 Axes>"
      ]
     },
     "metadata": {
      "needs_background": "light"
     },
     "output_type": "display_data"
    },
    {
     "data": {
      "image/png": "[encoded data removed]",
      "text/plain": [
       "<Figure size 360x360 with 1 Axes>"
      ]
     },
     "metadata": {
      "needs_background": "light"
     },
     "output_type": "display_data"
    }
   ],
   "source": [
    "# run basic classification\n",
    "basic_classify(dff_imputed, classifier='rforest', random_state=1, test_size=0.5, \n",
    "               save_plot=True, num_importance=20, questionnaire=questionnaire, idp=idp, \n",
    "               save_name='backpain_recovery', scaler=True, balance=True)"
   ]
  },
  {
   "cell_type": "code",
   "execution_count": 120,
   "id": "ab90955d-d29f-468f-8d9b-c79fcf7f30b8",
   "metadata": {},
   "outputs": [],
   "source": [
    "# prep data for classification\n",
    "questionnaire = 'all'\n",
    "idp = 'all'\n",
    "question_visits = [2]\n",
    "# load question code\n",
    "qs = load_qscode(questionnaire=questionnaire, idp=idp)\n",
    "# extract questionnaire of interest\n",
    "df_qs = extract_qs(dfbp, df_questionnaire=qs, visits=question_visits)\n",
    "# put in labels\n",
    "df_qs['label'] = dfbp['bp_recovery']\n",
    "# impute\n",
    "dff_imputed = impute_qs(df_qs, freq_fill='median', nan_percent=0.9, transform=False)"
   ]
  },
  {
   "cell_type": "code",
   "execution_count": 121,
   "id": "217df9f7-a92d-4c47-a1e6-13e52008151f",
   "metadata": {},
   "outputs": [
    {
     "name": "stdout",
     "output_type": "stream",
     "text": [
      "Classification report for classifier RandomForestClassifier(max_depth=5):\n",
      "              precision    recall  f1-score   support\n",
      "\n",
      "       False       0.52      0.43      0.47        37\n",
      "        True       0.51      0.59      0.55        37\n",
      "\n",
      "    accuracy                           0.51        74\n",
      "   macro avg       0.51      0.51      0.51        74\n",
      "weighted avg       0.51      0.51      0.51        74\n",
      "\n",
      "ROC AUC=0.5310, train accuracy=1.0000, test accuracy=0.5135\n"
     ]
    },
    {
     "data": {
      "text/plain": [
       "(0.5310445580715851, 1.0, 0.5135135135135135)"
      ]
     },
     "execution_count": 121,
     "metadata": {},
     "output_type": "execute_result"
    },
    {
     "data": {
      "image/png": "[encoded data removed]",
      "text/plain": [
       "<Figure size 432x288 with 2 Axes>"
      ]
     },
     "metadata": {
      "needs_background": "light"
     },
     "output_type": "display_data"
    },
    {
     "data": {
      "image/png": "[encoded data removed]",
      "text/plain": [
       "<Figure size 360x360 with 1 Axes>"
      ]
     },
     "metadata": {
      "needs_background": "light"
     },
     "output_type": "display_data"
    }
   ],
   "source": [
    "# run basic classification\n",
    "basic_classify(dff_imputed, classifier='rforest', random_state=1, test_size=0.5, \n",
    "               save_plot=True, num_importance=20, questionnaire=questionnaire, idp=idp, \n",
    "               save_name='backpain_recovery', scaler=True, balance=True)"
   ]
  },
  {
   "cell_type": "code",
   "execution_count": 122,
   "id": "617bfbf8-d1db-431e-8aaf-b5023e89a3b2",
   "metadata": {},
   "outputs": [
    {
     "name": "stdout",
     "output_type": "stream",
     "text": [
      "2\n",
      "4-fold CV classification with classifier LGBMClassifier():\n",
      "test ROC AUC=0.5263, test accuracy=0.5068, test f1=0.4833\n"
     ]
    },
    {
     "data": {
      "text/html": [
       "<div>\n",
       "<style scoped>\n",
       "    .dataframe tbody tr th:only-of-type {\n",
       "        vertical-align: middle;\n",
       "    }\n",
       "\n",
       "    .dataframe tbody tr th {\n",
       "        vertical-align: top;\n",
       "    }\n",
       "\n",
       "    .dataframe thead th {\n",
       "        text-align: right;\n",
       "    }\n",
       "</style>\n",
       "<table border=\"1\" class=\"dataframe\">\n",
       "  <thead>\n",
       "    <tr style=\"text-align: right;\">\n",
       "      <th></th>\n",
       "      <th>fit_time</th>\n",
       "      <th>score_time</th>\n",
       "      <th>test_accuracy</th>\n",
       "      <th>test_f1</th>\n",
       "      <th>test_roc_auc</th>\n",
       "    </tr>\n",
       "  </thead>\n",
       "  <tbody>\n",
       "    <tr>\n",
       "      <th>0</th>\n",
       "      <td>0.355282</td>\n",
       "      <td>0.007838</td>\n",
       "      <td>0.513514</td>\n",
       "      <td>0.437500</td>\n",
       "      <td>0.602339</td>\n",
       "    </tr>\n",
       "    <tr>\n",
       "      <th>1</th>\n",
       "      <td>0.323698</td>\n",
       "      <td>0.005524</td>\n",
       "      <td>0.702703</td>\n",
       "      <td>0.685714</td>\n",
       "      <td>0.675439</td>\n",
       "    </tr>\n",
       "    <tr>\n",
       "      <th>2</th>\n",
       "      <td>0.343363</td>\n",
       "      <td>0.006289</td>\n",
       "      <td>0.405405</td>\n",
       "      <td>0.388889</td>\n",
       "      <td>0.447368</td>\n",
       "    </tr>\n",
       "    <tr>\n",
       "      <th>3</th>\n",
       "      <td>0.324073</td>\n",
       "      <td>0.005441</td>\n",
       "      <td>0.405405</td>\n",
       "      <td>0.421053</td>\n",
       "      <td>0.380117</td>\n",
       "    </tr>\n",
       "  </tbody>\n",
       "</table>\n",
       "</div>"
      ],
      "text/plain": [
       "   fit_time  score_time  test_accuracy   test_f1  test_roc_auc\n",
       "0  0.355282    0.007838       0.513514  0.437500      0.602339\n",
       "1  0.323698    0.005524       0.702703  0.685714      0.675439\n",
       "2  0.343363    0.006289       0.405405  0.388889      0.447368\n",
       "3  0.324073    0.005441       0.405405  0.421053      0.380117"
      ]
     },
     "execution_count": 122,
     "metadata": {},
     "output_type": "execute_result"
    }
   ],
   "source": [
    "cv_classify(dff_imputed, classifier='lgb', cv_fold=4, scaler=True, balance=True)"
   ]
  },
  {
   "cell_type": "code",
   "execution_count": 189,
   "id": "b096d8d2-70f5-4bf9-85fa-0c9dbaa9146c",
   "metadata": {},
   "outputs": [],
   "source": [
    "# prep data for classification\n",
    "questionnaire = 'all' #'all'\n",
    "idp = 'all' #'all'\n",
    "question_visits = [2]\n",
    "# load question code\n",
    "qs = load_qscode(questionnaire=questionnaire, idp=idp)\n",
    "# extract questionnaire of interest\n",
    "df_qs = extract_qs(dfbp, df_questionnaire=qs, visits=question_visits)\n",
    "# put in labels\n",
    "df_qs['label'] = dfbp['bp_recovery']\n",
    "# impute\n",
    "dff_imputed = impute_qs(df_qs, freq_fill='median', nan_percent=0.9, transform=False)"
   ]
  },
  {
   "cell_type": "code",
   "execution_count": 190,
   "id": "d80c92aa-9a87-4a88-ba31-60d029f968a7",
   "metadata": {},
   "outputs": [
    {
     "data": {
      "text/plain": [
       "(1338, 982)"
      ]
     },
     "execution_count": 190,
     "metadata": {},
     "output_type": "execute_result"
    }
   ],
   "source": [
    "dff_imputed.shape"
   ]
  },
  {
   "cell_type": "code",
   "execution_count": 191,
   "id": "4646af2c-f184-403a-9836-62a2f308bfe6",
   "metadata": {},
   "outputs": [
    {
     "data": {
      "text/plain": [
       "False    1264\n",
       "True       74\n",
       "Name: label, dtype: int64"
      ]
     },
     "execution_count": 191,
     "metadata": {},
     "output_type": "execute_result"
    }
   ],
   "source": [
    "dff_imputed['label'].value_counts()"
   ]
  },
  {
   "cell_type": "code",
   "execution_count": 192,
   "id": "23c0d665-fe55-4435-926d-1d6deccbaed8",
   "metadata": {},
   "outputs": [],
   "source": [
    "from connectivity_mat import load_connectivity"
   ]
  },
  {
   "cell_type": "code",
   "execution_count": 193,
   "id": "2c887ecf-42a3-4eb8-a846-06a971eb8579",
   "metadata": {},
   "outputs": [],
   "source": [
    "dff_conn = load_connectivity(task_name=None, dff=dff_imputed, \n",
    "                  conn_type='fullcorr_100',add_questionnaire=False, add_idp=False, \n",
    "                  add_conn=True, patient_grouping='simplified')"
   ]
  },
  {
   "cell_type": "code",
   "execution_count": 194,
   "id": "8efc12c0-ad5b-4ac4-8542-3aa1ee92f052",
   "metadata": {},
   "outputs": [
    {
     "data": {
      "text/plain": [
       "(720, 1487)"
      ]
     },
     "execution_count": 194,
     "metadata": {},
     "output_type": "execute_result"
    }
   ],
   "source": [
    "dff_conn.shape"
   ]
  },
  {
   "cell_type": "code",
   "execution_count": 195,
   "id": "51bd3fae-d577-4d3f-8706-a94af014467d",
   "metadata": {},
   "outputs": [
    {
     "data": {
      "text/plain": [
       "False    688\n",
       "True      32\n",
       "Name: label, dtype: int64"
      ]
     },
     "execution_count": 195,
     "metadata": {},
     "output_type": "execute_result"
    }
   ],
   "source": [
    "dff_conn['label'].value_counts()"
   ]
  },
  {
   "cell_type": "code",
   "execution_count": 198,
   "id": "f8041030-dd57-405f-93a1-43fd62f18463",
   "metadata": {},
   "outputs": [
    {
     "name": "stdout",
     "output_type": "stream",
     "text": [
      "2\n",
      "2-fold CV classification with classifier RandomForestClassifier(max_depth=5):\n",
      "test ROC AUC=0.5137, test accuracy=0.4844, test f1=0.4499\n"
     ]
    },
    {
     "data": {
      "text/html": [
       "<div>\n",
       "<style scoped>\n",
       "    .dataframe tbody tr th:only-of-type {\n",
       "        vertical-align: middle;\n",
       "    }\n",
       "\n",
       "    .dataframe tbody tr th {\n",
       "        vertical-align: top;\n",
       "    }\n",
       "\n",
       "    .dataframe thead th {\n",
       "        text-align: right;\n",
       "    }\n",
       "</style>\n",
       "<table border=\"1\" class=\"dataframe\">\n",
       "  <thead>\n",
       "    <tr style=\"text-align: right;\">\n",
       "      <th></th>\n",
       "      <th>fit_time</th>\n",
       "      <th>score_time</th>\n",
       "      <th>test_accuracy</th>\n",
       "      <th>test_f1</th>\n",
       "      <th>test_roc_auc</th>\n",
       "    </tr>\n",
       "  </thead>\n",
       "  <tbody>\n",
       "    <tr>\n",
       "      <th>0</th>\n",
       "      <td>0.165314</td>\n",
       "      <td>0.031156</td>\n",
       "      <td>0.46875</td>\n",
       "      <td>0.370370</td>\n",
       "      <td>0.464844</td>\n",
       "    </tr>\n",
       "    <tr>\n",
       "      <th>1</th>\n",
       "      <td>0.165569</td>\n",
       "      <td>0.029088</td>\n",
       "      <td>0.50000</td>\n",
       "      <td>0.529412</td>\n",
       "      <td>0.562500</td>\n",
       "    </tr>\n",
       "  </tbody>\n",
       "</table>\n",
       "</div>"
      ],
      "text/plain": [
       "   fit_time  score_time  test_accuracy   test_f1  test_roc_auc\n",
       "0  0.165314    0.031156        0.46875  0.370370      0.464844\n",
       "1  0.165569    0.029088        0.50000  0.529412      0.562500"
      ]
     },
     "execution_count": 198,
     "metadata": {},
     "output_type": "execute_result"
    }
   ],
   "source": [
    "cv_classify(dff_conn, classifier='rforest', cv_fold=2, scaler=True, balance=True)"
   ]
  },
  {
   "cell_type": "code",
   "execution_count": null,
   "id": "7bec8c23-3496-4f41-b616-fa73da3398df",
   "metadata": {},
   "outputs": [],
   "source": []
  }
 ],
 "metadata": {
  "kernelspec": {
   "display_name": "Python 3",
   "language": "python",
   "name": "python3"
  },
  "language_info": {
   "codemirror_mode": {
    "name": "ipython",
    "version": 3
   },
   "file_extension": ".py",
   "mimetype": "text/x-python",
   "name": "python",
   "nbconvert_exporter": "python",
   "pygments_lexer": "ipython3",
   "version": "3.8.8"
  }
 },
 "nbformat": 4,
 "nbformat_minor": 5
}
