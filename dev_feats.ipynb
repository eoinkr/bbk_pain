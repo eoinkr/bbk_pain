{
 "cells": [
  {
   "cell_type": "markdown",
   "id": "2a415c0d-eb7f-404c-91d8-c8b127ebbc5e",
   "metadata": {},
   "source": [
    "### dev features"
   ]
  },
  {
   "cell_type": "code",
   "execution_count": 1,
   "id": "d084a340-b835-4c2d-a9dd-7d00e4a34c80",
   "metadata": {},
   "outputs": [],
   "source": [
    "import os\n",
    "import sys\n",
    "import numpy as np\n",
    "import pandas as pd\n",
    "import matplotlib.pyplot as plt\n",
    "\n",
    "from connectivity_mat import load_connectivity"
   ]
  },
  {
   "cell_type": "code",
   "execution_count": 2,
   "id": "d059a504-dbd9-4c9e-b7ff-69eff21d1b0d",
   "metadata": {},
   "outputs": [],
   "source": [
    "df = pd.read_csv('./model_performance/output_features/feature_eng_paintype_all.csv')"
   ]
  },
  {
   "cell_type": "code",
   "execution_count": 6,
   "id": "94e5c4cd-4760-468f-bf52-a452cee8a602",
   "metadata": {},
   "outputs": [
    {
     "data": {
      "text/html": [
       "<div>\n",
       "<style scoped>\n",
       "    .dataframe tbody tr th:only-of-type {\n",
       "        vertical-align: middle;\n",
       "    }\n",
       "\n",
       "    .dataframe tbody tr th {\n",
       "        vertical-align: top;\n",
       "    }\n",
       "\n",
       "    .dataframe thead th {\n",
       "        text-align: right;\n",
       "    }\n",
       "</style>\n",
       "<table border=\"1\" class=\"dataframe\">\n",
       "  <thead>\n",
       "    <tr style=\"text-align: right;\">\n",
       "      <th></th>\n",
       "      <th>test_roc_auc_ovr</th>\n",
       "    </tr>\n",
       "    <tr>\n",
       "      <th>dataset</th>\n",
       "      <th></th>\n",
       "    </tr>\n",
       "  </thead>\n",
       "  <tbody>\n",
       "    <tr>\n",
       "      <th>_fa-qsidp-conn</th>\n",
       "      <td>0.566105</td>\n",
       "    </tr>\n",
       "    <tr>\n",
       "      <th>_fa-qsidp-conn_umap-qsidp-conn</th>\n",
       "      <td>0.566278</td>\n",
       "    </tr>\n",
       "    <tr>\n",
       "      <th>_kmeans-qsidp-conn</th>\n",
       "      <td>0.563260</td>\n",
       "    </tr>\n",
       "    <tr>\n",
       "      <th>_kmeans-qsidp-conn_fa-qsidp-conn</th>\n",
       "      <td>0.565035</td>\n",
       "    </tr>\n",
       "    <tr>\n",
       "      <th>_kmeans-qsidp-conn_fa-qsidp-conn_umap-qsidp-conn</th>\n",
       "      <td>0.570314</td>\n",
       "    </tr>\n",
       "    <tr>\n",
       "      <th>_kmeans-qsidp-conn_umap-qsidp-conn</th>\n",
       "      <td>0.567709</td>\n",
       "    </tr>\n",
       "    <tr>\n",
       "      <th>_quantile-qsidp-conn</th>\n",
       "      <td>0.565145</td>\n",
       "    </tr>\n",
       "    <tr>\n",
       "      <th>_quantile-qsidp-conn_fa-qsidp-conn</th>\n",
       "      <td>0.564649</td>\n",
       "    </tr>\n",
       "    <tr>\n",
       "      <th>_quantile-qsidp-conn_fa-qsidp-conn_umap-qsidp-conn</th>\n",
       "      <td>0.569944</td>\n",
       "    </tr>\n",
       "    <tr>\n",
       "      <th>_quantile-qsidp-conn_kmeans-qsidp-conn</th>\n",
       "      <td>0.563260</td>\n",
       "    </tr>\n",
       "    <tr>\n",
       "      <th>_quantile-qsidp-conn_kmeans-qsidp-conn_fa-qsidp-conn</th>\n",
       "      <td>0.565089</td>\n",
       "    </tr>\n",
       "    <tr>\n",
       "      <th>_quantile-qsidp-conn_kmeans-qsidp-conn_fa-qsidp-conn_umap-qsidp-conn</th>\n",
       "      <td>0.567395</td>\n",
       "    </tr>\n",
       "    <tr>\n",
       "      <th>_quantile-qsidp-conn_kmeans-qsidp-conn_umap-qsidp-conn</th>\n",
       "      <td>0.562933</td>\n",
       "    </tr>\n",
       "    <tr>\n",
       "      <th>_quantile-qsidp-conn_umap-qsidp-conn</th>\n",
       "      <td>0.565050</td>\n",
       "    </tr>\n",
       "    <tr>\n",
       "      <th>_umap-qsidp-conn</th>\n",
       "      <td>0.563584</td>\n",
       "    </tr>\n",
       "  </tbody>\n",
       "</table>\n",
       "</div>"
      ],
      "text/plain": [
       "                                                    test_roc_auc_ovr\n",
       "dataset                                                             \n",
       "_fa-qsidp-conn                                              0.566105\n",
       "_fa-qsidp-conn_umap-qsidp-conn                              0.566278\n",
       "_kmeans-qsidp-conn                                          0.563260\n",
       "_kmeans-qsidp-conn_fa-qsidp-conn                            0.565035\n",
       "_kmeans-qsidp-conn_fa-qsidp-conn_umap-qsidp-conn            0.570314\n",
       "_kmeans-qsidp-conn_umap-qsidp-conn                          0.567709\n",
       "_quantile-qsidp-conn                                        0.565145\n",
       "_quantile-qsidp-conn_fa-qsidp-conn                          0.564649\n",
       "_quantile-qsidp-conn_fa-qsidp-conn_umap-qsidp-conn          0.569944\n",
       "_quantile-qsidp-conn_kmeans-qsidp-conn                      0.563260\n",
       "_quantile-qsidp-conn_kmeans-qsidp-conn_fa-qsidp...          0.565089\n",
       "_quantile-qsidp-conn_kmeans-qsidp-conn_fa-qsidp...          0.567395\n",
       "_quantile-qsidp-conn_kmeans-qsidp-conn_umap-qsi...          0.562933\n",
       "_quantile-qsidp-conn_umap-qsidp-conn                        0.565050\n",
       "_umap-qsidp-conn                                            0.563584"
      ]
     },
     "execution_count": 6,
     "metadata": {},
     "output_type": "execute_result"
    }
   ],
   "source": []
  },
  {
   "cell_type": "code",
   "execution_count": 2,
   "id": "263160d8-cb98-4f2a-a74f-228e089b48c0",
   "metadata": {},
   "outputs": [
    {
     "name": "stderr",
     "output_type": "stream",
     "text": [
      "<ipython-input-2-90bca2dfad87>:1: DtypeWarning: Columns (863,867) have mixed types.Specify dtype option on import or set low_memory=False.\n",
      "  df = load_connectivity(task_name='paintype_restricted',\n"
     ]
    },
    {
     "name": "stdout",
     "output_type": "stream",
     "text": [
      "Questionnaires from visits [2] shape=(1708, 1029)\n",
      "After imputation shape=(1708, 984)\n"
     ]
    }
   ],
   "source": [
    "df = load_connectivity(task_name='paintype_restricted', \n",
    "                       conn_type='fullcorr_100', \n",
    "                       add_questionnaire=True, \n",
    "                       add_idp=True, \n",
    "                       add_conn=True, patient_grouping='grouped')"
   ]
  },
  {
   "cell_type": "code",
   "execution_count": 3,
   "id": "cca44b70-4141-4cd2-871b-4389e815043b",
   "metadata": {},
   "outputs": [
    {
     "data": {
      "text/plain": [
       "osteoarthritis              564\n",
       "irritable bowel syndrome    438\n",
       "migraine                    326\n",
       "back pain                   281\n",
       "Name: label, dtype: int64"
      ]
     },
     "execution_count": 3,
     "metadata": {},
     "output_type": "execute_result"
    }
   ],
   "source": [
    "df['label'].value_counts()"
   ]
  },
  {
   "cell_type": "code",
   "execution_count": 4,
   "id": "8a2cee26-2174-4c11-9038-e2fa69f0d324",
   "metadata": {},
   "outputs": [
    {
     "name": "stdout",
     "output_type": "stream",
     "text": [
      "4\n",
      "   fit_time  score_time  test_accuracy  test_f1_micro  test_roc_auc_ovr\n",
      "0  1.736370    0.052992       0.313167       0.313167          0.578423\n",
      "1  1.751135    0.046593       0.330961       0.330961          0.603002\n",
      "2  1.721544    0.055476       0.341637       0.341637          0.567635\n",
      "3  1.749790    0.048204       0.359431       0.359431          0.610711\n"
     ]
    }
   ],
   "source": [
    "from clean_questions import cv_classify\n",
    "df_res = cv_classify(df, classifier='rforest', cv_fold=4, scaler=True, balance=True)"
   ]
  },
  {
   "cell_type": "code",
   "execution_count": 15,
   "id": "fdbe70f0-da6d-45fc-8148-6e43b37006f0",
   "metadata": {},
   "outputs": [
    {
     "data": {
      "text/plain": [
       "0.9913333333333334"
      ]
     },
     "execution_count": 15,
     "metadata": {},
     "output_type": "execute_result"
    }
   ],
   "source": [
    "from sklearn.datasets import load_iris\n",
    "from sklearn.linear_model import LogisticRegression\n",
    "X, y = load_iris(return_X_y=True)\n",
    "clf = LogisticRegression(solver=\"liblinear\").fit(X, y)\n",
    "roc_auc_score(y, clf.predict_proba(X), multi_class='ovo')"
   ]
  },
  {
   "cell_type": "code",
   "execution_count": 14,
   "id": "62a69ae4-57b2-4aeb-9ea7-fe82dc75bf69",
   "metadata": {},
   "outputs": [
    {
     "data": {
      "text/plain": [
       "array([[8.78030305e-01, 1.21958900e-01, 1.07949250e-05],\n",
       "       [7.97058292e-01, 2.02911413e-01, 3.02949242e-05],\n",
       "       [8.51997665e-01, 1.47976480e-01, 2.58550858e-05],\n",
       "       [8.23406019e-01, 1.76536159e-01, 5.78217704e-05],\n",
       "       [8.96034973e-01, 1.03953836e-01, 1.11907339e-05],\n",
       "       [9.26234254e-01, 7.37527845e-02, 1.29612594e-05],\n",
       "       [8.94096848e-01, 1.05863935e-01, 3.92166195e-05],\n",
       "       [8.60034410e-01, 1.39946715e-01, 1.88751124e-05],\n",
       "       [8.01028643e-01, 1.98886755e-01, 8.46025595e-05],\n",
       "       [7.92662392e-01, 2.07312003e-01, 2.56051563e-05],\n",
       "       [8.90486112e-01, 1.09507726e-01, 6.16178069e-06],\n",
       "       [8.61800668e-01, 1.38164963e-01, 3.43688884e-05],\n",
       "       [7.85364369e-01, 2.14608265e-01, 2.73660893e-05],\n",
       "       [8.33122325e-01, 1.66845600e-01, 3.20746459e-05],\n",
       "       [9.27105079e-01, 7.28939564e-02, 9.65025075e-07],\n",
       "       [9.64209783e-01, 3.57879589e-02, 2.25815135e-06],\n",
       "       [9.40244677e-01, 5.97504819e-02, 4.84124978e-06],\n",
       "       [8.90383643e-01, 1.09602199e-01, 1.41584311e-05],\n",
       "       [8.94996432e-01, 1.04996803e-01, 6.76561305e-06],\n",
       "       [9.22818333e-01, 7.71698511e-02, 1.18163279e-05],\n",
       "       [8.28168845e-01, 1.71815986e-01, 1.51697603e-05],\n",
       "       [9.21162903e-01, 7.88192700e-02, 1.78269001e-05],\n",
       "       [9.25830555e-01, 7.41609901e-02, 8.45537828e-06],\n",
       "       [8.66425048e-01, 1.33506832e-01, 6.81196349e-05],\n",
       "       [8.39579062e-01, 1.60348453e-01, 7.24851587e-05],\n",
       "       [7.74387849e-01, 2.25570742e-01, 4.14089912e-05],\n",
       "       [8.80142212e-01, 1.19816026e-01, 4.17624967e-05],\n",
       "       [8.68142117e-01, 1.31846325e-01, 1.15578057e-05],\n",
       "       [8.57981539e-01, 1.42008075e-01, 1.03858266e-05],\n",
       "       [8.30136546e-01, 1.69809392e-01, 5.40618507e-05],\n",
       "       [8.05488891e-01, 1.94459296e-01, 5.18131431e-05],\n",
       "       [8.70807410e-01, 1.29176481e-01, 1.61085791e-05],\n",
       "       [9.33140300e-01, 6.68559138e-02, 3.78606175e-06],\n",
       "       [9.45563050e-01, 5.44349664e-02, 1.98362125e-06],\n",
       "       [8.09104104e-01, 1.90862024e-01, 3.38721089e-05],\n",
       "       [8.45406669e-01, 1.54581407e-01, 1.19235303e-05],\n",
       "       [8.67845100e-01, 1.32150712e-01, 4.18747716e-06],\n",
       "       [8.87815808e-01, 1.12174014e-01, 1.01779750e-05],\n",
       "       [8.29173320e-01, 1.70768916e-01, 5.77645348e-05],\n",
       "       [8.55787332e-01, 1.44196849e-01, 1.58184132e-05],\n",
       "       [8.99021427e-01, 1.00965368e-01, 1.32051891e-05],\n",
       "       [6.87609664e-01, 3.12227285e-01, 1.63051259e-04],\n",
       "       [8.64687415e-01, 1.35268656e-01, 4.39289817e-05],\n",
       "       [9.15725060e-01, 8.42126724e-02, 6.22672835e-05],\n",
       "       [9.14838651e-01, 8.51196936e-02, 4.16549750e-05],\n",
       "       [8.18139824e-01, 1.81812290e-01, 4.78858984e-05],\n",
       "       [9.08802553e-01, 9.11858864e-02, 1.15610231e-05],\n",
       "       [8.49522363e-01, 1.50438207e-01, 3.94305065e-05],\n",
       "       [8.94050930e-01, 1.05941728e-01, 7.34243342e-06],\n",
       "       [8.49541191e-01, 1.50441863e-01, 1.69463468e-05],\n",
       "       [2.96005280e-02, 8.61269712e-01, 1.09129760e-01],\n",
       "       [3.73566204e-02, 7.05998640e-01, 2.56644739e-01],\n",
       "       [1.17188234e-02, 7.49180286e-01, 2.39100891e-01],\n",
       "       [1.32329304e-02, 6.52615267e-01, 3.34151803e-01],\n",
       "       [1.09261044e-02, 6.99751683e-01, 2.89322212e-01],\n",
       "       [1.07475746e-02, 5.83523451e-01, 4.05728975e-01],\n",
       "       [2.15536329e-02, 5.37367355e-01, 4.41079012e-01],\n",
       "       [1.07796125e-01, 7.69764033e-01, 1.22439842e-01],\n",
       "       [1.75648125e-02, 8.28471633e-01, 1.53963555e-01],\n",
       "       [3.31000964e-02, 5.28434824e-01, 4.38465079e-01],\n",
       "       [2.90940948e-02, 7.73621445e-01, 1.97284460e-01],\n",
       "       [4.09552911e-02, 6.19782220e-01, 3.39262489e-01],\n",
       "       [1.93064131e-02, 8.80411764e-01, 1.00281823e-01],\n",
       "       [8.71111808e-03, 5.97119816e-01, 3.94169066e-01],\n",
       "       [1.66935421e-01, 7.13419402e-01, 1.19645177e-01],\n",
       "       [4.71498045e-02, 8.44539593e-01, 1.08310603e-01],\n",
       "       [1.22914643e-02, 4.23221121e-01, 5.64487414e-01],\n",
       "       [3.81169424e-02, 8.51071811e-01, 1.10811246e-01],\n",
       "       [3.08282665e-03, 5.97230434e-01, 3.99686739e-01],\n",
       "       [3.56967896e-02, 8.09665888e-01, 1.54637322e-01],\n",
       "       [6.24630686e-03, 2.71625774e-01, 7.22127920e-01],\n",
       "       [5.76762120e-02, 8.20642529e-01, 1.21681259e-01],\n",
       "       [1.95123191e-03, 5.34646840e-01, 4.63401928e-01],\n",
       "       [8.72420378e-03, 7.05586974e-01, 2.85688822e-01],\n",
       "       [3.66059277e-02, 8.39899070e-01, 1.23495002e-01],\n",
       "       [3.58881987e-02, 8.29637761e-01, 1.34474040e-01],\n",
       "       [8.07402014e-03, 7.78160148e-01, 2.13765831e-01],\n",
       "       [4.63306706e-03, 5.23640589e-01, 4.71726344e-01],\n",
       "       [1.33399755e-02, 5.63479864e-01, 4.23180160e-01],\n",
       "       [1.27116911e-01, 8.32931303e-01, 3.99517868e-02],\n",
       "       [3.58104443e-02, 8.04137922e-01, 1.60051633e-01],\n",
       "       [5.00338269e-02, 8.47112731e-01, 1.02853442e-01],\n",
       "       [5.65602460e-02, 8.12180151e-01, 1.31259603e-01],\n",
       "       [1.22599564e-03, 3.99303559e-01, 5.99470445e-01],\n",
       "       [1.03590059e-02, 3.64040618e-01, 6.25600376e-01],\n",
       "       [4.19275526e-02, 4.76596179e-01, 4.81476269e-01],\n",
       "       [1.89485725e-02, 7.46442362e-01, 2.34609065e-01],\n",
       "       [6.99117780e-03, 7.57889791e-01, 2.35119031e-01],\n",
       "       [5.57046086e-02, 6.67601538e-01, 2.76693853e-01],\n",
       "       [2.10040955e-02, 6.63077802e-01, 3.15918102e-01],\n",
       "       [8.95358807e-03, 6.00417365e-01, 3.90629047e-01],\n",
       "       [1.51849311e-02, 6.32849506e-01, 3.51965563e-01],\n",
       "       [3.45147534e-02, 7.99531968e-01, 1.65953279e-01],\n",
       "       [9.08897829e-02, 7.96946159e-01, 1.12164059e-01],\n",
       "       [1.97905433e-02, 6.41453325e-01, 3.38756132e-01],\n",
       "       [4.79463041e-02, 7.31607407e-01, 2.20446289e-01],\n",
       "       [3.43786632e-02, 6.77926137e-01, 2.87695200e-01],\n",
       "       [3.36527705e-02, 7.97759624e-01, 1.68587605e-01],\n",
       "       [2.53176193e-01, 6.92330452e-01, 5.44933549e-02],\n",
       "       [3.62293481e-02, 7.04841253e-01, 2.58929399e-01],\n",
       "       [1.88584495e-04, 1.46372620e-01, 8.53438796e-01],\n",
       "       [8.14030927e-04, 2.93447140e-01, 7.05738829e-01],\n",
       "       [2.79000675e-04, 3.30239074e-01, 6.69481925e-01],\n",
       "       [4.58010577e-04, 3.38339912e-01, 6.61202077e-01],\n",
       "       [2.53414333e-04, 2.55714364e-01, 7.44032222e-01],\n",
       "       [6.04096412e-05, 3.82917567e-01, 6.17022023e-01],\n",
       "       [2.06351241e-03, 2.79806199e-01, 7.18130289e-01],\n",
       "       [1.23117341e-04, 4.24934867e-01, 5.74942016e-01],\n",
       "       [1.59900415e-04, 4.23615517e-01, 5.76224583e-01],\n",
       "       [3.59862147e-04, 1.50750096e-01, 8.48890041e-01],\n",
       "       [3.01206048e-03, 2.76860976e-01, 7.20126963e-01],\n",
       "       [6.46894500e-04, 3.55513745e-01, 6.43839361e-01],\n",
       "       [6.83917045e-04, 2.98193127e-01, 7.01122956e-01],\n",
       "       [6.32648495e-04, 2.95768393e-01, 7.03598958e-01],\n",
       "       [6.18169454e-04, 1.72425080e-01, 8.26956751e-01],\n",
       "       [1.10759845e-03, 1.71476162e-01, 8.27416239e-01],\n",
       "       [8.01410072e-04, 3.48670193e-01, 6.50528397e-01],\n",
       "       [1.94621163e-04, 2.37367517e-01, 7.62437862e-01],\n",
       "       [1.30336939e-05, 4.20322938e-01, 5.79664028e-01],\n",
       "       [6.79992906e-04, 4.70615141e-01, 5.28704866e-01],\n",
       "       [5.08108403e-04, 2.23925960e-01, 7.75565932e-01],\n",
       "       [1.35050479e-03, 2.28520314e-01, 7.70129181e-01],\n",
       "       [3.81823791e-05, 4.28497457e-01, 5.71464360e-01],\n",
       "       [2.05513546e-03, 4.00468848e-01, 5.97476017e-01],\n",
       "       [6.82426332e-04, 2.35908846e-01, 7.63408727e-01],\n",
       "       [4.56419242e-04, 3.97832643e-01, 6.01710938e-01],\n",
       "       [3.20523990e-03, 3.83614307e-01, 6.13180453e-01],\n",
       "       [3.43775514e-03, 3.26737167e-01, 6.69825078e-01],\n",
       "       [3.02387244e-04, 2.97387632e-01, 7.02309980e-01],\n",
       "       [6.75745429e-04, 5.11618205e-01, 4.87706049e-01],\n",
       "       [1.61467286e-04, 4.28548421e-01, 5.71290112e-01],\n",
       "       [6.45929280e-04, 3.44604031e-01, 6.54750040e-01],\n",
       "       [2.77285011e-04, 2.76854155e-01, 7.22868560e-01],\n",
       "       [2.07366663e-03, 4.91252488e-01, 5.06673845e-01],\n",
       "       [3.54387390e-04, 4.43072814e-01, 5.56572798e-01],\n",
       "       [1.82369410e-04, 3.41966166e-01, 6.57851465e-01],\n",
       "       [6.38376976e-04, 1.26565896e-01, 8.72795727e-01],\n",
       "       [9.25543173e-04, 3.20314461e-01, 6.78759996e-01],\n",
       "       [4.31282889e-03, 3.17469066e-01, 6.78218105e-01],\n",
       "       [1.17132006e-03, 3.00300498e-01, 6.98528182e-01],\n",
       "       [4.50214297e-04, 2.00800053e-01, 7.98749733e-01],\n",
       "       [2.16404408e-03, 2.47613735e-01, 7.50222221e-01],\n",
       "       [8.14030927e-04, 2.93447140e-01, 7.05738829e-01],\n",
       "       [2.93581038e-04, 2.23396734e-01, 7.76309685e-01],\n",
       "       [4.55252466e-04, 1.52049282e-01, 8.47495466e-01],\n",
       "       [1.16468551e-03, 2.32330147e-01, 7.66505167e-01],\n",
       "       [9.20404029e-04, 3.79262991e-01, 6.19816605e-01],\n",
       "       [1.46454826e-03, 2.97584288e-01, 7.00951164e-01],\n",
       "       [1.10985568e-03, 1.29831848e-01, 8.69058297e-01],\n",
       "       [1.69378510e-03, 2.79973392e-01, 7.18332822e-01]])"
      ]
     },
     "execution_count": 14,
     "metadata": {},
     "output_type": "execute_result"
    }
   ],
   "source": [
    "clf.predict_proba(X)"
   ]
  },
  {
   "cell_type": "code",
   "execution_count": 10,
   "id": "5368aa22-03a2-4515-8151-1bb3c17d0d3e",
   "metadata": {},
   "outputs": [
    {
     "ename": "AxisError",
     "evalue": "axis 1 is out of bounds for array of dimension 1",
     "output_type": "error",
     "traceback": [
      "\u001b[0;31m---------------------------------------------------------------------------\u001b[0m",
      "\u001b[0;31mAxisError\u001b[0m                                 Traceback (most recent call last)",
      "\u001b[0;32m<ipython-input-10-4032e67bddb6>\u001b[0m in \u001b[0;36m<module>\u001b[0;34m\u001b[0m\n\u001b[1;32m      2\u001b[0m \u001b[0ma\u001b[0m \u001b[0;34m=\u001b[0m \u001b[0;34m[\u001b[0m\u001b[0;36m1\u001b[0m\u001b[0;34m,\u001b[0m\u001b[0;36m2\u001b[0m\u001b[0;34m,\u001b[0m\u001b[0;36m3\u001b[0m\u001b[0;34m]\u001b[0m\u001b[0;34m\u001b[0m\u001b[0;34m\u001b[0m\u001b[0m\n\u001b[1;32m      3\u001b[0m \u001b[0mb\u001b[0m \u001b[0;34m=\u001b[0m \u001b[0;34m[\u001b[0m\u001b[0;36m3\u001b[0m\u001b[0;34m,\u001b[0m\u001b[0;36m3\u001b[0m\u001b[0;34m,\u001b[0m\u001b[0;36m3\u001b[0m\u001b[0;34m]\u001b[0m\u001b[0;34m\u001b[0m\u001b[0;34m\u001b[0m\u001b[0m\n\u001b[0;32m----> 4\u001b[0;31m \u001b[0mroc_auc_score\u001b[0m\u001b[0;34m(\u001b[0m\u001b[0ma\u001b[0m\u001b[0;34m,\u001b[0m \u001b[0mb\u001b[0m\u001b[0;34m,\u001b[0m \u001b[0mmulti_class\u001b[0m\u001b[0;34m=\u001b[0m\u001b[0;34m'ovo'\u001b[0m\u001b[0;34m)\u001b[0m\u001b[0;34m\u001b[0m\u001b[0;34m\u001b[0m\u001b[0m\n\u001b[0m",
      "\u001b[0;32m~/.conda/envs/bbk/lib/python3.8/site-packages/sklearn/utils/validation.py\u001b[0m in \u001b[0;36minner_f\u001b[0;34m(*args, **kwargs)\u001b[0m\n\u001b[1;32m     61\u001b[0m             \u001b[0mextra_args\u001b[0m \u001b[0;34m=\u001b[0m \u001b[0mlen\u001b[0m\u001b[0;34m(\u001b[0m\u001b[0margs\u001b[0m\u001b[0;34m)\u001b[0m \u001b[0;34m-\u001b[0m \u001b[0mlen\u001b[0m\u001b[0;34m(\u001b[0m\u001b[0mall_args\u001b[0m\u001b[0;34m)\u001b[0m\u001b[0;34m\u001b[0m\u001b[0;34m\u001b[0m\u001b[0m\n\u001b[1;32m     62\u001b[0m             \u001b[0;32mif\u001b[0m \u001b[0mextra_args\u001b[0m \u001b[0;34m<=\u001b[0m \u001b[0;36m0\u001b[0m\u001b[0;34m:\u001b[0m\u001b[0;34m\u001b[0m\u001b[0;34m\u001b[0m\u001b[0m\n\u001b[0;32m---> 63\u001b[0;31m                 \u001b[0;32mreturn\u001b[0m \u001b[0mf\u001b[0m\u001b[0;34m(\u001b[0m\u001b[0;34m*\u001b[0m\u001b[0margs\u001b[0m\u001b[0;34m,\u001b[0m \u001b[0;34m**\u001b[0m\u001b[0mkwargs\u001b[0m\u001b[0;34m)\u001b[0m\u001b[0;34m\u001b[0m\u001b[0;34m\u001b[0m\u001b[0m\n\u001b[0m\u001b[1;32m     64\u001b[0m \u001b[0;34m\u001b[0m\u001b[0m\n\u001b[1;32m     65\u001b[0m             \u001b[0;31m# extra_args > 0\u001b[0m\u001b[0;34m\u001b[0m\u001b[0;34m\u001b[0m\u001b[0;34m\u001b[0m\u001b[0m\n",
      "\u001b[0;32m~/.conda/envs/bbk/lib/python3.8/site-packages/sklearn/metrics/_ranking.py\u001b[0m in \u001b[0;36mroc_auc_score\u001b[0;34m(y_true, y_score, average, sample_weight, max_fpr, multi_class, labels)\u001b[0m\n\u001b[1;32m    535\u001b[0m         \u001b[0;32mif\u001b[0m \u001b[0mmulti_class\u001b[0m \u001b[0;34m==\u001b[0m \u001b[0;34m'raise'\u001b[0m\u001b[0;34m:\u001b[0m\u001b[0;34m\u001b[0m\u001b[0;34m\u001b[0m\u001b[0m\n\u001b[1;32m    536\u001b[0m             \u001b[0;32mraise\u001b[0m \u001b[0mValueError\u001b[0m\u001b[0;34m(\u001b[0m\u001b[0;34m\"multi_class must be in ('ovo', 'ovr')\"\u001b[0m\u001b[0;34m)\u001b[0m\u001b[0;34m\u001b[0m\u001b[0;34m\u001b[0m\u001b[0m\n\u001b[0;32m--> 537\u001b[0;31m         return _multiclass_roc_auc_score(y_true, y_score, labels,\n\u001b[0m\u001b[1;32m    538\u001b[0m                                          multi_class, average, sample_weight)\n\u001b[1;32m    539\u001b[0m     \u001b[0;32melif\u001b[0m \u001b[0my_type\u001b[0m \u001b[0;34m==\u001b[0m \u001b[0;34m\"binary\"\u001b[0m\u001b[0;34m:\u001b[0m\u001b[0;34m\u001b[0m\u001b[0;34m\u001b[0m\u001b[0m\n",
      "\u001b[0;32m~/.conda/envs/bbk/lib/python3.8/site-packages/sklearn/metrics/_ranking.py\u001b[0m in \u001b[0;36m_multiclass_roc_auc_score\u001b[0;34m(y_true, y_score, labels, multi_class, average, sample_weight)\u001b[0m\n\u001b[1;32m    593\u001b[0m     \"\"\"\n\u001b[1;32m    594\u001b[0m     \u001b[0;31m# validation of the input y_score\u001b[0m\u001b[0;34m\u001b[0m\u001b[0;34m\u001b[0m\u001b[0;34m\u001b[0m\u001b[0m\n\u001b[0;32m--> 595\u001b[0;31m     \u001b[0;32mif\u001b[0m \u001b[0;32mnot\u001b[0m \u001b[0mnp\u001b[0m\u001b[0;34m.\u001b[0m\u001b[0mallclose\u001b[0m\u001b[0;34m(\u001b[0m\u001b[0;36m1\u001b[0m\u001b[0;34m,\u001b[0m \u001b[0my_score\u001b[0m\u001b[0;34m.\u001b[0m\u001b[0msum\u001b[0m\u001b[0;34m(\u001b[0m\u001b[0maxis\u001b[0m\u001b[0;34m=\u001b[0m\u001b[0;36m1\u001b[0m\u001b[0;34m)\u001b[0m\u001b[0;34m)\u001b[0m\u001b[0;34m:\u001b[0m\u001b[0;34m\u001b[0m\u001b[0;34m\u001b[0m\u001b[0m\n\u001b[0m\u001b[1;32m    596\u001b[0m         raise ValueError(\n\u001b[1;32m    597\u001b[0m             \u001b[0;34m\"Target scores need to be probabilities for multiclass \"\u001b[0m\u001b[0;34m\u001b[0m\u001b[0;34m\u001b[0m\u001b[0m\n",
      "\u001b[0;32m~/.conda/envs/bbk/lib/python3.8/site-packages/numpy/core/_methods.py\u001b[0m in \u001b[0;36m_sum\u001b[0;34m(a, axis, dtype, out, keepdims, initial, where)\u001b[0m\n\u001b[1;32m     45\u001b[0m def _sum(a, axis=None, dtype=None, out=None, keepdims=False,\n\u001b[1;32m     46\u001b[0m          initial=_NoValue, where=True):\n\u001b[0;32m---> 47\u001b[0;31m     \u001b[0;32mreturn\u001b[0m \u001b[0mumr_sum\u001b[0m\u001b[0;34m(\u001b[0m\u001b[0ma\u001b[0m\u001b[0;34m,\u001b[0m \u001b[0maxis\u001b[0m\u001b[0;34m,\u001b[0m \u001b[0mdtype\u001b[0m\u001b[0;34m,\u001b[0m \u001b[0mout\u001b[0m\u001b[0;34m,\u001b[0m \u001b[0mkeepdims\u001b[0m\u001b[0;34m,\u001b[0m \u001b[0minitial\u001b[0m\u001b[0;34m,\u001b[0m \u001b[0mwhere\u001b[0m\u001b[0;34m)\u001b[0m\u001b[0;34m\u001b[0m\u001b[0;34m\u001b[0m\u001b[0m\n\u001b[0m\u001b[1;32m     48\u001b[0m \u001b[0;34m\u001b[0m\u001b[0m\n\u001b[1;32m     49\u001b[0m def _prod(a, axis=None, dtype=None, out=None, keepdims=False,\n",
      "\u001b[0;31mAxisError\u001b[0m: axis 1 is out of bounds for array of dimension 1"
     ]
    }
   ],
   "source": [
    "from sklearn.metrics import roc_auc_score\n",
    "a = [1,2,3]\n",
    "b = [3,3,3]\n",
    "roc_auc_score(a, b, multi_class='ovo')"
   ]
  },
  {
   "cell_type": "code",
   "execution_count": 5,
   "id": "c8765778-cef8-4f69-8f2e-8232f79f2c76",
   "metadata": {},
   "outputs": [],
   "source": [
    "import warnings; warnings.simplefilter('ignore')"
   ]
  },
  {
   "cell_type": "code",
   "execution_count": null,
   "id": "f44abe33-480d-456c-b1ba-9c6a725e5101",
   "metadata": {},
   "outputs": [],
   "source": []
  },
  {
   "cell_type": "code",
   "execution_count": null,
   "id": "d111bb75-0649-4a31-88d6-1d96a8bb5d61",
   "metadata": {},
   "outputs": [],
   "source": []
  },
  {
   "cell_type": "code",
   "execution_count": null,
   "id": "41017fb9-2e71-47f5-814a-bb3564d064b0",
   "metadata": {},
   "outputs": [],
   "source": []
  },
  {
   "cell_type": "code",
   "execution_count": null,
   "id": "5e6b624f-7c84-47e4-8ad1-5fb451a936a1",
   "metadata": {},
   "outputs": [],
   "source": []
  },
  {
   "cell_type": "code",
   "execution_count": 3,
   "id": "3f82fdd5-7545-4cd1-9887-e7212174f778",
   "metadata": {},
   "outputs": [
    {
     "name": "stdout",
     "output_type": "stream",
     "text": [
      "Questionnaires from visits [2] shape=(4900, 1029)\n",
      "After imputation shape=(4900, 993)\n"
     ]
    }
   ],
   "source": [
    "qs_id = True\n",
    "idp_id = True\n",
    "conn_id = True\n",
    "\n",
    "df = load_connectivity(task_name='paintype_all', \n",
    "                       conn_type='fullcorr_100',add_questionnaire=qs_id, add_idp=idp_id, add_conn=conn_id)"
   ]
  },
  {
   "cell_type": "code",
   "execution_count": 4,
   "id": "fa5d0b54-9a1e-4659-8d73-09721b07544c",
   "metadata": {},
   "outputs": [
    {
     "data": {
      "text/plain": [
       "1    2779\n",
       "0    1869\n",
       "Name: label, dtype: int64"
      ]
     },
     "execution_count": 4,
     "metadata": {},
     "output_type": "execute_result"
    }
   ],
   "source": [
    "df['label'].value_counts()"
   ]
  },
  {
   "cell_type": "markdown",
   "id": "e1fecb9c-d4de-452e-9b06-0f40a31616b1",
   "metadata": {},
   "source": [
    "#### main split"
   ]
  },
  {
   "cell_type": "code",
   "execution_count": 5,
   "id": "0d661d5b-fc6c-468b-996a-fa195cff5376",
   "metadata": {},
   "outputs": [],
   "source": [
    "def tsplit(df, test_size, random_state, scale=True):\n",
    "    from sklearn.preprocessing import StandardScaler\n",
    "    from sklearn.metrics import confusion_matrix, classification_report\n",
    "    from sklearn.model_selection import train_test_split\n",
    "    from imblearn.under_sampling import RandomUnderSampler\n",
    "    train, test = train_test_split(df, test_size=test_size, random_state=random_state, \n",
    "                              stratify=df['label'])\n",
    "    train.drop(columns='eid', inplace=True)\n",
    "    test.drop(columns='eid', inplace=True)\n",
    "    cols = train.columns.to_list()\n",
    "    cols.remove('label')\n",
    "    \n",
    "    if scale:\n",
    "        from sklearn.preprocessing import StandardScaler\n",
    "        scaler = StandardScaler().fit(train[cols])\n",
    "        train[cols] = scaler.transform(train[cols])\n",
    "        test[cols] = scaler.transform(test[cols])\n",
    "\n",
    "    return train, test"
   ]
  },
  {
   "cell_type": "code",
   "execution_count": 6,
   "id": "c9df534c-d1ee-4e74-a9f2-0e2809d4d050",
   "metadata": {},
   "outputs": [],
   "source": [
    "# balance=True\n",
    "scaler=True\n",
    "test_size=0.25\n",
    "random_state=4"
   ]
  },
  {
   "cell_type": "code",
   "execution_count": 7,
   "id": "54855574-8454-4b61-b3d6-204644a19a11",
   "metadata": {},
   "outputs": [],
   "source": [
    "train, test = tsplit(df, test_size, random_state, scale=True)"
   ]
  },
  {
   "cell_type": "code",
   "execution_count": 8,
   "id": "cae762f4-1219-408b-bc02-5a0c4f7bfb9c",
   "metadata": {},
   "outputs": [],
   "source": [
    "import lightgbm as lgb\n",
    "from sklearn.ensemble import RandomForestClassifier"
   ]
  },
  {
   "cell_type": "code",
   "execution_count": 9,
   "id": "a4071a86-58a5-4e8f-b2cb-c5d607ee8236",
   "metadata": {},
   "outputs": [],
   "source": [
    "def print_metrics(y_true, y_pred, tag):\n",
    "    from sklearn.metrics import accuracy_score, f1_score, roc_auc_score\n",
    "    if isinstance(y_true, pd.DataFrame) or isinstance(y_true, pd.Series):\n",
    "        y_true = y_true.values\n",
    "    if isinstance(y_pred, pd.DataFrame) or isinstance(y_pred, pd.Series):\n",
    "        y_pred = y_pred.values\n",
    "    if y_true.ndim>1:\n",
    "        y_true=y_true.ravel()\n",
    "    if y_pred.ndim>1:\n",
    "        y_pred=y_pred.ravel()\n",
    "    val_acc = accuracy_score(y_true, y_pred)\n",
    "    val_f1 = f1_score(y_true, y_pred)\n",
    "    val_auc = roc_auc_score(y_true, y_pred)\n",
    "    print(f\"{tag} Acc: {val_acc} \\n {tag} F1: {val_f1} \\n {tag} AUC: {val_auc}\")"
   ]
  },
  {
   "cell_type": "markdown",
   "id": "83fe18e7-d854-43c5-904b-356a75b73090",
   "metadata": {},
   "source": [
    "##### control condition (not scaling)"
   ]
  },
  {
   "cell_type": "code",
   "execution_count": 42,
   "id": "19ca6602-6339-42c7-8344-cbfe535bb853",
   "metadata": {},
   "outputs": [],
   "source": [
    "train, test = tsplit(df, test_size=0.25, random_state=4, scale=False)"
   ]
  },
  {
   "cell_type": "code",
   "execution_count": 45,
   "id": "a8f84a4c-1f5d-4884-b17a-bbdf74f27181",
   "metadata": {},
   "outputs": [
    {
     "name": "stdout",
     "output_type": "stream",
     "text": [
      "Holdout Acc: 0.6419965576592083 \n",
      " Holdout F1: 0.7326478149100257 \n",
      " Holdout AUC: 0.5985087732811609\n"
     ]
    }
   ],
   "source": [
    "target_col = 'label'\n",
    "clf = lgb.LGBMClassifier(random_state=42, n_jobs=-1)\n",
    "clf.fit(train.drop(columns=target_col), train[target_col].values.ravel())\n",
    "test_pred = clf.predict(test.drop(columns=target_col))\n",
    "print_metrics(test[target_col], test_pred, \"Holdout\")"
   ]
  },
  {
   "cell_type": "code",
   "execution_count": 46,
   "id": "2c551914-7683-4bee-8792-93544067c32e",
   "metadata": {},
   "outputs": [
    {
     "name": "stdout",
     "output_type": "stream",
     "text": [
      "Holdout Acc: 0.612736660929432 \n",
      " Holdout F1: 0.7434435575826681 \n",
      " Holdout AUC: 0.533304576895229\n"
     ]
    }
   ],
   "source": [
    "target_col = 'label'\n",
    "clf = RandomForestClassifier(max_depth=5,random_state=42)\n",
    "clf.fit(train.drop(columns=target_col), train[target_col].values.ravel())\n",
    "test_pred = clf.predict(test.drop(columns=target_col))\n",
    "print_metrics(test[target_col], test_pred, \"Holdout\")"
   ]
  },
  {
   "cell_type": "markdown",
   "id": "86b6c71c-1c20-453e-8c52-f41dabd006ed",
   "metadata": {},
   "source": [
    "##### control condition (scaling)"
   ]
  },
  {
   "cell_type": "code",
   "execution_count": 47,
   "id": "22f90c83-7cc7-4881-bc26-db3bdfe6c6d4",
   "metadata": {},
   "outputs": [],
   "source": [
    "train, test = tsplit(df, test_size=0.25, random_state=4, scale=True)"
   ]
  },
  {
   "cell_type": "code",
   "execution_count": 48,
   "id": "ba59d439-0375-4000-b685-cca81280a96a",
   "metadata": {},
   "outputs": [
    {
     "name": "stdout",
     "output_type": "stream",
     "text": [
      "Holdout Acc: 0.6222030981067126 \n",
      " Holdout F1: 0.718409236690186 \n",
      " Holdout AUC: 0.5773958991265231\n"
     ]
    }
   ],
   "source": [
    "target_col = 'label'\n",
    "clf = lgb.LGBMClassifier(random_state=42, n_jobs=-1)\n",
    "clf.fit(train.drop(columns=target_col), train[target_col].values.ravel())\n",
    "test_pred = clf.predict(test.drop(columns=target_col))\n",
    "print_metrics(test[target_col], test_pred, \"Holdout\")"
   ]
  },
  {
   "cell_type": "code",
   "execution_count": 49,
   "id": "99fc9ca1-ced6-44e2-ad8a-6aa64e0a0d0f",
   "metadata": {},
   "outputs": [
    {
     "name": "stdout",
     "output_type": "stream",
     "text": [
      "Holdout Acc: 0.6135972461273667 \n",
      " Holdout F1: 0.743281875357347 \n",
      " Holdout AUC: 0.5350777194090552\n"
     ]
    }
   ],
   "source": [
    "target_col = 'label'\n",
    "clf = RandomForestClassifier(max_depth=5,random_state=42)\n",
    "clf.fit(train.drop(columns=target_col), train[target_col].values.ravel())\n",
    "test_pred = clf.predict(test.drop(columns=target_col))\n",
    "print_metrics(test[target_col], test_pred, \"Holdout\")"
   ]
  },
  {
   "cell_type": "markdown",
   "id": "549e844c-6a0b-4658-8ee0-ee50f15b40e3",
   "metadata": {},
   "source": [
    "#### prep qsidp vs conn columns"
   ]
  },
  {
   "cell_type": "code",
   "execution_count": 18,
   "id": "19b06407-f545-457c-91bf-f391b021cdaa",
   "metadata": {},
   "outputs": [
    {
     "data": {
      "text/plain": [
       "Index([          0,           1,           2,           3,           4,\n",
       "                 5,           6,           7,           8,           9,\n",
       "       ...\n",
       "       '25226-2.0', '25708-2.0', '25742-2.0', '25279-2.0', '25518-2.0',\n",
       "       '25614-2.0', '25533-2.0', '25713-2.0', '25590-2.0',     'label'],\n",
       "      dtype='object', length=2477)"
      ]
     },
     "execution_count": 18,
     "metadata": {},
     "output_type": "execute_result"
    }
   ],
   "source": [
    "train.columns"
   ]
  },
  {
   "cell_type": "code",
   "execution_count": 60,
   "id": "193bd63d-070d-4d69-a1e8-3c06a64bf207",
   "metadata": {},
   "outputs": [],
   "source": [
    "QSIDP = [col for col in train.columns if '-' in str(col)]\n",
    "CONN = [col for col in train.columns if '-' not in str(col)]\n",
    "CONN.remove('label')"
   ]
  },
  {
   "cell_type": "markdown",
   "id": "1ee1edab-3ec7-4dae-b164-b25bbd84f168",
   "metadata": {},
   "source": [
    "#### try quantile transform"
   ]
  },
  {
   "cell_type": "code",
   "execution_count": 20,
   "id": "927771d4-a96d-45bd-80ab-23ed4cf74ae7",
   "metadata": {},
   "outputs": [],
   "source": [
    "from sklearn.preprocessing import QuantileTransformer"
   ]
  },
  {
   "cell_type": "code",
   "execution_count": 21,
   "id": "bcc27df8-bee3-4ee2-9756-8f56897e545c",
   "metadata": {},
   "outputs": [],
   "source": [
    "model_output_folder = './feats_out'\n",
    "IS_TRAIN = True\n",
    "\n",
    "if IS_TRAIN:\n",
    "    os.makedirs(model_output_folder, exist_ok=True)"
   ]
  },
  {
   "cell_type": "code",
   "execution_count": 54,
   "id": "6b8b66b4-9f89-4bd2-b644-51e5c94292bc",
   "metadata": {},
   "outputs": [],
   "source": [
    "# train, test = tsplit(df, test_size=0.25, random_state=4, scale=True)\n",
    "train, test = tsplit(df, test_size=0.25, random_state=4, scale=False)"
   ]
  },
  {
   "cell_type": "code",
   "execution_count": 55,
   "id": "48a9d844-4107-4776-a509-6f1a82785dc7",
   "metadata": {},
   "outputs": [],
   "source": [
    "train_features = []\n",
    "test_features = []\n",
    "for col in (CONN + QSIDP):\n",
    "# for col in CONN:\n",
    "\n",
    "    #  transformer = QuantileTransformer(n_quantiles=100,random_state=0, output_distribution=\"normal\")\n",
    "    vec_len = len(train[col].values)\n",
    "    vec_len_test = len(test[col].values)\n",
    "    raw_vec = train[col].values.reshape(vec_len, 1)\n",
    "\n",
    "    if IS_TRAIN:\n",
    "        transformer = QuantileTransformer(n_quantiles=100,\n",
    "                                          random_state=0,\n",
    "                                          output_distribution=\"normal\")\n",
    "        transformer.fit(raw_vec)\n",
    "        pd.to_pickle(transformer, f'{model_output_folder}/{col}_quantile_transformer.pkl')\n",
    "    else:\n",
    "        transformer = pd.read_pickle(f'{model_output_folder}/{col}_quantile_transformer.pkl')\n",
    "\n",
    "    train[col] = transformer.transform(raw_vec)\n",
    "    test[col] = transformer.transform(\n",
    "        test[col].values.reshape(vec_len_test,\n",
    "                                          1)).reshape(1, vec_len_test)[0]\n",
    "#     train[col] = transformer.transform(raw_vec).reshape(1, vec_len)[0]\n",
    "#     test_features[col] = transformer.transform(\n",
    "#         test[col].values.reshape(vec_len_test,\n",
    "#                                           1)).reshape(1, vec_len_test)[0]"
   ]
  },
  {
   "cell_type": "markdown",
   "id": "bbfa4c63-d885-4cad-888f-3a9cec639575",
   "metadata": {},
   "source": [
    "##### transform connectivity only (not scaling)"
   ]
  },
  {
   "cell_type": "code",
   "execution_count": 28,
   "id": "4df0e645-a1ad-45e5-8e20-b399103969e8",
   "metadata": {},
   "outputs": [
    {
     "name": "stdout",
     "output_type": "stream",
     "text": [
      "Holdout Acc: 0.6273666092943201 \n",
      " Holdout F1: 0.7226137091607944 \n",
      " Holdout AUC: 0.5824149245913761\n"
     ]
    }
   ],
   "source": [
    "target_col = 'label'\n",
    "clf = lgb.LGBMClassifier(random_state=42, n_jobs=-1)\n",
    "clf.fit(train.drop(columns=target_col), train[target_col].values.ravel())\n",
    "test_pred = clf.predict(test.drop(columns=target_col))\n",
    "print_metrics(test[target_col], test_pred, \"Holdout\")"
   ]
  },
  {
   "cell_type": "code",
   "execution_count": 29,
   "id": "c0147c90-9c30-4a2b-b25b-2aa2a98547fe",
   "metadata": {},
   "outputs": [
    {
     "name": "stdout",
     "output_type": "stream",
     "text": [
      "Holdout Acc: 0.612736660929432 \n",
      " Holdout F1: 0.7434435575826681 \n",
      " Holdout AUC: 0.533304576895229\n"
     ]
    }
   ],
   "source": [
    "target_col = 'label'\n",
    "clf = RandomForestClassifier(max_depth=5,random_state=42)\n",
    "clf.fit(train.drop(columns=target_col), train[target_col].values.ravel())\n",
    "test_pred = clf.predict(test.drop(columns=target_col))\n",
    "print_metrics(test[target_col], test_pred, \"Holdout\")"
   ]
  },
  {
   "cell_type": "markdown",
   "id": "f253f476-e835-4488-b6a6-4d50403578ab",
   "metadata": {},
   "source": [
    "##### transform connectivity only ( scaling)"
   ]
  },
  {
   "cell_type": "code",
   "execution_count": 32,
   "id": "9d0c946c-154c-48f1-b220-0dcc4a165094",
   "metadata": {},
   "outputs": [
    {
     "name": "stdout",
     "output_type": "stream",
     "text": [
      "Holdout Acc: 0.6161790017211703 \n",
      " Holdout F1: 0.7137355584082158 \n",
      " Holdout AUC: 0.5713062098501072\n"
     ]
    }
   ],
   "source": [
    "target_col = 'label'\n",
    "clf = lgb.LGBMClassifier(random_state=42, n_jobs=-1)\n",
    "clf.fit(train.drop(columns=target_col), train[target_col].values.ravel())\n",
    "test_pred = clf.predict(test.drop(columns=target_col))\n",
    "print_metrics(test[target_col], test_pred, \"Holdout\")"
   ]
  },
  {
   "cell_type": "code",
   "execution_count": 33,
   "id": "813b6279-1ba5-4c31-bb50-23607b84bd3e",
   "metadata": {},
   "outputs": [
    {
     "name": "stdout",
     "output_type": "stream",
     "text": [
      "Holdout Acc: 0.6135972461273667 \n",
      " Holdout F1: 0.743281875357347 \n",
      " Holdout AUC: 0.5350777194090552\n"
     ]
    }
   ],
   "source": [
    "target_col = 'label'\n",
    "clf = RandomForestClassifier(max_depth=5,random_state=42)\n",
    "clf.fit(train.drop(columns=target_col), train[target_col].values.ravel())\n",
    "test_pred = clf.predict(test.drop(columns=target_col))\n",
    "print_metrics(test[target_col], test_pred, \"Holdout\")"
   ]
  },
  {
   "cell_type": "markdown",
   "id": "d63fdb99-d00b-4cba-bd24-4e4d4c1c3ba5",
   "metadata": {},
   "source": [
    "##### transform everything (not scaling)"
   ]
  },
  {
   "cell_type": "code",
   "execution_count": 56,
   "id": "6f4f294f-a485-4dfc-9092-3abaa5777dfa",
   "metadata": {},
   "outputs": [
    {
     "name": "stdout",
     "output_type": "stream",
     "text": [
      "Holdout Acc: 0.6316695352839932 \n",
      " Holdout F1: 0.7242268041237114 \n",
      " Holdout AUC: 0.588470722351455\n"
     ]
    }
   ],
   "source": [
    "target_col = 'label'\n",
    "clf = lgb.LGBMClassifier(random_state=42, n_jobs=-1)\n",
    "clf.fit(train.drop(columns=target_col), train[target_col].values.ravel())\n",
    "test_pred = clf.predict(test.drop(columns=target_col))\n",
    "print_metrics(test[target_col], test_pred, \"Holdout\")"
   ]
  },
  {
   "cell_type": "code",
   "execution_count": 57,
   "id": "5a0d7f1e-3fe1-4f87-9cbe-edcb899d9e03",
   "metadata": {},
   "outputs": [
    {
     "name": "stdout",
     "output_type": "stream",
     "text": [
      "Holdout Acc: 0.6135972461273667 \n",
      " Holdout F1: 0.743281875357347 \n",
      " Holdout AUC: 0.5350777194090552\n"
     ]
    }
   ],
   "source": [
    "target_col = 'label'\n",
    "clf = RandomForestClassifier(max_depth=5,random_state=42)\n",
    "clf.fit(train.drop(columns=target_col), train[target_col].values.ravel())\n",
    "test_pred = clf.predict(test.drop(columns=target_col))\n",
    "print_metrics(test[target_col], test_pred, \"Holdout\")"
   ]
  },
  {
   "cell_type": "markdown",
   "id": "98e715ca-1a48-4697-a473-7df07d4983b7",
   "metadata": {},
   "source": [
    "##### transform everything (scaling)"
   ]
  },
  {
   "cell_type": "code",
   "execution_count": 52,
   "id": "11bad7d7-7169-49e1-94d3-4fa8a9680014",
   "metadata": {},
   "outputs": [
    {
     "name": "stdout",
     "output_type": "stream",
     "text": [
      "Holdout Acc: 0.6316695352839932 \n",
      " Holdout F1: 0.7242268041237114 \n",
      " Holdout AUC: 0.588470722351455\n"
     ]
    }
   ],
   "source": [
    "target_col = 'label'\n",
    "clf = lgb.LGBMClassifier(random_state=42, n_jobs=-1)\n",
    "clf.fit(train.drop(columns=target_col), train[target_col].values.ravel())\n",
    "test_pred = clf.predict(test.drop(columns=target_col))\n",
    "print_metrics(test[target_col], test_pred, \"Holdout\")"
   ]
  },
  {
   "cell_type": "code",
   "execution_count": 53,
   "id": "b6712e9b-8646-4c1d-918c-6b7fc9f1b486",
   "metadata": {},
   "outputs": [
    {
     "name": "stdout",
     "output_type": "stream",
     "text": [
      "Holdout Acc: 0.6135972461273667 \n",
      " Holdout F1: 0.743281875357347 \n",
      " Holdout AUC: 0.5350777194090552\n"
     ]
    }
   ],
   "source": [
    "target_col = 'label'\n",
    "clf = RandomForestClassifier(max_depth=5,random_state=42)\n",
    "clf.fit(train.drop(columns=target_col), train[target_col].values.ravel())\n",
    "test_pred = clf.predict(test.drop(columns=target_col))\n",
    "print_metrics(test[target_col], test_pred, \"Holdout\")"
   ]
  },
  {
   "cell_type": "markdown",
   "id": "b93aabf7-993c-4770-8ce4-73b0830096c9",
   "metadata": {},
   "source": [
    "#### try factor analysis"
   ]
  },
  {
   "cell_type": "code",
   "execution_count": 84,
   "id": "384e8735-6397-411a-ac8f-11fd05eb6916",
   "metadata": {},
   "outputs": [],
   "source": [
    "# train, test = tsplit(df, test_size, random_state, scale=True)\n",
    "train, test = tsplit(df, test_size, random_state, scale=False)"
   ]
  },
  {
   "cell_type": "code",
   "execution_count": 85,
   "id": "d3c857e4-ffea-4314-9df9-8c22b3002c87",
   "metadata": {},
   "outputs": [],
   "source": [
    "from sklearn.decomposition import PCA,FactorAnalysis\n",
    "\n",
    "n_comp = 50\n",
    "\n",
    "data = pd.concat(\n",
    "    [pd.DataFrame(train[CONN]),\n",
    "     pd.DataFrame(test[CONN])])\n",
    "#data2 = (FactorAnalysis(n_components=n_comp, random_state=42).fit_transform(data[GENES]))\n",
    "if IS_TRAIN:\n",
    "    fa = FactorAnalysis(n_components=n_comp,\n",
    "                        random_state=1903).fit(data[CONN])\n",
    "    pd.to_pickle(fa, f'{model_output_folder}/factor_analysis_c.pkl')\n",
    "    #umap = UMAP(n_components=n_dim, random_state=1903).fit(data[GENES])\n",
    "    #pd.to_pickle(umap, f'{MODEL_DIR}/{NB}_umap_g.pkl')\n",
    "else:\n",
    "    fa = pd.read_pickle(f'{model_output_folder}/factor_analysis_c.pkl')\n",
    "    #umap = pd.read_pickle(f'{MODEL_DIR}/{NB}_umap_g.pkl')\n",
    "data2 = fa.transform(data[CONN])\n",
    "train2 = data2[:train.shape[0]]\n",
    "test2 = data2[-test.shape[0]:]\n",
    "\n",
    "train2 = pd.DataFrame(train2, columns=[f'pca-c-{i}' for i in range(n_comp)])\n",
    "test2 = pd.DataFrame(test2, columns=[f'pca-c-{i}' for i in range(n_comp)])\n",
    "\n",
    "# drop_cols = [f'c-{i}' for i in range(n_comp,len(GENES))]\n",
    "train = pd.concat((train.reset_index(drop=True), train2.reset_index(drop=True)), axis=1)\n",
    "test = pd.concat((test.reset_index(drop=True), test2.reset_index(drop=True)), axis=1)"
   ]
  },
  {
   "cell_type": "code",
   "execution_count": 62,
   "id": "0975fd1b-5d3c-4c7d-b078-368846701555",
   "metadata": {},
   "outputs": [
    {
     "name": "stdout",
     "output_type": "stream",
     "text": [
      "Holdout Acc: 0.6049913941480206 \n",
      " Holdout F1: 0.7360552041403106 \n",
      " Holdout AUC: 0.5278834748047387\n"
     ]
    }
   ],
   "source": [
    "# conn only (scaled)\n",
    "target_col = 'label'\n",
    "clf = RandomForestClassifier(max_depth=5,random_state=42)\n",
    "clf.fit(train.drop(columns=target_col), train[target_col].values.ravel())\n",
    "test_pred = clf.predict(test.drop(columns=target_col))\n",
    "print_metrics(test[target_col], test_pred, \"Holdout\")"
   ]
  },
  {
   "cell_type": "code",
   "execution_count": 65,
   "id": "e46684e9-db7f-4570-9d5e-b71c404385cf",
   "metadata": {},
   "outputs": [
    {
     "name": "stdout",
     "output_type": "stream",
     "text": [
      "Holdout Acc: 0.6049913941480206 \n",
      " Holdout F1: 0.7369627507163323 \n",
      " Holdout AUC: 0.5268297567513441\n"
     ]
    }
   ],
   "source": [
    "# conn only (not scaled)\n",
    "target_col = 'label'\n",
    "clf = RandomForestClassifier(max_depth=5,random_state=42)\n",
    "clf.fit(train.drop(columns=target_col), train[target_col].values.ravel())\n",
    "test_pred = clf.predict(test.drop(columns=target_col))\n",
    "print_metrics(test[target_col], test_pred, \"Holdout\")"
   ]
  },
  {
   "cell_type": "code",
   "execution_count": 74,
   "id": "4d468a9a-f06b-40c1-9ca3-fd81604e58bf",
   "metadata": {},
   "outputs": [],
   "source": [
    "# train, test = tsplit(df, test_size, random_state, scale=True)\n",
    "train, test = tsplit(df, test_size, random_state, scale=False)"
   ]
  },
  {
   "cell_type": "code",
   "execution_count": 86,
   "id": "4943a5b1-ab60-4431-9209-c5ee02c7f6b2",
   "metadata": {},
   "outputs": [],
   "source": [
    "from sklearn.decomposition import PCA,FactorAnalysis\n",
    "\n",
    "n_comp = 50\n",
    "\n",
    "data = pd.concat(\n",
    "    [pd.DataFrame(train[QSIDP]),\n",
    "     pd.DataFrame(test[QSIDP])])\n",
    "#data2 = (FactorAnalysis(n_components=n_comp, random_state=42).fit_transform(data[GENES]))\n",
    "if IS_TRAIN:\n",
    "    fa = FactorAnalysis(n_components=n_comp,\n",
    "                        random_state=1903).fit(data[QSIDP])\n",
    "    pd.to_pickle(fa, f'{model_output_folder}/factor_analysis_q.pkl')\n",
    "    #umap = UMAP(n_components=n_dim, random_state=1903).fit(data[GENES])\n",
    "    #pd.to_pickle(umap, f'{MODEL_DIR}/{NB}_umap_g.pkl')\n",
    "else:\n",
    "    fa = pd.read_pickle(f'{model_output_folder}/factor_analysis_q.pkl')\n",
    "    #umap = pd.read_pickle(f'{MODEL_DIR}/{NB}_umap_g.pkl')\n",
    "data2 = fa.transform(data[QSIDP])\n",
    "train2 = data2[:train.shape[0]]\n",
    "test2 = data2[-test.shape[0]:]\n",
    "\n",
    "train2 = pd.DataFrame(train2, columns=[f'pca-q-{i}' for i in range(n_comp)])\n",
    "test2 = pd.DataFrame(test2, columns=[f'pca-q-{i}' for i in range(n_comp)])\n",
    "\n",
    "# drop_cols = [f'c-{i}' for i in range(n_comp,len(GENES))]\n",
    "train = pd.concat((train.reset_index(drop=True), train2.reset_index(drop=True)), axis=1)\n",
    "test = pd.concat((test.reset_index(drop=True), test2.reset_index(drop=True)), axis=1)"
   ]
  },
  {
   "cell_type": "code",
   "execution_count": 68,
   "id": "23f3b7e9-6130-47ca-bf70-30950109d35f",
   "metadata": {},
   "outputs": [
    {
     "name": "stdout",
     "output_type": "stream",
     "text": [
      "Holdout Acc: 0.5938037865748709 \n",
      " Holdout F1: 0.7293577981651376 \n",
      " Holdout AUC: 0.5153698026589435\n"
     ]
    }
   ],
   "source": [
    "# qsidp only (scaled)\n",
    "target_col = 'label'\n",
    "clf = RandomForestClassifier(max_depth=5,random_state=42)\n",
    "clf.fit(train.drop(columns=target_col), train[target_col].values.ravel())\n",
    "test_pred = clf.predict(test.drop(columns=target_col))\n",
    "print_metrics(test[target_col], test_pred, \"Holdout\")"
   ]
  },
  {
   "cell_type": "code",
   "execution_count": 71,
   "id": "fb2cfd17-9983-4dc5-9074-7d133f540f4d",
   "metadata": {},
   "outputs": [
    {
     "name": "stdout",
     "output_type": "stream",
     "text": [
      "Holdout Acc: 0.6015490533562823 \n",
      " Holdout F1: 0.7358813462635482 \n",
      " Holdout AUC: 0.5218446228028284\n"
     ]
    }
   ],
   "source": [
    "# qsidp only (not scaled)\n",
    "target_col = 'label'\n",
    "clf = RandomForestClassifier(max_depth=5,random_state=42)\n",
    "clf.fit(train.drop(columns=target_col), train[target_col].values.ravel())\n",
    "test_pred = clf.predict(test.drop(columns=target_col))\n",
    "print_metrics(test[target_col], test_pred, \"Holdout\")"
   ]
  },
  {
   "cell_type": "code",
   "execution_count": 78,
   "id": "ed698f71-4435-4687-8aec-32239646bcab",
   "metadata": {},
   "outputs": [
    {
     "name": "stdout",
     "output_type": "stream",
     "text": [
      "Holdout Acc: 0.6049913941480206 \n",
      " Holdout F1: 0.7390562819783968 \n",
      " Holdout AUC: 0.5243710812934235\n"
     ]
    }
   ],
   "source": [
    "# conn and qsidp (not scaled)\n",
    "target_col = 'label'\n",
    "clf = RandomForestClassifier(max_depth=5,random_state=42)\n",
    "clf.fit(train.drop(columns=target_col), train[target_col].values.ravel())\n",
    "test_pred = clf.predict(test.drop(columns=target_col))\n",
    "print_metrics(test[target_col], test_pred, \"Holdout\")"
   ]
  },
  {
   "cell_type": "code",
   "execution_count": 82,
   "id": "ccd247c0-4121-483f-b81a-cb6019afa5bc",
   "metadata": {},
   "outputs": [
    {
     "name": "stdout",
     "output_type": "stream",
     "text": [
      "Holdout Acc: 0.6058519793459552 \n",
      " Holdout F1: 0.7391799544419134 \n",
      " Holdout AUC: 0.5257929844561182\n"
     ]
    }
   ],
   "source": [
    "# conn and qsidp (scaled)\n",
    "target_col = 'label'\n",
    "clf = RandomForestClassifier(max_depth=5,random_state=42)\n",
    "clf.fit(train.drop(columns=target_col), train[target_col].values.ravel())\n",
    "test_pred = clf.predict(test.drop(columns=target_col))\n",
    "print_metrics(test[target_col], test_pred, \"Holdout\")"
   ]
  },
  {
   "cell_type": "code",
   "execution_count": 83,
   "id": "3cb473f2-29ec-4743-a9a4-de2333fad28d",
   "metadata": {},
   "outputs": [
    {
     "name": "stdout",
     "output_type": "stream",
     "text": [
      "Holdout Acc: 0.6445783132530121 \n",
      " Holdout F1: 0.7347463070006421 \n",
      " Holdout AUC: 0.6010182860135874\n"
     ]
    }
   ],
   "source": [
    "# conn and qsidp (scaled)\n",
    "target_col = 'label'\n",
    "clf = lgb.LGBMClassifier(random_state=42, n_jobs=-1)\n",
    "clf.fit(train.drop(columns=target_col), train[target_col].values.ravel())\n",
    "test_pred = clf.predict(test.drop(columns=target_col))\n",
    "print_metrics(test[target_col], test_pred, \"Holdout\")"
   ]
  },
  {
   "cell_type": "code",
   "execution_count": 88,
   "id": "97223512-c103-4592-9a77-6400e81431d0",
   "metadata": {},
   "outputs": [
    {
     "name": "stdout",
     "output_type": "stream",
     "text": [
      "Holdout Acc: 0.6230636833046471 \n",
      " Holdout F1: 0.721728081321474 \n",
      " Holdout AUC: 0.5756566481290342\n"
     ]
    }
   ],
   "source": [
    "# conn and qsidp (not scaled)\n",
    "target_col = 'label'\n",
    "clf = lgb.LGBMClassifier(random_state=42, n_jobs=-1)\n",
    "clf.fit(train.drop(columns=target_col), train[target_col].values.ravel())\n",
    "test_pred = clf.predict(test.drop(columns=target_col))\n",
    "print_metrics(test[target_col], test_pred, \"Holdout\")"
   ]
  },
  {
   "cell_type": "markdown",
   "id": "cd971e3c-4493-4f18-a394-7b34efb6d406",
   "metadata": {},
   "source": [
    "#### cluster"
   ]
  },
  {
   "cell_type": "code",
   "execution_count": null,
   "id": "1210b05c-53e5-45b5-9d39-75f3644f7af1",
   "metadata": {},
   "outputs": [],
   "source": [
    "from sklearn.cluster import KMeans\n",
    "def fe_cluster(train, test, n_clusters_g = 45, n_clusters_c = 15, SEED = 123):\n",
    "    \n",
    "    features_g = list(train.columns[4:776])\n",
    "    features_c = list(train.columns[776:876])\n",
    "    \n",
    "    def create_cluster(train, test, features, kind = 'g', n_clusters = n_clusters_g):\n",
    "        train_ = train[features].copy()\n",
    "        test_ = test[features].copy()\n",
    "        data = pd.concat([train_, test_], axis = 0)\n",
    "        kmeans = KMeans(n_clusters = n_clusters, random_state = SEED).fit(data)\n",
    "        train[f'clusters_{kind}'] = kmeans.labels_[:train.shape[0]]\n",
    "        test[f'clusters_{kind}'] = kmeans.labels_[train.shape[0]:]\n",
    "        train = pd.get_dummies(train, columns = [f'clusters_{kind}'])\n",
    "        test = pd.get_dummies(test, columns = [f'clusters_{kind}'])\n",
    "        return train, test\n",
    "    \n",
    "    train, test = create_cluster(train, test, features_g, kind = 'g', n_clusters = n_clusters_g)\n",
    "    train, test = create_cluster(train, test, features_c, kind = 'c', n_clusters = n_clusters_c)\n",
    "    return train, test\n",
    "\n",
    "train_features ,test_features=fe_cluster(train_features,test_features)"
   ]
  },
  {
   "cell_type": "code",
   "execution_count": 89,
   "id": "ca22d26d-839d-4c03-ae58-0ddd820c3287",
   "metadata": {},
   "outputs": [
    {
     "data": {
      "text/plain": [
       "Index([         0,          1,          2,          3,          4,          5,\n",
       "                6,          7,          8,          9,\n",
       "       ...\n",
       "       'pca-q-40', 'pca-q-41', 'pca-q-42', 'pca-q-43', 'pca-q-44', 'pca-q-45',\n",
       "       'pca-q-46', 'pca-q-47', 'pca-q-48', 'pca-q-49'],\n",
       "      dtype='object', length=2577)"
      ]
     },
     "execution_count": 89,
     "metadata": {},
     "output_type": "execute_result"
    }
   ],
   "source": [
    "train.columns"
   ]
  },
  {
   "cell_type": "code",
   "execution_count": null,
   "id": "3d746873-fd34-4bd6-99a9-3403345eab90",
   "metadata": {},
   "outputs": [],
   "source": []
  }
 ],
 "metadata": {
  "kernelspec": {
   "display_name": "Python 3",
   "language": "python",
   "name": "python3"
  },
  "language_info": {
   "codemirror_mode": {
    "name": "ipython",
    "version": 3
   },
   "file_extension": ".py",
   "mimetype": "text/x-python",
   "name": "python",
   "nbconvert_exporter": "python",
   "pygments_lexer": "ipython3",
   "version": "3.8.8"
  }
 },
 "nbformat": 4,
 "nbformat_minor": 5
}
