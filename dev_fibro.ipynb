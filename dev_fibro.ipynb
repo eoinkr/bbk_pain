{
 "cells": [
  {
   "cell_type": "markdown",
   "id": "a7421a4d-f7e3-4618-a741-1990fae3067b",
   "metadata": {},
   "source": [
    "### extract fibro data"
   ]
  },
  {
   "cell_type": "code",
   "execution_count": 1,
   "id": "5486605a-41bb-40aa-bcb3-d148835e5a62",
   "metadata": {},
   "outputs": [],
   "source": [
    "import os\n",
    "import pandas as pd \n",
    "import numpy as np"
   ]
  },
  {
   "cell_type": "code",
   "execution_count": 2,
   "id": "7b8ac4b5-d5ec-470c-a0a3-c421ba1f0b54",
   "metadata": {},
   "outputs": [],
   "source": [
    "from clean_questions import *\n",
    "from disease_type import *"
   ]
  },
  {
   "cell_type": "code",
   "execution_count": 3,
   "id": "7ae95324-4488-45e5-8a8b-f0e74ac544b5",
   "metadata": {},
   "outputs": [
    {
     "name": "stderr",
     "output_type": "stream",
     "text": [
      "/home/fs0/syzhang/.conda/envs/bbk/lib/python3.8/site-packages/IPython/core/interactiveshell.py:3165: DtypeWarning: Columns (863,865,867,869) have mixed types.Specify dtype option on import or set low_memory=False.\n",
      "  has_raised = await self.run_ast_nodes(code_ast.body, cell_name,\n"
     ]
    }
   ],
   "source": [
    "qs_path = os.path.join('..', 'funpack_cfg', 'qsidp_subjs_disease_allvisits_extended.tsv')\n",
    "df_subjects = pd.read_csv(qs_path, sep='\\t')"
   ]
  },
  {
   "cell_type": "code",
   "execution_count": 4,
   "id": "fba06e48-3a88-4855-aa9d-1ad5c5dc520a",
   "metadata": {},
   "outputs": [
    {
     "data": {
      "text/plain": [
       "(23793, 2861)"
      ]
     },
     "execution_count": 4,
     "metadata": {},
     "output_type": "execute_result"
    }
   ],
   "source": [
    "df_subjects.shape"
   ]
  },
  {
   "cell_type": "code",
   "execution_count": 5,
   "id": "4d3d0de2-c5fe-4bf7-a822-dd2c4938d566",
   "metadata": {},
   "outputs": [
    {
     "name": "stdout",
     "output_type": "stream",
     "text": [
      "['2956-0.0', '2956-1.0', '2956-2.0', '2956-3.0']\n"
     ]
    }
   ],
   "source": [
    "## pain group \n",
    "# either reported FM using field id 20002 or general pain for 3+ months (field id 2956)\n",
    "code = 2956\n",
    "code_root = str(code)+'-'\n",
    "cols_ls = [col for col in df_subjects.columns if col[:len(code_root)]==code_root]\n",
    "print(cols_ls)"
   ]
  },
  {
   "cell_type": "code",
   "execution_count": 6,
   "id": "31f7af39-0b2f-4465-bcd7-065113d1879f",
   "metadata": {},
   "outputs": [
    {
     "name": "stdout",
     "output_type": "stream",
     "text": [
      "2956-0.0 (268, 2861)\n",
      "2956-1.0 (35, 2861)\n",
      "2956-2.0 (302, 2861)\n",
      "2956-3.0 (25, 2861)\n"
     ]
    }
   ],
   "source": [
    "gen_pain = []\n",
    "for c in cols_ls:\n",
    "    df_tmp = df_subjects[df_subjects[c]==1]\n",
    "    print(c, df_tmp.shape)\n",
    "    gen_pain.append(df_tmp)"
   ]
  },
  {
   "cell_type": "code",
   "execution_count": 7,
   "id": "3cb3d3fd-bf22-4f05-a361-8912e705227c",
   "metadata": {},
   "outputs": [],
   "source": [
    "df_genpain = pd.concat(gen_pain)\n",
    "df_genpain.drop_duplicates(inplace=True)"
   ]
  },
  {
   "cell_type": "code",
   "execution_count": 8,
   "id": "83d9fbde-4a73-4ca5-bead-29d4a597247c",
   "metadata": {},
   "outputs": [
    {
     "data": {
      "text/plain": [
       "(518, 2861)"
      ]
     },
     "execution_count": 8,
     "metadata": {},
     "output_type": "execute_result"
    }
   ],
   "source": [
    "df_genpain.shape"
   ]
  },
  {
   "cell_type": "code",
   "execution_count": 9,
   "id": "31e0afce-d806-4570-9397-31c4bcf25e6c",
   "metadata": {},
   "outputs": [],
   "source": [
    "# df_disease_label = disease_label(df_genpain, visits=[2], grouping='detailed')\n",
    "df_dl = disease_label(df_subjects, visits=[2], grouping='detailed')"
   ]
  },
  {
   "cell_type": "code",
   "execution_count": 10,
   "id": "06c992b3-89f1-4b1f-9bea-064097348de4",
   "metadata": {},
   "outputs": [
    {
     "data": {
      "text/plain": [
       "irritable bowel syndrome       1087\n",
       "migraine                       1379\n",
       "headaches (not migraine)        190\n",
       "back problem                    112\n",
       "cervical spondylosis            142\n",
       "spine arthritis/spondylitis     207\n",
       "prolapsed disc/slipped disc     410\n",
       "disc problem                     67\n",
       "disc degeneration               165\n",
       "back pain                       801\n",
       "ankylosing spondylitis           55\n",
       "psoriatic arthropathy            53\n",
       "rheumatoid arthritis            318\n",
       "synovitis                         8\n",
       "osteoarthritis                 2367\n",
       "joint pain                      413\n",
       "arthritis (nos)                1176\n",
       "joint disorder                   10\n",
       "fibromyalgia                    207\n",
       "chronic fatigue syndrome        125\n",
       "dtype: int64"
      ]
     },
     "execution_count": 10,
     "metadata": {},
     "output_type": "execute_result"
    }
   ],
   "source": [
    "df_dl.sum()"
   ]
  },
  {
   "cell_type": "code",
   "execution_count": 11,
   "id": "d22016fd-b9e8-4f74-9fc1-7c96aa9b6987",
   "metadata": {},
   "outputs": [],
   "source": [
    "fibro_idx = extract_disease(df_subjects, 1542, visit=[2])\n",
    "idx = fibro_idx==1"
   ]
  },
  {
   "cell_type": "code",
   "execution_count": 12,
   "id": "05352c83-847d-4738-87fe-578f173d0e4e",
   "metadata": {},
   "outputs": [],
   "source": [
    "df_fibro = df_subjects[idx.values.flatten()]"
   ]
  },
  {
   "cell_type": "code",
   "execution_count": 13,
   "id": "625ab2df-57b6-4006-aad8-33faa72bd179",
   "metadata": {},
   "outputs": [
    {
     "data": {
      "text/plain": [
       "(207, 2861)"
      ]
     },
     "execution_count": 13,
     "metadata": {},
     "output_type": "execute_result"
    }
   ],
   "source": [
    "df_fibro.shape"
   ]
  },
  {
   "cell_type": "code",
   "execution_count": 14,
   "id": "f8fa77d1-f18a-4638-be1f-a326fbb5fcc0",
   "metadata": {},
   "outputs": [],
   "source": [
    "df_fibro_and_genpain = pd.concat([df_genpain, df_fibro])"
   ]
  },
  {
   "cell_type": "code",
   "execution_count": 15,
   "id": "45a03ee2-e391-4baa-85d0-2d10276f3172",
   "metadata": {},
   "outputs": [
    {
     "data": {
      "text/plain": [
       "(725, 2861)"
      ]
     },
     "execution_count": 15,
     "metadata": {},
     "output_type": "execute_result"
    }
   ],
   "source": [
    "df_fibro_and_genpain.shape"
   ]
  },
  {
   "cell_type": "code",
   "execution_count": 16,
   "id": "56f9652e-bcd4-4ced-a50a-7c98d7c79c54",
   "metadata": {},
   "outputs": [],
   "source": [
    "df_fibro_and_genpain_dropd = df_fibro_and_genpain[~df_fibro_and_genpain.index.duplicated()]"
   ]
  },
  {
   "cell_type": "code",
   "execution_count": 17,
   "id": "fd4c1993-ade6-47ae-9698-a2136c35e5ea",
   "metadata": {},
   "outputs": [
    {
     "data": {
      "text/plain": [
       "(619, 2861)"
      ]
     },
     "execution_count": 17,
     "metadata": {},
     "output_type": "execute_result"
    }
   ],
   "source": [
    "df_fibro_and_genpain_dropd.shape"
   ]
  },
  {
   "cell_type": "code",
   "execution_count": 19,
   "id": "4b3ee23d-ccad-4ad2-9141-7ed5d29ebf4a",
   "metadata": {},
   "outputs": [],
   "source": [
    "# def disease_label(df, visits=[2], grouping='simplified'):\n",
    "#     \"\"\"create disease label df\"\"\"\n",
    "#     from disease_type import extract_disease\n",
    "#     # different grouping\n",
    "#     if grouping == 'simplified':\n",
    "#         df_disease_group = pd.read_csv('./bbk_codes/disease_code_simplified.csv')\n",
    "#     elif grouping == 'detailed':\n",
    "#         df_disease_group = pd.read_csv('./bbk_codes/disease_code.csv')\n",
    "#     else:\n",
    "#         df_disease_group = pd.read_csv('./bbk_codes/disease_code_grouped.csv')\n",
    "#     # drop duplicates to avoid merging issues\n",
    "#     if df.index.name == 'eid':\n",
    "#         df_dropd = df[~df.index.duplicated()]\n",
    "#     elif 'eid' in df:\n",
    "#         df_dropd = df[~df['eid'].duplicated()]\n",
    "#     else:\n",
    "#         raise ValueError('eid not present.')\n",
    "#     # iterate diseases\n",
    "#     df_disease_label = []\n",
    "#     for i, r in df_disease_group.iterrows():\n",
    "#         df_tmp = extract_disease(df_dropd, r['code'], visit=visits)\n",
    "#         df_tmp.replace(np.nan, 0.0, inplace=True)\n",
    "#         # rename column to disease\n",
    "#         df_tmp.rename(columns={df_tmp.columns[0]: r['disease']}, inplace=True)\n",
    "#         # merge\n",
    "#         df_disease_label.append(df_tmp)\n",
    "#     return pd.concat(df_disease_label,axis=1)"
   ]
  },
  {
   "cell_type": "code",
   "execution_count": 20,
   "id": "0c26c291-b651-496f-8e09-f927acd8e96d",
   "metadata": {},
   "outputs": [],
   "source": [
    "fibro_and_genpain_labels = disease_label(df_fibro_and_genpain_dropd, visits=[2], grouping='detailed')\n",
    "# fibro_and_genpain_labels = disease_label(df_subjects, visits=[2], grouping='grouped')"
   ]
  },
  {
   "cell_type": "code",
   "execution_count": 21,
   "id": "1be85d1e-9000-4fea-b4d1-27502fb15e4f",
   "metadata": {},
   "outputs": [
    {
     "data": {
      "text/plain": [
       "irritable bowel syndrome        53\n",
       "migraine                        44\n",
       "headaches (not migraine)         9\n",
       "back problem                     3\n",
       "cervical spondylosis            12\n",
       "spine arthritis/spondylitis     21\n",
       "prolapsed disc/slipped disc     12\n",
       "disc problem                     1\n",
       "disc degeneration               13\n",
       "back pain                       30\n",
       "ankylosing spondylitis           2\n",
       "psoriatic arthropathy            3\n",
       "rheumatoid arthritis            32\n",
       "synovitis                        0\n",
       "osteoarthritis                 118\n",
       "joint pain                      17\n",
       "arthritis (nos)                 41\n",
       "joint disorder                   1\n",
       "fibromyalgia                   207\n",
       "chronic fatigue syndrome        43\n",
       "dtype: int64"
      ]
     },
     "execution_count": 21,
     "metadata": {},
     "output_type": "execute_result"
    }
   ],
   "source": [
    "fibro_and_genpain_labels.sum()"
   ]
  },
  {
   "cell_type": "code",
   "execution_count": 34,
   "id": "7db28cb2-4b64-4e00-b28d-8246b59c5575",
   "metadata": {},
   "outputs": [
    {
     "data": {
      "text/plain": [
       "163"
      ]
     },
     "execution_count": 34,
     "metadata": {},
     "output_type": "execute_result"
    }
   ],
   "source": [
    "np.sum(fibro_and_genpain_labels.sum(axis=1)>1)"
   ]
  },
  {
   "cell_type": "code",
   "execution_count": 24,
   "id": "7c9a9522-2ac8-40d4-aa44-6a96da56f69e",
   "metadata": {},
   "outputs": [],
   "source": [
    "# extract idps and qs\n",
    "questionnaire = ['cwp', 'demographic', 'mental', 'lifestyle', 'cognitive']\n",
    "idp = ['subcorticalvol', 'fast', 't1vols']\n",
    "question_visits = [2]"
   ]
  },
  {
   "cell_type": "code",
   "execution_count": 25,
   "id": "89980d64-f013-4bee-ac97-eb8abdf45dcc",
   "metadata": {},
   "outputs": [],
   "source": [
    "qs = load_qscode(questionnaire=questionnaire, idp=idp)"
   ]
  },
  {
   "cell_type": "code",
   "execution_count": 26,
   "id": "d3a592b6-fdb5-4d6a-85c7-a50397a97452",
   "metadata": {},
   "outputs": [],
   "source": [
    "df_fibro_and_genpain_idps = extract_qs(df_fibro_and_genpain_dropd, df_questionnaire=qs, visits=question_visits)"
   ]
  },
  {
   "cell_type": "code",
   "execution_count": 27,
   "id": "aa24118f-abeb-46f6-a647-6f88005b4911",
   "metadata": {},
   "outputs": [
    {
     "data": {
      "text/plain": [
       "(619, 333)"
      ]
     },
     "execution_count": 27,
     "metadata": {},
     "output_type": "execute_result"
    }
   ],
   "source": [
    "df_fibro_and_genpain_idps.shape"
   ]
  },
  {
   "cell_type": "code",
   "execution_count": 28,
   "id": "4f64b637-f559-4a6f-8611-69950b038697",
   "metadata": {},
   "outputs": [],
   "source": [
    "# only 1 disease\n",
    "labels = fibro_and_genpain_labels.idxmax(axis=1)\n",
    "labels.name = 'label'"
   ]
  },
  {
   "cell_type": "code",
   "execution_count": 29,
   "id": "dfcb94b7-1e03-4788-9e33-407204499131",
   "metadata": {},
   "outputs": [
    {
     "data": {
      "text/plain": [
       "eid\n",
       "1013760                 osteoarthritis\n",
       "1070136                 osteoarthritis\n",
       "1108699    spine arthritis/spondylitis\n",
       "1108787       irritable bowel syndrome\n",
       "1136360    spine arthritis/spondylitis\n",
       "                      ...             \n",
       "5802589                   fibromyalgia\n",
       "5808560                       migraine\n",
       "5878634                   fibromyalgia\n",
       "5882291                       migraine\n",
       "5945754       irritable bowel syndrome\n",
       "Name: label, Length: 619, dtype: object"
      ]
     },
     "execution_count": 29,
     "metadata": {},
     "output_type": "execute_result"
    }
   ],
   "source": [
    "labels"
   ]
  },
  {
   "cell_type": "code",
   "execution_count": 30,
   "id": "4ad2f4cf-82c7-49b1-8a20-93f719ad6766",
   "metadata": {},
   "outputs": [],
   "source": [
    "# df_out = df_fibro_and_genpain_idps.merge(labels.reset_index(), on='eid')\n",
    "df_out = df_fibro_and_genpain_idps.merge(fibro_and_genpain_labels.reset_index(), on='eid')"
   ]
  },
  {
   "cell_type": "code",
   "execution_count": 31,
   "id": "e0eebafb-ca2d-447d-993b-8aef62eed914",
   "metadata": {},
   "outputs": [
    {
     "data": {
      "text/html": [
       "<div>\n",
       "<style scoped>\n",
       "    .dataframe tbody tr th:only-of-type {\n",
       "        vertical-align: middle;\n",
       "    }\n",
       "\n",
       "    .dataframe tbody tr th {\n",
       "        vertical-align: top;\n",
       "    }\n",
       "\n",
       "    .dataframe thead th {\n",
       "        text-align: right;\n",
       "    }\n",
       "</style>\n",
       "<table border=\"1\" class=\"dataframe\">\n",
       "  <thead>\n",
       "    <tr style=\"text-align: right;\">\n",
       "      <th></th>\n",
       "      <th>26418-0.0</th>\n",
       "      <th>2020-2.0</th>\n",
       "      <th>2010-2.0</th>\n",
       "      <th>25869-2.0</th>\n",
       "      <th>20122-0.0</th>\n",
       "      <th>25822-2.0</th>\n",
       "      <th>1990-2.0</th>\n",
       "      <th>25789-2.0</th>\n",
       "      <th>20124-0.0</th>\n",
       "      <th>20531-0.0</th>\n",
       "      <th>...</th>\n",
       "      <th>ankylosing spondylitis</th>\n",
       "      <th>psoriatic arthropathy</th>\n",
       "      <th>rheumatoid arthritis</th>\n",
       "      <th>synovitis</th>\n",
       "      <th>osteoarthritis</th>\n",
       "      <th>joint pain</th>\n",
       "      <th>arthritis (nos)</th>\n",
       "      <th>joint disorder</th>\n",
       "      <th>fibromyalgia</th>\n",
       "      <th>chronic fatigue syndrome</th>\n",
       "    </tr>\n",
       "  </thead>\n",
       "  <tbody>\n",
       "    <tr>\n",
       "      <th>0</th>\n",
       "      <td>NaN</td>\n",
       "      <td>0.0</td>\n",
       "      <td>0.0</td>\n",
       "      <td>1188.17</td>\n",
       "      <td>NaN</td>\n",
       "      <td>3367.99</td>\n",
       "      <td>1.0</td>\n",
       "      <td>8543.64</td>\n",
       "      <td>NaN</td>\n",
       "      <td>0.0</td>\n",
       "      <td>...</td>\n",
       "      <td>0</td>\n",
       "      <td>0</td>\n",
       "      <td>0</td>\n",
       "      <td>0</td>\n",
       "      <td>1</td>\n",
       "      <td>0</td>\n",
       "      <td>0</td>\n",
       "      <td>0</td>\n",
       "      <td>0</td>\n",
       "      <td>0</td>\n",
       "    </tr>\n",
       "    <tr>\n",
       "      <th>1</th>\n",
       "      <td>NaN</td>\n",
       "      <td>0.0</td>\n",
       "      <td>0.0</td>\n",
       "      <td>1245.25</td>\n",
       "      <td>NaN</td>\n",
       "      <td>2957.61</td>\n",
       "      <td>0.0</td>\n",
       "      <td>7841.86</td>\n",
       "      <td>NaN</td>\n",
       "      <td>NaN</td>\n",
       "      <td>...</td>\n",
       "      <td>0</td>\n",
       "      <td>0</td>\n",
       "      <td>0</td>\n",
       "      <td>0</td>\n",
       "      <td>1</td>\n",
       "      <td>0</td>\n",
       "      <td>1</td>\n",
       "      <td>0</td>\n",
       "      <td>0</td>\n",
       "      <td>0</td>\n",
       "    </tr>\n",
       "    <tr>\n",
       "      <th>2</th>\n",
       "      <td>NaN</td>\n",
       "      <td>0.0</td>\n",
       "      <td>0.0</td>\n",
       "      <td>1771.70</td>\n",
       "      <td>NaN</td>\n",
       "      <td>4208.46</td>\n",
       "      <td>-1.0</td>\n",
       "      <td>7941.84</td>\n",
       "      <td>NaN</td>\n",
       "      <td>1.0</td>\n",
       "      <td>...</td>\n",
       "      <td>0</td>\n",
       "      <td>0</td>\n",
       "      <td>0</td>\n",
       "      <td>0</td>\n",
       "      <td>1</td>\n",
       "      <td>0</td>\n",
       "      <td>0</td>\n",
       "      <td>0</td>\n",
       "      <td>1</td>\n",
       "      <td>0</td>\n",
       "    </tr>\n",
       "    <tr>\n",
       "      <th>3</th>\n",
       "      <td>NaN</td>\n",
       "      <td>1.0</td>\n",
       "      <td>1.0</td>\n",
       "      <td>1813.30</td>\n",
       "      <td>NaN</td>\n",
       "      <td>4570.22</td>\n",
       "      <td>0.0</td>\n",
       "      <td>10175.10</td>\n",
       "      <td>NaN</td>\n",
       "      <td>0.0</td>\n",
       "      <td>...</td>\n",
       "      <td>0</td>\n",
       "      <td>0</td>\n",
       "      <td>0</td>\n",
       "      <td>0</td>\n",
       "      <td>0</td>\n",
       "      <td>0</td>\n",
       "      <td>0</td>\n",
       "      <td>0</td>\n",
       "      <td>0</td>\n",
       "      <td>0</td>\n",
       "    </tr>\n",
       "    <tr>\n",
       "      <th>4</th>\n",
       "      <td>NaN</td>\n",
       "      <td>1.0</td>\n",
       "      <td>1.0</td>\n",
       "      <td>1220.78</td>\n",
       "      <td>NaN</td>\n",
       "      <td>4427.66</td>\n",
       "      <td>1.0</td>\n",
       "      <td>9064.04</td>\n",
       "      <td>NaN</td>\n",
       "      <td>1.0</td>\n",
       "      <td>...</td>\n",
       "      <td>0</td>\n",
       "      <td>0</td>\n",
       "      <td>0</td>\n",
       "      <td>0</td>\n",
       "      <td>0</td>\n",
       "      <td>0</td>\n",
       "      <td>0</td>\n",
       "      <td>0</td>\n",
       "      <td>0</td>\n",
       "      <td>0</td>\n",
       "    </tr>\n",
       "    <tr>\n",
       "      <th>...</th>\n",
       "      <td>...</td>\n",
       "      <td>...</td>\n",
       "      <td>...</td>\n",
       "      <td>...</td>\n",
       "      <td>...</td>\n",
       "      <td>...</td>\n",
       "      <td>...</td>\n",
       "      <td>...</td>\n",
       "      <td>...</td>\n",
       "      <td>...</td>\n",
       "      <td>...</td>\n",
       "      <td>...</td>\n",
       "      <td>...</td>\n",
       "      <td>...</td>\n",
       "      <td>...</td>\n",
       "      <td>...</td>\n",
       "      <td>...</td>\n",
       "      <td>...</td>\n",
       "      <td>...</td>\n",
       "      <td>...</td>\n",
       "      <td>...</td>\n",
       "    </tr>\n",
       "    <tr>\n",
       "      <th>614</th>\n",
       "      <td>NaN</td>\n",
       "      <td>0.0</td>\n",
       "      <td>0.0</td>\n",
       "      <td>1506.37</td>\n",
       "      <td>NaN</td>\n",
       "      <td>4320.07</td>\n",
       "      <td>0.0</td>\n",
       "      <td>8341.86</td>\n",
       "      <td>NaN</td>\n",
       "      <td>0.0</td>\n",
       "      <td>...</td>\n",
       "      <td>0</td>\n",
       "      <td>0</td>\n",
       "      <td>0</td>\n",
       "      <td>0</td>\n",
       "      <td>0</td>\n",
       "      <td>0</td>\n",
       "      <td>0</td>\n",
       "      <td>0</td>\n",
       "      <td>1</td>\n",
       "      <td>0</td>\n",
       "    </tr>\n",
       "    <tr>\n",
       "      <th>615</th>\n",
       "      <td>NaN</td>\n",
       "      <td>0.0</td>\n",
       "      <td>-1.0</td>\n",
       "      <td>1398.44</td>\n",
       "      <td>NaN</td>\n",
       "      <td>3338.43</td>\n",
       "      <td>0.0</td>\n",
       "      <td>8614.51</td>\n",
       "      <td>NaN</td>\n",
       "      <td>1.0</td>\n",
       "      <td>...</td>\n",
       "      <td>0</td>\n",
       "      <td>0</td>\n",
       "      <td>0</td>\n",
       "      <td>0</td>\n",
       "      <td>0</td>\n",
       "      <td>0</td>\n",
       "      <td>0</td>\n",
       "      <td>0</td>\n",
       "      <td>1</td>\n",
       "      <td>0</td>\n",
       "    </tr>\n",
       "    <tr>\n",
       "      <th>616</th>\n",
       "      <td>NaN</td>\n",
       "      <td>0.0</td>\n",
       "      <td>0.0</td>\n",
       "      <td>1157.57</td>\n",
       "      <td>NaN</td>\n",
       "      <td>4258.69</td>\n",
       "      <td>1.0</td>\n",
       "      <td>8376.58</td>\n",
       "      <td>NaN</td>\n",
       "      <td>1.0</td>\n",
       "      <td>...</td>\n",
       "      <td>0</td>\n",
       "      <td>0</td>\n",
       "      <td>0</td>\n",
       "      <td>0</td>\n",
       "      <td>0</td>\n",
       "      <td>0</td>\n",
       "      <td>0</td>\n",
       "      <td>0</td>\n",
       "      <td>1</td>\n",
       "      <td>0</td>\n",
       "    </tr>\n",
       "    <tr>\n",
       "      <th>617</th>\n",
       "      <td>NaN</td>\n",
       "      <td>0.0</td>\n",
       "      <td>-1.0</td>\n",
       "      <td>1132.01</td>\n",
       "      <td>NaN</td>\n",
       "      <td>3599.42</td>\n",
       "      <td>0.0</td>\n",
       "      <td>7789.47</td>\n",
       "      <td>NaN</td>\n",
       "      <td>0.0</td>\n",
       "      <td>...</td>\n",
       "      <td>0</td>\n",
       "      <td>0</td>\n",
       "      <td>0</td>\n",
       "      <td>0</td>\n",
       "      <td>1</td>\n",
       "      <td>1</td>\n",
       "      <td>0</td>\n",
       "      <td>0</td>\n",
       "      <td>1</td>\n",
       "      <td>0</td>\n",
       "    </tr>\n",
       "    <tr>\n",
       "      <th>618</th>\n",
       "      <td>NaN</td>\n",
       "      <td>0.0</td>\n",
       "      <td>0.0</td>\n",
       "      <td>1305.57</td>\n",
       "      <td>NaN</td>\n",
       "      <td>2105.60</td>\n",
       "      <td>-1.0</td>\n",
       "      <td>7299.41</td>\n",
       "      <td>NaN</td>\n",
       "      <td>NaN</td>\n",
       "      <td>...</td>\n",
       "      <td>0</td>\n",
       "      <td>0</td>\n",
       "      <td>0</td>\n",
       "      <td>0</td>\n",
       "      <td>1</td>\n",
       "      <td>0</td>\n",
       "      <td>0</td>\n",
       "      <td>0</td>\n",
       "      <td>1</td>\n",
       "      <td>0</td>\n",
       "    </tr>\n",
       "  </tbody>\n",
       "</table>\n",
       "<p>619 rows × 353 columns</p>\n",
       "</div>"
      ],
      "text/plain": [
       "     26418-0.0  2020-2.0  2010-2.0  25869-2.0  20122-0.0  25822-2.0  1990-2.0  \\\n",
       "0          NaN       0.0       0.0    1188.17        NaN    3367.99       1.0   \n",
       "1          NaN       0.0       0.0    1245.25        NaN    2957.61       0.0   \n",
       "2          NaN       0.0       0.0    1771.70        NaN    4208.46      -1.0   \n",
       "3          NaN       1.0       1.0    1813.30        NaN    4570.22       0.0   \n",
       "4          NaN       1.0       1.0    1220.78        NaN    4427.66       1.0   \n",
       "..         ...       ...       ...        ...        ...        ...       ...   \n",
       "614        NaN       0.0       0.0    1506.37        NaN    4320.07       0.0   \n",
       "615        NaN       0.0      -1.0    1398.44        NaN    3338.43       0.0   \n",
       "616        NaN       0.0       0.0    1157.57        NaN    4258.69       1.0   \n",
       "617        NaN       0.0      -1.0    1132.01        NaN    3599.42       0.0   \n",
       "618        NaN       0.0       0.0    1305.57        NaN    2105.60      -1.0   \n",
       "\n",
       "     25789-2.0  20124-0.0  20531-0.0  ...  ankylosing spondylitis  \\\n",
       "0      8543.64        NaN        0.0  ...                       0   \n",
       "1      7841.86        NaN        NaN  ...                       0   \n",
       "2      7941.84        NaN        1.0  ...                       0   \n",
       "3     10175.10        NaN        0.0  ...                       0   \n",
       "4      9064.04        NaN        1.0  ...                       0   \n",
       "..         ...        ...        ...  ...                     ...   \n",
       "614    8341.86        NaN        0.0  ...                       0   \n",
       "615    8614.51        NaN        1.0  ...                       0   \n",
       "616    8376.58        NaN        1.0  ...                       0   \n",
       "617    7789.47        NaN        0.0  ...                       0   \n",
       "618    7299.41        NaN        NaN  ...                       0   \n",
       "\n",
       "     psoriatic arthropathy  rheumatoid arthritis  synovitis  osteoarthritis  \\\n",
       "0                        0                     0          0               1   \n",
       "1                        0                     0          0               1   \n",
       "2                        0                     0          0               1   \n",
       "3                        0                     0          0               0   \n",
       "4                        0                     0          0               0   \n",
       "..                     ...                   ...        ...             ...   \n",
       "614                      0                     0          0               0   \n",
       "615                      0                     0          0               0   \n",
       "616                      0                     0          0               0   \n",
       "617                      0                     0          0               1   \n",
       "618                      0                     0          0               1   \n",
       "\n",
       "     joint pain  arthritis (nos)  joint disorder  fibromyalgia  \\\n",
       "0             0                0               0             0   \n",
       "1             0                1               0             0   \n",
       "2             0                0               0             1   \n",
       "3             0                0               0             0   \n",
       "4             0                0               0             0   \n",
       "..          ...              ...             ...           ...   \n",
       "614           0                0               0             1   \n",
       "615           0                0               0             1   \n",
       "616           0                0               0             1   \n",
       "617           1                0               0             1   \n",
       "618           0                0               0             1   \n",
       "\n",
       "     chronic fatigue syndrome  \n",
       "0                           0  \n",
       "1                           0  \n",
       "2                           0  \n",
       "3                           0  \n",
       "4                           0  \n",
       "..                        ...  \n",
       "614                         0  \n",
       "615                         0  \n",
       "616                         0  \n",
       "617                         0  \n",
       "618                         0  \n",
       "\n",
       "[619 rows x 353 columns]"
      ]
     },
     "execution_count": 31,
     "metadata": {},
     "output_type": "execute_result"
    }
   ],
   "source": [
    "df_out"
   ]
  },
  {
   "cell_type": "code",
   "execution_count": 32,
   "id": "e6f54e30-0184-483f-923a-31ed819a849b",
   "metadata": {},
   "outputs": [
    {
     "data": {
      "text/plain": [
       "(619, 353)"
      ]
     },
     "execution_count": 32,
     "metadata": {},
     "output_type": "execute_result"
    }
   ],
   "source": [
    "df_out.shape"
   ]
  },
  {
   "cell_type": "code",
   "execution_count": 33,
   "id": "5eedf497-4161-45c4-a7f0-69c58b9471cc",
   "metadata": {},
   "outputs": [],
   "source": [
    "# df_out.to_csv('../fibro/pain_subjects.csv', index=None)\n",
    "df_out.to_csv('../fibro/pain_subjects_full_labels.csv', index=None)"
   ]
  },
  {
   "cell_type": "markdown",
   "id": "30a289ff-9c7c-421c-99a8-d64fa40da34e",
   "metadata": {},
   "source": [
    "#### controls"
   ]
  },
  {
   "cell_type": "code",
   "execution_count": 87,
   "id": "24dd8bdb-2952-4fd3-8d3e-fc4dd66ec84b",
   "metadata": {},
   "outputs": [
    {
     "name": "stderr",
     "output_type": "stream",
     "text": [
      "/home/fs0/syzhang/.conda/envs/bbk/lib/python3.8/site-packages/IPython/core/interactiveshell.py:3165: DtypeWarning: Columns (863,869) have mixed types.Specify dtype option on import or set low_memory=False.\n",
      "  has_raised = await self.run_ast_nodes(code_ast.body, cell_name,\n"
     ]
    }
   ],
   "source": [
    "qs_path = os.path.join('..', 'funpack_cfg', 'qsidp_subjs_control_allvisits_extended.tsv')\n",
    "df_controls = pd.read_csv(qs_path, sep='\\t')"
   ]
  },
  {
   "cell_type": "code",
   "execution_count": 88,
   "id": "cc68c298-cc6a-4cfa-a80c-46346482e83f",
   "metadata": {},
   "outputs": [
    {
     "data": {
      "text/plain": [
       "(26490, 2861)"
      ]
     },
     "execution_count": 88,
     "metadata": {},
     "output_type": "execute_result"
    }
   ],
   "source": [
    "df_controls.shape"
   ]
  },
  {
   "cell_type": "code",
   "execution_count": 89,
   "id": "96b803d9-29aa-46fa-8c29-7e6f8eeaf303",
   "metadata": {},
   "outputs": [],
   "source": [
    "control_disease = disease_label(df_controls, visits=[2], grouping='detailed')"
   ]
  },
  {
   "cell_type": "code",
   "execution_count": 90,
   "id": "fbccce93-04c5-4a2c-b761-d27740f43b49",
   "metadata": {},
   "outputs": [
    {
     "data": {
      "text/plain": [
       "irritable bowel syndrome        527\n",
       "migraine                        609\n",
       "headaches (not migraine)         80\n",
       "back problem                     59\n",
       "cervical spondylosis             54\n",
       "spine arthritis/spondylitis      87\n",
       "prolapsed disc/slipped disc     265\n",
       "disc problem                     41\n",
       "disc degeneration                75\n",
       "back pain                       501\n",
       "ankylosing spondylitis           29\n",
       "psoriatic arthropathy            27\n",
       "rheumatoid arthritis            164\n",
       "synovitis                         6\n",
       "osteoarthritis                 1106\n",
       "joint pain                      273\n",
       "arthritis (nos)                 718\n",
       "joint disorder                    9\n",
       "fibromyalgia                     40\n",
       "chronic fatigue syndrome         56\n",
       "dtype: int64"
      ]
     },
     "execution_count": 90,
     "metadata": {},
     "output_type": "execute_result"
    }
   ],
   "source": [
    "control_disease.sum()"
   ]
  },
  {
   "cell_type": "code",
   "execution_count": 91,
   "id": "9ca2a801-4320-4c2a-80a1-0a29feadcee9",
   "metadata": {},
   "outputs": [],
   "source": [
    "nd_idx = control_disease.sum(axis=1)==0"
   ]
  },
  {
   "cell_type": "code",
   "execution_count": 92,
   "id": "09fc0e8c-b028-4afb-b287-e3ff9ad85012",
   "metadata": {},
   "outputs": [],
   "source": [
    "dfc_nd = df_controls[nd_idx.values]"
   ]
  },
  {
   "cell_type": "code",
   "execution_count": 93,
   "id": "e50ff6a4-19ef-429d-9a25-88517bf2d2ee",
   "metadata": {},
   "outputs": [
    {
     "data": {
      "text/plain": [
       "(22705, 2861)"
      ]
     },
     "execution_count": 93,
     "metadata": {},
     "output_type": "execute_result"
    }
   ],
   "source": [
    "dfc_nd.shape"
   ]
  },
  {
   "cell_type": "code",
   "execution_count": 94,
   "id": "c908d5a3-d708-4dbb-8033-02e63d2cd88c",
   "metadata": {},
   "outputs": [
    {
     "name": "stdout",
     "output_type": "stream",
     "text": [
      "['2956-0.0', '2956-1.0', '2956-2.0', '2956-3.0']\n"
     ]
    }
   ],
   "source": [
    "## pain group \n",
    "# either reported FM using field id 20002 or general pain for 3+ months (field id 2956)\n",
    "code = 2956\n",
    "code_root = str(code)+'-'\n",
    "cols_ls = [col for col in dfc_nd.columns if col[:len(code_root)]==code_root]\n",
    "print(cols_ls)"
   ]
  },
  {
   "cell_type": "code",
   "execution_count": 95,
   "id": "b06a22ea-cf49-4ce7-a598-dcc57dcca878",
   "metadata": {},
   "outputs": [
    {
     "name": "stdout",
     "output_type": "stream",
     "text": [
      "2956-0.0 (22680, 2861)\n",
      "2956-1.0 (22701, 2861)\n",
      "2956-2.0 (22686, 2861)\n",
      "2956-3.0 (22703, 2861)\n"
     ]
    }
   ],
   "source": [
    "nd_np = []\n",
    "for c in cols_ls:\n",
    "    df_tmp = dfc_nd[dfc_nd[c]!=1]\n",
    "    print(c, df_tmp.shape)\n",
    "    nd_np.append(df_tmp)"
   ]
  },
  {
   "cell_type": "code",
   "execution_count": 96,
   "id": "5b1cae0a-77ae-48a4-9150-7dc152035dff",
   "metadata": {},
   "outputs": [
    {
     "name": "stdout",
     "output_type": "stream",
     "text": [
      "['6159-2.0', '6159-2.1', '6159-2.2', '6159-2.3', '6159-2.4', '6159-2.5', '6159-2.6']\n"
     ]
    }
   ],
   "source": [
    "## pain group \n",
    "# either reported FM using field id 20002 or general pain for 3+ months (field id 2956)\n",
    "code = 6159\n",
    "code_root = str(code)+'-2'\n",
    "cols_ls = [col for col in dfc_nd.columns if col[:len(code_root)]==code_root]\n",
    "print(cols_ls)"
   ]
  },
  {
   "cell_type": "code",
   "execution_count": 97,
   "id": "31b17268-afaf-4887-b924-c1360aadcd89",
   "metadata": {},
   "outputs": [
    {
     "name": "stdout",
     "output_type": "stream",
     "text": [
      "6159-2.0 (17173, 2861)\n",
      "6159-2.1 (0, 2861)\n",
      "6159-2.2 (0, 2861)\n",
      "6159-2.3 (0, 2861)\n",
      "6159-2.4 (0, 2861)\n",
      "6159-2.5 (0, 2861)\n",
      "6159-2.6 (0, 2861)\n"
     ]
    }
   ],
   "source": [
    "nd_np = []\n",
    "for c in cols_ls:\n",
    "    df_tmp = dfc_nd[dfc_nd[c]==-7]\n",
    "    print(c, df_tmp.shape)\n",
    "    nd_np.append(df_tmp)"
   ]
  },
  {
   "cell_type": "code",
   "execution_count": 98,
   "id": "5b40c33e-1bf9-4e39-9a83-b73b2c8ade51",
   "metadata": {},
   "outputs": [],
   "source": [
    "df_npnd = pd.concat(nd_np)\n",
    "df_npnd.drop_duplicates(inplace=True)"
   ]
  },
  {
   "cell_type": "code",
   "execution_count": 99,
   "id": "1a84b96a-3a7b-47f8-9e7b-525e8111b774",
   "metadata": {},
   "outputs": [
    {
     "data": {
      "text/plain": [
       "(17173, 2861)"
      ]
     },
     "execution_count": 99,
     "metadata": {},
     "output_type": "execute_result"
    }
   ],
   "source": [
    "df_npnd.shape"
   ]
  },
  {
   "cell_type": "code",
   "execution_count": 100,
   "id": "df88e8ca-2ee3-41d3-93ed-2ec9cf74f781",
   "metadata": {},
   "outputs": [],
   "source": [
    "# find matched controls\n",
    "from compare_control import extract_control\n",
    "df_matched = extract_control(df_control=df_npnd, df_disease=df_out, save_csv=False)"
   ]
  },
  {
   "cell_type": "code",
   "execution_count": 101,
   "id": "b00f8f49-1ace-4fd9-8081-be9613bdd083",
   "metadata": {},
   "outputs": [
    {
     "data": {
      "text/plain": [
       "618"
      ]
     },
     "execution_count": 101,
     "metadata": {},
     "output_type": "execute_result"
    }
   ],
   "source": [
    "len(df_matched)"
   ]
  },
  {
   "cell_type": "code",
   "execution_count": 102,
   "id": "7e71042b-a47a-446e-9b9e-6e0ce7a7a11f",
   "metadata": {},
   "outputs": [],
   "source": [
    "dfc_matched = df_npnd[df_npnd['eid'].isin(df_matched)]"
   ]
  },
  {
   "cell_type": "code",
   "execution_count": 103,
   "id": "a1de1495-8e71-4fce-b3e4-ecbb4fe5f132",
   "metadata": {},
   "outputs": [
    {
     "data": {
      "text/plain": [
       "(618, 2861)"
      ]
     },
     "execution_count": 103,
     "metadata": {},
     "output_type": "execute_result"
    }
   ],
   "source": [
    "dfc_matched.shape"
   ]
  },
  {
   "cell_type": "code",
   "execution_count": 104,
   "id": "acabb3ce-ef04-4fe1-9916-57b6d41df4f4",
   "metadata": {},
   "outputs": [],
   "source": [
    "dfc_out = extract_qs(dfc_matched, df_questionnaire=qs, visits=question_visits)"
   ]
  },
  {
   "cell_type": "code",
   "execution_count": 105,
   "id": "f6eafca6-5b97-405f-8d79-e95aefe82f7b",
   "metadata": {},
   "outputs": [],
   "source": [
    "dfc_out['label'] = 'control'"
   ]
  },
  {
   "cell_type": "code",
   "execution_count": 106,
   "id": "ac25daeb-67b7-4028-86fc-074b98dac918",
   "metadata": {},
   "outputs": [
    {
     "data": {
      "text/plain": [
       "(618, 334)"
      ]
     },
     "execution_count": 106,
     "metadata": {},
     "output_type": "execute_result"
    }
   ],
   "source": [
    "dfc_out.shape"
   ]
  },
  {
   "cell_type": "code",
   "execution_count": 111,
   "id": "83cd8f78-296b-41c2-9a62-523e3ee6672c",
   "metadata": {},
   "outputs": [],
   "source": [
    "dfc_out.to_csv('../fibro/control_subjects.csv', index=None)"
   ]
  },
  {
   "cell_type": "code",
   "execution_count": null,
   "id": "a7dc66c0-d1cf-49d5-95e3-4a9a675f44b3",
   "metadata": {},
   "outputs": [],
   "source": []
  },
  {
   "cell_type": "code",
   "execution_count": 107,
   "id": "2bbf60cd-6dcd-45c0-9a56-870af9478153",
   "metadata": {},
   "outputs": [
    {
     "data": {
      "text/plain": [
       "0.0    447\n",
       "1.0    172\n",
       "Name: 31-0.0, dtype: int64"
      ]
     },
     "execution_count": 107,
     "metadata": {},
     "output_type": "execute_result"
    }
   ],
   "source": [
    "df_out['31-0.0'].value_counts()"
   ]
  },
  {
   "cell_type": "code",
   "execution_count": 108,
   "id": "49b43d4c-7616-4ff7-85a4-ea9d2b4ba7b0",
   "metadata": {},
   "outputs": [
    {
     "data": {
      "text/plain": [
       "0.0    446\n",
       "1.0    172\n",
       "Name: 31-0.0, dtype: int64"
      ]
     },
     "execution_count": 108,
     "metadata": {},
     "output_type": "execute_result"
    }
   ],
   "source": [
    "dfc_out['31-0.0'].value_counts()"
   ]
  },
  {
   "cell_type": "code",
   "execution_count": 109,
   "id": "a60a3f82-b8dd-4024-ab05-9f26e1f17de2",
   "metadata": {},
   "outputs": [
    {
     "data": {
      "text/plain": [
       "62.79806138933764"
      ]
     },
     "execution_count": 109,
     "metadata": {},
     "output_type": "execute_result"
    }
   ],
   "source": [
    "df_out['21003-2.0'].mean()"
   ]
  },
  {
   "cell_type": "code",
   "execution_count": 110,
   "id": "6f0ce2f9-8204-4d58-b0a1-d4d3bd960a26",
   "metadata": {},
   "outputs": [
    {
     "data": {
      "text/plain": [
       "62.82686084142395"
      ]
     },
     "execution_count": 110,
     "metadata": {},
     "output_type": "execute_result"
    }
   ],
   "source": [
    "dfc_out['21003-2.0'].mean()"
   ]
  },
  {
   "cell_type": "code",
   "execution_count": null,
   "id": "2bab7f13-1417-4690-a5e2-888d7416d3ae",
   "metadata": {},
   "outputs": [],
   "source": []
  },
  {
   "cell_type": "markdown",
   "id": "8db7ab7f-e75a-404a-89a1-272c62adc985",
   "metadata": {},
   "source": [
    "#### check "
   ]
  },
  {
   "cell_type": "code",
   "execution_count": 15,
   "id": "5f89083a-c4a8-4377-a983-a0dc1dcfdf25",
   "metadata": {},
   "outputs": [],
   "source": [
    "dfc = pd.read_csv('../fibro/control_subjects.csv')\n",
    "dfp = pd.read_csv('../fibro/pain_subjects_full_labels.csv')"
   ]
  },
  {
   "cell_type": "code",
   "execution_count": 16,
   "id": "279e9a81-259a-41f8-b4d3-baffc39f4310",
   "metadata": {},
   "outputs": [
    {
     "data": {
      "text/plain": [
       "(618, 334)"
      ]
     },
     "execution_count": 16,
     "metadata": {},
     "output_type": "execute_result"
    }
   ],
   "source": [
    "dfc.shape"
   ]
  },
  {
   "cell_type": "code",
   "execution_count": 17,
   "id": "b0309611-d149-4090-89c8-50745ae04ad5",
   "metadata": {},
   "outputs": [
    {
     "data": {
      "text/plain": [
       "(619, 353)"
      ]
     },
     "execution_count": 17,
     "metadata": {},
     "output_type": "execute_result"
    }
   ],
   "source": [
    "dfp.shape"
   ]
  },
  {
   "cell_type": "code",
   "execution_count": 18,
   "id": "018546d7-5e20-4132-ac41-366c4ecfca7b",
   "metadata": {},
   "outputs": [
    {
     "data": {
      "text/plain": [
       "1001.0    156\n",
       "1002.0      9\n",
       "1003.0      5\n",
       "3004.0      1\n",
       "2003.0      1\n",
       "2004.0      1\n",
       "6.0         1\n",
       "Name: 21000-2.0, dtype: int64"
      ]
     },
     "execution_count": 18,
     "metadata": {},
     "output_type": "execute_result"
    }
   ],
   "source": [
    "dfc['21000-2.0'].value_counts()"
   ]
  },
  {
   "cell_type": "code",
   "execution_count": 19,
   "id": "47232708-bbd6-44ce-a75c-7478c0106145",
   "metadata": {},
   "outputs": [
    {
     "data": {
      "text/plain": [
       "1001.0    151\n",
       "1003.0      6\n",
       "3001.0      6\n",
       "1002.0      3\n",
       "4001.0      2\n",
       "4002.0      1\n",
       "5.0         1\n",
       "Name: 21000-2.0, dtype: int64"
      ]
     },
     "execution_count": 19,
     "metadata": {},
     "output_type": "execute_result"
    }
   ],
   "source": [
    "dfp['21000-2.0'].value_counts()"
   ]
  },
  {
   "cell_type": "code",
   "execution_count": null,
   "id": "bae76675-6186-43d9-8c66-56cde09d5455",
   "metadata": {},
   "outputs": [],
   "source": []
  },
  {
   "cell_type": "code",
   "execution_count": 20,
   "id": "f9952b87-4d3e-4aca-b451-039142c48bf5",
   "metadata": {},
   "outputs": [
    {
     "name": "stderr",
     "output_type": "stream",
     "text": [
      "/home/fs0/syzhang/.conda/envs/bbk/lib/python3.8/site-packages/IPython/core/interactiveshell.py:3165: DtypeWarning: Columns (863,865,867,869) have mixed types.Specify dtype option on import or set low_memory=False.\n",
      "  has_raised = await self.run_ast_nodes(code_ast.body, cell_name,\n"
     ]
    }
   ],
   "source": [
    "qs_path = os.path.join('..', 'funpack_cfg', 'qsidp_subjs_disease_allvisits_extended.tsv')\n",
    "df_subjects = pd.read_csv(qs_path, sep='\\t')"
   ]
  },
  {
   "cell_type": "code",
   "execution_count": 21,
   "id": "3de3ad04-ae2a-4c6a-839b-5389eb95d57c",
   "metadata": {},
   "outputs": [
    {
     "data": {
      "text/plain": [
       "Index(['eid', '26414-0.0', '26431-0.0', '26421-0.0', '26412-0.0', '26429-0.0',\n",
       "       '26413-0.0', '26430-0.0', '26420-0.0', '26411-0.0',\n",
       "       ...\n",
       "       '21023-0.0', '21027-0.0', '21035-0.0', '21048-0.0', '21052-0.0',\n",
       "       '21051-0.0', '21049-0.0', '21057-0.0', '21025-0.0', '21036-0.0'],\n",
       "      dtype='object', length=2861)"
      ]
     },
     "execution_count": 21,
     "metadata": {},
     "output_type": "execute_result"
    }
   ],
   "source": [
    "df_subjects.columns"
   ]
  },
  {
   "cell_type": "code",
   "execution_count": 23,
   "id": "499a6ff1-7053-424f-b8b7-10cd18914768",
   "metadata": {},
   "outputs": [],
   "source": [
    "from subject_select import check_field, check_count"
   ]
  },
  {
   "cell_type": "code",
   "execution_count": 28,
   "id": "346a90c9-333c-4881-b06a-3eea30ed4bf8",
   "metadata": {},
   "outputs": [
    {
     "data": {
      "text/plain": [
       "['21000-0.0']"
      ]
     },
     "execution_count": 28,
     "metadata": {},
     "output_type": "execute_result"
    }
   ],
   "source": [
    "check_field(df_subjects, 21000, visit=0)"
   ]
  },
  {
   "cell_type": "code",
   "execution_count": 33,
   "id": "0d51e820-26e7-47a6-b765-46bd75674774",
   "metadata": {},
   "outputs": [
    {
     "data": {
      "text/plain": [
       "9"
      ]
     },
     "execution_count": 33,
     "metadata": {},
     "output_type": "execute_result"
    }
   ],
   "source": [
    "df_subjects['21000-0.0'].isna().sum()"
   ]
  },
  {
   "cell_type": "code",
   "execution_count": 37,
   "id": "d18b6b5b-2800-4101-8cd7-29fea5d5be1b",
   "metadata": {},
   "outputs": [
    {
     "data": {
      "text/plain": [
       "[]"
      ]
     },
     "execution_count": 37,
     "metadata": {},
     "output_type": "execute_result"
    }
   ],
   "source": [
    "check_field(df_subjects, 10004, visit=0)"
   ]
  },
  {
   "cell_type": "code",
   "execution_count": 42,
   "id": "efda395c-f6bf-4a6a-a64c-912c87433d99",
   "metadata": {},
   "outputs": [],
   "source": [
    "sjs = pd.concat([dfp['eid'], dfc['eid']])"
   ]
  },
  {
   "cell_type": "code",
   "execution_count": 53,
   "id": "2081ee56-8bd1-4ded-84f4-860a079f3370",
   "metadata": {},
   "outputs": [],
   "source": [
    "sjs.to_csv('../fibro/subject_eids.txt', index=None, header=None)"
   ]
  },
  {
   "cell_type": "code",
   "execution_count": 54,
   "id": "259fd544-64a7-4bff-a7b8-14c00beb1f0c",
   "metadata": {},
   "outputs": [],
   "source": [
    "f = [20003,137,6154,10004,21000]"
   ]
  },
  {
   "cell_type": "code",
   "execution_count": 55,
   "id": "e98465df-7013-4f99-b84a-4951f203c6b0",
   "metadata": {},
   "outputs": [],
   "source": [
    "ff = pd.DataFrame({'field':f}, dtype=int)"
   ]
  },
  {
   "cell_type": "code",
   "execution_count": 56,
   "id": "cba5c1cf-b25a-4d77-8efe-a3e51cafdd53",
   "metadata": {},
   "outputs": [],
   "source": [
    "ff.to_csv('../fibro/extra_fields.txt', index=None, header=None)"
   ]
  },
  {
   "cell_type": "code",
   "execution_count": 57,
   "id": "379721b0-81de-4008-9332-78a9fbdd39ae",
   "metadata": {},
   "outputs": [
    {
     "data": {
      "text/html": [
       "<div>\n",
       "<style scoped>\n",
       "    .dataframe tbody tr th:only-of-type {\n",
       "        vertical-align: middle;\n",
       "    }\n",
       "\n",
       "    .dataframe tbody tr th {\n",
       "        vertical-align: top;\n",
       "    }\n",
       "\n",
       "    .dataframe thead th {\n",
       "        text-align: right;\n",
       "    }\n",
       "</style>\n",
       "<table border=\"1\" class=\"dataframe\">\n",
       "  <thead>\n",
       "    <tr style=\"text-align: right;\">\n",
       "      <th></th>\n",
       "      <th>field</th>\n",
       "    </tr>\n",
       "  </thead>\n",
       "  <tbody>\n",
       "    <tr>\n",
       "      <th>0</th>\n",
       "      <td>20003</td>\n",
       "    </tr>\n",
       "    <tr>\n",
       "      <th>1</th>\n",
       "      <td>137</td>\n",
       "    </tr>\n",
       "    <tr>\n",
       "      <th>2</th>\n",
       "      <td>6154</td>\n",
       "    </tr>\n",
       "    <tr>\n",
       "      <th>3</th>\n",
       "      <td>10004</td>\n",
       "    </tr>\n",
       "    <tr>\n",
       "      <th>4</th>\n",
       "      <td>21000</td>\n",
       "    </tr>\n",
       "  </tbody>\n",
       "</table>\n",
       "</div>"
      ],
      "text/plain": [
       "   field\n",
       "0  20003\n",
       "1    137\n",
       "2   6154\n",
       "3  10004\n",
       "4  21000"
      ]
     },
     "execution_count": 57,
     "metadata": {},
     "output_type": "execute_result"
    }
   ],
   "source": [
    "ff"
   ]
  },
  {
   "cell_type": "markdown",
   "id": "768c9ffd-9eaf-4dc6-8601-943743d53e04",
   "metadata": {},
   "source": [
    "#### check how many have imaging"
   ]
  },
  {
   "cell_type": "code",
   "execution_count": 3,
   "id": "b31dbc37-5ad4-46b5-86fc-82c274e69992",
   "metadata": {},
   "outputs": [],
   "source": [
    "dff_check = pd.read_csv('../fibro/pain_subjects.csv')"
   ]
  },
  {
   "cell_type": "code",
   "execution_count": 5,
   "id": "57d34e67-d816-443b-a43e-37328c058f94",
   "metadata": {},
   "outputs": [
    {
     "data": {
      "text/plain": [
       "(619, 334)"
      ]
     },
     "execution_count": 5,
     "metadata": {},
     "output_type": "execute_result"
    }
   ],
   "source": [
    "dff_check.shape"
   ]
  },
  {
   "cell_type": "code",
   "execution_count": 6,
   "id": "d72017b6-03b0-4f7e-b03e-106575b3e95a",
   "metadata": {},
   "outputs": [],
   "source": [
    "dff_check2 = pd.read_csv('../fibro/control_subjects.csv')"
   ]
  },
  {
   "cell_type": "code",
   "execution_count": 7,
   "id": "ba9a805c-69d8-4b26-b413-a0071e36061c",
   "metadata": {},
   "outputs": [
    {
     "data": {
      "text/plain": [
       "(618, 334)"
      ]
     },
     "execution_count": 7,
     "metadata": {},
     "output_type": "execute_result"
    }
   ],
   "source": [
    "dff_check2.shape"
   ]
  },
  {
   "cell_type": "code",
   "execution_count": null,
   "id": "25067b20-6967-4cb3-a6f0-619ab09d0c36",
   "metadata": {},
   "outputs": [],
   "source": []
  }
 ],
 "metadata": {
  "kernelspec": {
   "display_name": "Python 3",
   "language": "python",
   "name": "python3"
  },
  "language_info": {
   "codemirror_mode": {
    "name": "ipython",
    "version": 3
   },
   "file_extension": ".py",
   "mimetype": "text/x-python",
   "name": "python",
   "nbconvert_exporter": "python",
   "pygments_lexer": "ipython3",
   "version": "3.8.8"
  }
 },
 "nbformat": 4,
 "nbformat_minor": 5
}
