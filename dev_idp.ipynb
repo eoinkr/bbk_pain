{
 "cells": [
  {
   "cell_type": "markdown",
   "id": "occupied-rover",
   "metadata": {},
   "source": [
    "### dev idp"
   ]
  },
  {
   "cell_type": "code",
   "execution_count": 1,
   "id": "pediatric-colleague",
   "metadata": {},
   "outputs": [],
   "source": [
    "import os\n",
    "import numpy as np\n",
    "import pandas as pd"
   ]
  },
  {
   "cell_type": "markdown",
   "id": "entitled-nevada",
   "metadata": {},
   "source": [
    "#### download code and field from bbk web"
   ]
  },
  {
   "cell_type": "code",
   "execution_count": 2,
   "id": "3a03ba4c-eb81-4248-a367-2093bcbc1c85",
   "metadata": {},
   "outputs": [],
   "source": [
    "dfs = pd.read_html('https://biobank.ctsu.ox.ac.uk/crystal/label.cgi?id=154')\n",
    "\n",
    "df = dfs[0]\n",
    "\n",
    "df.rename({'Field ID': 'code', 'Description': 'Field title'}, axis='columns', inplace=True)\n",
    "\n",
    "df.to_csv('./bbk_codes/pain_questions.csv', index=None)"
   ]
  },
  {
   "cell_type": "code",
   "execution_count": 4,
   "id": "0b35571f-5850-4531-8fed-b06538afe099",
   "metadata": {},
   "outputs": [],
   "source": [
    "dff = pd.read_csv('./bbk_codes/pain_questions.csv')"
   ]
  },
  {
   "cell_type": "code",
   "execution_count": 10,
   "id": "884ca7b2-d8d2-4adc-8856-eb2b165e38ff",
   "metadata": {},
   "outputs": [],
   "source": [
    "dff['code'].to_csv('./bbk_codes/pain_questions_code.csv', index=None, header=None)"
   ]
  },
  {
   "cell_type": "code",
   "execution_count": 9,
   "id": "62bd3e29-dbb8-41a7-b08c-e5ca17bf2ed8",
   "metadata": {},
   "outputs": [
    {
     "name": "stdout",
     "output_type": "stream",
     "text": [
      "[120000, 120001, 120002, 120003, 120004, 120005, 120006, 120007, 120008, 120009, 120010, 120011, 120012, 120013, 120014, 120015, 120016, 120017, 120018, 120019, 120020, 120021, 120022, 120023, 120024, 120025, 120026, 120027, 120028, 120029, 120030, 120031, 120032, 120033, 120034, 120035, 120036, 120037, 120038, 120039, 120040, 120041, 120042, 120043, 120044, 120045, 120046, 120047, 120048, 120049, 120050, 120051, 120052, 120053, 120054, 120055, 120056, 120057, 120058, 120059, 120060, 120061, 120062, 120063, 120064, 120065, 120066, 120067, 120068, 120069, 120070, 120071, 120072, 120073, 120074, 120075, 120076, 120077, 120078, 120079, 120080, 120081, 120082, 120083, 120084, 120085, 120086, 120087, 120088, 120089, 120090, 120091, 120092, 120093, 120094, 120095, 120096, 120097, 120098, 120099, 120100, 120101, 120102, 120103, 120104, 120105, 120106, 120107, 120108, 120109, 120110, 120111, 120112, 120113, 120114, 120115, 120116, 120117, 120118, 120119, 120120, 120121, 120122, 120123, 120124, 120125, 120126, 120127, 120128]\n"
     ]
    }
   ],
   "source": [
    "print(dff['code'].tolist())"
   ]
  },
  {
   "cell_type": "code",
   "execution_count": 2,
   "id": "worth-cincinnati",
   "metadata": {},
   "outputs": [],
   "source": [
    "dfs = pd.read_html('https://biobank.ndph.ox.ac.uk/ukb/label.cgi?id=1101')\n",
    "\n",
    "df = dfs[0]\n",
    "\n",
    "df.rename({'Field ID': 'code', 'Description': 'Field title'}, axis='columns', inplace=True)\n",
    "\n",
    "df.to_csv('./bbk_codes/idp_fast_code.csv', index=None)"
   ]
  },
  {
   "cell_type": "code",
   "execution_count": 3,
   "id": "turned-carter",
   "metadata": {},
   "outputs": [],
   "source": [
    "dfs = pd.read_html('https://biobank.ndph.ox.ac.uk/ukb/label.cgi?id=109')\n",
    "\n",
    "df = dfs[0]\n",
    "\n",
    "df.rename({'Field ID': 'code', 'Description': 'Field title'}, axis='columns', inplace=True)\n",
    "\n",
    "df.to_csv('./bbk_codes/idp_t2star_code.csv', index=None)"
   ]
  },
  {
   "cell_type": "code",
   "execution_count": 4,
   "id": "designed-powder",
   "metadata": {},
   "outputs": [],
   "source": [
    "dfs = pd.read_html('https://biobank.ndph.ox.ac.uk/ukb/label.cgi?id=134')\n",
    "\n",
    "df = dfs[0]\n",
    "\n",
    "df.rename({'Field ID': 'code', 'Description': 'Field title'}, axis='columns', inplace=True)\n",
    "\n",
    "df.to_csv('./bbk_codes/idp_dmri_code.csv', index=None)"
   ]
  },
  {
   "cell_type": "code",
   "execution_count": 5,
   "id": "moved-ghost",
   "metadata": {},
   "outputs": [],
   "source": [
    "dfs = pd.read_html('https://biobank.ndph.ox.ac.uk/ukb/label.cgi?id=135')\n",
    "\n",
    "df = dfs[0]\n",
    "\n",
    "df.rename({'Field ID': 'code', 'Description': 'Field title'}, axis='columns', inplace=True)\n",
    "\n",
    "df.to_csv('./bbk_codes/idp_dmriweighted_code.csv', index=None)"
   ]
  },
  {
   "cell_type": "markdown",
   "id": "acute-uganda",
   "metadata": {},
   "source": [
    "#### old ones"
   ]
  },
  {
   "cell_type": "code",
   "execution_count": 13,
   "id": "potential-digest",
   "metadata": {},
   "outputs": [],
   "source": [
    "dfs = pd.read_html('https://biobank.ndph.ox.ac.uk/ukb/label.cgi?id=190')\n",
    "\n",
    "df = dfs[0]\n",
    "\n",
    "df.rename({'Field ID': 'code', 'Description': 'Field title'}, axis='columns', inplace=True)\n",
    "\n",
    "df.to_csv('./bbk_codes/idp_subcorticalseg_code.csv', index=None)"
   ]
  },
  {
   "cell_type": "code",
   "execution_count": 16,
   "id": "moving-synthesis",
   "metadata": {},
   "outputs": [],
   "source": [
    "dfs = pd.read_html('https://biobank.ndph.ox.ac.uk/ukb/label.cgi?id=195')\n",
    "\n",
    "df = dfs[0]\n",
    "\n",
    "df.rename({'Field ID': 'code', 'Description': 'Field title'}, axis='columns', inplace=True)\n",
    "\n",
    "df.to_csv('./bbk_codes/idp_whiteseg_code.csv', index=None)"
   ]
  },
  {
   "cell_type": "code",
   "execution_count": 20,
   "id": "horizontal-postcard",
   "metadata": {},
   "outputs": [],
   "source": [
    "dfs = pd.read_html('https://biobank.ndph.ox.ac.uk/ukb/label.cgi?id=197')\n",
    "\n",
    "df = dfs[0]\n",
    "\n",
    "df.rename({'Field ID': 'code', 'Description': 'Field title'}, axis='columns', inplace=True)\n",
    "\n",
    "df.to_csv('./bbk_codes/idp_whiteseg_code.csv', index=None)"
   ]
  },
  {
   "cell_type": "code",
   "execution_count": 22,
   "id": "selective-timber",
   "metadata": {},
   "outputs": [],
   "source": [
    "dfs = pd.read_html('https://biobank.ndph.ox.ac.uk/ukb/label.cgi?id=1101')\n",
    "\n",
    "df = dfs[0]\n",
    "\n",
    "df.rename({'Field ID': 'code', 'Description': 'Field title'}, axis='columns', inplace=True)\n",
    "\n",
    "df.to_csv('./bbk_codes/idp_greyseg_code.csv', index=None)"
   ]
  },
  {
   "cell_type": "code",
   "execution_count": 24,
   "id": "amber-effect",
   "metadata": {},
   "outputs": [],
   "source": [
    "dfs = pd.read_html('https://biobank.ndph.ox.ac.uk/ukb/label.cgi?id=191')\n",
    "\n",
    "df = dfs[0]\n",
    "\n",
    "df.rename({'Field ID': 'code', 'Description': 'Field title'}, axis='columns', inplace=True)\n",
    "\n",
    "df.to_csv('./bbk_codes/idp_subroiseg_code.csv', index=None)"
   ]
  },
  {
   "cell_type": "code",
   "execution_count": 26,
   "id": "becoming-extraction",
   "metadata": {},
   "outputs": [],
   "source": [
    "dfs = pd.read_html('https://biobank.ndph.ox.ac.uk/ukb/label.cgi?id=196')\n",
    "\n",
    "df = dfs[0]\n",
    "\n",
    "df.rename({'Field ID': 'code', 'Description': 'Field title'}, axis='columns', inplace=True)\n",
    "\n",
    "df.to_csv('./bbk_codes/idp_dktseg_code.csv', index=None)"
   ]
  },
  {
   "cell_type": "code",
   "execution_count": 27,
   "id": "included-affiliate",
   "metadata": {},
   "outputs": [
    {
     "data": {
      "text/html": [
       "<div>\n",
       "<style scoped>\n",
       "    .dataframe tbody tr th:only-of-type {\n",
       "        vertical-align: middle;\n",
       "    }\n",
       "\n",
       "    .dataframe tbody tr th {\n",
       "        vertical-align: top;\n",
       "    }\n",
       "\n",
       "    .dataframe thead th {\n",
       "        text-align: right;\n",
       "    }\n",
       "</style>\n",
       "<table border=\"1\" class=\"dataframe\">\n",
       "  <thead>\n",
       "    <tr style=\"text-align: right;\">\n",
       "      <th></th>\n",
       "      <th>code</th>\n",
       "      <th>Field title</th>\n",
       "    </tr>\n",
       "  </thead>\n",
       "  <tbody>\n",
       "    <tr>\n",
       "      <th>0</th>\n",
       "      <td>27143</td>\n",
       "      <td>Area of caudalanteriorcingulate (left hemisphere)</td>\n",
       "    </tr>\n",
       "    <tr>\n",
       "      <th>1</th>\n",
       "      <td>27236</td>\n",
       "      <td>Area of caudalanteriorcingulate (right hemisph...</td>\n",
       "    </tr>\n",
       "    <tr>\n",
       "      <th>2</th>\n",
       "      <td>27144</td>\n",
       "      <td>Area of caudalmiddlefrontal (left hemisphere)</td>\n",
       "    </tr>\n",
       "    <tr>\n",
       "      <th>3</th>\n",
       "      <td>27237</td>\n",
       "      <td>Area of caudalmiddlefrontal (right hemisphere)</td>\n",
       "    </tr>\n",
       "    <tr>\n",
       "      <th>4</th>\n",
       "      <td>27145</td>\n",
       "      <td>Area of cuneus (left hemisphere)</td>\n",
       "    </tr>\n",
       "    <tr>\n",
       "      <th>...</th>\n",
       "      <td>...</td>\n",
       "      <td>...</td>\n",
       "    </tr>\n",
       "    <tr>\n",
       "      <th>181</th>\n",
       "      <td>27325</td>\n",
       "      <td>Volume of superiortemporal (right hemisphere)</td>\n",
       "    </tr>\n",
       "    <tr>\n",
       "      <th>182</th>\n",
       "      <td>27233</td>\n",
       "      <td>Volume of supramarginal (left hemisphere)</td>\n",
       "    </tr>\n",
       "    <tr>\n",
       "      <th>183</th>\n",
       "      <td>27326</td>\n",
       "      <td>Volume of supramarginal (right hemisphere)</td>\n",
       "    </tr>\n",
       "    <tr>\n",
       "      <th>184</th>\n",
       "      <td>27234</td>\n",
       "      <td>Volume of transversetemporal (left hemisphere)</td>\n",
       "    </tr>\n",
       "    <tr>\n",
       "      <th>185</th>\n",
       "      <td>27327</td>\n",
       "      <td>Volume of transversetemporal (right hemisphere)</td>\n",
       "    </tr>\n",
       "  </tbody>\n",
       "</table>\n",
       "<p>186 rows × 2 columns</p>\n",
       "</div>"
      ],
      "text/plain": [
       "      code                                        Field title\n",
       "0    27143  Area of caudalanteriorcingulate (left hemisphere)\n",
       "1    27236  Area of caudalanteriorcingulate (right hemisph...\n",
       "2    27144      Area of caudalmiddlefrontal (left hemisphere)\n",
       "3    27237     Area of caudalmiddlefrontal (right hemisphere)\n",
       "4    27145                   Area of cuneus (left hemisphere)\n",
       "..     ...                                                ...\n",
       "181  27325      Volume of superiortemporal (right hemisphere)\n",
       "182  27233          Volume of supramarginal (left hemisphere)\n",
       "183  27326         Volume of supramarginal (right hemisphere)\n",
       "184  27234     Volume of transversetemporal (left hemisphere)\n",
       "185  27327    Volume of transversetemporal (right hemisphere)\n",
       "\n",
       "[186 rows x 2 columns]"
      ]
     },
     "execution_count": 27,
     "metadata": {},
     "output_type": "execute_result"
    }
   ],
   "source": [
    "df"
   ]
  },
  {
   "cell_type": "markdown",
   "id": "confidential-salvation",
   "metadata": {},
   "source": [
    "#### adding idps to clinical varaibles"
   ]
  },
  {
   "cell_type": "code",
   "execution_count": 5,
   "id": "revolutionary-window",
   "metadata": {},
   "outputs": [],
   "source": [
    "clinical = pd.read_csv('../funpack_cfg/clinical_variables.txt', header=None)"
   ]
  },
  {
   "cell_type": "code",
   "execution_count": 17,
   "id": "certified-serum",
   "metadata": {},
   "outputs": [
    {
     "data": {
      "text/plain": [
       "(2439, 1)"
      ]
     },
     "execution_count": 17,
     "metadata": {},
     "output_type": "execute_result"
    }
   ],
   "source": [
    "clinical.shape"
   ]
  },
  {
   "cell_type": "code",
   "execution_count": 20,
   "id": "dominican-terminal",
   "metadata": {},
   "outputs": [
    {
     "data": {
      "text/plain": [
       "(1039, 1)"
      ]
     },
     "execution_count": 20,
     "metadata": {},
     "output_type": "execute_result"
    }
   ],
   "source": [
    "clinical.drop_duplicates().shape"
   ]
  },
  {
   "cell_type": "code",
   "execution_count": 9,
   "id": "parallel-fiber",
   "metadata": {},
   "outputs": [],
   "source": [
    "# load all idp code\n",
    "df_ls = []\n",
    "for f in os.listdir('./bbk_codes/'):\n",
    "    if f.startswith('idp_'):\n",
    "        fpath = os.path.join('./bbk_codes', f)\n",
    "        df_tmp = pd.read_csv(fpath)\n",
    "        df_ls.append(df_tmp)"
   ]
  },
  {
   "cell_type": "code",
   "execution_count": 10,
   "id": "satisfied-nashville",
   "metadata": {},
   "outputs": [],
   "source": [
    "df_idp = pd.concat(df_ls)"
   ]
  },
  {
   "cell_type": "code",
   "execution_count": 13,
   "id": "czech-probability",
   "metadata": {},
   "outputs": [],
   "source": [
    "clinical_idp = pd.concat([clinical, df_idp['code']])"
   ]
  },
  {
   "cell_type": "code",
   "execution_count": 22,
   "id": "pharmaceutical-visitor",
   "metadata": {},
   "outputs": [],
   "source": [
    "df_clinical_idp = clinical_idp.drop_duplicates()"
   ]
  },
  {
   "cell_type": "code",
   "execution_count": 23,
   "id": "dental-requirement",
   "metadata": {},
   "outputs": [
    {
     "data": {
      "text/plain": [
       "(1974, 1)"
      ]
     },
     "execution_count": 23,
     "metadata": {},
     "output_type": "execute_result"
    }
   ],
   "source": [
    "df_clinical_idp.shape"
   ]
  },
  {
   "cell_type": "code",
   "execution_count": 24,
   "id": "nominated-jurisdiction",
   "metadata": {},
   "outputs": [],
   "source": [
    "df_clinical_idp.to_csv('../funpack_cfg/clinical_idp_variables.txt', header=None, index=None)"
   ]
  },
  {
   "cell_type": "markdown",
   "id": "closing-dealer",
   "metadata": {},
   "source": [
    "#### check idps"
   ]
  },
  {
   "cell_type": "code",
   "execution_count": 2,
   "id": "universal-london",
   "metadata": {},
   "outputs": [],
   "source": [
    "from clean_questions import * \n",
    "from compare_control import *"
   ]
  },
  {
   "cell_type": "code",
   "execution_count": 3,
   "id": "personalized-brooklyn",
   "metadata": {
    "tags": []
   },
   "outputs": [],
   "source": [
    "# patient/matched control classify\n",
    "idp_ls = ['dmri','dmriweighted','fast','subcorticalvol','t1vols','t2star','t2weighted','taskfmri']\n",
    "questionnaire = None\n",
    "visits = [2]\n",
    "# loop through combinations\n",
    "# for idp in idp_ls:\n",
    "# idp = 'all'\n",
    "#     dff_imputed = load_patient_matched(questionnaire=questionnaire, idp=idp, \n",
    "#                                    question_visits=visits, imputed=False)\n",
    "#     plt.subplots()\n",
    "#     dff_imputed.isna().sum().plot(kind='hist')"
   ]
  },
  {
   "cell_type": "code",
   "execution_count": 70,
   "id": "intensive-charm",
   "metadata": {},
   "outputs": [
    {
     "name": "stderr",
     "output_type": "stream",
     "text": [
      "/home/fs0/syzhang/.conda/envs/biobank/lib/python3.9/site-packages/IPython/core/interactiveshell.py:3437: DtypeWarning: Columns (2446,2447,2448,2449,2450,2451,2452,2453,2454,2455,2456,2457,2458,2459,2460,2461,2462,2463,2464,2465,2500,2501,2502,2503,2504,2505,2506,2507,2508,2509,2561,2562,2563,2564,2565,2566,2567,2568,2569,2570,2571,2572,2573,2574,2575,2576,2577,2578,2579,2580,2581,2582,2583,2584,2585,2586,2587,2588,2589,2590,2591,2592,2593,2594,2595,2596,2597,2598,2599,2600,2601,2602,2603,2604,2605,2606,2607,2608,2609,2610,2611,2612,2613,2614,2615,2616,2617,2618,2619,2620,2621,2622,2623,2624,2625,2626,2627,2628,2629,2740,2741,2742,2743,2744,2745,2746,2747,2748,2751,2821,2822,2823,2824,2825,2826,2827,2828,2829,2830,2831,2832,2833,2834,2835,2836,2837,2838,2839,2840,2841,2842,2843,2844,2845,2846,2847,2848,2849,2850,2851,2852,2853,2854,2855,2856,2857,2858,2859,2860,2861,2862,2863,2864,2865,2866,2867,2868,2869,2870,2871,2872,2873,2874,2875,2876,2877,2878,2879,2880,2881,2882,2883,2884,2885,2886,2887,2888,2889,3002,3003,3004,3005,3006,3007,3008,3009,3010,3011) have mixed types.Specify dtype option on import or set low_memory=False.\n",
      "  exec(code_obj, self.user_global_ns, self.user_ns)\n",
      "/home/fs0/syzhang/.conda/envs/biobank/lib/python3.9/site-packages/IPython/core/interactiveshell.py:3357: DtypeWarning: Columns (2441,2442,2443,2444,2445,2446,2447,2448,2449,2450,2451,2452,2453,2500,2501,2502,2503,2504,2505,2506,2507,2545,2546,2547,2548,2549,2550,2551,2552,2553,2554,2555,2556,2557,2558,2559,2560,2561,2562,2563,2564,2565,2566,2567,2568,2569,2570,2571,2572,2573,2574,2575,2576,2577,2578,2579,2580,2740,2741,2742,2743,2744,2745,2746,2747,2748,2749,2750,2751,2805,2806,2807,2808,2809,2810,2811,2812,2813,2814,2815,2816,2817,2818,2819,2820,2821,2822,2823,2824,2825,2826,2827,2828,2829,2830,2831,2832,2833,2834,2835,2836,2837,2838,2839,2840,3002,3003,3004,3005,3006,3007,3008,3009,3010,3011) have mixed types.Specify dtype option on import or set low_memory=False.\n",
      "  if (await self.run_code(code, result,  async_=asy)):\n"
     ]
    },
    {
     "name": "stdout",
     "output_type": "stream",
     "text": [
      "Patients=4342, controls=4376\n"
     ]
    }
   ],
   "source": [
    "dff_imputed = load_patient_matched(questionnaire=questionnaire, idp=['fast'], \n",
    "                                   question_visits=visits, imputed=False)"
   ]
  },
  {
   "cell_type": "code",
   "execution_count": 71,
   "id": "brown-edgar",
   "metadata": {},
   "outputs": [
    {
     "data": {
      "text/plain": [
       "(8718, 141)"
      ]
     },
     "execution_count": 71,
     "metadata": {},
     "output_type": "execute_result"
    }
   ],
   "source": [
    "dff_imputed.shape"
   ]
  },
  {
   "cell_type": "code",
   "execution_count": 51,
   "id": "representative-packet",
   "metadata": {},
   "outputs": [
    {
     "data": {
      "text/plain": [
       "Index(['25877-2.0', '25795-2.0', '25862-2.0', '25850-2.0', '25793-2.0',\n",
       "       '25830-2.0', '25913-2.0', '25842-2.0', '25903-2.0', '25855-2.0',\n",
       "       ...\n",
       "       '25853-2.0', '25831-2.0', '25893-2.0', '25867-2.0', '25883-2.0',\n",
       "       '25856-2.0', '25885-2.0', '25906-2.0', '25870-2.0', 'label'],\n",
       "      dtype='object', length=141)"
      ]
     },
     "execution_count": 51,
     "metadata": {},
     "output_type": "execute_result"
    }
   ],
   "source": [
    "dff_imputed.columns"
   ]
  },
  {
   "cell_type": "code",
   "execution_count": 52,
   "id": "advisory-organizer",
   "metadata": {},
   "outputs": [
    {
     "name": "stdout",
     "output_type": "stream",
     "text": [
      "25877-2.0    16\n",
      "25795-2.0    16\n",
      "25862-2.0    16\n",
      "25850-2.0    16\n",
      "25793-2.0    16\n",
      "             ..\n",
      "25856-2.0    16\n",
      "25885-2.0    16\n",
      "25906-2.0    16\n",
      "25870-2.0    16\n",
      "label         0\n",
      "Length: 141, dtype: int64\n"
     ]
    }
   ],
   "source": [
    "tmp = dff_imputed.isna().sum()\n",
    "print(tmp)"
   ]
  },
  {
   "cell_type": "code",
   "execution_count": 53,
   "id": "unknown-respect",
   "metadata": {},
   "outputs": [
    {
     "data": {
      "text/plain": [
       "'25877-2.0'"
      ]
     },
     "execution_count": 53,
     "metadata": {},
     "output_type": "execute_result"
    }
   ],
   "source": [
    "na_col = tmp.index[0]\n",
    "na_col"
   ]
  },
  {
   "cell_type": "code",
   "execution_count": 54,
   "id": "practical-bottom",
   "metadata": {},
   "outputs": [
    {
     "data": {
      "text/plain": [
       "<AxesSubplot:ylabel='Frequency'>"
      ]
     },
     "execution_count": 54,
     "metadata": {},
     "output_type": "execute_result"
    },
    {
     "data": {
      "image/png": "[encoded data removed]",
      "text/plain": [
       "<Figure size 432x288 with 1 Axes>"
      ]
     },
     "metadata": {
      "needs_background": "light"
     },
     "output_type": "display_data"
    }
   ],
   "source": [
    "dff_imputed[na_col].plot(kind='hist')"
   ]
  },
  {
   "cell_type": "code",
   "execution_count": 55,
   "id": "central-mattress",
   "metadata": {},
   "outputs": [],
   "source": [
    "dff_im = impute_qs(dff_imputed, nan_percent=0., freq_fill='median')\n",
    "# dff_im = replace_freq(dff_imputed, use='median')"
   ]
  },
  {
   "cell_type": "code",
   "execution_count": 56,
   "id": "elegant-increase",
   "metadata": {},
   "outputs": [
    {
     "data": {
      "text/plain": [
       "<AxesSubplot:ylabel='Frequency'>"
      ]
     },
     "execution_count": 56,
     "metadata": {},
     "output_type": "execute_result"
    },
    {
     "data": {
      "image/png": "[encoded data removed]",
      "text/plain": [
       "<Figure size 432x288 with 1 Axes>"
      ]
     },
     "metadata": {
      "needs_background": "light"
     },
     "output_type": "display_data"
    }
   ],
   "source": [
    "dff_im[na_col].plot(kind='hist')"
   ]
  },
  {
   "cell_type": "code",
   "execution_count": 57,
   "id": "generous-interface",
   "metadata": {},
   "outputs": [],
   "source": [
    "dff_dna = dff_imputed.dropna(how='any')"
   ]
  },
  {
   "cell_type": "code",
   "execution_count": 58,
   "id": "warming-outreach",
   "metadata": {},
   "outputs": [
    {
     "data": {
      "text/plain": [
       "0.9981647166781372"
      ]
     },
     "execution_count": 58,
     "metadata": {},
     "output_type": "execute_result"
    }
   ],
   "source": [
    "dff_dna.shape[0]/dff_imputed.shape[0]"
   ]
  },
  {
   "cell_type": "code",
   "execution_count": 47,
   "id": "fitting-cholesterol",
   "metadata": {},
   "outputs": [
    {
     "data": {
      "text/plain": [
       "3620"
      ]
     },
     "execution_count": 47,
     "metadata": {},
     "output_type": "execute_result"
    }
   ],
   "source": [
    "dff_dna['label'].sum()"
   ]
  },
  {
   "cell_type": "code",
   "execution_count": 59,
   "id": "billion-orientation",
   "metadata": {},
   "outputs": [],
   "source": [
    "idp_ls = ['dmri','dmriweighted','fast','subcorticalvol','t1vols','t2star','t2weighted','taskfmri']"
   ]
  },
  {
   "cell_type": "code",
   "execution_count": 60,
   "id": "blond-thirty",
   "metadata": {},
   "outputs": [],
   "source": [
    "import itertools"
   ]
  },
  {
   "cell_type": "code",
   "execution_count": 62,
   "id": "wound-transaction",
   "metadata": {},
   "outputs": [
    {
     "data": {
      "text/plain": [
       "<itertools.combinations at 0x7f6122b6c720>"
      ]
     },
     "execution_count": 62,
     "metadata": {},
     "output_type": "execute_result"
    }
   ],
   "source": []
  },
  {
   "cell_type": "code",
   "execution_count": 63,
   "id": "exclusive-facing",
   "metadata": {},
   "outputs": [],
   "source": [
    "idp_sets = []\n",
    "for i in range(1, len(idp_ls)+1):\n",
    "    idp_sets.extend(itertools.combinations(idp_ls, i))"
   ]
  },
  {
   "cell_type": "code",
   "execution_count": 65,
   "id": "exposed-bowling",
   "metadata": {},
   "outputs": [
    {
     "data": {
      "text/plain": [
       "255"
      ]
     },
     "execution_count": 65,
     "metadata": {},
     "output_type": "execute_result"
    }
   ],
   "source": [
    "len(idp_sets)"
   ]
  },
  {
   "cell_type": "code",
   "execution_count": 81,
   "id": "tired-found",
   "metadata": {},
   "outputs": [],
   "source": [
    "tt = list(idp_sets[0])\n",
    "ttn = [t[:2] for t in tt]"
   ]
  },
  {
   "cell_type": "code",
   "execution_count": 82,
   "id": "framed-interim",
   "metadata": {},
   "outputs": [
    {
     "data": {
      "text/plain": [
       "'dmri'"
      ]
     },
     "execution_count": 82,
     "metadata": {},
     "output_type": "execute_result"
    }
   ],
   "source": [
    "'+'.join(tt)"
   ]
  },
  {
   "cell_type": "code",
   "execution_count": 83,
   "id": "adopted-elephant",
   "metadata": {},
   "outputs": [
    {
     "data": {
      "text/plain": [
       "'dm'"
      ]
     },
     "execution_count": 83,
     "metadata": {},
     "output_type": "execute_result"
    }
   ],
   "source": [
    "'+'.join(ttn)"
   ]
  },
  {
   "cell_type": "code",
   "execution_count": null,
   "id": "civil-seminar",
   "metadata": {},
   "outputs": [],
   "source": []
  }
 ],
 "metadata": {
  "kernelspec": {
   "display_name": "Python 3",
   "language": "python",
   "name": "python3"
  },
  "language_info": {
   "codemirror_mode": {
    "name": "ipython",
    "version": 3
   },
   "file_extension": ".py",
   "mimetype": "text/x-python",
   "name": "python",
   "nbconvert_exporter": "python",
   "pygments_lexer": "ipython3",
   "version": "3.8.8"
  }
 },
 "nbformat": 4,
 "nbformat_minor": 5
}
