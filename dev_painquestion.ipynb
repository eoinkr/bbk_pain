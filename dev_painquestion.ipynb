{
 "cells": [
  {
   "cell_type": "markdown",
   "id": "33652feb-1989-413d-9ee3-fb5567978fb6",
   "metadata": {},
   "source": [
    "## dev pain questionnaire"
   ]
  },
  {
   "cell_type": "code",
   "execution_count": 1,
   "id": "8503adef-8204-4ed3-bd89-a62ec08aeeed",
   "metadata": {},
   "outputs": [],
   "source": [
    "import os, sys\n",
    "import numpy as np\n",
    "import pandas as pd"
   ]
  },
  {
   "cell_type": "markdown",
   "id": "5c722709-6ce4-487d-bade-8c7c26f2f119",
   "metadata": {},
   "source": [
    "#### check when imaging vs questionnaires"
   ]
  },
  {
   "cell_type": "code",
   "execution_count": 2,
   "id": "64962b08-f4fe-4ce7-91a4-a146094b175e",
   "metadata": {},
   "outputs": [],
   "source": [
    "data_dir = '/vols/Data/pain/asdahl/uk_biobank/suyi_extend/pain_questionnaire'"
   ]
  },
  {
   "cell_type": "code",
   "execution_count": 28,
   "id": "f34125d4-44f3-4e8d-84ec-7951f080c49a",
   "metadata": {},
   "outputs": [],
   "source": [
    "pq_path = os.path.join(data_dir, 'pain_questionnaire_without_condition.tsv')\n",
    "df_pq = pd.read_csv(pq_path, sep='\\t')"
   ]
  },
  {
   "cell_type": "code",
   "execution_count": 29,
   "id": "5abf3ef3-acd3-4514-a0eb-4a0f45a49753",
   "metadata": {},
   "outputs": [
    {
     "data": {
      "text/plain": [
       "(26485, 148)"
      ]
     },
     "execution_count": 29,
     "metadata": {},
     "output_type": "execute_result"
    }
   ],
   "source": [
    "df_pq.shape"
   ]
  },
  {
   "cell_type": "code",
   "execution_count": 30,
   "id": "b0037116-5ffe-424a-a163-bdd27c06c760",
   "metadata": {},
   "outputs": [
    {
     "data": {
      "text/plain": [
       "Index(['eid', '120000-0.0', '120001-0.0', '120002-0.0', '120003-0.0',\n",
       "       '120004-0.0', '120005-0.0', '120006-0.0', '120007-0.0', '120008-0.0',\n",
       "       ...\n",
       "       '120119-0.0', '120120-0.0', '120121-0.0', '120122-0.0', '120123-0.0',\n",
       "       '120124-0.0', '120125-0.0', '120126-0.0', '120127-0.0', '120128-0.0'],\n",
       "      dtype='object', length=148)"
      ]
     },
     "execution_count": 30,
     "metadata": {},
     "output_type": "execute_result"
    }
   ],
   "source": [
    "df_pq.columns"
   ]
  },
  {
   "cell_type": "code",
   "execution_count": 32,
   "id": "a123d7fe-1f0d-467b-bc59-0ae6cf402dac",
   "metadata": {},
   "outputs": [],
   "source": [
    "df_pq = df_pq.set_index('eid')"
   ]
  },
  {
   "cell_type": "code",
   "execution_count": 58,
   "id": "72b00f2c-41f8-4abd-a545-0943f1403b64",
   "metadata": {},
   "outputs": [
    {
     "data": {
      "text/plain": [
       "eid\n",
       "1000025    2019-01-31T15:40:44\n",
       "1000108                    NaN\n",
       "1000149    2019-05-23T17:08:51\n",
       "1000441    2019-02-27T08:53:33\n",
       "1000755    2019-02-07T18:48:26\n",
       "                  ...         \n",
       "6023887                    NaN\n",
       "6023923    2019-02-08T17:15:42\n",
       "6024480                    NaN\n",
       "6024739    2019-01-30T17:42:58\n",
       "6025233    2019-02-17T20:07:25\n",
       "Name: 120128-0.0, Length: 26485, dtype: object"
      ]
     },
     "execution_count": 58,
     "metadata": {},
     "output_type": "execute_result"
    }
   ],
   "source": [
    "df_pq['120128-0.0']"
   ]
  },
  {
   "cell_type": "code",
   "execution_count": 59,
   "id": "dfef331a-954c-4bc5-8fa8-b836e54082cb",
   "metadata": {},
   "outputs": [],
   "source": [
    "df_pq_time = pd.to_datetime(df_pq['120128-0.0'])"
   ]
  },
  {
   "cell_type": "code",
   "execution_count": 60,
   "id": "3dce05c2-7881-486a-b177-829d69648d1e",
   "metadata": {},
   "outputs": [
    {
     "data": {
      "text/plain": [
       "eid\n",
       "1000025   2019-01-31 15:40:44\n",
       "1000108                   NaT\n",
       "1000149   2019-05-23 17:08:51\n",
       "1000441   2019-02-27 08:53:33\n",
       "1000755   2019-02-07 18:48:26\n",
       "                  ...        \n",
       "6023887                   NaT\n",
       "6023923   2019-02-08 17:15:42\n",
       "6024480                   NaT\n",
       "6024739   2019-01-30 17:42:58\n",
       "6025233   2019-02-17 20:07:25\n",
       "Name: 120128-0.0, Length: 26485, dtype: datetime64[ns]"
      ]
     },
     "execution_count": 60,
     "metadata": {},
     "output_type": "execute_result"
    }
   ],
   "source": [
    "df_pq_time"
   ]
  },
  {
   "cell_type": "code",
   "execution_count": 61,
   "id": "6d4baf95-9b12-485c-a346-faeb62a4e4dd",
   "metadata": {},
   "outputs": [
    {
     "name": "stderr",
     "output_type": "stream",
     "text": [
      "/home/fs0/syzhang/.conda/envs/bbk/lib/python3.8/site-packages/IPython/core/interactiveshell.py:3165: DtypeWarning: Columns (863,869) have mixed types.Specify dtype option on import or set low_memory=False.\n",
      "  has_raised = await self.run_ast_nodes(code_ast.body, cell_name,\n"
     ]
    }
   ],
   "source": [
    "idp_path = os.path.join(data_dir, 'qsidp_subjs_control_allvisits_extended.tsv')\n",
    "df_idp = pd.read_csv(idp_path, sep='\\t')"
   ]
  },
  {
   "cell_type": "code",
   "execution_count": 62,
   "id": "360a8413-6f2a-4dc9-a6b7-335175c719f1",
   "metadata": {},
   "outputs": [],
   "source": [
    "df_idp = df_idp.set_index('eid')"
   ]
  },
  {
   "cell_type": "code",
   "execution_count": 63,
   "id": "e1842010-e0e0-480e-8f3d-35688612f6aa",
   "metadata": {},
   "outputs": [
    {
     "data": {
      "text/plain": [
       "(26490, 2860)"
      ]
     },
     "execution_count": 63,
     "metadata": {},
     "output_type": "execute_result"
    }
   ],
   "source": [
    "df_idp.shape"
   ]
  },
  {
   "cell_type": "code",
   "execution_count": 64,
   "id": "75779295-37f3-4c87-8fe9-edb9e7ac22fe",
   "metadata": {},
   "outputs": [],
   "source": [
    "df_img_time = pd.to_datetime(df_idp['53-2.0'])"
   ]
  },
  {
   "cell_type": "code",
   "execution_count": 65,
   "id": "67631ac9-011b-4b4e-a300-8695ad390458",
   "metadata": {},
   "outputs": [
    {
     "data": {
      "text/plain": [
       "eid\n",
       "1000025   2019-09-17\n",
       "1000108   2019-07-16\n",
       "1000149   2018-08-06\n",
       "1000441   2019-09-12\n",
       "1000755   2018-12-13\n",
       "             ...    \n",
       "6023887   2016-05-17\n",
       "6023923   2019-04-28\n",
       "6024480   2018-06-25\n",
       "6024739   2018-03-22\n",
       "6025233   2019-08-09\n",
       "Name: 53-2.0, Length: 26490, dtype: datetime64[ns]"
      ]
     },
     "execution_count": 65,
     "metadata": {},
     "output_type": "execute_result"
    }
   ],
   "source": [
    "df_img_time"
   ]
  },
  {
   "cell_type": "code",
   "execution_count": 68,
   "id": "84b0b59d-ed1c-460d-b8b3-e9f806a578ad",
   "metadata": {},
   "outputs": [],
   "source": [
    "df_time = pd.concat([df_img_time, df_pq_time], axis=1)"
   ]
  },
  {
   "cell_type": "code",
   "execution_count": 69,
   "id": "9ee375d2-eb55-4d02-af63-22a3c66f4b4c",
   "metadata": {},
   "outputs": [
    {
     "data": {
      "text/plain": [
       "(26490, 2)"
      ]
     },
     "execution_count": 69,
     "metadata": {},
     "output_type": "execute_result"
    }
   ],
   "source": [
    "df_time.shape"
   ]
  },
  {
   "cell_type": "code",
   "execution_count": 73,
   "id": "19228346-8020-4fd0-877e-f7149c6162dd",
   "metadata": {},
   "outputs": [],
   "source": [
    "df_tn = df_time.dropna()"
   ]
  },
  {
   "cell_type": "code",
   "execution_count": 74,
   "id": "a07f4611-cd76-43f3-921e-efb8f485ab89",
   "metadata": {},
   "outputs": [
    {
     "data": {
      "text/plain": [
       "(21634, 2)"
      ]
     },
     "execution_count": 74,
     "metadata": {},
     "output_type": "execute_result"
    }
   ],
   "source": [
    "df_tn.shape"
   ]
  },
  {
   "cell_type": "code",
   "execution_count": 75,
   "id": "110f5e94-c70e-40eb-98ad-0fc0f1daafc9",
   "metadata": {},
   "outputs": [
    {
     "data": {
      "text/plain": [
       "Index(['53-2.0', '120128-0.0'], dtype='object')"
      ]
     },
     "execution_count": 75,
     "metadata": {},
     "output_type": "execute_result"
    }
   ],
   "source": [
    "df_tn.columns"
   ]
  },
  {
   "cell_type": "code",
   "execution_count": 76,
   "id": "7d408e85-767b-46d6-aa1c-4f606fc1a012",
   "metadata": {},
   "outputs": [],
   "source": [
    "# calcualte diff\n",
    "diff = (df_tn['120128-0.0'] - df_tn['53-2.0']).values\n",
    "dff = diff.astype('int64')"
   ]
  },
  {
   "cell_type": "code",
   "execution_count": 80,
   "id": "6f670400-d089-4b1f-835e-f034e707e6fc",
   "metadata": {},
   "outputs": [],
   "source": [
    "# subjects completing pq after imaging\n",
    "df_valid = df_tn[dff>0]"
   ]
  },
  {
   "cell_type": "code",
   "execution_count": 81,
   "id": "341b591a-4a04-4564-bba5-6cd7bc27ca03",
   "metadata": {},
   "outputs": [
    {
     "data": {
      "text/plain": [
       "(16788, 2)"
      ]
     },
     "execution_count": 81,
     "metadata": {},
     "output_type": "execute_result"
    }
   ],
   "source": [
    "df_valid.shape"
   ]
  },
  {
   "cell_type": "markdown",
   "id": "ad69c989-70dc-4e83-baec-9a45e8ff37df",
   "metadata": {},
   "source": [
    "#### check pain"
   ]
  },
  {
   "cell_type": "code",
   "execution_count": 82,
   "id": "35a50e2a-8863-4ac9-8421-bda2d21a89d0",
   "metadata": {},
   "outputs": [],
   "source": [
    "from subject_select import cwp_positive"
   ]
  },
  {
   "cell_type": "code",
   "execution_count": 83,
   "id": "9d3cf948-2444-4beb-843f-c68417c3a4e3",
   "metadata": {},
   "outputs": [],
   "source": [
    "from clean_questions import disease_label"
   ]
  },
  {
   "cell_type": "code",
   "execution_count": 85,
   "id": "6fa733f1-2bbd-4ce8-b73f-28e889fd0dcb",
   "metadata": {},
   "outputs": [],
   "source": [
    "# find no pain\n",
    "df_idp['eid'] = df_idp.index\n",
    "df_idp_nopain = cwp_positive(df_idp, positive=False)"
   ]
  },
  {
   "cell_type": "code",
   "execution_count": 86,
   "id": "6e950f59-4bfe-435c-8272-36d08aeda33a",
   "metadata": {},
   "outputs": [
    {
     "data": {
      "text/plain": [
       "(19593, 2861)"
      ]
     },
     "execution_count": 86,
     "metadata": {},
     "output_type": "execute_result"
    }
   ],
   "source": [
    "df_idp_nopain.shape"
   ]
  },
  {
   "cell_type": "code",
   "execution_count": 87,
   "id": "0cca308d-a634-4401-98c8-7132754c926b",
   "metadata": {},
   "outputs": [],
   "source": [
    "# find no disease\n",
    "disease_status = disease_label(df_idp_nopain, visits=[2], grouping='detailed')"
   ]
  },
  {
   "cell_type": "code",
   "execution_count": 89,
   "id": "5bffee10-db79-444c-832d-96605d4d605e",
   "metadata": {},
   "outputs": [
    {
     "data": {
      "text/html": [
       "<div>\n",
       "<style scoped>\n",
       "    .dataframe tbody tr th:only-of-type {\n",
       "        vertical-align: middle;\n",
       "    }\n",
       "\n",
       "    .dataframe tbody tr th {\n",
       "        vertical-align: top;\n",
       "    }\n",
       "\n",
       "    .dataframe thead th {\n",
       "        text-align: right;\n",
       "    }\n",
       "</style>\n",
       "<table border=\"1\" class=\"dataframe\">\n",
       "  <thead>\n",
       "    <tr style=\"text-align: right;\">\n",
       "      <th></th>\n",
       "      <th>irritable bowel syndrome</th>\n",
       "      <th>migraine</th>\n",
       "      <th>headaches (not migraine)</th>\n",
       "      <th>back problem</th>\n",
       "      <th>cervical spondylosis</th>\n",
       "      <th>spine arthritis/spondylitis</th>\n",
       "      <th>prolapsed disc/slipped disc</th>\n",
       "      <th>disc problem</th>\n",
       "      <th>disc degeneration</th>\n",
       "      <th>back pain</th>\n",
       "      <th>ankylosing spondylitis</th>\n",
       "      <th>psoriatic arthropathy</th>\n",
       "      <th>rheumatoid arthritis</th>\n",
       "      <th>synovitis</th>\n",
       "      <th>osteoarthritis</th>\n",
       "      <th>joint pain</th>\n",
       "      <th>arthritis (nos)</th>\n",
       "      <th>joint disorder</th>\n",
       "      <th>fibromyalgia</th>\n",
       "      <th>chronic fatigue syndrome</th>\n",
       "    </tr>\n",
       "    <tr>\n",
       "      <th>eid</th>\n",
       "      <th></th>\n",
       "      <th></th>\n",
       "      <th></th>\n",
       "      <th></th>\n",
       "      <th></th>\n",
       "      <th></th>\n",
       "      <th></th>\n",
       "      <th></th>\n",
       "      <th></th>\n",
       "      <th></th>\n",
       "      <th></th>\n",
       "      <th></th>\n",
       "      <th></th>\n",
       "      <th></th>\n",
       "      <th></th>\n",
       "      <th></th>\n",
       "      <th></th>\n",
       "      <th></th>\n",
       "      <th></th>\n",
       "      <th></th>\n",
       "    </tr>\n",
       "  </thead>\n",
       "  <tbody>\n",
       "    <tr>\n",
       "      <th>1000025</th>\n",
       "      <td>0</td>\n",
       "      <td>0</td>\n",
       "      <td>0</td>\n",
       "      <td>0</td>\n",
       "      <td>0</td>\n",
       "      <td>0</td>\n",
       "      <td>0</td>\n",
       "      <td>0</td>\n",
       "      <td>0</td>\n",
       "      <td>0</td>\n",
       "      <td>0</td>\n",
       "      <td>0</td>\n",
       "      <td>0</td>\n",
       "      <td>0</td>\n",
       "      <td>0</td>\n",
       "      <td>0</td>\n",
       "      <td>0</td>\n",
       "      <td>0</td>\n",
       "      <td>0</td>\n",
       "      <td>0</td>\n",
       "    </tr>\n",
       "    <tr>\n",
       "      <th>1000108</th>\n",
       "      <td>0</td>\n",
       "      <td>0</td>\n",
       "      <td>0</td>\n",
       "      <td>0</td>\n",
       "      <td>0</td>\n",
       "      <td>0</td>\n",
       "      <td>0</td>\n",
       "      <td>0</td>\n",
       "      <td>0</td>\n",
       "      <td>0</td>\n",
       "      <td>0</td>\n",
       "      <td>0</td>\n",
       "      <td>0</td>\n",
       "      <td>0</td>\n",
       "      <td>0</td>\n",
       "      <td>0</td>\n",
       "      <td>0</td>\n",
       "      <td>0</td>\n",
       "      <td>0</td>\n",
       "      <td>0</td>\n",
       "    </tr>\n",
       "    <tr>\n",
       "      <th>1000149</th>\n",
       "      <td>0</td>\n",
       "      <td>0</td>\n",
       "      <td>0</td>\n",
       "      <td>0</td>\n",
       "      <td>0</td>\n",
       "      <td>0</td>\n",
       "      <td>0</td>\n",
       "      <td>0</td>\n",
       "      <td>0</td>\n",
       "      <td>0</td>\n",
       "      <td>0</td>\n",
       "      <td>0</td>\n",
       "      <td>0</td>\n",
       "      <td>0</td>\n",
       "      <td>0</td>\n",
       "      <td>0</td>\n",
       "      <td>0</td>\n",
       "      <td>0</td>\n",
       "      <td>0</td>\n",
       "      <td>0</td>\n",
       "    </tr>\n",
       "    <tr>\n",
       "      <th>1000441</th>\n",
       "      <td>0</td>\n",
       "      <td>0</td>\n",
       "      <td>0</td>\n",
       "      <td>0</td>\n",
       "      <td>0</td>\n",
       "      <td>0</td>\n",
       "      <td>0</td>\n",
       "      <td>0</td>\n",
       "      <td>0</td>\n",
       "      <td>0</td>\n",
       "      <td>0</td>\n",
       "      <td>0</td>\n",
       "      <td>0</td>\n",
       "      <td>0</td>\n",
       "      <td>0</td>\n",
       "      <td>1</td>\n",
       "      <td>0</td>\n",
       "      <td>0</td>\n",
       "      <td>0</td>\n",
       "      <td>0</td>\n",
       "    </tr>\n",
       "    <tr>\n",
       "      <th>1000923</th>\n",
       "      <td>0</td>\n",
       "      <td>0</td>\n",
       "      <td>0</td>\n",
       "      <td>0</td>\n",
       "      <td>0</td>\n",
       "      <td>0</td>\n",
       "      <td>0</td>\n",
       "      <td>0</td>\n",
       "      <td>0</td>\n",
       "      <td>0</td>\n",
       "      <td>0</td>\n",
       "      <td>0</td>\n",
       "      <td>0</td>\n",
       "      <td>0</td>\n",
       "      <td>0</td>\n",
       "      <td>0</td>\n",
       "      <td>0</td>\n",
       "      <td>0</td>\n",
       "      <td>0</td>\n",
       "      <td>0</td>\n",
       "    </tr>\n",
       "  </tbody>\n",
       "</table>\n",
       "</div>"
      ],
      "text/plain": [
       "         irritable bowel syndrome  migraine  headaches (not migraine)  \\\n",
       "eid                                                                     \n",
       "1000025                         0         0                         0   \n",
       "1000108                         0         0                         0   \n",
       "1000149                         0         0                         0   \n",
       "1000441                         0         0                         0   \n",
       "1000923                         0         0                         0   \n",
       "\n",
       "         back problem  cervical spondylosis  spine arthritis/spondylitis  \\\n",
       "eid                                                                        \n",
       "1000025             0                     0                            0   \n",
       "1000108             0                     0                            0   \n",
       "1000149             0                     0                            0   \n",
       "1000441             0                     0                            0   \n",
       "1000923             0                     0                            0   \n",
       "\n",
       "         prolapsed disc/slipped disc  disc problem  disc degeneration  \\\n",
       "eid                                                                     \n",
       "1000025                            0             0                  0   \n",
       "1000108                            0             0                  0   \n",
       "1000149                            0             0                  0   \n",
       "1000441                            0             0                  0   \n",
       "1000923                            0             0                  0   \n",
       "\n",
       "         back pain  ankylosing spondylitis  psoriatic arthropathy  \\\n",
       "eid                                                                 \n",
       "1000025          0                       0                      0   \n",
       "1000108          0                       0                      0   \n",
       "1000149          0                       0                      0   \n",
       "1000441          0                       0                      0   \n",
       "1000923          0                       0                      0   \n",
       "\n",
       "         rheumatoid arthritis  synovitis  osteoarthritis  joint pain  \\\n",
       "eid                                                                    \n",
       "1000025                     0          0               0           0   \n",
       "1000108                     0          0               0           0   \n",
       "1000149                     0          0               0           0   \n",
       "1000441                     0          0               0           1   \n",
       "1000923                     0          0               0           0   \n",
       "\n",
       "         arthritis (nos)  joint disorder  fibromyalgia  \\\n",
       "eid                                                      \n",
       "1000025                0               0             0   \n",
       "1000108                0               0             0   \n",
       "1000149                0               0             0   \n",
       "1000441                0               0             0   \n",
       "1000923                0               0             0   \n",
       "\n",
       "         chronic fatigue syndrome  \n",
       "eid                                \n",
       "1000025                         0  \n",
       "1000108                         0  \n",
       "1000149                         0  \n",
       "1000441                         0  \n",
       "1000923                         0  "
      ]
     },
     "execution_count": 89,
     "metadata": {},
     "output_type": "execute_result"
    }
   ],
   "source": [
    "disease_status.head()"
   ]
  },
  {
   "cell_type": "code",
   "execution_count": 90,
   "id": "489ce501-3e19-492a-922a-bbc111168a44",
   "metadata": {},
   "outputs": [],
   "source": [
    "# eid of no pain and no disease\n",
    "nd_eid = disease_status[disease_status.sum(axis=1)==0].index"
   ]
  },
  {
   "cell_type": "code",
   "execution_count": 92,
   "id": "0606113c-6682-453e-ba21-afa3f0be2505",
   "metadata": {},
   "outputs": [
    {
     "data": {
      "text/plain": [
       "Int64Index([1000025, 1000108, 1000149, 1000923, 1001121, 1001143, 1001192,\n",
       "            1001289, 1001632, 1001680,\n",
       "            ...\n",
       "            6022107, 6022257, 6022279, 6022913, 6023505, 6023724, 6023887,\n",
       "            6023923, 6024739, 6025233],\n",
       "           dtype='int64', name='eid', length=17173)"
      ]
     },
     "execution_count": 92,
     "metadata": {},
     "output_type": "execute_result"
    }
   ],
   "source": [
    "nd_eid"
   ]
  },
  {
   "cell_type": "code",
   "execution_count": 94,
   "id": "aa647af8-0a2c-4d31-8d1e-da46cf8e16f7",
   "metadata": {},
   "outputs": [],
   "source": [
    "# eid of no pain, no disease, imaging before pain questionnaire\n",
    "eid_npd_valid = nd_eid.intersection(df_valid.index)"
   ]
  },
  {
   "cell_type": "code",
   "execution_count": 95,
   "id": "f308e263-ff3b-46fa-a9f6-bf191bb9c371",
   "metadata": {},
   "outputs": [
    {
     "data": {
      "text/plain": [
       "10859"
      ]
     },
     "execution_count": 95,
     "metadata": {},
     "output_type": "execute_result"
    }
   ],
   "source": [
    "len(eid_npd_valid)"
   ]
  },
  {
   "cell_type": "code",
   "execution_count": 97,
   "id": "3e4819d0-6089-4a7d-bbe5-d3faffdd7524",
   "metadata": {},
   "outputs": [
    {
     "data": {
      "text/html": [
       "<div>\n",
       "<style scoped>\n",
       "    .dataframe tbody tr th:only-of-type {\n",
       "        vertical-align: middle;\n",
       "    }\n",
       "\n",
       "    .dataframe tbody tr th {\n",
       "        vertical-align: top;\n",
       "    }\n",
       "\n",
       "    .dataframe thead th {\n",
       "        text-align: right;\n",
       "    }\n",
       "</style>\n",
       "<table border=\"1\" class=\"dataframe\">\n",
       "  <thead>\n",
       "    <tr style=\"text-align: right;\">\n",
       "      <th></th>\n",
       "      <th>53-2.0</th>\n",
       "      <th>120128-0.0</th>\n",
       "    </tr>\n",
       "    <tr>\n",
       "      <th>eid</th>\n",
       "      <th></th>\n",
       "      <th></th>\n",
       "    </tr>\n",
       "  </thead>\n",
       "  <tbody>\n",
       "    <tr>\n",
       "      <th>1000149</th>\n",
       "      <td>2018-08-06</td>\n",
       "      <td>2019-05-23 17:08:51</td>\n",
       "    </tr>\n",
       "    <tr>\n",
       "      <th>1001143</th>\n",
       "      <td>2016-01-30</td>\n",
       "      <td>2019-01-30 11:08:20</td>\n",
       "    </tr>\n",
       "    <tr>\n",
       "      <th>1001192</th>\n",
       "      <td>2017-07-25</td>\n",
       "      <td>2019-01-24 19:54:36</td>\n",
       "    </tr>\n",
       "    <tr>\n",
       "      <th>1001289</th>\n",
       "      <td>2017-08-18</td>\n",
       "      <td>2019-02-13 18:32:34</td>\n",
       "    </tr>\n",
       "    <tr>\n",
       "      <th>1002039</th>\n",
       "      <td>2015-05-08</td>\n",
       "      <td>2019-01-22 15:31:21</td>\n",
       "    </tr>\n",
       "  </tbody>\n",
       "</table>\n",
       "</div>"
      ],
      "text/plain": [
       "            53-2.0          120128-0.0\n",
       "eid                                   \n",
       "1000149 2018-08-06 2019-05-23 17:08:51\n",
       "1001143 2016-01-30 2019-01-30 11:08:20\n",
       "1001192 2017-07-25 2019-01-24 19:54:36\n",
       "1001289 2017-08-18 2019-02-13 18:32:34\n",
       "1002039 2015-05-08 2019-01-22 15:31:21"
      ]
     },
     "execution_count": 97,
     "metadata": {},
     "output_type": "execute_result"
    }
   ],
   "source": [
    "df_time[df_time.index.isin(eid_npd_valid)].head()"
   ]
  },
  {
   "cell_type": "markdown",
   "id": "5050a8c3-11f4-4f97-9c8e-89b31cd806b3",
   "metadata": {},
   "source": [
    "#### check has pain when doing pain questionnaire"
   ]
  },
  {
   "cell_type": "code",
   "execution_count": 117,
   "id": "d970cc11-4384-49ef-9d89-3cd9742d128d",
   "metadata": {},
   "outputs": [],
   "source": [
    "# 120019,Troubled by pain or discomfort present for more than 3 months\n",
    "df_pq_valid = df_pq[df_pq.index.isin(eid_npd_valid)]"
   ]
  },
  {
   "cell_type": "code",
   "execution_count": 121,
   "id": "b4b50a5f-4cdd-4b19-af09-deec7ad3cc07",
   "metadata": {},
   "outputs": [],
   "source": [
    "df_pq_valid['120019-0.0'] = df_pq_valid['120019-0.0'].astype(int)"
   ]
  },
  {
   "cell_type": "code",
   "execution_count": 130,
   "id": "44734388-99ea-4a50-b495-93e39b1b96a3",
   "metadata": {},
   "outputs": [
    {
     "data": {
      "text/plain": [
       "(10859, 147)"
      ]
     },
     "execution_count": 130,
     "metadata": {},
     "output_type": "execute_result"
    }
   ],
   "source": [
    "df_pq_valid.shape"
   ]
  },
  {
   "cell_type": "code",
   "execution_count": 137,
   "id": "e7432cdc-1c48-4426-8a31-a8d62f839e4d",
   "metadata": {},
   "outputs": [
    {
     "data": {
      "text/plain": [
       "array([-818, -121,    0,    1])"
      ]
     },
     "execution_count": 137,
     "metadata": {},
     "output_type": "execute_result"
    }
   ],
   "source": [
    "np.unique(df_pq_valid['120019-0.0'].values)"
   ]
  },
  {
   "cell_type": "code",
   "execution_count": 131,
   "id": "1ca9be2e-2ab8-4850-b30c-26698d3162a2",
   "metadata": {},
   "outputs": [
    {
     "data": {
      "text/plain": [
       "3929"
      ]
     },
     "execution_count": 131,
     "metadata": {},
     "output_type": "execute_result"
    }
   ],
   "source": [
    "# those with chronic pain\n",
    "sum(df_pq_valid['120019-0.0']==1)"
   ]
  },
  {
   "cell_type": "code",
   "execution_count": 132,
   "id": "39078c31-f171-4213-8e86-1fcc536966be",
   "metadata": {},
   "outputs": [
    {
     "data": {
      "text/plain": [
       "6908"
      ]
     },
     "execution_count": 132,
     "metadata": {},
     "output_type": "execute_result"
    }
   ],
   "source": [
    "# those with no pain\n",
    "sum(df_pq_valid['120019-0.0']==0)"
   ]
  },
  {
   "cell_type": "code",
   "execution_count": 133,
   "id": "a7eed7c7-7825-4b79-a7f7-926976fc9251",
   "metadata": {},
   "outputs": [
    {
     "data": {
      "text/plain": [
       "10837"
      ]
     },
     "execution_count": 133,
     "metadata": {},
     "output_type": "execute_result"
    }
   ],
   "source": [
    "3929+6908"
   ]
  },
  {
   "cell_type": "code",
   "execution_count": 149,
   "id": "d1f42b54-1a53-41e6-989d-e068dd660d73",
   "metadata": {},
   "outputs": [],
   "source": [
    "eid_out = df_pq_valid[(df_pq_valid['120019-0.0']==1) | (df_pq_valid['120019-0.0']==0)]"
   ]
  },
  {
   "cell_type": "code",
   "execution_count": 152,
   "id": "3cc19562-a49f-4bcf-8ff5-6ee5b8bb5eef",
   "metadata": {},
   "outputs": [
    {
     "name": "stderr",
     "output_type": "stream",
     "text": [
      "<ipython-input-152-078b2f78a88c>:1: SettingWithCopyWarning: \n",
      "A value is trying to be set on a copy of a slice from a DataFrame.\n",
      "Try using .loc[row_indexer,col_indexer] = value instead\n",
      "\n",
      "See the caveats in the documentation: https://pandas.pydata.org/pandas-docs/stable/user_guide/indexing.html#returning-a-view-versus-a-copy\n",
      "  eid_out['eid'] = eid_out.index\n"
     ]
    }
   ],
   "source": [
    "eid_out['eid'] = eid_out.index"
   ]
  },
  {
   "cell_type": "code",
   "execution_count": 154,
   "id": "1723a910-8d1d-4481-b3c2-8a7705ff2b79",
   "metadata": {},
   "outputs": [],
   "source": [
    "eid_out['eid'].to_csv('./subjs_bmrc/subjs_painquestion.csv', index=None)"
   ]
  },
  {
   "cell_type": "markdown",
   "id": "02a284a1-9189-4c67-ba26-e18fb072d6aa",
   "metadata": {},
   "source": [
    "#### check age/gender"
   ]
  },
  {
   "cell_type": "code",
   "execution_count": 188,
   "id": "9442ff58-d728-4d3a-9a86-3e72041acbbb",
   "metadata": {},
   "outputs": [],
   "source": [
    "df_dem = df_idp[['31-0.0', '21003-2.0']]"
   ]
  },
  {
   "cell_type": "code",
   "execution_count": 195,
   "id": "6514d377-956a-489b-b6f0-fea178df7d41",
   "metadata": {},
   "outputs": [],
   "source": [
    "df_demt = pd.concat([df_dem[df_dem.index.isin(eid_out.index)], df_time[df_time.index.isin(eid_out.index)]], axis=1)"
   ]
  },
  {
   "cell_type": "code",
   "execution_count": 217,
   "id": "6ea28a24-7969-4967-a287-3d5475f09c11",
   "metadata": {},
   "outputs": [
    {
     "data": {
      "text/plain": [
       "(10837, 4)"
      ]
     },
     "execution_count": 217,
     "metadata": {},
     "output_type": "execute_result"
    }
   ],
   "source": [
    "df_demt.shape"
   ]
  },
  {
   "cell_type": "code",
   "execution_count": 197,
   "id": "243af8f1-32b1-42d6-bbfa-fa9d6f90447a",
   "metadata": {},
   "outputs": [],
   "source": [
    "df_demt_clean = df_demt.dropna()"
   ]
  },
  {
   "cell_type": "code",
   "execution_count": 198,
   "id": "5955e68d-aae3-4603-9752-b332e773cf76",
   "metadata": {},
   "outputs": [
    {
     "data": {
      "text/plain": [
       "(10837, 4)"
      ]
     },
     "execution_count": 198,
     "metadata": {},
     "output_type": "execute_result"
    }
   ],
   "source": [
    "df_demt_clean.shape"
   ]
  },
  {
   "cell_type": "code",
   "execution_count": 218,
   "id": "1fc59e2f-84ea-4d4b-acb1-0ffaee492523",
   "metadata": {},
   "outputs": [],
   "source": [
    "df_demt_clean['label'] = df_pq_valid['120019-0.0']"
   ]
  },
  {
   "cell_type": "code",
   "execution_count": 222,
   "id": "da24c90c-51ec-42f9-b2e7-72b42114885f",
   "metadata": {},
   "outputs": [
    {
     "data": {
      "text/plain": [
       "0    6908\n",
       "1    3929\n",
       "Name: label, dtype: int64"
      ]
     },
     "execution_count": 222,
     "metadata": {},
     "output_type": "execute_result"
    }
   ],
   "source": [
    "df_demt_clean['label'].value_counts()"
   ]
  },
  {
   "cell_type": "code",
   "execution_count": 223,
   "id": "a7cfef76-5d04-4df3-9d90-b8d73ee18ccf",
   "metadata": {},
   "outputs": [],
   "source": [
    "df_demt_clean['label'].to_csv('./subjs_bmrc/label_painquestion.csv')"
   ]
  },
  {
   "cell_type": "code",
   "execution_count": 209,
   "id": "ae0afcfe-6dce-4da1-8aac-1a2ecf43da7b",
   "metadata": {},
   "outputs": [],
   "source": [
    "diff = (df_demt_clean['120128-0.0'] - df_demt_clean['53-2.0']).values\n",
    "df_demt_clean['diff'] = diff.astype('int64')"
   ]
  },
  {
   "cell_type": "code",
   "execution_count": 210,
   "id": "280cd350-f898-455e-b5d8-a890b4ba4090",
   "metadata": {},
   "outputs": [],
   "source": [
    "df_cp = df_demt_clean[df_demt_clean.index.isin(df_pq_valid[df_pq_valid['120019-0.0']==1].index)]"
   ]
  },
  {
   "cell_type": "code",
   "execution_count": 211,
   "id": "d7961c76-db7e-4211-9b8a-1ab3e9075b1b",
   "metadata": {},
   "outputs": [
    {
     "data": {
      "text/plain": [
       "(3929, 5)"
      ]
     },
     "execution_count": 211,
     "metadata": {},
     "output_type": "execute_result"
    }
   ],
   "source": [
    "df_cp.shape"
   ]
  },
  {
   "cell_type": "code",
   "execution_count": 212,
   "id": "2b4e7548-4f64-41d6-a22a-0363d0eaad3d",
   "metadata": {},
   "outputs": [],
   "source": [
    "df_np = df_demt_clean[df_demt_clean.index.isin(df_pq_valid[df_pq_valid['120019-0.0']==0].index)]"
   ]
  },
  {
   "cell_type": "code",
   "execution_count": 213,
   "id": "d7287159-b7f1-4bab-8e86-d44e9c9a1341",
   "metadata": {},
   "outputs": [
    {
     "data": {
      "text/plain": [
       "(6908, 5)"
      ]
     },
     "execution_count": 213,
     "metadata": {},
     "output_type": "execute_result"
    }
   ],
   "source": [
    "df_np.shape"
   ]
  },
  {
   "cell_type": "code",
   "execution_count": 214,
   "id": "5c94df95-bb53-414e-821d-014b0c38e7b3",
   "metadata": {},
   "outputs": [
    {
     "data": {
      "text/html": [
       "<div>\n",
       "<style scoped>\n",
       "    .dataframe tbody tr th:only-of-type {\n",
       "        vertical-align: middle;\n",
       "    }\n",
       "\n",
       "    .dataframe tbody tr th {\n",
       "        vertical-align: top;\n",
       "    }\n",
       "\n",
       "    .dataframe thead th {\n",
       "        text-align: right;\n",
       "    }\n",
       "</style>\n",
       "<table border=\"1\" class=\"dataframe\">\n",
       "  <thead>\n",
       "    <tr style=\"text-align: right;\">\n",
       "      <th></th>\n",
       "      <th>31-0.0</th>\n",
       "      <th>21003-2.0</th>\n",
       "      <th>diff</th>\n",
       "    </tr>\n",
       "  </thead>\n",
       "  <tbody>\n",
       "    <tr>\n",
       "      <th>count</th>\n",
       "      <td>3929.000000</td>\n",
       "      <td>3929.000000</td>\n",
       "      <td>3.929000e+03</td>\n",
       "    </tr>\n",
       "    <tr>\n",
       "      <th>mean</th>\n",
       "      <td>0.471876</td>\n",
       "      <td>63.574192</td>\n",
       "      <td>5.873035e+16</td>\n",
       "    </tr>\n",
       "    <tr>\n",
       "      <th>std</th>\n",
       "      <td>0.499272</td>\n",
       "      <td>7.215278</td>\n",
       "      <td>4.302101e+16</td>\n",
       "    </tr>\n",
       "    <tr>\n",
       "      <th>min</th>\n",
       "      <td>0.000000</td>\n",
       "      <td>46.000000</td>\n",
       "      <td>3.534800e+13</td>\n",
       "    </tr>\n",
       "    <tr>\n",
       "      <th>25%</th>\n",
       "      <td>0.000000</td>\n",
       "      <td>58.000000</td>\n",
       "      <td>2.095715e+16</td>\n",
       "    </tr>\n",
       "    <tr>\n",
       "      <th>50%</th>\n",
       "      <td>0.000000</td>\n",
       "      <td>64.000000</td>\n",
       "      <td>4.843038e+16</td>\n",
       "    </tr>\n",
       "    <tr>\n",
       "      <th>75%</th>\n",
       "      <td>1.000000</td>\n",
       "      <td>69.000000</td>\n",
       "      <td>9.481767e+16</td>\n",
       "    </tr>\n",
       "    <tr>\n",
       "      <th>max</th>\n",
       "      <td>1.000000</td>\n",
       "      <td>82.000000</td>\n",
       "      <td>1.697339e+17</td>\n",
       "    </tr>\n",
       "  </tbody>\n",
       "</table>\n",
       "</div>"
      ],
      "text/plain": [
       "            31-0.0    21003-2.0          diff\n",
       "count  3929.000000  3929.000000  3.929000e+03\n",
       "mean      0.471876    63.574192  5.873035e+16\n",
       "std       0.499272     7.215278  4.302101e+16\n",
       "min       0.000000    46.000000  3.534800e+13\n",
       "25%       0.000000    58.000000  2.095715e+16\n",
       "50%       0.000000    64.000000  4.843038e+16\n",
       "75%       1.000000    69.000000  9.481767e+16\n",
       "max       1.000000    82.000000  1.697339e+17"
      ]
     },
     "execution_count": 214,
     "metadata": {},
     "output_type": "execute_result"
    }
   ],
   "source": [
    "df_cp.describe()"
   ]
  },
  {
   "cell_type": "code",
   "execution_count": 216,
   "id": "be6c1da1-1cc7-4df4-862a-c5eed24049a8",
   "metadata": {},
   "outputs": [
    {
     "data": {
      "text/html": [
       "<div>\n",
       "<style scoped>\n",
       "    .dataframe tbody tr th:only-of-type {\n",
       "        vertical-align: middle;\n",
       "    }\n",
       "\n",
       "    .dataframe tbody tr th {\n",
       "        vertical-align: top;\n",
       "    }\n",
       "\n",
       "    .dataframe thead th {\n",
       "        text-align: right;\n",
       "    }\n",
       "</style>\n",
       "<table border=\"1\" class=\"dataframe\">\n",
       "  <thead>\n",
       "    <tr style=\"text-align: right;\">\n",
       "      <th></th>\n",
       "      <th>31-0.0</th>\n",
       "      <th>21003-2.0</th>\n",
       "      <th>diff</th>\n",
       "    </tr>\n",
       "  </thead>\n",
       "  <tbody>\n",
       "    <tr>\n",
       "      <th>count</th>\n",
       "      <td>6908.000000</td>\n",
       "      <td>6908.000000</td>\n",
       "      <td>6.908000e+03</td>\n",
       "    </tr>\n",
       "    <tr>\n",
       "      <th>mean</th>\n",
       "      <td>0.507817</td>\n",
       "      <td>63.325420</td>\n",
       "      <td>5.439153e+16</td>\n",
       "    </tr>\n",
       "    <tr>\n",
       "      <th>std</th>\n",
       "      <td>0.499975</td>\n",
       "      <td>7.359656</td>\n",
       "      <td>4.165322e+16</td>\n",
       "    </tr>\n",
       "    <tr>\n",
       "      <th>min</th>\n",
       "      <td>0.000000</td>\n",
       "      <td>46.000000</td>\n",
       "      <td>2.898200e+13</td>\n",
       "    </tr>\n",
       "    <tr>\n",
       "      <th>25%</th>\n",
       "      <td>0.000000</td>\n",
       "      <td>58.000000</td>\n",
       "      <td>1.847319e+16</td>\n",
       "    </tr>\n",
       "    <tr>\n",
       "      <th>50%</th>\n",
       "      <td>1.000000</td>\n",
       "      <td>64.000000</td>\n",
       "      <td>4.454021e+16</td>\n",
       "    </tr>\n",
       "    <tr>\n",
       "      <th>75%</th>\n",
       "      <td>1.000000</td>\n",
       "      <td>69.000000</td>\n",
       "      <td>8.529097e+16</td>\n",
       "    </tr>\n",
       "    <tr>\n",
       "      <th>max</th>\n",
       "      <td>1.000000</td>\n",
       "      <td>80.000000</td>\n",
       "      <td>1.653249e+17</td>\n",
       "    </tr>\n",
       "  </tbody>\n",
       "</table>\n",
       "</div>"
      ],
      "text/plain": [
       "            31-0.0    21003-2.0          diff\n",
       "count  6908.000000  6908.000000  6.908000e+03\n",
       "mean      0.507817    63.325420  5.439153e+16\n",
       "std       0.499975     7.359656  4.165322e+16\n",
       "min       0.000000    46.000000  2.898200e+13\n",
       "25%       0.000000    58.000000  1.847319e+16\n",
       "50%       1.000000    64.000000  4.454021e+16\n",
       "75%       1.000000    69.000000  8.529097e+16\n",
       "max       1.000000    80.000000  1.653249e+17"
      ]
     },
     "execution_count": 216,
     "metadata": {},
     "output_type": "execute_result"
    }
   ],
   "source": [
    "df_np.describe()"
   ]
  },
  {
   "cell_type": "code",
   "execution_count": null,
   "id": "6bd6b2e2-4a54-4454-9f3c-8df512653579",
   "metadata": {},
   "outputs": [],
   "source": []
  }
 ],
 "metadata": {
  "kernelspec": {
   "display_name": "Python 3",
   "language": "python",
   "name": "python3"
  },
  "language_info": {
   "codemirror_mode": {
    "name": "ipython",
    "version": 3
   },
   "file_extension": ".py",
   "mimetype": "text/x-python",
   "name": "python",
   "nbconvert_exporter": "python",
   "pygments_lexer": "ipython3",
   "version": "3.8.8"
  }
 },
 "nbformat": 4,
 "nbformat_minor": 5
}
