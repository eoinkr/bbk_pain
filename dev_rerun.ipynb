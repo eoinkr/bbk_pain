{
 "cells": [
  {
   "cell_type": "markdown",
   "id": "bc4e8506-ff2c-4278-a53f-45993ee9e748",
   "metadata": {},
   "source": [
    "#### dev rerun dataset"
   ]
  },
  {
   "cell_type": "code",
   "execution_count": 1,
   "id": "dc315261-a946-465f-84de-9bbf59d7275a",
   "metadata": {},
   "outputs": [],
   "source": [
    "import os\n",
    "import numpy as np\n",
    "import pandas as pd"
   ]
  },
  {
   "cell_type": "code",
   "execution_count": 127,
   "id": "5027e321-bc19-4cd1-a8e9-d3744b0bd223",
   "metadata": {},
   "outputs": [],
   "source": [
    "from clean_questions import *\n",
    "from disease_type import extract_disease"
   ]
  },
  {
   "cell_type": "code",
   "execution_count": 3,
   "id": "5e9eacfd-5f92-44db-a944-8f729e0d28ec",
   "metadata": {},
   "outputs": [
    {
     "name": "stderr",
     "output_type": "stream",
     "text": [
      "/home/fs0/syzhang/.conda/envs/bbk/lib/python3.8/site-packages/IPython/core/interactiveshell.py:3165: DtypeWarning: Columns (863,865,867,869) have mixed types.Specify dtype option on import or set low_memory=False.\n",
      "  has_raised = await self.run_ast_nodes(code_ast.body, cell_name,\n"
     ]
    }
   ],
   "source": [
    "qs_path = os.path.join('..', 'funpack_cfg', 'qsidp_subjs_disease_allvisits_extended.tsv')\n",
    "df_subjects = pd.read_csv(qs_path, sep='\\t')"
   ]
  },
  {
   "cell_type": "code",
   "execution_count": 4,
   "id": "a0f338d8-f249-4ee3-9e00-bbf81ddd0005",
   "metadata": {},
   "outputs": [
    {
     "data": {
      "text/plain": [
       "(23793, 2861)"
      ]
     },
     "execution_count": 4,
     "metadata": {},
     "output_type": "execute_result"
    }
   ],
   "source": [
    "df_subjects.shape"
   ]
  },
  {
   "cell_type": "code",
   "execution_count": 5,
   "id": "f9d0c506-d285-481f-9d90-3e0dd87f6f64",
   "metadata": {},
   "outputs": [
    {
     "name": "stderr",
     "output_type": "stream",
     "text": [
      "/home/fs0/syzhang/.conda/envs/bbk/lib/python3.8/site-packages/IPython/core/interactiveshell.py:3165: DtypeWarning: Columns (863,869) have mixed types.Specify dtype option on import or set low_memory=False.\n",
      "  has_raised = await self.run_ast_nodes(code_ast.body, cell_name,\n"
     ]
    }
   ],
   "source": [
    "qs_path = os.path.join('..', 'funpack_cfg', 'qsidp_subjs_control_allvisits_extended.tsv')\n",
    "df_controls = pd.read_csv(qs_path, sep='\\t')"
   ]
  },
  {
   "cell_type": "code",
   "execution_count": 6,
   "id": "ce961e8e-351d-448a-923d-ca484d522a2f",
   "metadata": {},
   "outputs": [
    {
     "data": {
      "text/plain": [
       "(26490, 2861)"
      ]
     },
     "execution_count": 6,
     "metadata": {},
     "output_type": "execute_result"
    }
   ],
   "source": [
    "df_controls.shape"
   ]
  },
  {
   "cell_type": "code",
   "execution_count": 112,
   "id": "b396982f-e32c-4f85-a25f-79bfbb7405c7",
   "metadata": {},
   "outputs": [],
   "source": [
    "# helpers\n",
    "def check_field(df, field_code, visit=2):\n",
    "    \"\"\"check field in visit x\"\"\"\n",
    "    code = field_code # 6159/2956\n",
    "    df_copy = df.copy()\n",
    "    if visit is not None:\n",
    "        code_root = f'{code}-{visit}'\n",
    "    else:\n",
    "        code_root = f'{code}-'\n",
    "    cols_ls = [col for col in df_copy.columns if col[:len(code_root)]==code_root]\n",
    "    print(cols_ls)\n",
    "    return cols_ls\n",
    "\n",
    "def check_count(df, field_ls, field_status):\n",
    "    \"\"\"check status count given field list\"\"\"\n",
    "    df_copy = df.copy()\n",
    "    rec_ls = []\n",
    "    for c in field_ls:\n",
    "        df_tmp = df_copy[df_copy[c]==field_status]\n",
    "        print(c, df_tmp.shape)\n",
    "        rec_ls.append(df_tmp)\n",
    "    # make df from rec list\n",
    "    df_out = pd.concat(rec_ls)\n",
    "    return df_out"
   ]
  },
  {
   "cell_type": "markdown",
   "id": "11e0a1bc-0bbb-42d8-a349-bdaef7c962cc",
   "metadata": {},
   "source": [
    "#### patient\n",
    "(hand pain not in cwp list, may have hand OA)\n",
    "just disease category\n",
    "|\n",
    "plus pain\n",
    "| \n",
    "pain in sites matching condition"
   ]
  },
  {
   "cell_type": "code",
   "execution_count": 72,
   "id": "275d64bd-5350-4e77-b319-bdaf013b0338",
   "metadata": {},
   "outputs": [
    {
     "name": "stdout",
     "output_type": "stream",
     "text": [
      "['6159-2.0', '6159-2.1', '6159-2.2', '6159-2.3', '6159-2.4', '6159-2.5', '6159-2.6']\n"
     ]
    }
   ],
   "source": [
    "cols_ls = check_field(df_subjects, 6159, visit=2)"
   ]
  },
  {
   "cell_type": "code",
   "execution_count": 56,
   "id": "2e54086b-7c9a-468d-954a-e65058347e83",
   "metadata": {},
   "outputs": [
    {
     "name": "stdout",
     "output_type": "stream",
     "text": [
      "['3799-2.0']\n"
     ]
    }
   ],
   "source": [
    "cols_ls = check_field(df_subjects, 3799, visit=2)"
   ]
  },
  {
   "cell_type": "code",
   "execution_count": 69,
   "id": "594df5fa-ef8b-4ea3-86ca-edc3d9dbb615",
   "metadata": {},
   "outputs": [
    {
     "name": "stdout",
     "output_type": "stream",
     "text": [
      "['3773-2.0']\n"
     ]
    }
   ],
   "source": [
    "cols_ls = check_field(df_subjects, 3773, visit=2)"
   ]
  },
  {
   "cell_type": "code",
   "execution_count": 70,
   "id": "6c6eec01-1cd7-49df-b132-b11ec6fbf393",
   "metadata": {},
   "outputs": [
    {
     "name": "stdout",
     "output_type": "stream",
     "text": [
      "3773-2.0 (5951, 2861)\n"
     ]
    }
   ],
   "source": [
    "df_cut = check_count(df_subjects, cols_ls, 1)"
   ]
  },
  {
   "cell_type": "code",
   "execution_count": 73,
   "id": "988ca0db-3925-4abb-95da-8e8947bd21de",
   "metadata": {},
   "outputs": [
    {
     "name": "stdout",
     "output_type": "stream",
     "text": [
      "6159-2.0 (6735, 2861)\n",
      "6159-2.1 (0, 2861)\n",
      "6159-2.2 (0, 2861)\n",
      "6159-2.3 (0, 2861)\n",
      "6159-2.4 (0, 2861)\n",
      "6159-2.5 (0, 2861)\n",
      "6159-2.6 (0, 2861)\n"
     ]
    }
   ],
   "source": [
    "df_cut = check_count(df_subjects, cols_ls, -7)"
   ]
  },
  {
   "cell_type": "code",
   "execution_count": 74,
   "id": "283bef7a-1d00-45d5-ba70-d4c7d0d47786",
   "metadata": {},
   "outputs": [
    {
     "data": {
      "text/plain": [
       "(6735, 2861)"
      ]
     },
     "execution_count": 74,
     "metadata": {},
     "output_type": "execute_result"
    }
   ],
   "source": [
    "df_cut.shape"
   ]
  },
  {
   "cell_type": "code",
   "execution_count": 24,
   "id": "bd8c61e5-5fa2-4292-a20f-a42d451ea6e1",
   "metadata": {},
   "outputs": [],
   "source": [
    "control_disease = disease_label(df_subjects, visits=[2], grouping='simplified')"
   ]
  },
  {
   "cell_type": "code",
   "execution_count": 25,
   "id": "93e604c6-6f76-4ae8-9c71-7779a00d07cd",
   "metadata": {},
   "outputs": [
    {
     "data": {
      "text/plain": [
       "<AxesSubplot:>"
      ]
     },
     "execution_count": 25,
     "metadata": {},
     "output_type": "execute_result"
    },
    {
     "data": {
      "image/png": "[encoded data removed]",
      "text/plain": [
       "<Figure size 432x288 with 1 Axes>"
      ]
     },
     "metadata": {
      "needs_background": "light"
     },
     "output_type": "display_data"
    }
   ],
   "source": [
    "control_disease.sum().plot(kind='bar')"
   ]
  },
  {
   "cell_type": "code",
   "execution_count": 26,
   "id": "57aa5ec0-54bd-4bb9-8fc2-001e4f953cc6",
   "metadata": {},
   "outputs": [
    {
     "data": {
      "text/plain": [
       "5606"
      ]
     },
     "execution_count": 26,
     "metadata": {},
     "output_type": "execute_result"
    }
   ],
   "source": [
    "(control_disease.sum(axis=1)>0).sum()"
   ]
  },
  {
   "cell_type": "code",
   "execution_count": 27,
   "id": "4bd819ec-f4fa-4880-bba7-d29b51ca303c",
   "metadata": {},
   "outputs": [],
   "source": [
    "disease_eid = control_disease[control_disease.sum(axis=1)>0].index"
   ]
  },
  {
   "cell_type": "code",
   "execution_count": 29,
   "id": "023a42da-be6d-446b-8591-5262a754f2a1",
   "metadata": {},
   "outputs": [],
   "source": [
    "df_patients = df_subjects[df_subjects['eid'].isin(disease_eid)]"
   ]
  },
  {
   "cell_type": "code",
   "execution_count": 75,
   "id": "f4e10143-c8d9-414b-a4e1-fc58ea02f982",
   "metadata": {},
   "outputs": [],
   "source": [
    "control_disease = disease_label(df_cut, visits=[2], grouping='detailed')"
   ]
  },
  {
   "cell_type": "code",
   "execution_count": 79,
   "id": "193de2b6-5cc7-4acc-884b-0cf772389b5e",
   "metadata": {},
   "outputs": [],
   "source": [
    "# control_disease[control_disease.sum(axis=1)>1]"
   ]
  },
  {
   "cell_type": "code",
   "execution_count": 77,
   "id": "ba1cf631-069c-44a9-a658-14195fd1c1a7",
   "metadata": {},
   "outputs": [
    {
     "data": {
      "text/plain": [
       "<AxesSubplot:>"
      ]
     },
     "execution_count": 77,
     "metadata": {},
     "output_type": "execute_result"
    },
    {
     "data": {
      "image/png": "[encoded data removed]",
      "text/plain": [
       "<Figure size 432x288 with 1 Axes>"
      ]
     },
     "metadata": {
      "needs_background": "light"
     },
     "output_type": "display_data"
    }
   ],
   "source": [
    "control_disease.sum().plot(kind='bar')"
   ]
  },
  {
   "cell_type": "markdown",
   "id": "1edbbd00-7d68-4c14-9e04-545ccd3b7d4c",
   "metadata": {},
   "source": [
    "#### patients with pain"
   ]
  },
  {
   "cell_type": "code",
   "execution_count": 36,
   "id": "f924a305-7c22-4aed-8fde-f6e92be043cc",
   "metadata": {},
   "outputs": [
    {
     "name": "stderr",
     "output_type": "stream",
     "text": [
      "/home/fs0/syzhang/.conda/envs/bbk/lib/python3.8/site-packages/IPython/core/interactiveshell.py:3165: DtypeWarning: Columns (863,867) have mixed types.Specify dtype option on import or set low_memory=False.\n",
      "  has_raised = await self.run_ast_nodes(code_ast.body, cell_name,\n"
     ]
    }
   ],
   "source": [
    "dfp = pd.read_csv('./data/qsidp_patients.csv')"
   ]
  },
  {
   "cell_type": "code",
   "execution_count": 37,
   "id": "f3a06f9f-9b99-4ec5-a5cc-88de78ec01dc",
   "metadata": {},
   "outputs": [
    {
     "data": {
      "text/plain": [
       "(5606, 2861)"
      ]
     },
     "execution_count": 37,
     "metadata": {},
     "output_type": "execute_result"
    }
   ],
   "source": [
    "dfp.shape"
   ]
  },
  {
   "cell_type": "code",
   "execution_count": 38,
   "id": "8b94f926-fe4b-4cbd-aa82-cd29ee094069",
   "metadata": {},
   "outputs": [
    {
     "data": {
      "text/html": [
       "<div>\n",
       "<style scoped>\n",
       "    .dataframe tbody tr th:only-of-type {\n",
       "        vertical-align: middle;\n",
       "    }\n",
       "\n",
       "    .dataframe tbody tr th {\n",
       "        vertical-align: top;\n",
       "    }\n",
       "\n",
       "    .dataframe thead th {\n",
       "        text-align: right;\n",
       "    }\n",
       "</style>\n",
       "<table border=\"1\" class=\"dataframe\">\n",
       "  <thead>\n",
       "    <tr style=\"text-align: right;\">\n",
       "      <th></th>\n",
       "      <th>eid</th>\n",
       "      <th>26414-0.0</th>\n",
       "      <th>26431-0.0</th>\n",
       "      <th>26421-0.0</th>\n",
       "      <th>26412-0.0</th>\n",
       "      <th>26429-0.0</th>\n",
       "      <th>26413-0.0</th>\n",
       "      <th>26430-0.0</th>\n",
       "      <th>26420-0.0</th>\n",
       "      <th>26411-0.0</th>\n",
       "      <th>...</th>\n",
       "      <th>21023-0.0</th>\n",
       "      <th>21027-0.0</th>\n",
       "      <th>21035-0.0</th>\n",
       "      <th>21048-0.0</th>\n",
       "      <th>21052-0.0</th>\n",
       "      <th>21051-0.0</th>\n",
       "      <th>21049-0.0</th>\n",
       "      <th>21057-0.0</th>\n",
       "      <th>21025-0.0</th>\n",
       "      <th>21036-0.0</th>\n",
       "    </tr>\n",
       "  </thead>\n",
       "  <tbody>\n",
       "    <tr>\n",
       "      <th>0</th>\n",
       "      <td>1001416</td>\n",
       "      <td>2.62</td>\n",
       "      <td>NaN</td>\n",
       "      <td>NaN</td>\n",
       "      <td>0.04</td>\n",
       "      <td>NaN</td>\n",
       "      <td>-1.01</td>\n",
       "      <td>NaN</td>\n",
       "      <td>NaN</td>\n",
       "      <td>0.05</td>\n",
       "      <td>...</td>\n",
       "      <td>2017-05-30T14:22:52</td>\n",
       "      <td>1.0</td>\n",
       "      <td>0.0</td>\n",
       "      <td>-601.0</td>\n",
       "      <td>-600.0</td>\n",
       "      <td>-601.0</td>\n",
       "      <td>-600.0</td>\n",
       "      <td>-313.0</td>\n",
       "      <td>3.0</td>\n",
       "      <td>NaN</td>\n",
       "    </tr>\n",
       "    <tr>\n",
       "      <th>1</th>\n",
       "      <td>1002910</td>\n",
       "      <td>17.84</td>\n",
       "      <td>NaN</td>\n",
       "      <td>NaN</td>\n",
       "      <td>0.06</td>\n",
       "      <td>NaN</td>\n",
       "      <td>-0.42</td>\n",
       "      <td>NaN</td>\n",
       "      <td>NaN</td>\n",
       "      <td>0.08</td>\n",
       "      <td>...</td>\n",
       "      <td>NaN</td>\n",
       "      <td>NaN</td>\n",
       "      <td>NaN</td>\n",
       "      <td>NaN</td>\n",
       "      <td>NaN</td>\n",
       "      <td>NaN</td>\n",
       "      <td>NaN</td>\n",
       "      <td>NaN</td>\n",
       "      <td>NaN</td>\n",
       "      <td>NaN</td>\n",
       "    </tr>\n",
       "    <tr>\n",
       "      <th>2</th>\n",
       "      <td>1003609</td>\n",
       "      <td>7.66</td>\n",
       "      <td>NaN</td>\n",
       "      <td>NaN</td>\n",
       "      <td>0.12</td>\n",
       "      <td>NaN</td>\n",
       "      <td>0.82</td>\n",
       "      <td>NaN</td>\n",
       "      <td>NaN</td>\n",
       "      <td>0.16</td>\n",
       "      <td>...</td>\n",
       "      <td>2017-05-12T20:31:53</td>\n",
       "      <td>1.0</td>\n",
       "      <td>1.0</td>\n",
       "      <td>-601.0</td>\n",
       "      <td>-600.0</td>\n",
       "      <td>-600.0</td>\n",
       "      <td>-602.0</td>\n",
       "      <td>-600.0</td>\n",
       "      <td>5.0</td>\n",
       "      <td>4.0</td>\n",
       "    </tr>\n",
       "    <tr>\n",
       "      <th>3</th>\n",
       "      <td>1003611</td>\n",
       "      <td>28.43</td>\n",
       "      <td>NaN</td>\n",
       "      <td>NaN</td>\n",
       "      <td>0.15</td>\n",
       "      <td>NaN</td>\n",
       "      <td>0.69</td>\n",
       "      <td>NaN</td>\n",
       "      <td>NaN</td>\n",
       "      <td>0.22</td>\n",
       "      <td>...</td>\n",
       "      <td>NaN</td>\n",
       "      <td>NaN</td>\n",
       "      <td>NaN</td>\n",
       "      <td>NaN</td>\n",
       "      <td>NaN</td>\n",
       "      <td>NaN</td>\n",
       "      <td>NaN</td>\n",
       "      <td>NaN</td>\n",
       "      <td>NaN</td>\n",
       "      <td>NaN</td>\n",
       "    </tr>\n",
       "    <tr>\n",
       "      <th>4</th>\n",
       "      <td>1008668</td>\n",
       "      <td>2.54</td>\n",
       "      <td>NaN</td>\n",
       "      <td>NaN</td>\n",
       "      <td>0.07</td>\n",
       "      <td>NaN</td>\n",
       "      <td>0.05</td>\n",
       "      <td>NaN</td>\n",
       "      <td>NaN</td>\n",
       "      <td>0.11</td>\n",
       "      <td>...</td>\n",
       "      <td>2017-04-28T17:38:23</td>\n",
       "      <td>1.0</td>\n",
       "      <td>1.0</td>\n",
       "      <td>-600.0</td>\n",
       "      <td>-600.0</td>\n",
       "      <td>-601.0</td>\n",
       "      <td>-601.0</td>\n",
       "      <td>-601.0</td>\n",
       "      <td>1.0</td>\n",
       "      <td>8.0</td>\n",
       "    </tr>\n",
       "  </tbody>\n",
       "</table>\n",
       "<p>5 rows × 2861 columns</p>\n",
       "</div>"
      ],
      "text/plain": [
       "       eid  26414-0.0  26431-0.0  26421-0.0  26412-0.0  26429-0.0  26413-0.0  \\\n",
       "0  1001416       2.62        NaN        NaN       0.04        NaN      -1.01   \n",
       "1  1002910      17.84        NaN        NaN       0.06        NaN      -0.42   \n",
       "2  1003609       7.66        NaN        NaN       0.12        NaN       0.82   \n",
       "3  1003611      28.43        NaN        NaN       0.15        NaN       0.69   \n",
       "4  1008668       2.54        NaN        NaN       0.07        NaN       0.05   \n",
       "\n",
       "   26430-0.0  26420-0.0  26411-0.0  ...            21023-0.0  21027-0.0  \\\n",
       "0        NaN        NaN       0.05  ...  2017-05-30T14:22:52        1.0   \n",
       "1        NaN        NaN       0.08  ...                  NaN        NaN   \n",
       "2        NaN        NaN       0.16  ...  2017-05-12T20:31:53        1.0   \n",
       "3        NaN        NaN       0.22  ...                  NaN        NaN   \n",
       "4        NaN        NaN       0.11  ...  2017-04-28T17:38:23        1.0   \n",
       "\n",
       "   21035-0.0  21048-0.0  21052-0.0  21051-0.0  21049-0.0  21057-0.0  \\\n",
       "0        0.0     -601.0     -600.0     -601.0     -600.0     -313.0   \n",
       "1        NaN        NaN        NaN        NaN        NaN        NaN   \n",
       "2        1.0     -601.0     -600.0     -600.0     -602.0     -600.0   \n",
       "3        NaN        NaN        NaN        NaN        NaN        NaN   \n",
       "4        1.0     -600.0     -600.0     -601.0     -601.0     -601.0   \n",
       "\n",
       "   21025-0.0  21036-0.0  \n",
       "0        3.0        NaN  \n",
       "1        NaN        NaN  \n",
       "2        5.0        4.0  \n",
       "3        NaN        NaN  \n",
       "4        1.0        8.0  \n",
       "\n",
       "[5 rows x 2861 columns]"
      ]
     },
     "execution_count": 38,
     "metadata": {},
     "output_type": "execute_result"
    }
   ],
   "source": [
    "dfp.head()"
   ]
  },
  {
   "cell_type": "code",
   "execution_count": 39,
   "id": "f2265a1e-97d6-407c-8e52-c4a47af8a884",
   "metadata": {},
   "outputs": [
    {
     "name": "stdout",
     "output_type": "stream",
     "text": [
      "['6159-2.0', '6159-2.1', '6159-2.2', '6159-2.3', '6159-2.4', '6159-2.5', '6159-2.6']\n"
     ]
    }
   ],
   "source": [
    "cols_ls = check_field(dfp, 6159, visit=2)"
   ]
  },
  {
   "cell_type": "code",
   "execution_count": 41,
   "id": "03a46cf6-dc04-458d-94dd-b4ebbb6a05d1",
   "metadata": {},
   "outputs": [
    {
     "name": "stdout",
     "output_type": "stream",
     "text": [
      "6159-2.0 (1620, 2861)\n",
      "6159-2.1 (0, 2861)\n",
      "6159-2.2 (0, 2861)\n",
      "6159-2.3 (0, 2861)\n",
      "6159-2.4 (0, 2861)\n",
      "6159-2.5 (0, 2861)\n",
      "6159-2.6 (0, 2861)\n"
     ]
    }
   ],
   "source": [
    "df_np = check_count(dfp, cols_ls, -7)"
   ]
  },
  {
   "cell_type": "code",
   "execution_count": 93,
   "id": "521868d2-4e89-40af-af50-bd1c86edd19a",
   "metadata": {},
   "outputs": [],
   "source": [
    "df_pp = dfp[~dfp['eid'].isin(df_np['eid'])]"
   ]
  },
  {
   "cell_type": "code",
   "execution_count": 94,
   "id": "9f72f559-e27a-40eb-9414-61e068b7f4ad",
   "metadata": {},
   "outputs": [
    {
     "data": {
      "text/plain": [
       "(3986, 2861)"
      ]
     },
     "execution_count": 94,
     "metadata": {},
     "output_type": "execute_result"
    }
   ],
   "source": [
    "df_pp.shape"
   ]
  },
  {
   "cell_type": "code",
   "execution_count": 95,
   "id": "43b909dd-ddc1-45fb-8013-8abda9a91d9d",
   "metadata": {},
   "outputs": [],
   "source": [
    "fields = pd.read_csv('./bbk_codes/cwp_code.csv')"
   ]
  },
  {
   "cell_type": "code",
   "execution_count": 104,
   "id": "8509d541-2a1d-476b-9b6e-727f4460b4dc",
   "metadata": {},
   "outputs": [],
   "source": [
    "ff = fields[fields['code']!=6159]['code'].to_list()"
   ]
  },
  {
   "cell_type": "code",
   "execution_count": 109,
   "id": "98d1bd1c-4382-447f-90c6-2ca7cc0591c2",
   "metadata": {},
   "outputs": [
    {
     "name": "stdout",
     "output_type": "stream",
     "text": [
      "['3799-2.0']\n",
      "['4067-2.0']\n",
      "['3404-2.0']\n",
      "['3571-2.0']\n",
      "['3741-2.0']\n",
      "['3414-2.0']\n",
      "['3773-2.0']\n",
      "['2956-2.0']\n"
     ]
    }
   ],
   "source": [
    "cols = []\n",
    "for f in ff:\n",
    "    cols += check_field(df_pp, f, visit=2)"
   ]
  },
  {
   "cell_type": "code",
   "execution_count": 110,
   "id": "5da9d29e-acb8-43be-ae41-de0365554e9d",
   "metadata": {},
   "outputs": [
    {
     "data": {
      "text/plain": [
       "['3799-2.0',\n",
       " '4067-2.0',\n",
       " '3404-2.0',\n",
       " '3571-2.0',\n",
       " '3741-2.0',\n",
       " '3414-2.0',\n",
       " '3773-2.0',\n",
       " '2956-2.0']"
      ]
     },
     "execution_count": 110,
     "metadata": {},
     "output_type": "execute_result"
    }
   ],
   "source": [
    "cols"
   ]
  },
  {
   "cell_type": "code",
   "execution_count": 113,
   "id": "5be4fc27-6d83-4383-ad1a-e8643a9f5454",
   "metadata": {},
   "outputs": [
    {
     "name": "stdout",
     "output_type": "stream",
     "text": [
      "3799-2.0 (684, 2861)\n",
      "4067-2.0 (78, 2861)\n",
      "3404-2.0 (1098, 2861)\n",
      "3571-2.0 (1364, 2861)\n",
      "3741-2.0 (342, 2861)\n",
      "3414-2.0 (837, 2861)\n",
      "3773-2.0 (1440, 2861)\n",
      "2956-2.0 (113, 2861)\n"
     ]
    }
   ],
   "source": [
    "df_ppp = check_count(df_pp, cols, 1)"
   ]
  },
  {
   "cell_type": "code",
   "execution_count": 114,
   "id": "8a209389-c6ea-4f81-95e9-32964c170771",
   "metadata": {},
   "outputs": [
    {
     "data": {
      "text/plain": [
       "(5956, 2861)"
      ]
     },
     "execution_count": 114,
     "metadata": {},
     "output_type": "execute_result"
    }
   ],
   "source": [
    "df_ppp.shape"
   ]
  },
  {
   "cell_type": "code",
   "execution_count": 119,
   "id": "0afe197b-2e33-4bba-a5d5-5e9c5520c67d",
   "metadata": {},
   "outputs": [],
   "source": [
    "df_patients_pain  = df_ppp.drop_duplicates('eid')"
   ]
  },
  {
   "cell_type": "code",
   "execution_count": 120,
   "id": "75970321-f650-4feb-805e-937a7093d0aa",
   "metadata": {},
   "outputs": [
    {
     "data": {
      "text/plain": [
       "(3363, 2861)"
      ]
     },
     "execution_count": 120,
     "metadata": {},
     "output_type": "execute_result"
    }
   ],
   "source": [
    "df_patients_pain.shape"
   ]
  },
  {
   "cell_type": "code",
   "execution_count": 121,
   "id": "b163ae36-1e9d-4300-8b99-434dea22a34b",
   "metadata": {},
   "outputs": [
    {
     "data": {
      "text/plain": [
       "3363"
      ]
     },
     "execution_count": 121,
     "metadata": {},
     "output_type": "execute_result"
    }
   ],
   "source": [
    "len(np.unique(df_patients_pain['eid']))"
   ]
  },
  {
   "cell_type": "code",
   "execution_count": 122,
   "id": "938a320a-fba5-4805-9ae0-f9b31bc8e911",
   "metadata": {},
   "outputs": [
    {
     "data": {
      "text/plain": [
       "[3799, 4067, 3404, 3571, 3741, 3414, 3773, 2956]"
      ]
     },
     "execution_count": 122,
     "metadata": {},
     "output_type": "execute_result"
    }
   ],
   "source": [
    "ff"
   ]
  },
  {
   "cell_type": "code",
   "execution_count": null,
   "id": "f28a43dc-b07b-4d1f-b037-23f2391a1327",
   "metadata": {},
   "outputs": [],
   "source": []
  },
  {
   "cell_type": "markdown",
   "id": "12f62710-6f5f-4527-8747-99347482c50a",
   "metadata": {},
   "source": [
    "#### patients with restricted pain"
   ]
  },
  {
   "cell_type": "code",
   "execution_count": 124,
   "id": "c39ba99e-ca55-4fa9-96cd-4275d05d15c7",
   "metadata": {},
   "outputs": [
    {
     "name": "stderr",
     "output_type": "stream",
     "text": [
      "/home/fs0/syzhang/.conda/envs/bbk/lib/python3.8/site-packages/IPython/core/interactiveshell.py:3165: DtypeWarning: Columns (863,867) have mixed types.Specify dtype option on import or set low_memory=False.\n",
      "  has_raised = await self.run_ast_nodes(code_ast.body, cell_name,\n"
     ]
    }
   ],
   "source": [
    "dfpp = pd.read_csv('./data/qsidp_patients_pain.csv')"
   ]
  },
  {
   "cell_type": "code",
   "execution_count": 125,
   "id": "1a18f1a6-3995-4f65-985c-8b836b6edaee",
   "metadata": {},
   "outputs": [
    {
     "data": {
      "text/plain": [
       "(3363, 2861)"
      ]
     },
     "execution_count": 125,
     "metadata": {},
     "output_type": "execute_result"
    }
   ],
   "source": [
    "dfpp.shape"
   ]
  },
  {
   "cell_type": "code",
   "execution_count": 150,
   "id": "4c9a68b2-121a-4b5f-801c-1ca5b246f29a",
   "metadata": {},
   "outputs": [],
   "source": [
    "dfd_tmp = extract_disease(dfpp, 1265, visit=[2])\n",
    "dfd_eid = pd.Series(dfd_tmp[dfd_tmp.values==1].index)"
   ]
  },
  {
   "cell_type": "code",
   "execution_count": 147,
   "id": "23640bb4-0529-4847-9b24-9737326a257f",
   "metadata": {},
   "outputs": [
    {
     "name": "stdout",
     "output_type": "stream",
     "text": [
      "['3799-2.0']\n",
      "3799-2.0 (684, 2861)\n"
     ]
    }
   ],
   "source": [
    "cols = check_field(dfpp, 3799, visit=2)\n",
    "dfp_tmp = check_count(dfpp, cols, 1)\n",
    "dfp_eid = dfp_tmp['eid']"
   ]
  },
  {
   "cell_type": "code",
   "execution_count": 157,
   "id": "ca9e7f03-2266-46e4-b39f-e762674d647e",
   "metadata": {},
   "outputs": [],
   "source": [
    "eids = dfd_eid[dfd_eid.isin(dfp_eid)]"
   ]
  },
  {
   "cell_type": "code",
   "execution_count": 161,
   "id": "66a533a6-80e0-4787-b2d1-d9066b7419e8",
   "metadata": {},
   "outputs": [],
   "source": [
    "# dfpp[dfpp['eid'].isin(eids)]"
   ]
  },
  {
   "cell_type": "markdown",
   "id": "c696fd74-b51c-44bd-b18e-95fadd435087",
   "metadata": {},
   "source": [
    "#### pain+ group"
   ]
  },
  {
   "cell_type": "code",
   "execution_count": 162,
   "id": "a5bc6ce3-bf90-4afc-9c9a-f60ba63aeaae",
   "metadata": {},
   "outputs": [
    {
     "name": "stdout",
     "output_type": "stream",
     "text": [
      "['6159-2.0', '6159-2.1', '6159-2.2', '6159-2.3', '6159-2.4', '6159-2.5', '6159-2.6']\n"
     ]
    }
   ],
   "source": [
    "cols_ls = check_field(df_subjects, 6159, visit=2)"
   ]
  },
  {
   "cell_type": "code",
   "execution_count": 163,
   "id": "cbb1b4d7-8217-4ee5-bab3-9589e90cbb4f",
   "metadata": {},
   "outputs": [
    {
     "name": "stdout",
     "output_type": "stream",
     "text": [
      "6159-2.0 (6735, 2861)\n",
      "6159-2.1 (0, 2861)\n",
      "6159-2.2 (0, 2861)\n",
      "6159-2.3 (0, 2861)\n",
      "6159-2.4 (0, 2861)\n",
      "6159-2.5 (0, 2861)\n",
      "6159-2.6 (0, 2861)\n"
     ]
    }
   ],
   "source": [
    "df_np = check_count(df_subjects, cols_ls, -7)"
   ]
  },
  {
   "cell_type": "code",
   "execution_count": 164,
   "id": "9bbc0ade-8b28-4922-b115-aebba7227f93",
   "metadata": {},
   "outputs": [],
   "source": [
    "df_pp = df_subjects[~df_subjects['eid'].isin(df_np['eid'])]"
   ]
  },
  {
   "cell_type": "code",
   "execution_count": 165,
   "id": "fb191ed0-a811-4e2f-a40f-64b2352508e1",
   "metadata": {},
   "outputs": [
    {
     "data": {
      "text/plain": [
       "(17058, 2861)"
      ]
     },
     "execution_count": 165,
     "metadata": {},
     "output_type": "execute_result"
    }
   ],
   "source": [
    "df_pp.shape"
   ]
  },
  {
   "cell_type": "code",
   "execution_count": 166,
   "id": "5bd80dad-3c56-408d-a5f8-164fdcf4b0db",
   "metadata": {},
   "outputs": [],
   "source": [
    "fields = pd.read_csv('./bbk_codes/cwp_code.csv')"
   ]
  },
  {
   "cell_type": "code",
   "execution_count": 167,
   "id": "41c27d8b-e6cf-41d4-adc8-7deee3646ecf",
   "metadata": {},
   "outputs": [],
   "source": [
    "ff = fields[fields['code']!=6159]['code'].to_list()"
   ]
  },
  {
   "cell_type": "code",
   "execution_count": 168,
   "id": "84071a59-4950-4b86-880d-6c91dfa9d073",
   "metadata": {},
   "outputs": [
    {
     "name": "stdout",
     "output_type": "stream",
     "text": [
      "['3799-2.0']\n",
      "['4067-2.0']\n",
      "['3404-2.0']\n",
      "['3571-2.0']\n",
      "['3741-2.0']\n",
      "['3414-2.0']\n",
      "['3773-2.0']\n",
      "['2956-2.0']\n"
     ]
    }
   ],
   "source": [
    "cols = []\n",
    "for f in ff:\n",
    "    cols += check_field(df_pp, f, visit=2)"
   ]
  },
  {
   "cell_type": "code",
   "execution_count": 169,
   "id": "ee1ac902-9bad-44ee-86fb-83bc3b9852b1",
   "metadata": {},
   "outputs": [
    {
     "name": "stdout",
     "output_type": "stream",
     "text": [
      "3799-2.0 (2152, 2861)\n",
      "4067-2.0 (222, 2861)\n",
      "3404-2.0 (4572, 2861)\n",
      "3571-2.0 (5113, 2861)\n",
      "3741-2.0 (1103, 2861)\n",
      "3414-2.0 (3232, 2861)\n",
      "3773-2.0 (5951, 2861)\n",
      "2956-2.0 (302, 2861)\n"
     ]
    }
   ],
   "source": [
    "df_ppp = check_count(df_pp, cols, 1)"
   ]
  },
  {
   "cell_type": "code",
   "execution_count": 171,
   "id": "f476ec77-3a38-4c33-8b30-9674f893a769",
   "metadata": {},
   "outputs": [],
   "source": [
    "df_ppain  = df_ppp.drop_duplicates('eid')"
   ]
  },
  {
   "cell_type": "code",
   "execution_count": 172,
   "id": "3dd69935-7ae5-43d6-9902-aeca9dba017e",
   "metadata": {},
   "outputs": [
    {
     "data": {
      "text/plain": [
       "(14412, 2861)"
      ]
     },
     "execution_count": 172,
     "metadata": {},
     "output_type": "execute_result"
    }
   ],
   "source": [
    "df_ppain.shape"
   ]
  },
  {
   "cell_type": "markdown",
   "id": "3f3dc773-3c45-41fe-a04f-294d58cdee67",
   "metadata": {},
   "source": [
    "#### control pain- group"
   ]
  },
  {
   "cell_type": "code",
   "execution_count": 183,
   "id": "daf99ed1-0830-4b2f-bec0-4d63e21e56ba",
   "metadata": {},
   "outputs": [],
   "source": [
    "def cwp_positive(df, positive=True):\n",
    "    \"\"\"return subset of subjects with pain\"\"\"\n",
    "    # restrict to those with Pain type(s) experienced in last month\n",
    "    cols_ls = check_field(df, 6159, visit=2)\n",
    "    df_np = check_count(df, cols_ls, -7)\n",
    "    if positive:\n",
    "        df_plm = df[~df['eid'].isin(df_np['eid'])]\n",
    "    else:\n",
    "        df_plm = df_np\n",
    "    # restrict to those with one of the 3+ month cwp\n",
    "    fields = pd.read_csv('./bbk_codes/cwp_code.csv')\n",
    "    ff = fields[fields['code']!=6159]['code'].to_list()\n",
    "    cols = []\n",
    "    for f in ff:\n",
    "        cols += check_field(df_plm, f, visit=2)\n",
    "    if positive:\n",
    "        df_ppp = check_count(df_plm, cols, 1)\n",
    "    else:\n",
    "        df_ppp = df_plm\n",
    "    df_out = df_ppp.drop_duplicates('eid')\n",
    "#     return df_out\n",
    "    return df_np"
   ]
  },
  {
   "cell_type": "code",
   "execution_count": 174,
   "id": "93d029e8-e8c1-461d-9873-9db89ae00052",
   "metadata": {},
   "outputs": [
    {
     "data": {
      "text/plain": [
       "(26490, 2861)"
      ]
     },
     "execution_count": 174,
     "metadata": {},
     "output_type": "execute_result"
    }
   ],
   "source": [
    "df_controls.shape"
   ]
  },
  {
   "cell_type": "code",
   "execution_count": 181,
   "id": "d696d587-9396-49c7-8ff3-d576c08aac02",
   "metadata": {},
   "outputs": [
    {
     "name": "stdout",
     "output_type": "stream",
     "text": [
      "['6159-2.0', '6159-2.1', '6159-2.2', '6159-2.3', '6159-2.4', '6159-2.5', '6159-2.6']\n",
      "6159-2.0 (6735, 2861)\n",
      "6159-2.1 (0, 2861)\n",
      "6159-2.2 (0, 2861)\n",
      "6159-2.3 (0, 2861)\n",
      "6159-2.4 (0, 2861)\n",
      "6159-2.5 (0, 2861)\n",
      "6159-2.6 (0, 2861)\n",
      "['3799-2.0']\n",
      "['4067-2.0']\n",
      "['3404-2.0']\n",
      "['3571-2.0']\n",
      "['3741-2.0']\n",
      "['3414-2.0']\n",
      "['3773-2.0']\n",
      "['2956-2.0']\n",
      "3799-2.0 (0, 2861)\n",
      "4067-2.0 (0, 2861)\n",
      "3404-2.0 (0, 2861)\n",
      "3571-2.0 (0, 2861)\n",
      "3741-2.0 (0, 2861)\n",
      "3414-2.0 (0, 2861)\n",
      "3773-2.0 (0, 2861)\n",
      "2956-2.0 (0, 2861)\n"
     ]
    }
   ],
   "source": [
    "tmp = cwp_positive(df_subjects, positive=False) #4285 positive"
   ]
  },
  {
   "cell_type": "code",
   "execution_count": 182,
   "id": "a8f0daa7-5621-42d6-8e3e-9c03836662c8",
   "metadata": {},
   "outputs": [
    {
     "data": {
      "text/plain": [
       "(6735, 2861)"
      ]
     },
     "execution_count": 182,
     "metadata": {},
     "output_type": "execute_result"
    }
   ],
   "source": [
    "tmp.shape"
   ]
  },
  {
   "cell_type": "code",
   "execution_count": 188,
   "id": "74f58da7-f742-48a9-afff-4541fe9a692e",
   "metadata": {},
   "outputs": [
    {
     "name": "stdout",
     "output_type": "stream",
     "text": [
      "['3799-2.0']\n"
     ]
    }
   ],
   "source": [
    "cols_ls = check_field(df_subjects, 3799, visit=2)"
   ]
  },
  {
   "cell_type": "code",
   "execution_count": 84,
   "id": "39060327-ede3-48f1-8288-5b962c112b33",
   "metadata": {},
   "outputs": [
    {
     "name": "stdout",
     "output_type": "stream",
     "text": [
      "6159-2.0 (19593, 2861)\n",
      "6159-2.1 (0, 2861)\n",
      "6159-2.2 (0, 2861)\n",
      "6159-2.3 (0, 2861)\n",
      "6159-2.4 (0, 2861)\n",
      "6159-2.5 (0, 2861)\n",
      "6159-2.6 (0, 2861)\n"
     ]
    }
   ],
   "source": [
    "df_cut = check_count(df_controls, cols_ls, -7)"
   ]
  },
  {
   "cell_type": "code",
   "execution_count": 90,
   "id": "770e456c-e9ad-45b0-aa72-e979fba988f6",
   "metadata": {},
   "outputs": [
    {
     "data": {
      "text/plain": [
       "(19593, 2861)"
      ]
     },
     "execution_count": 90,
     "metadata": {},
     "output_type": "execute_result"
    }
   ],
   "source": [
    "df_cut.shape"
   ]
  },
  {
   "cell_type": "code",
   "execution_count": 85,
   "id": "165f8e8b-b868-4495-b3b0-1572eb4c99f3",
   "metadata": {},
   "outputs": [],
   "source": [
    "control_disease = disease_label(df_cut, visits=[2], grouping='detailed')"
   ]
  },
  {
   "cell_type": "code",
   "execution_count": 88,
   "id": "19ca0d8d-141e-4cd1-a737-029ee30788ff",
   "metadata": {},
   "outputs": [
    {
     "data": {
      "text/plain": [
       "2996"
      ]
     },
     "execution_count": 88,
     "metadata": {},
     "output_type": "execute_result"
    }
   ],
   "source": [
    "control_disease.sum().sum()"
   ]
  },
  {
   "cell_type": "code",
   "execution_count": 184,
   "id": "c8c94490-6c0f-48e1-85f0-2afdcf9d8de2",
   "metadata": {},
   "outputs": [
    {
     "name": "stderr",
     "output_type": "stream",
     "text": [
      "/home/fs0/syzhang/.conda/envs/bbk/lib/python3.8/site-packages/IPython/core/interactiveshell.py:3165: DtypeWarning: Columns (863) have mixed types.Specify dtype option on import or set low_memory=False.\n",
      "  has_raised = await self.run_ast_nodes(code_ast.body, cell_name,\n"
     ]
    }
   ],
   "source": [
    "test = pd.read_csv('./data/qsidp_controls.csv')"
   ]
  },
  {
   "cell_type": "code",
   "execution_count": 185,
   "id": "cf32edfb-9b1d-41ca-98a9-c84f01f3c6a1",
   "metadata": {},
   "outputs": [
    {
     "data": {
      "text/plain": [
       "(17718, 2861)"
      ]
     },
     "execution_count": 185,
     "metadata": {},
     "output_type": "execute_result"
    }
   ],
   "source": [
    "test.shape"
   ]
  },
  {
   "cell_type": "code",
   "execution_count": 189,
   "id": "2444ba28-3785-4403-a0dc-6087f9df099f",
   "metadata": {},
   "outputs": [
    {
     "name": "stdout",
     "output_type": "stream",
     "text": [
      "3799-2.0 (0, 2861)\n"
     ]
    }
   ],
   "source": [
    "df_cut = check_count(test, cols_ls, 1)"
   ]
  },
  {
   "cell_type": "code",
   "execution_count": 190,
   "id": "4b6a25ed-2ea0-42c9-8a16-1e049d13f63d",
   "metadata": {},
   "outputs": [],
   "source": [
    "testd = disease_label(test, visits=[2], grouping='detailed')"
   ]
  },
  {
   "cell_type": "code",
   "execution_count": 191,
   "id": "06649475-6f39-424a-a21b-e2661cf291db",
   "metadata": {},
   "outputs": [
    {
     "data": {
      "text/plain": [
       "irritable bowel syndrome         0\n",
       "migraine                         0\n",
       "headaches (not migraine)        21\n",
       "back problem                     0\n",
       "cervical spondylosis             0\n",
       "spine arthritis/spondylitis      0\n",
       "prolapsed disc/slipped disc      0\n",
       "disc problem                     0\n",
       "disc degeneration                0\n",
       "back pain                        0\n",
       "ankylosing spondylitis          18\n",
       "psoriatic arthropathy            0\n",
       "rheumatoid arthritis             0\n",
       "synovitis                        2\n",
       "osteoarthritis                   0\n",
       "joint pain                      69\n",
       "arthritis (nos)                398\n",
       "joint disorder                   2\n",
       "fibromyalgia                    15\n",
       "chronic fatigue syndrome        28\n",
       "dtype: int64"
      ]
     },
     "execution_count": 191,
     "metadata": {},
     "output_type": "execute_result"
    }
   ],
   "source": [
    "testd.sum()"
   ]
  },
  {
   "cell_type": "code",
   "execution_count": 192,
   "id": "67245460-4947-4c90-98e5-16fd8dd5f8e4",
   "metadata": {},
   "outputs": [
    {
     "name": "stderr",
     "output_type": "stream",
     "text": [
      "/home/fs0/syzhang/.conda/envs/bbk/lib/python3.8/site-packages/IPython/core/interactiveshell.py:3165: DtypeWarning: Columns (863,865,867,869) have mixed types.Specify dtype option on import or set low_memory=False.\n",
      "  has_raised = await self.run_ast_nodes(code_ast.body, cell_name,\n"
     ]
    }
   ],
   "source": [
    "testt = pd.read_csv('./data/qsidp_pain_plus.csv')"
   ]
  },
  {
   "cell_type": "code",
   "execution_count": 193,
   "id": "2719a3e8-7bd8-44fc-ae68-8efae71b5cef",
   "metadata": {},
   "outputs": [
    {
     "data": {
      "text/plain": [
       "(18697, 2861)"
      ]
     },
     "execution_count": 193,
     "metadata": {},
     "output_type": "execute_result"
    }
   ],
   "source": [
    "testt.shape"
   ]
  },
  {
   "cell_type": "code",
   "execution_count": 194,
   "id": "85b18c66-b8a3-4c90-83d6-cc0b00cb5c7c",
   "metadata": {},
   "outputs": [
    {
     "name": "stderr",
     "output_type": "stream",
     "text": [
      "/home/fs0/syzhang/.conda/envs/bbk/lib/python3.8/site-packages/IPython/core/interactiveshell.py:3165: DtypeWarning: Columns (863) have mixed types.Specify dtype option on import or set low_memory=False.\n",
      "  has_raised = await self.run_ast_nodes(code_ast.body, cell_name,\n"
     ]
    }
   ],
   "source": [
    "testt = pd.read_csv('./data/qsidp_pain_minus.csv')"
   ]
  },
  {
   "cell_type": "code",
   "execution_count": 195,
   "id": "b5579418-5937-4b1b-abc2-28bb47425ac7",
   "metadata": {},
   "outputs": [
    {
     "data": {
      "text/plain": [
       "(26328, 2861)"
      ]
     },
     "execution_count": 195,
     "metadata": {},
     "output_type": "execute_result"
    }
   ],
   "source": [
    "testt.shape"
   ]
  },
  {
   "cell_type": "markdown",
   "id": "153b34f3-5f0e-4274-b4ea-36a56f0fced2",
   "metadata": {},
   "source": [
    "#### digestive\n",
    "no condition and no pain (visit 0 and 2 too?) and imaging before digestive"
   ]
  },
  {
   "cell_type": "code",
   "execution_count": 196,
   "id": "2ea505a9-66cd-4bec-b25e-b85e5aa0375d",
   "metadata": {},
   "outputs": [
    {
     "name": "stderr",
     "output_type": "stream",
     "text": [
      "/home/fs0/syzhang/.conda/envs/bbk/lib/python3.8/site-packages/IPython/core/interactiveshell.py:3165: DtypeWarning: Columns (863) have mixed types.Specify dtype option on import or set low_memory=False.\n",
      "  has_raised = await self.run_ast_nodes(code_ast.body, cell_name,\n"
     ]
    }
   ],
   "source": [
    "df_controls = pd.read_csv('./data/qsidp_controls.csv')"
   ]
  },
  {
   "cell_type": "code",
   "execution_count": 197,
   "id": "b032b772-43ed-4257-bf67-f61c884ceaed",
   "metadata": {},
   "outputs": [],
   "source": [
    "qs = load_qscode(questionnaire=['digestive', 'demographic'], idp=None)\n",
    "df_qs = extract_qs(df_controls, df_questionnaire=qs, visits=[2])"
   ]
  },
  {
   "cell_type": "code",
   "execution_count": 198,
   "id": "43873399-9692-4e82-877b-71c03fa4e6d4",
   "metadata": {},
   "outputs": [],
   "source": [
    "df_qs.rename(columns={'53-2.0':'imaging_date', '21023-0.0':'digest_date'}, inplace=True)"
   ]
  },
  {
   "cell_type": "code",
   "execution_count": 199,
   "id": "d4429b78-1431-4488-ac19-1350dfea2699",
   "metadata": {},
   "outputs": [],
   "source": [
    "# to dt\n",
    "df_dt = pd.to_datetime(df_qs['digest_date'])\n",
    "df_it = pd.to_datetime(df_qs['imaging_date'])\n",
    "# calcualte diff\n",
    "diff = (df_dt-df_it).values\n",
    "dff = diff.astype('int64')"
   ]
  },
  {
   "cell_type": "code",
   "execution_count": 201,
   "id": "0fc6d8dd-0f6d-42ac-85ed-4c9e0fd926aa",
   "metadata": {},
   "outputs": [
    {
     "data": {
      "text/plain": [
       "0.27252081756245267"
      ]
     },
     "execution_count": 201,
     "metadata": {},
     "output_type": "execute_result"
    }
   ],
   "source": [
    "# those finished digestive after imaging\n",
    "sum(dff>0)/len(dff)"
   ]
  },
  {
   "cell_type": "code",
   "execution_count": 202,
   "id": "8d318eaa-2c31-4ff7-be3c-56283483631a",
   "metadata": {},
   "outputs": [],
   "source": [
    "# those finished digestive after imaging\n",
    "df_dig = df_qs[dff>0]"
   ]
  },
  {
   "cell_type": "code",
   "execution_count": 203,
   "id": "5272d071-9245-42cf-9a5c-28e438e3edfe",
   "metadata": {},
   "outputs": [
    {
     "data": {
      "text/plain": [
       "(4680, 36)"
      ]
     },
     "execution_count": 203,
     "metadata": {},
     "output_type": "execute_result"
    }
   ],
   "source": [
    "df_dig.shape"
   ]
  },
  {
   "cell_type": "code",
   "execution_count": 204,
   "id": "987a32fe-31f8-4455-865e-0c1d6ce867e7",
   "metadata": {},
   "outputs": [],
   "source": [
    "df_digdiff = pd.to_datetime(df_dig['digest_date']) - pd.to_datetime(df_dig['imaging_date'])"
   ]
  },
  {
   "cell_type": "code",
   "execution_count": 205,
   "id": "b19e7fc2-f237-42a1-93cb-5ca5b2b86697",
   "metadata": {},
   "outputs": [
    {
     "data": {
      "text/plain": [
       "Timedelta('496 days 03:26:14.097008544')"
      ]
     },
     "execution_count": 205,
     "metadata": {},
     "output_type": "execute_result"
    }
   ],
   "source": [
    "df_digdiff.mean()"
   ]
  },
  {
   "cell_type": "code",
   "execution_count": null,
   "id": "725d2ee8-2351-4054-b222-c7b0b59e18b0",
   "metadata": {},
   "outputs": [],
   "source": []
  },
  {
   "cell_type": "code",
   "execution_count": 206,
   "id": "c37ab739-023a-4014-9402-2f0afc641bc5",
   "metadata": {},
   "outputs": [
    {
     "data": {
      "text/plain": [
       "Timedelta('305 days 20:49:21.630547256')"
      ]
     },
     "execution_count": 206,
     "metadata": {},
     "output_type": "execute_result"
    }
   ],
   "source": [
    "df_digdiff.std()"
   ]
  },
  {
   "cell_type": "code",
   "execution_count": 207,
   "id": "67e528fe-20b4-47a2-8263-ebcd2a3c60a2",
   "metadata": {},
   "outputs": [
    {
     "data": {
      "text/plain": [
       "5        1001143\n",
       "10       1002039\n",
       "11       1002393\n",
       "12       1003045\n",
       "13       1003203\n",
       "          ...   \n",
       "17158    6020209\n",
       "17163    6022107\n",
       "17165    6022279\n",
       "17168    6023724\n",
       "17169    6023887\n",
       "Name: eid, Length: 4680, dtype: int64"
      ]
     },
     "execution_count": 207,
     "metadata": {},
     "output_type": "execute_result"
    }
   ],
   "source": [
    "df_dig['eid']"
   ]
  },
  {
   "cell_type": "code",
   "execution_count": 208,
   "id": "b611bf6a-7658-483e-a11b-030e13e2fc92",
   "metadata": {},
   "outputs": [],
   "source": [
    "df_painfree = df_controls[df_controls['eid'].isin(df_dig['eid'])]"
   ]
  },
  {
   "cell_type": "code",
   "execution_count": 209,
   "id": "05df2749-796e-498d-8f67-f8dd28393c08",
   "metadata": {},
   "outputs": [
    {
     "name": "stdout",
     "output_type": "stream",
     "text": [
      "['6159-2.0', '6159-2.1', '6159-2.2', '6159-2.3', '6159-2.4', '6159-2.5', '6159-2.6']\n"
     ]
    }
   ],
   "source": [
    "cols_ls = check_field(df_painfree, 6159, visit=2)"
   ]
  },
  {
   "cell_type": "code",
   "execution_count": 210,
   "id": "77c5e774-1c4e-4ca3-b581-e401dcee63e6",
   "metadata": {},
   "outputs": [
    {
     "name": "stdout",
     "output_type": "stream",
     "text": [
      "6159-2.0 (4680, 2861)\n",
      "6159-2.1 (0, 2861)\n",
      "6159-2.2 (0, 2861)\n",
      "6159-2.3 (0, 2861)\n",
      "6159-2.4 (0, 2861)\n",
      "6159-2.5 (0, 2861)\n",
      "6159-2.6 (0, 2861)\n"
     ]
    }
   ],
   "source": [
    "df_cut = check_count(df_painfree, cols_ls, -7)"
   ]
  },
  {
   "cell_type": "code",
   "execution_count": 211,
   "id": "fc4d4665-9c7a-458c-a33a-233ce66a71c5",
   "metadata": {},
   "outputs": [],
   "source": [
    "control_disease = disease_label(df_cut, visits=[2], grouping='detailed')"
   ]
  },
  {
   "cell_type": "code",
   "execution_count": 212,
   "id": "f74bc102-f2da-497a-826b-55a35f353d0b",
   "metadata": {},
   "outputs": [
    {
     "data": {
      "text/plain": [
       "irritable bowel syndrome       0\n",
       "migraine                       0\n",
       "headaches (not migraine)       0\n",
       "back problem                   0\n",
       "cervical spondylosis           0\n",
       "spine arthritis/spondylitis    0\n",
       "prolapsed disc/slipped disc    0\n",
       "disc problem                   0\n",
       "disc degeneration              0\n",
       "back pain                      0\n",
       "ankylosing spondylitis         0\n",
       "psoriatic arthropathy          0\n",
       "rheumatoid arthritis           0\n",
       "synovitis                      0\n",
       "osteoarthritis                 0\n",
       "joint pain                     0\n",
       "arthritis (nos)                0\n",
       "joint disorder                 0\n",
       "fibromyalgia                   0\n",
       "chronic fatigue syndrome       0\n",
       "dtype: int64"
      ]
     },
     "execution_count": 212,
     "metadata": {},
     "output_type": "execute_result"
    }
   ],
   "source": [
    "control_disease.sum()"
   ]
  },
  {
   "cell_type": "code",
   "execution_count": 213,
   "id": "dcbaf686-4c28-4f61-ad3d-951fcfb4c78e",
   "metadata": {},
   "outputs": [],
   "source": [
    "df_nodisease = control_disease.sum(axis=1)==False"
   ]
  },
  {
   "cell_type": "code",
   "execution_count": 214,
   "id": "1eb9e425-6076-4e79-b437-123250c9e44b",
   "metadata": {},
   "outputs": [
    {
     "data": {
      "text/plain": [
       "4680"
      ]
     },
     "execution_count": 214,
     "metadata": {},
     "output_type": "execute_result"
    }
   ],
   "source": [
    "df_nodisease.sum()"
   ]
  },
  {
   "cell_type": "code",
   "execution_count": 215,
   "id": "8aa13644-245b-4330-ba22-24d3fa50223a",
   "metadata": {},
   "outputs": [],
   "source": [
    "df_paindiseasefree = df_cut[df_nodisease.values]"
   ]
  },
  {
   "cell_type": "code",
   "execution_count": 216,
   "id": "4204a1da-d06e-456f-8984-682360ad9231",
   "metadata": {},
   "outputs": [
    {
     "data": {
      "text/plain": [
       "(4680, 2861)"
      ]
     },
     "execution_count": 216,
     "metadata": {},
     "output_type": "execute_result"
    }
   ],
   "source": [
    "df_paindiseasefree.shape"
   ]
  },
  {
   "cell_type": "code",
   "execution_count": 217,
   "id": "cf27a9a8-a97d-4ac4-92d8-95ae01ce7013",
   "metadata": {},
   "outputs": [
    {
     "name": "stdout",
     "output_type": "stream",
     "text": [
      "['21027-0.0']\n"
     ]
    }
   ],
   "source": [
    "cols_ls = check_field(df_paindiseasefree, 21027, visit=0)"
   ]
  },
  {
   "cell_type": "code",
   "execution_count": 218,
   "id": "04a44614-9797-4461-9a54-78faba39393f",
   "metadata": {},
   "outputs": [
    {
     "name": "stdout",
     "output_type": "stream",
     "text": [
      "['21048-0.0']\n"
     ]
    }
   ],
   "source": [
    "cols_ls = check_field(df_paindiseasefree, 21048, visit=0)"
   ]
  },
  {
   "cell_type": "code",
   "execution_count": 219,
   "id": "f0186dd9-1f37-4a61-b34c-be1bd632f0ee",
   "metadata": {},
   "outputs": [
    {
     "name": "stdout",
     "output_type": "stream",
     "text": [
      "['21048-0.0']\n"
     ]
    }
   ],
   "source": [
    "cols_ls = check_field(df_paindiseasefree, 21048, visit=0)"
   ]
  },
  {
   "cell_type": "code",
   "execution_count": 220,
   "id": "53b91dff-88b6-42af-8e21-7c4d6e2c03a0",
   "metadata": {},
   "outputs": [
    {
     "name": "stdout",
     "output_type": "stream",
     "text": [
      "21048-0.0 (219, 2861)\n"
     ]
    }
   ],
   "source": [
    "df_cut = check_count(df_paindiseasefree, cols_ls, -602)"
   ]
  },
  {
   "cell_type": "code",
   "execution_count": 221,
   "id": "8cf813f9-5e38-482e-9868-eeae02c6fad2",
   "metadata": {},
   "outputs": [
    {
     "name": "stdout",
     "output_type": "stream",
     "text": [
      "21048-0.0 (219, 2861)\n"
     ]
    }
   ],
   "source": [
    "df_cut = check_count(df_paindiseasefree, cols_ls, -602)"
   ]
  },
  {
   "cell_type": "code",
   "execution_count": 222,
   "id": "bdbbd74d-e475-4be7-8b3c-632837bc1edb",
   "metadata": {},
   "outputs": [
    {
     "name": "stdout",
     "output_type": "stream",
     "text": [
      "21048-0.0 (1998, 2861)\n"
     ]
    }
   ],
   "source": [
    "df_cut = check_count(df_paindiseasefree, cols_ls, -601)"
   ]
  },
  {
   "cell_type": "code",
   "execution_count": 223,
   "id": "f8d49fb8-7266-46df-a6f3-201e2fe52e93",
   "metadata": {},
   "outputs": [
    {
     "name": "stdout",
     "output_type": "stream",
     "text": [
      "21048-0.0 (0, 2861)\n"
     ]
    }
   ],
   "source": [
    "df_cut = check_count(df_paindiseasefree, cols_ls, 1)"
   ]
  },
  {
   "cell_type": "code",
   "execution_count": null,
   "id": "adabd7ec-b844-4ad1-a79b-13a07653c00c",
   "metadata": {},
   "outputs": [],
   "source": []
  },
  {
   "cell_type": "code",
   "execution_count": null,
   "id": "c8e3b048-2867-4e7f-952f-e61fcd120a9c",
   "metadata": {},
   "outputs": [],
   "source": []
  },
  {
   "cell_type": "code",
   "execution_count": null,
   "id": "46c3b4ad-0bdc-4ea9-af34-c47886091aa5",
   "metadata": {},
   "outputs": [],
   "source": []
  },
  {
   "cell_type": "code",
   "execution_count": null,
   "id": "84ac860b-ee59-4213-92e1-6308f8a4ab8e",
   "metadata": {},
   "outputs": [],
   "source": []
  },
  {
   "cell_type": "code",
   "execution_count": null,
   "id": "7d6ce0f0-4f5e-4467-b2e0-2ceaa118c3c5",
   "metadata": {},
   "outputs": [],
   "source": []
  },
  {
   "cell_type": "code",
   "execution_count": null,
   "id": "aa927a4b-6671-400f-99bd-22faa519214f",
   "metadata": {},
   "outputs": [],
   "source": []
  }
 ],
 "metadata": {
  "kernelspec": {
   "display_name": "Python 3",
   "language": "python",
   "name": "python3"
  },
  "language_info": {
   "codemirror_mode": {
    "name": "ipython",
    "version": 3
   },
   "file_extension": ".py",
   "mimetype": "text/x-python",
   "name": "python",
   "nbconvert_exporter": "python",
   "pygments_lexer": "ipython3",
   "version": "3.8.8"
  }
 },
 "nbformat": 4,
 "nbformat_minor": 5
}
