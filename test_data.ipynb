{
 "cells": [
  {
   "cell_type": "markdown",
   "id": "beneficial-speed",
   "metadata": {},
   "source": [
    "### initial check"
   ]
  },
  {
   "cell_type": "code",
   "execution_count": 1,
   "id": "assigned-custody",
   "metadata": {},
   "outputs": [],
   "source": [
    "import os\n",
    "import numpy as np\n",
    "import pandas as pd\n",
    "import funpack\n",
    "import matplotlib.pyplot as plt\n",
    "import seaborn as sns"
   ]
  },
  {
   "cell_type": "code",
   "execution_count": 2,
   "id": "metropolitan-compiler",
   "metadata": {},
   "outputs": [
    {
     "name": "stdout",
     "output_type": "stream",
     "text": [
      "/home/fs0/syzhang/.conda/envs/biobank/lib/python3.9/site-packages/funpack\n"
     ]
    }
   ],
   "source": [
    "fp_dir = os.path.dirname(funpack.__file__)\n",
    "print(fp_dir)"
   ]
  },
  {
   "cell_type": "code",
   "execution_count": 3,
   "id": "fifteen-amount",
   "metadata": {},
   "outputs": [
    {
     "name": "stdout",
     "output_type": "stream",
     "text": [
      "datetime_formatting.tsv\n",
      "variables_clean.tsv\n",
      "processing.tsv\n",
      "categories.tsv\n",
      "variables_parentvalues.tsv\n",
      "datacodings_navalues.tsv\n",
      "datacodings_recoding.tsv\n"
     ]
    }
   ],
   "source": [
    "cfg_dir = os.path.join(fp_dir, 'configs', 'fmrib')\n",
    "\n",
    "for f in os.listdir(cfg_dir):\n",
    "    print(f)"
   ]
  },
  {
   "cell_type": "code",
   "execution_count": 4,
   "id": "banner-drive",
   "metadata": {},
   "outputs": [],
   "source": [
    "df = pd.read_csv(os.path.join(cfg_dir, 'categories.tsv'), '\\t')"
   ]
  },
  {
   "cell_type": "code",
   "execution_count": 5,
   "id": "entitled-manchester",
   "metadata": {},
   "outputs": [
    {
     "data": {
      "text/plain": [
       "(24, 3)"
      ]
     },
     "execution_count": 5,
     "metadata": {},
     "output_type": "execute_result"
    }
   ],
   "source": [
    "df.shape"
   ]
  },
  {
   "cell_type": "code",
   "execution_count": 6,
   "id": "revised-survival",
   "metadata": {},
   "outputs": [
    {
     "data": {
      "text/html": [
       "<div>\n",
       "<style scoped>\n",
       "    .dataframe tbody tr th:only-of-type {\n",
       "        vertical-align: middle;\n",
       "    }\n",
       "\n",
       "    .dataframe tbody tr th {\n",
       "        vertical-align: top;\n",
       "    }\n",
       "\n",
       "    .dataframe thead th {\n",
       "        text-align: right;\n",
       "    }\n",
       "</style>\n",
       "<table border=\"1\" class=\"dataframe\">\n",
       "  <thead>\n",
       "    <tr style=\"text-align: right;\">\n",
       "      <th></th>\n",
       "      <th>ID</th>\n",
       "      <th>Category</th>\n",
       "      <th>Variables</th>\n",
       "    </tr>\n",
       "  </thead>\n",
       "  <tbody>\n",
       "    <tr>\n",
       "      <th>0</th>\n",
       "      <td>1</td>\n",
       "      <td>age, sex, brain MRI protocol, Phase</td>\n",
       "      <td>31,34,21022,22200,25780</td>\n",
       "    </tr>\n",
       "    <tr>\n",
       "      <th>1</th>\n",
       "      <td>2</td>\n",
       "      <td>genetics</td>\n",
       "      <td>21000,22000:22125,22201:22325,22182,22800:22823</td>\n",
       "    </tr>\n",
       "    <tr>\n",
       "      <th>2</th>\n",
       "      <td>3</td>\n",
       "      <td>early life factors</td>\n",
       "      <td>52,129,130,1677,1687,1697,1737,1767,1777,1787,...</td>\n",
       "    </tr>\n",
       "    <tr>\n",
       "      <th>3</th>\n",
       "      <td>10</td>\n",
       "      <td>lifestyle and environment - general</td>\n",
       "      <td>3:6,132,189,670,680,699,709,728,738,767,777,10...</td>\n",
       "    </tr>\n",
       "    <tr>\n",
       "      <th>4</th>\n",
       "      <td>11</td>\n",
       "      <td>lifestyle and environment - exercise and work</td>\n",
       "      <td>1001,1011,796,806,816,826,845,864,874,884,894,...</td>\n",
       "    </tr>\n",
       "    <tr>\n",
       "      <th>5</th>\n",
       "      <td>12</td>\n",
       "      <td>lifestyle and environment - food and drink</td>\n",
       "      <td>1289:10:1389,1408:10:1548,2654,3089,3680,6144,...</td>\n",
       "    </tr>\n",
       "    <tr>\n",
       "      <th>6</th>\n",
       "      <td>13</td>\n",
       "      <td>lifestyle and environment - alcohol</td>\n",
       "      <td>1558:10:1628,2664,3731,3859,4407,4418,4429,444...</td>\n",
       "    </tr>\n",
       "    <tr>\n",
       "      <th>7</th>\n",
       "      <td>14</td>\n",
       "      <td>lifestyle and environment - tobacco</td>\n",
       "      <td>1239:10:1279,2644,2867:10:2907,2926,2936,3159,...</td>\n",
       "    </tr>\n",
       "    <tr>\n",
       "      <th>8</th>\n",
       "      <td>20</td>\n",
       "      <td>physical measures - general</td>\n",
       "      <td>46:51,1707,1717,1727,1747,1757,2306,3059,3062:...</td>\n",
       "    </tr>\n",
       "    <tr>\n",
       "      <th>9</th>\n",
       "      <td>21</td>\n",
       "      <td>physical measures - bone density and sizes</td>\n",
       "      <td>77,78,3083:3086,3143:3144,3146:3148,4092,4095,...</td>\n",
       "    </tr>\n",
       "    <tr>\n",
       "      <th>10</th>\n",
       "      <td>22</td>\n",
       "      <td>physical measures - cardiac &amp; blood vessels</td>\n",
       "      <td>93:95,102,4079,4080,4136,4194:4196,4198:4200,4...</td>\n",
       "    </tr>\n",
       "    <tr>\n",
       "      <th>11</th>\n",
       "      <td>23</td>\n",
       "      <td>hearing test</td>\n",
       "      <td>4229:4230,4232:4237,4239:4247,4249,4268:4270,4...</td>\n",
       "    </tr>\n",
       "    <tr>\n",
       "      <th>12</th>\n",
       "      <td>24</td>\n",
       "      <td>eye test</td>\n",
       "      <td>5076:5079,5082:5091,5096:5119,5132:5136,5138:5...</td>\n",
       "    </tr>\n",
       "    <tr>\n",
       "      <th>13</th>\n",
       "      <td>25</td>\n",
       "      <td>physical activity measures</td>\n",
       "      <td>5985,90002:90003,90010:90013,90015:90177,90179...</td>\n",
       "    </tr>\n",
       "    <tr>\n",
       "      <th>14</th>\n",
       "      <td>26</td>\n",
       "      <td>abdominal measures</td>\n",
       "      <td>22415:22416</td>\n",
       "    </tr>\n",
       "    <tr>\n",
       "      <th>15</th>\n",
       "      <td>30</td>\n",
       "      <td>blood assays</td>\n",
       "      <td>74,23000:23044,23049:23060,23062,23063,23065:2...</td>\n",
       "    </tr>\n",
       "    <tr>\n",
       "      <th>16</th>\n",
       "      <td>31</td>\n",
       "      <td>brain IDPs</td>\n",
       "      <td>25000:25746,25754:25759,25761:25768,25781:2592...</td>\n",
       "    </tr>\n",
       "    <tr>\n",
       "      <th>17</th>\n",
       "      <td>32</td>\n",
       "      <td>cognitive phenotypes</td>\n",
       "      <td>62,111,396:404,630,4250:4256,4258:4260,4281:42...</td>\n",
       "    </tr>\n",
       "    <tr>\n",
       "      <th>18</th>\n",
       "      <td>50</td>\n",
       "      <td>health and medical history, health outcomes</td>\n",
       "      <td>84,87,92,134:137,2178,2188,2207,2217,2227,2247...</td>\n",
       "    </tr>\n",
       "    <tr>\n",
       "      <th>19</th>\n",
       "      <td>51</td>\n",
       "      <td>mental health self-report</td>\n",
       "      <td>1920:10:2110,4526,4537,4548,4559,4570,4581,459...</td>\n",
       "    </tr>\n",
       "    <tr>\n",
       "      <th>20</th>\n",
       "      <td>60</td>\n",
       "      <td>health dates</td>\n",
       "      <td>41257,41260,41262,41263,41268,41280:41283,4201...</td>\n",
       "    </tr>\n",
       "    <tr>\n",
       "      <th>21</th>\n",
       "      <td>70</td>\n",
       "      <td>health sources</td>\n",
       "      <td>42015,42017,130005,130009,130015:2:130019,1300...</td>\n",
       "    </tr>\n",
       "    <tr>\n",
       "      <th>22</th>\n",
       "      <td>98</td>\n",
       "      <td>pending</td>\n",
       "      <td>41259,41261,41264,42038:42040</td>\n",
       "    </tr>\n",
       "    <tr>\n",
       "      <th>23</th>\n",
       "      <td>99</td>\n",
       "      <td>miscellaneous</td>\n",
       "      <td>19,21,35:45,53:55,68,96,120,200,393,757,1647,2...</td>\n",
       "    </tr>\n",
       "  </tbody>\n",
       "</table>\n",
       "</div>"
      ],
      "text/plain": [
       "    ID                                       Category  \\\n",
       "0    1            age, sex, brain MRI protocol, Phase   \n",
       "1    2                                       genetics   \n",
       "2    3                             early life factors   \n",
       "3   10            lifestyle and environment - general   \n",
       "4   11  lifestyle and environment - exercise and work   \n",
       "5   12     lifestyle and environment - food and drink   \n",
       "6   13            lifestyle and environment - alcohol   \n",
       "7   14            lifestyle and environment - tobacco   \n",
       "8   20                    physical measures - general   \n",
       "9   21     physical measures - bone density and sizes   \n",
       "10  22    physical measures - cardiac & blood vessels   \n",
       "11  23                                   hearing test   \n",
       "12  24                                       eye test   \n",
       "13  25                     physical activity measures   \n",
       "14  26                             abdominal measures   \n",
       "15  30                                   blood assays   \n",
       "16  31                                     brain IDPs   \n",
       "17  32                           cognitive phenotypes   \n",
       "18  50    health and medical history, health outcomes   \n",
       "19  51                      mental health self-report   \n",
       "20  60                                   health dates   \n",
       "21  70                                 health sources   \n",
       "22  98                                        pending   \n",
       "23  99                                  miscellaneous   \n",
       "\n",
       "                                            Variables  \n",
       "0                             31,34,21022,22200,25780  \n",
       "1     21000,22000:22125,22201:22325,22182,22800:22823  \n",
       "2   52,129,130,1677,1687,1697,1737,1767,1777,1787,...  \n",
       "3   3:6,132,189,670,680,699,709,728,738,767,777,10...  \n",
       "4   1001,1011,796,806,816,826,845,864,874,884,894,...  \n",
       "5   1289:10:1389,1408:10:1548,2654,3089,3680,6144,...  \n",
       "6   1558:10:1628,2664,3731,3859,4407,4418,4429,444...  \n",
       "7   1239:10:1279,2644,2867:10:2907,2926,2936,3159,...  \n",
       "8   46:51,1707,1717,1727,1747,1757,2306,3059,3062:...  \n",
       "9   77,78,3083:3086,3143:3144,3146:3148,4092,4095,...  \n",
       "10  93:95,102,4079,4080,4136,4194:4196,4198:4200,4...  \n",
       "11  4229:4230,4232:4237,4239:4247,4249,4268:4270,4...  \n",
       "12  5076:5079,5082:5091,5096:5119,5132:5136,5138:5...  \n",
       "13  5985,90002:90003,90010:90013,90015:90177,90179...  \n",
       "14                                        22415:22416  \n",
       "15  74,23000:23044,23049:23060,23062,23063,23065:2...  \n",
       "16  25000:25746,25754:25759,25761:25768,25781:2592...  \n",
       "17  62,111,396:404,630,4250:4256,4258:4260,4281:42...  \n",
       "18  84,87,92,134:137,2178,2188,2207,2217,2227,2247...  \n",
       "19  1920:10:2110,4526,4537,4548,4559,4570,4581,459...  \n",
       "20  41257,41260,41262,41263,41268,41280:41283,4201...  \n",
       "21  42015,42017,130005,130009,130015:2:130019,1300...  \n",
       "22                      41259,41261,41264,42038:42040  \n",
       "23  19,21,35:45,53:55,68,96,120,200,393,757,1647,2...  "
      ]
     },
     "execution_count": 6,
     "metadata": {},
     "output_type": "execute_result"
    }
   ],
   "source": [
    "df"
   ]
  },
  {
   "cell_type": "code",
   "execution_count": 34,
   "id": "bibliographic-operator",
   "metadata": {},
   "outputs": [],
   "source": [
    "dfp = pd.read_csv(os.path.join(cfg_dir, 'datacodings_navalues.tsv'), sep='\\t')"
   ]
  },
  {
   "cell_type": "code",
   "execution_count": 37,
   "id": "welcome-outreach",
   "metadata": {},
   "outputs": [
    {
     "data": {
      "text/html": [
       "<div>\n",
       "<style scoped>\n",
       "    .dataframe tbody tr th:only-of-type {\n",
       "        vertical-align: middle;\n",
       "    }\n",
       "\n",
       "    .dataframe tbody tr th {\n",
       "        vertical-align: top;\n",
       "    }\n",
       "\n",
       "    .dataframe thead th {\n",
       "        text-align: right;\n",
       "    }\n",
       "</style>\n",
       "<table border=\"1\" class=\"dataframe\">\n",
       "  <thead>\n",
       "    <tr style=\"text-align: right;\">\n",
       "      <th></th>\n",
       "      <th>ID</th>\n",
       "      <th>NAValues</th>\n",
       "    </tr>\n",
       "  </thead>\n",
       "  <tbody>\n",
       "    <tr>\n",
       "      <th>0</th>\n",
       "      <td>13</td>\n",
       "      <td>-1,-3</td>\n",
       "    </tr>\n",
       "    <tr>\n",
       "      <th>1</th>\n",
       "      <td>14</td>\n",
       "      <td>-1,-3</td>\n",
       "    </tr>\n",
       "    <tr>\n",
       "      <th>2</th>\n",
       "      <td>37</td>\n",
       "      <td>-1,-3</td>\n",
       "    </tr>\n",
       "    <tr>\n",
       "      <th>3</th>\n",
       "      <td>90</td>\n",
       "      <td>-3</td>\n",
       "    </tr>\n",
       "    <tr>\n",
       "      <th>4</th>\n",
       "      <td>101</td>\n",
       "      <td>-1</td>\n",
       "    </tr>\n",
       "    <tr>\n",
       "      <th>...</th>\n",
       "      <td>...</td>\n",
       "      <td>...</td>\n",
       "    </tr>\n",
       "    <tr>\n",
       "      <th>179</th>\n",
       "      <td>100690</td>\n",
       "      <td>-3</td>\n",
       "    </tr>\n",
       "    <tr>\n",
       "      <th>180</th>\n",
       "      <td>100691</td>\n",
       "      <td>-3</td>\n",
       "    </tr>\n",
       "    <tr>\n",
       "      <th>181</th>\n",
       "      <td>100692</td>\n",
       "      <td>-3</td>\n",
       "    </tr>\n",
       "    <tr>\n",
       "      <th>182</th>\n",
       "      <td>100698</td>\n",
       "      <td>-313</td>\n",
       "    </tr>\n",
       "    <tr>\n",
       "      <th>183</th>\n",
       "      <td>100699</td>\n",
       "      <td>1,99</td>\n",
       "    </tr>\n",
       "  </tbody>\n",
       "</table>\n",
       "<p>184 rows × 2 columns</p>\n",
       "</div>"
      ],
      "text/plain": [
       "         ID NAValues\n",
       "0        13    -1,-3\n",
       "1        14    -1,-3\n",
       "2        37    -1,-3\n",
       "3        90       -3\n",
       "4       101       -1\n",
       "..      ...      ...\n",
       "179  100690       -3\n",
       "180  100691       -3\n",
       "181  100692       -3\n",
       "182  100698     -313\n",
       "183  100699     1,99\n",
       "\n",
       "[184 rows x 2 columns]"
      ]
     },
     "execution_count": 37,
     "metadata": {},
     "output_type": "execute_result"
    }
   ],
   "source": [
    "dfp"
   ]
  },
  {
   "cell_type": "markdown",
   "id": "competitive-audit",
   "metadata": {},
   "source": [
    "#### testing subj data"
   ]
  },
  {
   "cell_type": "markdown",
   "id": "academic-beijing",
   "metadata": {},
   "source": [
    "* 0 - initial assessment visit (2006-10), recruited and consent, 8840 people\n",
    "* 1 - first repeat assessment visit (2012-13), 218 people\n",
    "* 2 - imaging visit (2014+), 462 people\n",
    "* 3 - first repeat imaging visit (2019+) "
   ]
  },
  {
   "cell_type": "code",
   "execution_count": 2,
   "id": "statistical-hampton",
   "metadata": {},
   "outputs": [],
   "source": [
    "tsv_cond = os.path.join('..', 'funpack_cfg', 'subj_with_condition_with_clinical_variables.tsv')"
   ]
  },
  {
   "cell_type": "code",
   "execution_count": 3,
   "id": "human-roman",
   "metadata": {},
   "outputs": [
    {
     "name": "stderr",
     "output_type": "stream",
     "text": [
      "/home/fs0/syzhang/.conda/envs/biobank/lib/python3.9/site-packages/IPython/core/interactiveshell.py:3165: DtypeWarning: Columns (2446,2447,2448,2449,2450,2451,2452,2453,2454,2455,2456,2457,2458,2459,2460,2461,2462,2463,2464,2500,2501,2502,2503,2504,2505,2506,2507,2508,2558,2559,2560,2561,2562,2563,2564,2565,2566,2567,2568,2569,2570,2571,2572,2573,2574,2575,2576,2577,2578,2579,2580,2581,2582,2583,2584,2585,2586,2587,2588,2589,2590,2591,2592,2593,2594,2595,2596,2597,2598,2599,2600,2601,2602,2603,2604,2605,2606,2607,2608,2609,2610,2611,2612,2613,2614,2615,2616,2617,2618,2619,2620,2621,2622,2623,2624,2625,2626,2627,2628,2739,2740,2741,2742,2743,2744,2745,2746,2747,2748,2749,2750,2751,2818,2819,2820,2821,2822,2823,2824,2825,2826,2827,2828,2829,2830,2831,2832,2833,2834,2835,2836,2837,2838,2839,2840,2841,2842,2843,2844,2845,2846,2847,2848,2849,2850,2851,2852,2853,2854,2855,2856,2857,2858,2859,2860,2861,2862,2863,2864,2865,2866,2867,2868,2869,2870,2871,2872,2873,2874,2875,2876,2877,2878,2879,2880,2881,2882,2883,2884,2885,2886,2887,2888,3001,3002,3003,3004,3005,3006,3007,3008,3009,3010,3011) have mixed types.Specify dtype option on import or set low_memory=False.\n",
      "  has_raised = await self.run_ast_nodes(code_ast.body, cell_name,\n"
     ]
    }
   ],
   "source": [
    "df_cond = pd.read_csv(tsv_cond, sep='\\t')"
   ]
  },
  {
   "cell_type": "code",
   "execution_count": 4,
   "id": "gross-scene",
   "metadata": {},
   "outputs": [
    {
     "data": {
      "text/plain": [
       "(8331, 3794)"
      ]
     },
     "execution_count": 4,
     "metadata": {},
     "output_type": "execute_result"
    }
   ],
   "source": [
    "df_cond.shape"
   ]
  },
  {
   "cell_type": "code",
   "execution_count": 15,
   "id": "remarkable-montreal",
   "metadata": {},
   "outputs": [
    {
     "data": {
      "text/html": [
       "<div>\n",
       "<style scoped>\n",
       "    .dataframe tbody tr th:only-of-type {\n",
       "        vertical-align: middle;\n",
       "    }\n",
       "\n",
       "    .dataframe tbody tr th {\n",
       "        vertical-align: top;\n",
       "    }\n",
       "\n",
       "    .dataframe thead th {\n",
       "        text-align: right;\n",
       "    }\n",
       "</style>\n",
       "<table border=\"1\" class=\"dataframe\">\n",
       "  <thead>\n",
       "    <tr style=\"text-align: right;\">\n",
       "      <th></th>\n",
       "      <th>eid</th>\n",
       "      <th>6159-0.0</th>\n",
       "      <th>6159-0.1</th>\n",
       "      <th>6159-0.2</th>\n",
       "      <th>6159-0.3</th>\n",
       "      <th>6159-0.4</th>\n",
       "      <th>6159-0.5</th>\n",
       "      <th>6159-0.6</th>\n",
       "      <th>6159-1.0</th>\n",
       "      <th>6159-1.1</th>\n",
       "      <th>...</th>\n",
       "      <th>20155-0.21</th>\n",
       "      <th>20155-0.22</th>\n",
       "      <th>20155-0.23</th>\n",
       "      <th>20155-0.24</th>\n",
       "      <th>20155-0.25</th>\n",
       "      <th>20156-0.0</th>\n",
       "      <th>20157-0.0</th>\n",
       "      <th>20246-0.0</th>\n",
       "      <th>20247-0.0</th>\n",
       "      <th>20248-0.0</th>\n",
       "    </tr>\n",
       "  </thead>\n",
       "  <tbody>\n",
       "    <tr>\n",
       "      <th>0</th>\n",
       "      <td>1000149</td>\n",
       "      <td>4.0</td>\n",
       "      <td>NaN</td>\n",
       "      <td>NaN</td>\n",
       "      <td>NaN</td>\n",
       "      <td>NaN</td>\n",
       "      <td>NaN</td>\n",
       "      <td>NaN</td>\n",
       "      <td>NaN</td>\n",
       "      <td>NaN</td>\n",
       "      <td>...</td>\n",
       "      <td>NaN</td>\n",
       "      <td>NaN</td>\n",
       "      <td>NaN</td>\n",
       "      <td>NaN</td>\n",
       "      <td>NaN</td>\n",
       "      <td>NaN</td>\n",
       "      <td>NaN</td>\n",
       "      <td>3.0</td>\n",
       "      <td>2.0</td>\n",
       "      <td>NaN</td>\n",
       "    </tr>\n",
       "    <tr>\n",
       "      <th>1</th>\n",
       "      <td>1001225</td>\n",
       "      <td>3.0</td>\n",
       "      <td>7.0</td>\n",
       "      <td>NaN</td>\n",
       "      <td>NaN</td>\n",
       "      <td>NaN</td>\n",
       "      <td>NaN</td>\n",
       "      <td>NaN</td>\n",
       "      <td>NaN</td>\n",
       "      <td>NaN</td>\n",
       "      <td>...</td>\n",
       "      <td>NaN</td>\n",
       "      <td>NaN</td>\n",
       "      <td>NaN</td>\n",
       "      <td>NaN</td>\n",
       "      <td>NaN</td>\n",
       "      <td>NaN</td>\n",
       "      <td>NaN</td>\n",
       "      <td>NaN</td>\n",
       "      <td>NaN</td>\n",
       "      <td>NaN</td>\n",
       "    </tr>\n",
       "    <tr>\n",
       "      <th>2</th>\n",
       "      <td>1001416</td>\n",
       "      <td>-7.0</td>\n",
       "      <td>NaN</td>\n",
       "      <td>NaN</td>\n",
       "      <td>NaN</td>\n",
       "      <td>NaN</td>\n",
       "      <td>NaN</td>\n",
       "      <td>NaN</td>\n",
       "      <td>-7.0</td>\n",
       "      <td>NaN</td>\n",
       "      <td>...</td>\n",
       "      <td>NaN</td>\n",
       "      <td>NaN</td>\n",
       "      <td>NaN</td>\n",
       "      <td>NaN</td>\n",
       "      <td>NaN</td>\n",
       "      <td>NaN</td>\n",
       "      <td>NaN</td>\n",
       "      <td>NaN</td>\n",
       "      <td>NaN</td>\n",
       "      <td>NaN</td>\n",
       "    </tr>\n",
       "    <tr>\n",
       "      <th>3</th>\n",
       "      <td>1002910</td>\n",
       "      <td>1.0</td>\n",
       "      <td>4.0</td>\n",
       "      <td>5.0</td>\n",
       "      <td>7.0</td>\n",
       "      <td>NaN</td>\n",
       "      <td>NaN</td>\n",
       "      <td>NaN</td>\n",
       "      <td>NaN</td>\n",
       "      <td>NaN</td>\n",
       "      <td>...</td>\n",
       "      <td>NaN</td>\n",
       "      <td>NaN</td>\n",
       "      <td>NaN</td>\n",
       "      <td>NaN</td>\n",
       "      <td>NaN</td>\n",
       "      <td>NaN</td>\n",
       "      <td>NaN</td>\n",
       "      <td>NaN</td>\n",
       "      <td>NaN</td>\n",
       "      <td>NaN</td>\n",
       "    </tr>\n",
       "    <tr>\n",
       "      <th>4</th>\n",
       "      <td>1003609</td>\n",
       "      <td>-7.0</td>\n",
       "      <td>NaN</td>\n",
       "      <td>NaN</td>\n",
       "      <td>NaN</td>\n",
       "      <td>NaN</td>\n",
       "      <td>NaN</td>\n",
       "      <td>NaN</td>\n",
       "      <td>NaN</td>\n",
       "      <td>NaN</td>\n",
       "      <td>...</td>\n",
       "      <td>NaN</td>\n",
       "      <td>NaN</td>\n",
       "      <td>NaN</td>\n",
       "      <td>NaN</td>\n",
       "      <td>NaN</td>\n",
       "      <td>NaN</td>\n",
       "      <td>NaN</td>\n",
       "      <td>NaN</td>\n",
       "      <td>NaN</td>\n",
       "      <td>NaN</td>\n",
       "    </tr>\n",
       "  </tbody>\n",
       "</table>\n",
       "<p>5 rows × 3794 columns</p>\n",
       "</div>"
      ],
      "text/plain": [
       "       eid  6159-0.0  6159-0.1  6159-0.2  6159-0.3  6159-0.4  6159-0.5  \\\n",
       "0  1000149       4.0       NaN       NaN       NaN       NaN       NaN   \n",
       "1  1001225       3.0       7.0       NaN       NaN       NaN       NaN   \n",
       "2  1001416      -7.0       NaN       NaN       NaN       NaN       NaN   \n",
       "3  1002910       1.0       4.0       5.0       7.0       NaN       NaN   \n",
       "4  1003609      -7.0       NaN       NaN       NaN       NaN       NaN   \n",
       "\n",
       "   6159-0.6  6159-1.0  6159-1.1  ...  20155-0.21  20155-0.22  20155-0.23  \\\n",
       "0       NaN       NaN       NaN  ...         NaN         NaN         NaN   \n",
       "1       NaN       NaN       NaN  ...         NaN         NaN         NaN   \n",
       "2       NaN      -7.0       NaN  ...         NaN         NaN         NaN   \n",
       "3       NaN       NaN       NaN  ...         NaN         NaN         NaN   \n",
       "4       NaN       NaN       NaN  ...         NaN         NaN         NaN   \n",
       "\n",
       "   20155-0.24  20155-0.25  20156-0.0  20157-0.0  20246-0.0  20247-0.0  \\\n",
       "0         NaN         NaN        NaN        NaN        3.0        2.0   \n",
       "1         NaN         NaN        NaN        NaN        NaN        NaN   \n",
       "2         NaN         NaN        NaN        NaN        NaN        NaN   \n",
       "3         NaN         NaN        NaN        NaN        NaN        NaN   \n",
       "4         NaN         NaN        NaN        NaN        NaN        NaN   \n",
       "\n",
       "   20248-0.0  \n",
       "0        NaN  \n",
       "1        NaN  \n",
       "2        NaN  \n",
       "3        NaN  \n",
       "4        NaN  \n",
       "\n",
       "[5 rows x 3794 columns]"
      ]
     },
     "execution_count": 15,
     "metadata": {},
     "output_type": "execute_result"
    }
   ],
   "source": [
    "df_cond.head()"
   ]
  },
  {
   "cell_type": "code",
   "execution_count": 5,
   "id": "recorded-improvement",
   "metadata": {},
   "outputs": [],
   "source": [
    "cols = df_cond.columns"
   ]
  },
  {
   "cell_type": "code",
   "execution_count": 6,
   "id": "surprised-demand",
   "metadata": {},
   "outputs": [],
   "source": [
    "all_vars = []\n",
    "for c in cols:\n",
    "    all_vars.append(c.split('-')[0])"
   ]
  },
  {
   "cell_type": "code",
   "execution_count": 7,
   "id": "actual-stylus",
   "metadata": {},
   "outputs": [],
   "source": [
    "unique_vars = np.unique(all_vars)"
   ]
  },
  {
   "cell_type": "code",
   "execution_count": 8,
   "id": "protected-limit",
   "metadata": {},
   "outputs": [
    {
     "data": {
      "text/plain": [
       "1022"
      ]
     },
     "execution_count": 8,
     "metadata": {},
     "output_type": "execute_result"
    }
   ],
   "source": [
    "len(unique_vars)"
   ]
  },
  {
   "cell_type": "code",
   "execution_count": 9,
   "id": "polyphonic-michael",
   "metadata": {},
   "outputs": [],
   "source": [
    "pain_types = {\n",
    "    'back pain': 3571, \n",
    "    'facial pain': 4067,\n",
    "    'general pain': 2956,\n",
    "    'headache': 3799,\n",
    "    'hip pain': 3414,\n",
    "    'knee pain': 3773,\n",
    "    'neck/shoulder pain': 3404,\n",
    "    'stomach pain': 3741\n",
    "}"
   ]
  },
  {
   "cell_type": "code",
   "execution_count": 9,
   "id": "running-operations",
   "metadata": {},
   "outputs": [],
   "source": [
    "pain_types = {\n",
    "    'back pain': 3571, \n",
    "    'facial pain': 4067,\n",
    "    'general pain': 2956,\n",
    "    'headache': 3799,\n",
    "    'hip pain': 3414,\n",
    "    'knee pain': 3773,\n",
    "    'neck/shoulder pain': 3404,\n",
    "    'stomach pain': 3741\n",
    "}"
   ]
  },
  {
   "cell_type": "code",
   "execution_count": 10,
   "id": "graduate-graphic",
   "metadata": {},
   "outputs": [
    {
     "data": {
      "text/plain": [
       "dict_values([3571, 4067, 2956, 3799, 3414, 3773, 3404, 3741])"
      ]
     },
     "execution_count": 10,
     "metadata": {},
     "output_type": "execute_result"
    }
   ],
   "source": [
    "pain_types.values()"
   ]
  },
  {
   "cell_type": "code",
   "execution_count": 11,
   "id": "expressed-deadline",
   "metadata": {},
   "outputs": [],
   "source": [
    "def extract_pain(df, pain_code, visit=None):\n",
    "    \"\"\"extract pain type into df\"\"\"\n",
    "    # slice columns\n",
    "    if type(pain_code) is list:\n",
    "        p_cols = []\n",
    "        for code in pain_code:\n",
    "            p_cols += [col for col in df.columns if str(code) in col]\n",
    "    else:\n",
    "        p_cols = [col for col in df.columns if str(pain_code) in col]\n",
    "    # slice particular visit\n",
    "    if visit is not None:\n",
    "        p_cols = [col for col in p_cols if '-'+str(visit) in col]\n",
    "    # extract pain df\n",
    "    df_pain = pd.concat([df_cond['eid'], df[p_cols]], axis=1)\n",
    "    df_pain.set_index('eid', inplace=True)\n",
    "    # replace nans\n",
    "    df_pain.replace([-1.,-3.], np.nan, inplace=True)\n",
    "    return df_pain"
   ]
  },
  {
   "cell_type": "code",
   "execution_count": 12,
   "id": "incoming-albany",
   "metadata": {
    "tags": []
   },
   "outputs": [
    {
     "data": {
      "image/png": "[encoded data removed]",
      "text/plain": [
       "<Figure size 1080x216 with 8 Axes>"
      ]
     },
     "metadata": {
      "needs_background": "light"
     },
     "output_type": "display_data"
    }
   ],
   "source": [
    "# check data count\n",
    "f, axes = plt.subplots(1,len(pain_types), figsize=(15, 3), sharey=True)\n",
    "c = 0\n",
    "for k, v in pain_types.items():\n",
    "    df_tmp = extract_pain(df_cond, v)\n",
    "    df_tmp.replace(0.0, np.nan, inplace=True) # keep pain only\n",
    "    g = sns.countplot(data=df_tmp, ax=axes[c])\n",
    "    axes[c].set_title(k)\n",
    "    axes[c].set_xticklabels(['1','2','3','4'])\n",
    "    c += 1"
   ]
  },
  {
   "cell_type": "code",
   "execution_count": 132,
   "id": "advanced-butler",
   "metadata": {
    "tags": []
   },
   "outputs": [
    {
     "name": "stdout",
     "output_type": "stream",
     "text": [
      "back pain 4\n",
      "facial pain 0\n",
      "general pain 1\n",
      "headache 8\n",
      "hip pain 0\n",
      "knee pain 3\n",
      "neck/shoulder pain 5\n",
      "stomach pain 0\n",
      "21\n"
     ]
    }
   ],
   "source": [
    "# check data count\n",
    "tt = 0\n",
    "for k, v in pain_types.items():\n",
    "    df_tmp = extract_pain(df_cond, v)\n",
    "    df_tmp.replace(0.0, np.nan, inplace=True) # keep pain only\n",
    "    df_tmp.dropna(inplace=True)\n",
    "    print(k, df_tmp.shape[0])\n",
    "    tt += df_tmp.shape[0]\n",
    "print(tt)"
   ]
  },
  {
   "cell_type": "code",
   "execution_count": 136,
   "id": "amazing-detective",
   "metadata": {
    "tags": []
   },
   "outputs": [
    {
     "name": "stdout",
     "output_type": "stream",
     "text": [
      "back pain 1708\n",
      "facial pain 139\n",
      "general pain 268\n",
      "headache 1608\n",
      "hip pain 908\n",
      "knee pain 1878\n",
      "neck/shoulder pain 1786\n",
      "stomach pain 643\n",
      "8938\n"
     ]
    }
   ],
   "source": [
    "# check data count\n",
    "tt = 0\n",
    "for k, v in pain_types.items():\n",
    "    df_tmp = extract_pain(df_cond, v)\n",
    "    df_tmp.replace(0.0, np.nan, inplace=True) # keep pain only\n",
    "    df_tmp.dropna(inplace=True, subset=[df_tmp.columns[0]])\n",
    "    print(k, df_tmp.shape[0])\n",
    "    tt += df_tmp.shape[0]\n",
    "print(tt)"
   ]
  },
  {
   "cell_type": "code",
   "execution_count": 156,
   "id": "civil-suspension",
   "metadata": {},
   "outputs": [
    {
     "data": {
      "text/plain": [
       "(8331, 8)"
      ]
     },
     "execution_count": 156,
     "metadata": {},
     "output_type": "execute_result"
    }
   ],
   "source": [
    "# check people with multiple pain\n",
    "df_tmp = extract_pain(df_cond, list(pain_types.values()), visit=1)\n",
    "df_tmp.shape"
   ]
  },
  {
   "cell_type": "code",
   "execution_count": 161,
   "id": "norwegian-listing",
   "metadata": {},
   "outputs": [],
   "source": [
    "# multiple pain subjects\n",
    "mp_sj = []\n",
    "for i, row in df_tmp.iterrows():\n",
    "    if np.nansum(row.values)>2:\n",
    "        mp_sj.append(i)"
   ]
  },
  {
   "cell_type": "code",
   "execution_count": 162,
   "id": "forced-columbia",
   "metadata": {},
   "outputs": [
    {
     "data": {
      "text/plain": [
       "190"
      ]
     },
     "execution_count": 162,
     "metadata": {},
     "output_type": "execute_result"
    }
   ],
   "source": [
    "len(mp_sj)"
   ]
  },
  {
   "cell_type": "code",
   "execution_count": 187,
   "id": "excited-colon",
   "metadata": {},
   "outputs": [
    {
     "name": "stdout",
     "output_type": "stream",
     "text": [
      "back pain 753\n",
      "facial pain 31\n",
      "general pain 79\n",
      "headache 644\n",
      "hip pain 354\n",
      "knee pain 926\n",
      "neck/shoulder pain 654\n",
      "stomach pain 163\n",
      "3604\n"
     ]
    }
   ],
   "source": [
    "# check people more than 1 observations\n",
    "slice1 = 0\n",
    "slice2 = 2\n",
    "cc = 0\n",
    "for k, v in pain_types.items():\n",
    "    df1 = extract_pain(df_cond, v, visit=slice1)\n",
    "    df3 = extract_pain(df_cond, v, visit=slice2)\n",
    "    df1.replace(0.0, np.nan, inplace=True) # keep pain only\n",
    "    df3.replace(0.0, np.nan, inplace=True) # keep pain only\n",
    "\n",
    "    same_idx = df1.values==df3.values\n",
    "    print(k, df1[same_idx].shape[0])\n",
    "    cc += df1[same_idx].shape[0]\n",
    "print(cc)"
   ]
  },
  {
   "cell_type": "code",
   "execution_count": 164,
   "id": "italic-description",
   "metadata": {},
   "outputs": [
    {
     "data": {
      "text/plain": [
       "(8331, 8)"
      ]
     },
     "execution_count": 164,
     "metadata": {},
     "output_type": "execute_result"
    }
   ],
   "source": [
    "# check people with multiple pain\n",
    "df2 = extract_pain(df_cond, list(pain_types.values()), visit=2)\n",
    "df2.shape"
   ]
  },
  {
   "cell_type": "code",
   "execution_count": null,
   "id": "identical-nature",
   "metadata": {},
   "outputs": [],
   "source": []
  },
  {
   "cell_type": "code",
   "execution_count": null,
   "id": "synthetic-robertson",
   "metadata": {},
   "outputs": [],
   "source": []
  },
  {
   "cell_type": "markdown",
   "id": "brazilian-thailand",
   "metadata": {},
   "source": [
    "#### check without conditions"
   ]
  },
  {
   "cell_type": "code",
   "execution_count": 130,
   "id": "selective-master",
   "metadata": {},
   "outputs": [
    {
     "name": "stderr",
     "output_type": "stream",
     "text": [
      "/home/fs0/syzhang/.conda/envs/biobank/lib/python3.9/site-packages/IPython/core/interactiveshell.py:3165: DtypeWarning: Columns (2439,2440,2441,2442,2443,2444,2445,2446,2447,2448,2449,2450,2451,2452,2453,2454,2455,2456,2499,2500,2501,2502,2503,2504,2505,2506,2542,2543,2544,2545,2546,2547,2548,2549,2550,2551,2552,2553,2554,2555,2556,2557,2558,2559,2560,2561,2562,2563,2564,2565,2566,2567,2568,2569,2570,2571,2572,2573,2574,2575,2576,2577,2578,2579,2580,2581,2582,2583,2584,2585,2586,2587,2588,2589,2590,2591,2592,2593,2594,2595,2596,2597,2598,2599,2600,2601,2602,2603,2604,2605,2606,2739,2740,2741,2742,2743,2744,2745,2746,2747,2748,2749,2750,2802,2803,2804,2805,2806,2807,2808,2809,2810,2811,2812,2813,2814,2815,2816,2817,2818,2819,2820,2821,2822,2823,2824,2825,2826,2827,2828,2829,2830,2831,2832,2833,2834,2835,2836,2837,2838,2839,2840,2841,2842,2843,2844,2845,2846,2847,2848,2849,2850,2851,2852,2853,2854,2855,2856,2857,2858,2859,2860,2861,2862,2863,2864,2865,2866,3001,3002,3003,3004,3005,3006,3007,3008,3009,3010) have mixed types.Specify dtype option on import or set low_memory=False.\n",
      "  has_raised = await self.run_ast_nodes(code_ast.body, cell_name,\n"
     ]
    },
    {
     "data": {
      "text/plain": [
       "(14659, 3794)"
      ]
     },
     "execution_count": 130,
     "metadata": {},
     "output_type": "execute_result"
    }
   ],
   "source": [
    "tsv_nocond = os.path.join('..', 'funpack_cfg', 'subj_withOUT_condition_with_clinical_variables.tsv')\n",
    "\n",
    "df_nocond = pd.read_csv(tsv_nocond, sep='\\t')\n",
    "\n",
    "df_nocond.shape"
   ]
  },
  {
   "cell_type": "code",
   "execution_count": 131,
   "id": "thermal-poison",
   "metadata": {
    "tags": []
   },
   "outputs": [
    {
     "data": {
      "image/png": "[encoded data removed]",
      "text/plain": [
       "<Figure size 1080x216 with 8 Axes>"
      ]
     },
     "metadata": {
      "needs_background": "light"
     },
     "output_type": "display_data"
    }
   ],
   "source": [
    "# check data count\n",
    "f, axes = plt.subplots(1,len(pain_types), figsize=(15, 3), sharey=True)\n",
    "c = 0\n",
    "for k, v in pain_types.items():\n",
    "    df_tmp = extract_pain(df_nocond, v)\n",
    "    df_tmp.replace(0.0, np.nan, inplace=True) # keep pain only\n",
    "    g = sns.countplot(data=df_tmp, ax=axes[c])\n",
    "    axes[c].set_title(k)\n",
    "    axes[c].set_xticklabels(['1','2','3','4'])\n",
    "    c += 1"
   ]
  },
  {
   "cell_type": "code",
   "execution_count": null,
   "id": "hollywood-beginning",
   "metadata": {},
   "outputs": [],
   "source": []
  }
 ],
 "metadata": {
  "kernelspec": {
   "display_name": "Python 3",
   "language": "python",
   "name": "python3"
  },
  "language_info": {
   "codemirror_mode": {
    "name": "ipython",
    "version": 3
   },
   "file_extension": ".py",
   "mimetype": "text/x-python",
   "name": "python",
   "nbconvert_exporter": "python",
   "pygments_lexer": "ipython3",
   "version": "3.9.2"
  }
 },
 "nbformat": 4,
 "nbformat_minor": 5
}
