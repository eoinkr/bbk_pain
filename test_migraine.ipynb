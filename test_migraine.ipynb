{
 "cells": [
  {
   "cell_type": "markdown",
   "id": "c23cfab8-b68d-4542-9ce2-22b631b3cabd",
   "metadata": {},
   "source": [
    "### migraine"
   ]
  },
  {
   "cell_type": "code",
   "execution_count": 1,
   "id": "ce46f90a-5c8b-415a-9915-a52fe5a55e2d",
   "metadata": {},
   "outputs": [],
   "source": [
    "import os\n",
    "import numpy as np\n",
    "import pandas as pd"
   ]
  },
  {
   "cell_type": "code",
   "execution_count": 2,
   "id": "e284a737-3086-422f-8b71-cc27f890343d",
   "metadata": {},
   "outputs": [],
   "source": [
    "from subject_select import restrict_pain_to_disease, check_count, check_field"
   ]
  },
  {
   "cell_type": "code",
   "execution_count": 3,
   "id": "b9c56d3e-24f8-49d9-935e-28a59551dad3",
   "metadata": {},
   "outputs": [
    {
     "name": "stderr",
     "output_type": "stream",
     "text": [
      "/home/fs0/syzhang/.conda/envs/bbk/lib/python3.8/site-packages/IPython/core/interactiveshell.py:3165: DtypeWarning: Columns (863,867) have mixed types.Specify dtype option on import or set low_memory=False.\n",
      "  has_raised = await self.run_ast_nodes(code_ast.body, cell_name,\n"
     ]
    }
   ],
   "source": [
    "df = pd.read_csv('./data/qsidp_patients_pain.csv')"
   ]
  },
  {
   "cell_type": "code",
   "execution_count": 4,
   "id": "8eb567b5-21f7-4e8b-bcff-24b7b73640e6",
   "metadata": {},
   "outputs": [],
   "source": [
    "# migraine, 3+m headache or facial pain\n",
    "df_rp0 = restrict_pain_to_disease(df, disease_code=1265, cwp_code=[3799, 4067, 3404]) "
   ]
  },
  {
   "cell_type": "code",
   "execution_count": 5,
   "id": "df24da84-d6dc-40a9-9847-78d5261cee3a",
   "metadata": {},
   "outputs": [
    {
     "data": {
      "text/plain": [
       "(539, 2861)"
      ]
     },
     "execution_count": 5,
     "metadata": {},
     "output_type": "execute_result"
    }
   ],
   "source": [
    "df_rp0.shape"
   ]
  },
  {
   "cell_type": "code",
   "execution_count": 6,
   "id": "92ae2bd1-485c-4ede-ab4b-d2e7d66ea660",
   "metadata": {},
   "outputs": [],
   "source": [
    "# Degree bothered by headaches in the last 3 months,21051\n",
    "cols_ls = check_field(df_rp0, 21051, visit=0)\n",
    "# df_np = check_count(df, cols_ls, -7)"
   ]
  },
  {
   "cell_type": "code",
   "execution_count": 7,
   "id": "3eae349d-3074-4df8-90fd-b70ceba8300f",
   "metadata": {},
   "outputs": [
    {
     "data": {
      "text/plain": [
       "['21051-0.0']"
      ]
     },
     "execution_count": 7,
     "metadata": {},
     "output_type": "execute_result"
    }
   ],
   "source": [
    "cols_ls"
   ]
  },
  {
   "cell_type": "code",
   "execution_count": 8,
   "id": "5c40185b-aea8-49ef-bc10-3f7f743d04bf",
   "metadata": {},
   "outputs": [
    {
     "data": {
      "text/plain": [
       "-602.0    199\n",
       "-601.0    180\n",
       "-600.0     43\n",
       "Name: 21051-0.0, dtype: int64"
      ]
     },
     "execution_count": 8,
     "metadata": {},
     "output_type": "execute_result"
    }
   ],
   "source": [
    "df_rp0['21051-0.0'].value_counts()"
   ]
  },
  {
   "cell_type": "code",
   "execution_count": null,
   "id": "da66c462-20b9-495d-9406-4e1a8d63a5ad",
   "metadata": {},
   "outputs": [],
   "source": [
    "# -600\tNot bothered at all\n",
    "# -601\tBothered a little\n",
    "# -602\tBothered a lot\n",
    "# -818\tPrefer not to answer"
   ]
  },
  {
   "cell_type": "markdown",
   "id": "a8417a54-939b-40e8-90b8-1970231cd51b",
   "metadata": {},
   "source": [
    "#### make labels (bothered a lot = 1, bothered a little = 0)"
   ]
  },
  {
   "cell_type": "code",
   "execution_count": 9,
   "id": "2629b341-a942-4518-a86e-6131da6c86d1",
   "metadata": {},
   "outputs": [],
   "source": [
    "from clean_questions import basic_classify"
   ]
  },
  {
   "cell_type": "code",
   "execution_count": 10,
   "id": "9d5cc638-901a-4bde-b87a-43119561d15f",
   "metadata": {},
   "outputs": [
    {
     "name": "stdout",
     "output_type": "stream",
     "text": [
      "(379, 2861)\n"
     ]
    }
   ],
   "source": [
    "dfm = df_rp0[df_rp0['21051-0.0']!=-600].dropna(subset=['21051-0.0'])\n",
    "print(dfm.shape)"
   ]
  },
  {
   "cell_type": "code",
   "execution_count": 11,
   "id": "8ba4d3c5-24d9-4f1a-8285-74b68ec676a3",
   "metadata": {},
   "outputs": [],
   "source": [
    "# making labels for above\n",
    "label = []\n",
    "for i,r in dfm.iterrows():\n",
    "    if r['21051-0.0'] == -602.:\n",
    "        label.append('severe')\n",
    "    elif r['21051-0.0'] == -601.:\n",
    "        label.append('mild')\n",
    "dfm['label'] = label"
   ]
  },
  {
   "cell_type": "code",
   "execution_count": 12,
   "id": "4204d88a-8b45-4bca-9257-35b1a599c1dd",
   "metadata": {},
   "outputs": [
    {
     "data": {
      "text/plain": [
       "severe    199\n",
       "mild      180\n",
       "Name: label, dtype: int64"
      ]
     },
     "execution_count": 12,
     "metadata": {},
     "output_type": "execute_result"
    }
   ],
   "source": [
    "dfm['label'].value_counts()"
   ]
  },
  {
   "cell_type": "code",
   "execution_count": 13,
   "id": "f9a3f3ec-24c6-46b2-b34a-71024a955ea2",
   "metadata": {},
   "outputs": [],
   "source": [
    "# code label to binary\n",
    "lab = dfm['label']=='severe'\n",
    "label = lab.astype(int)\n",
    "dfm['label'] = label"
   ]
  },
  {
   "cell_type": "code",
   "execution_count": 14,
   "id": "aa56cf75-3d45-4882-9c91-e18f24efd2dc",
   "metadata": {},
   "outputs": [
    {
     "data": {
      "text/plain": [
       "1    199\n",
       "0    180\n",
       "Name: label, dtype: int64"
      ]
     },
     "execution_count": 14,
     "metadata": {},
     "output_type": "execute_result"
    }
   ],
   "source": [
    "dfm['label'].value_counts()"
   ]
  },
  {
   "cell_type": "markdown",
   "id": "92ae36df-0464-4e30-b3a0-481272684c3f",
   "metadata": {},
   "source": [
    "#### simple classification of bothered a little / bothred a lot"
   ]
  },
  {
   "cell_type": "code",
   "execution_count": 23,
   "id": "e6269b79-f03f-40ea-b868-fe95b393e521",
   "metadata": {},
   "outputs": [],
   "source": [
    "from clean_questions import load_qscode, extract_qs, impute_qs\n",
    "questionnaire = 'all'\n",
    "idp = 'all'\n",
    "question_visits = [2]\n",
    "# load question code\n",
    "qs = load_qscode(questionnaire=questionnaire, idp=idp)\n",
    "# extract questionnaire of interest\n",
    "df_qs = extract_qs(dfm, df_questionnaire=qs, visits=question_visits)"
   ]
  },
  {
   "cell_type": "code",
   "execution_count": 24,
   "id": "9ef711b5-a009-475d-8518-d28ab89c3cbb",
   "metadata": {},
   "outputs": [
    {
     "data": {
      "text/plain": [
       "(379, 1028)"
      ]
     },
     "execution_count": 24,
     "metadata": {},
     "output_type": "execute_result"
    }
   ],
   "source": [
    "df_qs.shape"
   ]
  },
  {
   "cell_type": "code",
   "execution_count": 25,
   "id": "8081681c-375f-447d-ba13-75807aed9bd1",
   "metadata": {},
   "outputs": [],
   "source": [
    "df_qs['label'] = label"
   ]
  },
  {
   "cell_type": "code",
   "execution_count": 26,
   "id": "3fe9d0a5-78f5-4c39-80d4-7e9028d5e424",
   "metadata": {},
   "outputs": [],
   "source": [
    "# impute\n",
    "dff_imputed = impute_qs(df_qs, freq_fill='median', nan_percent=0.9, transform=False)"
   ]
  },
  {
   "cell_type": "code",
   "execution_count": 27,
   "id": "cf6563ae-e19f-4b9c-b538-d16037d389cf",
   "metadata": {},
   "outputs": [
    {
     "data": {
      "text/plain": [
       "(379, 968)"
      ]
     },
     "execution_count": 27,
     "metadata": {},
     "output_type": "execute_result"
    }
   ],
   "source": [
    "dff_imputed.shape"
   ]
  },
  {
   "cell_type": "code",
   "execution_count": 27,
   "id": "5c1cccd4-f1f2-49f0-823e-f570b5852b9e",
   "metadata": {},
   "outputs": [
    {
     "name": "stdout",
     "output_type": "stream",
     "text": [
      "Classification report for classifier RandomForestClassifier(max_depth=5):\n",
      "              precision    recall  f1-score   support\n",
      "\n",
      "           0       0.50      0.32      0.39        90\n",
      "           1       0.54      0.71      0.61       100\n",
      "\n",
      "    accuracy                           0.53       190\n",
      "   macro avg       0.52      0.52      0.50       190\n",
      "weighted avg       0.52      0.53      0.51       190\n",
      "\n",
      "ROC AUC=0.5391, train accuracy=1.0000, test accuracy=0.5263\n"
     ]
    },
    {
     "data": {
      "text/plain": [
       "(0.5391111111111112, 1.0, 0.5263157894736842)"
      ]
     },
     "execution_count": 27,
     "metadata": {},
     "output_type": "execute_result"
    },
    {
     "data": {
      "image/png": "[encoded data removed]",
      "text/plain": [
       "<Figure size 432x288 with 2 Axes>"
      ]
     },
     "metadata": {
      "needs_background": "light"
     },
     "output_type": "display_data"
    },
    {
     "data": {
      "image/png": "[encoded data removed]",
      "text/plain": [
       "<Figure size 360x360 with 1 Axes>"
      ]
     },
     "metadata": {
      "needs_background": "light"
     },
     "output_type": "display_data"
    }
   ],
   "source": [
    "basic_classify(dff_imputed, classifier='rforest', \n",
    "               test_size=0.5, random_state=42, \n",
    "               plot_figs=True, save_plot=True, \n",
    "               save_name='migraine', num_importance=20, \n",
    "               questionnaire='all', idp='all', scaler=True, balance=False)"
   ]
  },
  {
   "cell_type": "code",
   "execution_count": 43,
   "id": "22ac8ebf-a0ed-4077-b004-7ca2f57a8414",
   "metadata": {},
   "outputs": [
    {
     "name": "stdout",
     "output_type": "stream",
     "text": [
      "4-fold CV classification with classifier RandomForestClassifier(max_depth=5):\n",
      "test ROC AUC=0.5456, test accuracy=0.5411, test f1=0.6120\n"
     ]
    }
   ],
   "source": [
    "df_res = cv_classify(dff_imputed, classifier='rforest', cv_fold=4, scaler=True, balance=False)"
   ]
  },
  {
   "cell_type": "code",
   "execution_count": 46,
   "id": "173f1473-dd5a-44f2-9984-7a94d0bd0237",
   "metadata": {},
   "outputs": [
    {
     "name": "stdout",
     "output_type": "stream",
     "text": [
      "4-fold CV classification with classifier LGBMClassifier():\n",
      "test ROC AUC=0.5486, test accuracy=0.5383, test f1=0.5797\n"
     ]
    }
   ],
   "source": [
    "df_res = cv_classify(dff_imputed, classifier='lgb', cv_fold=4, scaler=True, balance=False)"
   ]
  },
  {
   "cell_type": "markdown",
   "id": "2dacad28-74ac-4d36-96cc-a5e67908b567",
   "metadata": {},
   "source": [
    "#### including connectivity"
   ]
  },
  {
   "cell_type": "code",
   "execution_count": 33,
   "id": "45e3e8a6-bf36-4494-b9b3-30bd1b93b404",
   "metadata": {},
   "outputs": [],
   "source": [
    "from connectivity_mat import load_connectivity\n",
    "from clean_questions import cv_classify"
   ]
  },
  {
   "cell_type": "code",
   "execution_count": 28,
   "id": "568028cc-c80a-4122-8c39-e85f4ad65b43",
   "metadata": {},
   "outputs": [
    {
     "name": "stdout",
     "output_type": "stream",
     "text": [
      "(367, 2453)\n"
     ]
    }
   ],
   "source": [
    "dfc = load_connectivity(task_name=None, dff=dff_imputed, \n",
    "                       conn_type='fullcorr_100', \n",
    "                       add_questionnaire=True, \n",
    "                       add_idp=True, \n",
    "                       add_conn=True)\n",
    "print(dfc.shape)"
   ]
  },
  {
   "cell_type": "code",
   "execution_count": 44,
   "id": "d93e67c0-496f-450d-8089-c0bceef7f1f6",
   "metadata": {},
   "outputs": [
    {
     "name": "stdout",
     "output_type": "stream",
     "text": [
      "4-fold CV classification with classifier RandomForestClassifier(max_depth=5):\n",
      "test ROC AUC=0.5150, test accuracy=0.5230, test f1=0.5114\n"
     ]
    }
   ],
   "source": [
    "df_res = cv_classify(dfc, classifier='rforest', cv_fold=4, scaler=True, balance=True)"
   ]
  },
  {
   "cell_type": "code",
   "execution_count": 42,
   "id": "dfe392de-5759-44c0-92a4-5535ce1edc6f",
   "metadata": {},
   "outputs": [
    {
     "name": "stdout",
     "output_type": "stream",
     "text": [
      "4-fold CV classification with classifier RandomForestClassifier(max_depth=5):\n",
      "test ROC AUC=0.5372, test accuracy=0.5503, test f1=0.6264\n"
     ]
    }
   ],
   "source": [
    "df_res = cv_classify(dfc, classifier='rforest', cv_fold=4, scaler=True, balance=False)"
   ]
  },
  {
   "cell_type": "code",
   "execution_count": 45,
   "id": "f4661aac-e231-4de7-b1ae-7608d8af406a",
   "metadata": {},
   "outputs": [
    {
     "name": "stdout",
     "output_type": "stream",
     "text": [
      "4-fold CV classification with classifier LGBMClassifier():\n",
      "test ROC AUC=0.5067, test accuracy=0.5069, test f1=0.5603\n"
     ]
    }
   ],
   "source": [
    "df_res = cv_classify(dfc, classifier='lgb', cv_fold=4, scaler=True, balance=False)"
   ]
  },
  {
   "cell_type": "markdown",
   "id": "61c5e0c0-6775-4a98-9028-5fff3c5fba86",
   "metadata": {},
   "source": [
    "adding connectivity doesn't seem to improve classifer much"
   ]
  },
  {
   "cell_type": "code",
   "execution_count": null,
   "id": "a6a70f67-1f70-4da8-8723-764e0bf30a5f",
   "metadata": {},
   "outputs": [],
   "source": []
  }
 ],
 "metadata": {
  "kernelspec": {
   "display_name": "Python 3",
   "language": "python",
   "name": "python3"
  },
  "language_info": {
   "codemirror_mode": {
    "name": "ipython",
    "version": 3
   },
   "file_extension": ".py",
   "mimetype": "text/x-python",
   "name": "python",
   "nbconvert_exporter": "python",
   "pygments_lexer": "ipython3",
   "version": "3.8.8"
  }
 },
 "nbformat": 4,
 "nbformat_minor": 5
}
