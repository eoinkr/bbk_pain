{
 "cells": [
  {
   "cell_type": "markdown",
   "id": "c23cfab8-b68d-4542-9ce2-22b631b3cabd",
   "metadata": {},
   "source": [
    "### migraine"
   ]
  },
  {
   "cell_type": "code",
   "execution_count": 1,
   "id": "ce46f90a-5c8b-415a-9915-a52fe5a55e2d",
   "metadata": {},
   "outputs": [],
   "source": [
    "import os\n",
    "import numpy as np\n",
    "import pandas as pd"
   ]
  },
  {
   "cell_type": "code",
   "execution_count": 9,
   "id": "e284a737-3086-422f-8b71-cc27f890343d",
   "metadata": {},
   "outputs": [],
   "source": [
    "from subject_select import restrict_pain_to_disease, check_count, check_field"
   ]
  },
  {
   "cell_type": "code",
   "execution_count": 4,
   "id": "b9c56d3e-24f8-49d9-935e-28a59551dad3",
   "metadata": {},
   "outputs": [],
   "source": [
    "df = pd.read_csv('./data/qsidp_patients_pain.csv')"
   ]
  },
  {
   "cell_type": "code",
   "execution_count": 5,
   "id": "8eb567b5-21f7-4e8b-bcff-24b7b73640e6",
   "metadata": {},
   "outputs": [],
   "source": [
    "df_rp0 = restrict_pain_to_disease(df, disease_code=1265, cwp_code=[3799, 4067]) # migraine, 3+m headache or facial pain"
   ]
  },
  {
   "cell_type": "code",
   "execution_count": 7,
   "id": "df24da84-d6dc-40a9-9847-78d5261cee3a",
   "metadata": {},
   "outputs": [
    {
     "data": {
      "text/plain": [
       "(434, 2861)"
      ]
     },
     "execution_count": 7,
     "metadata": {},
     "output_type": "execute_result"
    }
   ],
   "source": [
    "df_rp0.shape"
   ]
  },
  {
   "cell_type": "code",
   "execution_count": 13,
   "id": "94f44b53-06e4-43fb-b27e-9efcd4bbf948",
   "metadata": {},
   "outputs": [
    {
     "data": {
      "text/html": [
       "<div>\n",
       "<style scoped>\n",
       "    .dataframe tbody tr th:only-of-type {\n",
       "        vertical-align: middle;\n",
       "    }\n",
       "\n",
       "    .dataframe tbody tr th {\n",
       "        vertical-align: top;\n",
       "    }\n",
       "\n",
       "    .dataframe thead th {\n",
       "        text-align: right;\n",
       "    }\n",
       "</style>\n",
       "<table border=\"1\" class=\"dataframe\">\n",
       "  <thead>\n",
       "    <tr style=\"text-align: right;\">\n",
       "      <th></th>\n",
       "      <th>eid</th>\n",
       "      <th>26414-0.0</th>\n",
       "      <th>26431-0.0</th>\n",
       "      <th>26421-0.0</th>\n",
       "      <th>26412-0.0</th>\n",
       "      <th>26429-0.0</th>\n",
       "      <th>26413-0.0</th>\n",
       "      <th>26430-0.0</th>\n",
       "      <th>26420-0.0</th>\n",
       "      <th>26411-0.0</th>\n",
       "      <th>...</th>\n",
       "      <th>21023-0.0</th>\n",
       "      <th>21027-0.0</th>\n",
       "      <th>21035-0.0</th>\n",
       "      <th>21048-0.0</th>\n",
       "      <th>21052-0.0</th>\n",
       "      <th>21051-0.0</th>\n",
       "      <th>21049-0.0</th>\n",
       "      <th>21057-0.0</th>\n",
       "      <th>21025-0.0</th>\n",
       "      <th>21036-0.0</th>\n",
       "    </tr>\n",
       "  </thead>\n",
       "  <tbody>\n",
       "    <tr>\n",
       "      <th>3</th>\n",
       "      <td>1034646</td>\n",
       "      <td>3.94</td>\n",
       "      <td>NaN</td>\n",
       "      <td>NaN</td>\n",
       "      <td>0.05</td>\n",
       "      <td>NaN</td>\n",
       "      <td>-0.14</td>\n",
       "      <td>NaN</td>\n",
       "      <td>NaN</td>\n",
       "      <td>0.04</td>\n",
       "      <td>...</td>\n",
       "      <td>2017-04-26T13:32:30</td>\n",
       "      <td>1.0</td>\n",
       "      <td>1.0</td>\n",
       "      <td>-602.0</td>\n",
       "      <td>-600.0</td>\n",
       "      <td>-601.0</td>\n",
       "      <td>-602.0</td>\n",
       "      <td>-601.0</td>\n",
       "      <td>5.0</td>\n",
       "      <td>7.0</td>\n",
       "    </tr>\n",
       "    <tr>\n",
       "      <th>5</th>\n",
       "      <td>1043722</td>\n",
       "      <td>15.63</td>\n",
       "      <td>NaN</td>\n",
       "      <td>NaN</td>\n",
       "      <td>0.17</td>\n",
       "      <td>NaN</td>\n",
       "      <td>1.18</td>\n",
       "      <td>NaN</td>\n",
       "      <td>NaN</td>\n",
       "      <td>0.21</td>\n",
       "      <td>...</td>\n",
       "      <td>2017-05-12T19:08:17</td>\n",
       "      <td>0.0</td>\n",
       "      <td>0.0</td>\n",
       "      <td>-601.0</td>\n",
       "      <td>-600.0</td>\n",
       "      <td>-601.0</td>\n",
       "      <td>-601.0</td>\n",
       "      <td>-601.0</td>\n",
       "      <td>1.0</td>\n",
       "      <td>NaN</td>\n",
       "    </tr>\n",
       "    <tr>\n",
       "      <th>7</th>\n",
       "      <td>1052444</td>\n",
       "      <td>2.88</td>\n",
       "      <td>NaN</td>\n",
       "      <td>NaN</td>\n",
       "      <td>0.03</td>\n",
       "      <td>NaN</td>\n",
       "      <td>-0.98</td>\n",
       "      <td>NaN</td>\n",
       "      <td>NaN</td>\n",
       "      <td>0.03</td>\n",
       "      <td>...</td>\n",
       "      <td>NaN</td>\n",
       "      <td>NaN</td>\n",
       "      <td>NaN</td>\n",
       "      <td>NaN</td>\n",
       "      <td>NaN</td>\n",
       "      <td>NaN</td>\n",
       "      <td>NaN</td>\n",
       "      <td>NaN</td>\n",
       "      <td>NaN</td>\n",
       "      <td>NaN</td>\n",
       "    </tr>\n",
       "    <tr>\n",
       "      <th>9</th>\n",
       "      <td>1118290</td>\n",
       "      <td>16.23</td>\n",
       "      <td>NaN</td>\n",
       "      <td>NaN</td>\n",
       "      <td>0.08</td>\n",
       "      <td>NaN</td>\n",
       "      <td>0.23</td>\n",
       "      <td>NaN</td>\n",
       "      <td>NaN</td>\n",
       "      <td>0.12</td>\n",
       "      <td>...</td>\n",
       "      <td>2017-05-08T20:15:37</td>\n",
       "      <td>0.0</td>\n",
       "      <td>0.0</td>\n",
       "      <td>-600.0</td>\n",
       "      <td>-600.0</td>\n",
       "      <td>-602.0</td>\n",
       "      <td>-601.0</td>\n",
       "      <td>-600.0</td>\n",
       "      <td>3.0</td>\n",
       "      <td>NaN</td>\n",
       "    </tr>\n",
       "    <tr>\n",
       "      <th>11</th>\n",
       "      <td>1152192</td>\n",
       "      <td>4.18</td>\n",
       "      <td>NaN</td>\n",
       "      <td>NaN</td>\n",
       "      <td>0.03</td>\n",
       "      <td>NaN</td>\n",
       "      <td>-0.77</td>\n",
       "      <td>NaN</td>\n",
       "      <td>NaN</td>\n",
       "      <td>0.04</td>\n",
       "      <td>...</td>\n",
       "      <td>NaN</td>\n",
       "      <td>NaN</td>\n",
       "      <td>NaN</td>\n",
       "      <td>NaN</td>\n",
       "      <td>NaN</td>\n",
       "      <td>NaN</td>\n",
       "      <td>NaN</td>\n",
       "      <td>NaN</td>\n",
       "      <td>NaN</td>\n",
       "      <td>NaN</td>\n",
       "    </tr>\n",
       "    <tr>\n",
       "      <th>...</th>\n",
       "      <td>...</td>\n",
       "      <td>...</td>\n",
       "      <td>...</td>\n",
       "      <td>...</td>\n",
       "      <td>...</td>\n",
       "      <td>...</td>\n",
       "      <td>...</td>\n",
       "      <td>...</td>\n",
       "      <td>...</td>\n",
       "      <td>...</td>\n",
       "      <td>...</td>\n",
       "      <td>...</td>\n",
       "      <td>...</td>\n",
       "      <td>...</td>\n",
       "      <td>...</td>\n",
       "      <td>...</td>\n",
       "      <td>...</td>\n",
       "      <td>...</td>\n",
       "      <td>...</td>\n",
       "      <td>...</td>\n",
       "      <td>...</td>\n",
       "    </tr>\n",
       "    <tr>\n",
       "      <th>683</th>\n",
       "      <td>6024706</td>\n",
       "      <td>33.54</td>\n",
       "      <td>NaN</td>\n",
       "      <td>NaN</td>\n",
       "      <td>0.18</td>\n",
       "      <td>NaN</td>\n",
       "      <td>0.73</td>\n",
       "      <td>NaN</td>\n",
       "      <td>NaN</td>\n",
       "      <td>0.18</td>\n",
       "      <td>...</td>\n",
       "      <td>2017-05-12T23:01:45</td>\n",
       "      <td>1.0</td>\n",
       "      <td>1.0</td>\n",
       "      <td>-601.0</td>\n",
       "      <td>-600.0</td>\n",
       "      <td>-602.0</td>\n",
       "      <td>-601.0</td>\n",
       "      <td>-601.0</td>\n",
       "      <td>3.0</td>\n",
       "      <td>5.0</td>\n",
       "    </tr>\n",
       "    <tr>\n",
       "      <th>684</th>\n",
       "      <td>1291069</td>\n",
       "      <td>4.13</td>\n",
       "      <td>NaN</td>\n",
       "      <td>NaN</td>\n",
       "      <td>0.08</td>\n",
       "      <td>NaN</td>\n",
       "      <td>0.17</td>\n",
       "      <td>NaN</td>\n",
       "      <td>NaN</td>\n",
       "      <td>0.10</td>\n",
       "      <td>...</td>\n",
       "      <td>2017-04-21T20:14:35</td>\n",
       "      <td>1.0</td>\n",
       "      <td>1.0</td>\n",
       "      <td>-600.0</td>\n",
       "      <td>-600.0</td>\n",
       "      <td>-601.0</td>\n",
       "      <td>-602.0</td>\n",
       "      <td>-313.0</td>\n",
       "      <td>1.0</td>\n",
       "      <td>3.0</td>\n",
       "    </tr>\n",
       "    <tr>\n",
       "      <th>693</th>\n",
       "      <td>2557271</td>\n",
       "      <td>10.87</td>\n",
       "      <td>NaN</td>\n",
       "      <td>NaN</td>\n",
       "      <td>0.06</td>\n",
       "      <td>NaN</td>\n",
       "      <td>-0.65</td>\n",
       "      <td>NaN</td>\n",
       "      <td>NaN</td>\n",
       "      <td>0.04</td>\n",
       "      <td>...</td>\n",
       "      <td>2017-04-21T21:34:11</td>\n",
       "      <td>1.0</td>\n",
       "      <td>1.0</td>\n",
       "      <td>-600.0</td>\n",
       "      <td>-600.0</td>\n",
       "      <td>-601.0</td>\n",
       "      <td>-601.0</td>\n",
       "      <td>-600.0</td>\n",
       "      <td>3.0</td>\n",
       "      <td>3.0</td>\n",
       "    </tr>\n",
       "    <tr>\n",
       "      <th>697</th>\n",
       "      <td>3045174</td>\n",
       "      <td>75.34</td>\n",
       "      <td>NaN</td>\n",
       "      <td>NaN</td>\n",
       "      <td>0.19</td>\n",
       "      <td>NaN</td>\n",
       "      <td>0.59</td>\n",
       "      <td>NaN</td>\n",
       "      <td>NaN</td>\n",
       "      <td>0.24</td>\n",
       "      <td>...</td>\n",
       "      <td>2017-05-19T14:15:56</td>\n",
       "      <td>NaN</td>\n",
       "      <td>0.0</td>\n",
       "      <td>-600.0</td>\n",
       "      <td>-600.0</td>\n",
       "      <td>-601.0</td>\n",
       "      <td>-600.0</td>\n",
       "      <td>-313.0</td>\n",
       "      <td>0.0</td>\n",
       "      <td>NaN</td>\n",
       "    </tr>\n",
       "    <tr>\n",
       "      <th>712</th>\n",
       "      <td>5462845</td>\n",
       "      <td>28.82</td>\n",
       "      <td>NaN</td>\n",
       "      <td>NaN</td>\n",
       "      <td>0.08</td>\n",
       "      <td>NaN</td>\n",
       "      <td>0.39</td>\n",
       "      <td>NaN</td>\n",
       "      <td>NaN</td>\n",
       "      <td>0.09</td>\n",
       "      <td>...</td>\n",
       "      <td>2017-05-08T19:58:03</td>\n",
       "      <td>1.0</td>\n",
       "      <td>1.0</td>\n",
       "      <td>-601.0</td>\n",
       "      <td>-600.0</td>\n",
       "      <td>-601.0</td>\n",
       "      <td>-602.0</td>\n",
       "      <td>-313.0</td>\n",
       "      <td>5.0</td>\n",
       "      <td>5.0</td>\n",
       "    </tr>\n",
       "  </tbody>\n",
       "</table>\n",
       "<p>434 rows × 2861 columns</p>\n",
       "</div>"
      ],
      "text/plain": [
       "         eid  26414-0.0  26431-0.0  26421-0.0  26412-0.0  26429-0.0  \\\n",
       "3    1034646       3.94        NaN        NaN       0.05        NaN   \n",
       "5    1043722      15.63        NaN        NaN       0.17        NaN   \n",
       "7    1052444       2.88        NaN        NaN       0.03        NaN   \n",
       "9    1118290      16.23        NaN        NaN       0.08        NaN   \n",
       "11   1152192       4.18        NaN        NaN       0.03        NaN   \n",
       "..       ...        ...        ...        ...        ...        ...   \n",
       "683  6024706      33.54        NaN        NaN       0.18        NaN   \n",
       "684  1291069       4.13        NaN        NaN       0.08        NaN   \n",
       "693  2557271      10.87        NaN        NaN       0.06        NaN   \n",
       "697  3045174      75.34        NaN        NaN       0.19        NaN   \n",
       "712  5462845      28.82        NaN        NaN       0.08        NaN   \n",
       "\n",
       "     26413-0.0  26430-0.0  26420-0.0  26411-0.0  ...            21023-0.0  \\\n",
       "3        -0.14        NaN        NaN       0.04  ...  2017-04-26T13:32:30   \n",
       "5         1.18        NaN        NaN       0.21  ...  2017-05-12T19:08:17   \n",
       "7        -0.98        NaN        NaN       0.03  ...                  NaN   \n",
       "9         0.23        NaN        NaN       0.12  ...  2017-05-08T20:15:37   \n",
       "11       -0.77        NaN        NaN       0.04  ...                  NaN   \n",
       "..         ...        ...        ...        ...  ...                  ...   \n",
       "683       0.73        NaN        NaN       0.18  ...  2017-05-12T23:01:45   \n",
       "684       0.17        NaN        NaN       0.10  ...  2017-04-21T20:14:35   \n",
       "693      -0.65        NaN        NaN       0.04  ...  2017-04-21T21:34:11   \n",
       "697       0.59        NaN        NaN       0.24  ...  2017-05-19T14:15:56   \n",
       "712       0.39        NaN        NaN       0.09  ...  2017-05-08T19:58:03   \n",
       "\n",
       "     21027-0.0  21035-0.0  21048-0.0  21052-0.0  21051-0.0  21049-0.0  \\\n",
       "3          1.0        1.0     -602.0     -600.0     -601.0     -602.0   \n",
       "5          0.0        0.0     -601.0     -600.0     -601.0     -601.0   \n",
       "7          NaN        NaN        NaN        NaN        NaN        NaN   \n",
       "9          0.0        0.0     -600.0     -600.0     -602.0     -601.0   \n",
       "11         NaN        NaN        NaN        NaN        NaN        NaN   \n",
       "..         ...        ...        ...        ...        ...        ...   \n",
       "683        1.0        1.0     -601.0     -600.0     -602.0     -601.0   \n",
       "684        1.0        1.0     -600.0     -600.0     -601.0     -602.0   \n",
       "693        1.0        1.0     -600.0     -600.0     -601.0     -601.0   \n",
       "697        NaN        0.0     -600.0     -600.0     -601.0     -600.0   \n",
       "712        1.0        1.0     -601.0     -600.0     -601.0     -602.0   \n",
       "\n",
       "     21057-0.0  21025-0.0  21036-0.0  \n",
       "3       -601.0        5.0        7.0  \n",
       "5       -601.0        1.0        NaN  \n",
       "7          NaN        NaN        NaN  \n",
       "9       -600.0        3.0        NaN  \n",
       "11         NaN        NaN        NaN  \n",
       "..         ...        ...        ...  \n",
       "683     -601.0        3.0        5.0  \n",
       "684     -313.0        1.0        3.0  \n",
       "693     -600.0        3.0        3.0  \n",
       "697     -313.0        0.0        NaN  \n",
       "712     -313.0        5.0        5.0  \n",
       "\n",
       "[434 rows x 2861 columns]"
      ]
     },
     "execution_count": 13,
     "metadata": {},
     "output_type": "execute_result"
    }
   ],
   "source": [
    "df_rp0"
   ]
  },
  {
   "cell_type": "code",
   "execution_count": 14,
   "id": "92ae2bd1-485c-4ede-ab4b-d2e7d66ea660",
   "metadata": {},
   "outputs": [],
   "source": [
    "# Degree bothered by headaches in the last 3 months,21051\n",
    "cols_ls = check_field(df_rp0, 21051, visit=0)\n",
    "# df_np = check_count(df, cols_ls, -7)"
   ]
  },
  {
   "cell_type": "code",
   "execution_count": 15,
   "id": "3eae349d-3074-4df8-90fd-b70ceba8300f",
   "metadata": {},
   "outputs": [
    {
     "data": {
      "text/plain": [
       "['21051-0.0']"
      ]
     },
     "execution_count": 15,
     "metadata": {},
     "output_type": "execute_result"
    }
   ],
   "source": [
    "cols_ls"
   ]
  },
  {
   "cell_type": "code",
   "execution_count": 17,
   "id": "5c40185b-aea8-49ef-bc10-3f7f743d04bf",
   "metadata": {},
   "outputs": [
    {
     "data": {
      "text/plain": [
       "-602.0    185\n",
       "-601.0    137\n",
       "-600.0     15\n",
       "Name: 21051-0.0, dtype: int64"
      ]
     },
     "execution_count": 17,
     "metadata": {},
     "output_type": "execute_result"
    }
   ],
   "source": [
    "df_rp0['21051-0.0'].value_counts()"
   ]
  },
  {
   "cell_type": "code",
   "execution_count": null,
   "id": "da66c462-20b9-495d-9406-4e1a8d63a5ad",
   "metadata": {},
   "outputs": [],
   "source": [
    "# -600\tNot bothered at all\n",
    "# -601\tBothered a little\n",
    "# -602\tBothered a lot\n",
    "# -818\tPrefer not to answer"
   ]
  },
  {
   "cell_type": "markdown",
   "id": "a8417a54-939b-40e8-90b8-1970231cd51b",
   "metadata": {},
   "source": [
    "#### simple classification of bothered a little / bothred a lot"
   ]
  },
  {
   "cell_type": "code",
   "execution_count": 18,
   "id": "2629b341-a942-4518-a86e-6131da6c86d1",
   "metadata": {},
   "outputs": [],
   "source": [
    "from clean_questions import basic_classify"
   ]
  },
  {
   "cell_type": "code",
   "execution_count": 26,
   "id": "9d5cc638-901a-4bde-b87a-43119561d15f",
   "metadata": {},
   "outputs": [
    {
     "name": "stdout",
     "output_type": "stream",
     "text": [
      "(322, 2861)\n"
     ]
    },
    {
     "name": "stderr",
     "output_type": "stream",
     "text": [
      "<ipython-input-26-14927242b48a>:2: SettingWithCopyWarning: \n",
      "A value is trying to be set on a copy of a slice from a DataFrame\n",
      "\n",
      "See the caveats in the documentation: https://pandas.pydata.org/pandas-docs/stable/user_guide/indexing.html#returning-a-view-versus-a-copy\n",
      "  dfm.dropna(subset=['21051-0.0'], inplace=True)\n"
     ]
    }
   ],
   "source": [
    "dfm = df_rp0[df_rp0['21051-0.0']!=-600]\n",
    "dfm.dropna(subset=['21051-0.0'], inplace=True)\n",
    "print(dfm.shape)"
   ]
  },
  {
   "cell_type": "code",
   "execution_count": 27,
   "id": "8ba4d3c5-24d9-4f1a-8285-74b68ec676a3",
   "metadata": {},
   "outputs": [
    {
     "name": "stderr",
     "output_type": "stream",
     "text": [
      "<ipython-input-27-9a1969ac56c8>:8: SettingWithCopyWarning: \n",
      "A value is trying to be set on a copy of a slice from a DataFrame.\n",
      "Try using .loc[row_indexer,col_indexer] = value instead\n",
      "\n",
      "See the caveats in the documentation: https://pandas.pydata.org/pandas-docs/stable/user_guide/indexing.html#returning-a-view-versus-a-copy\n",
      "  dfm['label'] = label\n"
     ]
    }
   ],
   "source": [
    "# making labels for above\n",
    "label = []\n",
    "for i,r in dfm.iterrows():\n",
    "    if r['21051-0.0'] == -602.:\n",
    "        label.append('severe')\n",
    "    elif r['21051-0.0'] == -601.:\n",
    "        label.append('mild')\n",
    "dfm['label'] = label"
   ]
  },
  {
   "cell_type": "code",
   "execution_count": 29,
   "id": "4204d88a-8b45-4bca-9257-35b1a599c1dd",
   "metadata": {},
   "outputs": [
    {
     "data": {
      "text/plain": [
       "severe    185\n",
       "mild      137\n",
       "Name: label, dtype: int64"
      ]
     },
     "execution_count": 29,
     "metadata": {},
     "output_type": "execute_result"
    }
   ],
   "source": [
    "dfm['label'].value_counts()"
   ]
  },
  {
   "cell_type": "code",
   "execution_count": 33,
   "id": "f9a3f3ec-24c6-46b2-b34a-71024a955ea2",
   "metadata": {},
   "outputs": [
    {
     "name": "stderr",
     "output_type": "stream",
     "text": [
      "<ipython-input-33-339bf7763dda>:4: SettingWithCopyWarning: \n",
      "A value is trying to be set on a copy of a slice from a DataFrame.\n",
      "Try using .loc[row_indexer,col_indexer] = value instead\n",
      "\n",
      "See the caveats in the documentation: https://pandas.pydata.org/pandas-docs/stable/user_guide/indexing.html#returning-a-view-versus-a-copy\n",
      "  dfm['label'] = label\n"
     ]
    }
   ],
   "source": [
    "# code label to binary\n",
    "lab = dfm['label']=='severe'\n",
    "label = lab.astype(int)\n",
    "dfm['label'] = label"
   ]
  },
  {
   "cell_type": "code",
   "execution_count": 34,
   "id": "aa56cf75-3d45-4882-9c91-e18f24efd2dc",
   "metadata": {},
   "outputs": [
    {
     "data": {
      "text/plain": [
       "1    185\n",
       "0    137\n",
       "Name: label, dtype: int64"
      ]
     },
     "execution_count": 34,
     "metadata": {},
     "output_type": "execute_result"
    }
   ],
   "source": [
    "dfm['label'].value_counts()"
   ]
  },
  {
   "cell_type": "code",
   "execution_count": 41,
   "id": "e6269b79-f03f-40ea-b868-fe95b393e521",
   "metadata": {},
   "outputs": [],
   "source": [
    "from clean_questions import load_qscode, extract_qs, impute_qs\n",
    "questionnaire = 'all'\n",
    "idp = 'all'\n",
    "question_visits = [2]\n",
    "# load question code\n",
    "qs = load_qscode(questionnaire=questionnaire, idp=idp)\n",
    "# extract questionnaire of interest\n",
    "df_qs = extract_qs(dfm, df_questionnaire=qs, visits=question_visits)"
   ]
  },
  {
   "cell_type": "code",
   "execution_count": 42,
   "id": "9ef711b5-a009-475d-8518-d28ab89c3cbb",
   "metadata": {},
   "outputs": [
    {
     "data": {
      "text/plain": [
       "(322, 1028)"
      ]
     },
     "execution_count": 42,
     "metadata": {},
     "output_type": "execute_result"
    }
   ],
   "source": [
    "df_qs.shape"
   ]
  },
  {
   "cell_type": "code",
   "execution_count": 43,
   "id": "8081681c-375f-447d-ba13-75807aed9bd1",
   "metadata": {},
   "outputs": [],
   "source": [
    "df_qs['label'] = label"
   ]
  },
  {
   "cell_type": "code",
   "execution_count": 44,
   "id": "3fe9d0a5-78f5-4c39-80d4-7e9028d5e424",
   "metadata": {},
   "outputs": [],
   "source": [
    "# impute\n",
    "dff_imputed = impute_qs(df_qs, freq_fill='median', nan_percent=0.9, transform=False)"
   ]
  },
  {
   "cell_type": "code",
   "execution_count": 45,
   "id": "cf6563ae-e19f-4b9c-b538-d16037d389cf",
   "metadata": {},
   "outputs": [
    {
     "data": {
      "text/plain": [
       "(322, 966)"
      ]
     },
     "execution_count": 45,
     "metadata": {},
     "output_type": "execute_result"
    }
   ],
   "source": [
    "dff_imputed.shape"
   ]
  },
  {
   "cell_type": "code",
   "execution_count": 49,
   "id": "5c1cccd4-f1f2-49f0-823e-f570b5852b9e",
   "metadata": {},
   "outputs": [
    {
     "name": "stdout",
     "output_type": "stream",
     "text": [
      "Classification report for classifier RandomForestClassifier(max_depth=5):\n",
      "              precision    recall  f1-score   support\n",
      "\n",
      "           0       0.52      0.22      0.31        69\n",
      "           1       0.59      0.85      0.70        92\n",
      "\n",
      "    accuracy                           0.58       161\n",
      "   macro avg       0.55      0.53      0.50       161\n",
      "weighted avg       0.56      0.58      0.53       161\n",
      "\n",
      "ROC AUC=0.5695, train accuracy=1.0000, test accuracy=0.5776\n"
     ]
    },
    {
     "data": {
      "text/plain": [
       "(0.5694706994328922, 1.0, 0.577639751552795)"
      ]
     },
     "execution_count": 49,
     "metadata": {},
     "output_type": "execute_result"
    },
    {
     "data": {
      "image/png": "[encoded data removed]",
      "text/plain": [
       "<Figure size 432x288 with 2 Axes>"
      ]
     },
     "metadata": {
      "needs_background": "light"
     },
     "output_type": "display_data"
    },
    {
     "data": {
      "image/png": "[encoded data removed]",
      "text/plain": [
       "<Figure size 360x360 with 1 Axes>"
      ]
     },
     "metadata": {
      "needs_background": "light"
     },
     "output_type": "display_data"
    }
   ],
   "source": [
    "basic_classify(dff_imputed, classifier='rforest', \n",
    "               test_size=0.5, random_state=42, \n",
    "               plot_figs=True, save_plot=True, \n",
    "               save_name='migraine', num_importance=20, \n",
    "               questionnaire='all', idp='all', scaler=True, balance=False)"
   ]
  },
  {
   "cell_type": "code",
   "execution_count": null,
   "id": "6623fc86-6848-480e-a232-646b4c63f453",
   "metadata": {},
   "outputs": [],
   "source": []
  }
 ],
 "metadata": {
  "kernelspec": {
   "display_name": "Python 3",
   "language": "python",
   "name": "python3"
  },
  "language_info": {
   "codemirror_mode": {
    "name": "ipython",
    "version": 3
   },
   "file_extension": ".py",
   "mimetype": "text/x-python",
   "name": "python",
   "nbconvert_exporter": "python",
   "pygments_lexer": "ipython3",
   "version": "3.8.8"
  }
 },
 "nbformat": 4,
 "nbformat_minor": 5
}
